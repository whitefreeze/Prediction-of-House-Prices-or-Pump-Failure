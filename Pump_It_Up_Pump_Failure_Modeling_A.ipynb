{
  "cells": [
    {
      "cell_type": "markdown",
      "metadata": {
        "id": "view-in-github",
        "colab_type": "text"
      },
      "source": [
        "<a href=\"https://colab.research.google.com/github/whitefreeze/Pump-It-up-Pump-Failure-Prediction/blob/main/Pump_It_Up_Pump_Failure_Modeling_A.ipynb\" target=\"_parent\"><img src=\"https://colab.research.google.com/assets/colab-badge.svg\" alt=\"Open In Colab\"/></a>"
      ]
    },
    {
      "cell_type": "markdown",
      "metadata": {
        "id": "FWwXmrMn3CaX"
      },
      "source": [
        "# [Pump Failure Prediction](https://www.drivendata.org/competitions/7/pump-it-up-data-mining-the-water-table/page/23/)\n",
        "[README](https://colab.research.google.com/drive/10U7qmwrViuOV-4MjdKCuBRYVMvsH99hN?usp=sharing)\n",
        "\n",
        "Predict the status of waterpoints/pumps and catagorize into the following three categories for 'status_group':\n",
        "> * 'functional'\n",
        "> * 'non functional'\n",
        "> * 'functional needs repair'\n",
        "\n",
        "Submission will include the 'id' and 'status_group' features."
      ]
    },
    {
      "cell_type": "markdown",
      "metadata": {
        "id": "s-EUO8hCuRIk"
      },
      "source": [
        "## Prepare Dataset"
      ]
    },
    {
      "cell_type": "markdown",
      "metadata": {
        "id": "Txvb5d13uZI3"
      },
      "source": [
        "### Import Packages"
      ]
    },
    {
      "cell_type": "code",
      "execution_count": null,
      "metadata": {
        "id": "HaLMui132rbd"
      },
      "outputs": [],
      "source": [
        "## Pandas\n",
        "import pandas as pd\n",
        "## Numpy\n",
        "import numpy as np\n",
        "## MatplotLib\n",
        "import matplotlib.pyplot as plt\n",
        "## Seaborn\n",
        "import seaborn as sns\n",
        "\n",
        "# re Python library\n",
        "import re\n",
        "\n",
        "# Matplotlib Colors\n",
        "import matplotlib.colors as mcolors\n",
        "\n",
        "## Preprocessing\n",
        "from sklearn.model_selection import train_test_split\n",
        "from sklearn.compose import make_column_selector\n",
        "from sklearn.preprocessing import StandardScaler, OneHotEncoder\n",
        "from sklearn.decomposition import PCA\n",
        "from sklearn.pipeline import make_pipeline\n",
        "from sklearn.compose import make_column_transformer\n",
        "\n",
        "## Modeling\n",
        "from xgboost import XGBClassifier\n",
        "from sklearn.ensemble import RandomForestClassifier\n",
        "##from sklearn.neighbors import KNeighborsClassifier\n",
        "\n",
        "## Classification Metrics\n",
        "from sklearn import metrics\n",
        "#from sklearn.metrics import accuracy_score, recall_score, precision_score, \\\n",
        "#f1_score, classification_report, confusion_matrix, ConfusionMatrixDisplay, \\\n",
        "#RocCurveDisplay\n",
        "\n",
        "# Display all columns\n",
        "pd.set_option('display.max_column', None)\n",
        "\n",
        "# Import warnings and add a filter to ignore them\n",
        "import warnings\n",
        "warnings.simplefilter('ignore')"
      ]
    },
    {
      "cell_type": "markdown",
      "metadata": {
        "id": "2WKhTrC0uX-p"
      },
      "source": [
        "### Functions"
      ]
    },
    {
      "cell_type": "markdown",
      "metadata": {
        "id": "pjl7i1hTzsGt"
      },
      "source": [
        "**Add evaluate_regression function if needed**"
      ]
    },
    {
      "cell_type": "code",
      "execution_count": null,
      "metadata": {
        "id": "X72JkjMWyMd1"
      },
      "outputs": [],
      "source": [
        "## Define a function that takes in arguments and prints out a classification report and confusion matrix\n",
        "def evaluate_classification(model, X_train, y_train, X_test, y_test,\n",
        "                            cmap='Greens', normalize=None, classes=None,\n",
        "                            figsize=(20,5), name='Classification Model',\n",
        "                            average='binary', zero_division=0):\n",
        "  \"\"\"Takes as required arguments: a model, traing features, training labels,\n",
        "  testing feature, testing labels\n",
        "  Prints classification reports and confusion matrices for each data set\n",
        "  returns a dataframe of metrics\n",
        "\n",
        "  Optional arguments:\n",
        "    cmap: colormap\n",
        "    normalize: confusion matrix normalization ['true', 'pred', 'all' or None]\n",
        "    classes: ordered list of class labels\n",
        "    figsize: size of figure\n",
        "    name: give your model a name\n",
        "    average: how to aggregate scores for multiclass problems\n",
        "    zero_division: what should the result of divide by zero be?\"\"\"\n",
        "\n",
        "  # Gather model predictions\n",
        "  train_preds = model.predict(X_train)\n",
        "  test_preds = model.predict(X_test)\n",
        "\n",
        "  # Display classification report and confusion matrices\n",
        "  print('======Train Set Metrics======')\n",
        "  print(metrics.classification_report(y_train, train_preds,\n",
        "                                      zero_division=0,\n",
        "                                      target_names=classes))\n",
        "\n",
        "  print('======Test Set Metrics======')\n",
        "  print(metrics.classification_report(y_test, test_preds,\n",
        "                                      zero_division=0,\n",
        "                                      target_names=classes))\n",
        "\n",
        "  fig, axes = plt.subplots(ncols=2, figsize=figsize)\n",
        "\n",
        "  ConfusionMatrixDisplay.from_predictions(y_train, train_preds, cmap=cmap,\n",
        "                                display_labels=classes,\n",
        "                                normalize=normalize, ax=axes[0])\n",
        "  axes[0].set_title('Train Confusion Matrix')\n",
        "\n",
        "  ConfusionMatrixDisplay.from_predictions(y_test, test_preds, cmap=cmap,\n",
        "                              display_labels=classes,\n",
        "                              normalize=normalize, ax=axes[1])\n",
        "  axes[1].set_title('Test Confusion Matrix')\n",
        "  plt.show()\n",
        "\n",
        "  # If there are more than 2 classes and an average has not been set,\n",
        "  # set average to 'macro'\n",
        "  if average == 'binary' and y_train.nunique() > 2:\n",
        "    average = 'macro'\n",
        "\n",
        "  # Create a dataframe of scores to return\n",
        "  scores = pd.DataFrame()\n",
        "\n",
        "  # Training\n",
        "\n",
        "  scores.loc[name, 'Train Accuracy'] = accuracy_score(y_train, train_preds)\n",
        "  scores.loc[name, 'Train Recall'] = recall_score(y_train, train_preds,\n",
        "                                                           average=average,\n",
        "                                                       zero_division=zero_division)\n",
        "  scores.loc[name, 'Train Precision'] = precision_score(y_train, train_preds,\n",
        "                                                           average=average,\n",
        "                                                      zero_division=zero_division)\n",
        "  scores.loc[name, 'Train F1-Score'] = f1_score(y_train, train_preds,\n",
        "                                                           average=average,\n",
        "                                                     zero_division=zero_division)\n",
        "\n",
        "  # Testing\n",
        "  scores.loc[name, 'Test Accuracy'] = accuracy_score(y_test, test_preds)\n",
        "  scores.loc[name, 'Test Recall'] = recall_score(y_test, test_preds,\n",
        "                                                           average=average,\n",
        "                                                      zero_division=zero_division)\n",
        "  scores.loc[name, 'Test Precision'] = precision_score(y_test, test_preds,\n",
        "                                                           average=average,\n",
        "                                                      zero_division=zero_division)\n",
        "  scores.loc[name, 'Test F1-Score'] = f1_score(y_test, test_preds,\n",
        "                                                           average=average,\n",
        "                                                     zero_division=zero_division)\n",
        "\n",
        "  return scores"
      ]
    },
    {
      "cell_type": "markdown",
      "metadata": {
        "id": "8RlVKM5SuXsL"
      },
      "source": [
        "### Source References"
      ]
    },
    {
      "cell_type": "markdown",
      "metadata": {
        "id": "55aYWG6Q1uTK"
      },
      "source": [
        "### Load Data"
      ]
    },
    {
      "cell_type": "code",
      "execution_count": null,
      "metadata": {
        "id": "zHap5jHm2SBn"
      },
      "outputs": [],
      "source": [
        "# Conect to Drive\n",
        "#from google.colab import drive\n",
        "# drive.mount('/content/drive')"
      ]
    },
    {
      "cell_type": "code",
      "execution_count": null,
      "metadata": {
        "colab": {
          "base_uri": "https://localhost:8080/",
          "height": 178
        },
        "id": "Ssm3s-cF_Y7S",
        "outputId": "a7786a43-2129-423d-aa27-0d11cfb96036"
      },
      "outputs": [
        {
          "data": {
            "text/html": [
              "<div>\n",
              "<style scoped>\n",
              "    .dataframe tbody tr th:only-of-type {\n",
              "        vertical-align: middle;\n",
              "    }\n",
              "\n",
              "    .dataframe tbody tr th {\n",
              "        vertical-align: top;\n",
              "    }\n",
              "\n",
              "    .dataframe thead th {\n",
              "        text-align: right;\n",
              "    }\n",
              "</style>\n",
              "<table border=\"1\" class=\"dataframe\">\n",
              "  <thead>\n",
              "    <tr style=\"text-align: right;\">\n",
              "      <th></th>\n",
              "      <th>id</th>\n",
              "      <th>amount_tsh</th>\n",
              "      <th>date_recorded</th>\n",
              "      <th>funder</th>\n",
              "      <th>gps_height</th>\n",
              "      <th>installer</th>\n",
              "      <th>longitude</th>\n",
              "      <th>latitude</th>\n",
              "      <th>wpt_name</th>\n",
              "      <th>num_private</th>\n",
              "      <th>basin</th>\n",
              "      <th>subvillage</th>\n",
              "      <th>region</th>\n",
              "      <th>region_code</th>\n",
              "      <th>district_code</th>\n",
              "      <th>lga</th>\n",
              "      <th>ward</th>\n",
              "      <th>population</th>\n",
              "      <th>public_meeting</th>\n",
              "      <th>recorded_by</th>\n",
              "      <th>scheme_management</th>\n",
              "      <th>scheme_name</th>\n",
              "      <th>permit</th>\n",
              "      <th>construction_year</th>\n",
              "      <th>extraction_type</th>\n",
              "      <th>extraction_type_group</th>\n",
              "      <th>extraction_type_class</th>\n",
              "      <th>management</th>\n",
              "      <th>management_group</th>\n",
              "      <th>payment</th>\n",
              "      <th>payment_type</th>\n",
              "      <th>water_quality</th>\n",
              "      <th>quality_group</th>\n",
              "      <th>quantity</th>\n",
              "      <th>quantity_group</th>\n",
              "      <th>source</th>\n",
              "      <th>source_type</th>\n",
              "      <th>source_class</th>\n",
              "      <th>waterpoint_type</th>\n",
              "      <th>waterpoint_type_group</th>\n",
              "    </tr>\n",
              "  </thead>\n",
              "  <tbody>\n",
              "    <tr>\n",
              "      <th>0</th>\n",
              "      <td>50785</td>\n",
              "      <td>0.0</td>\n",
              "      <td>2013-02-04</td>\n",
              "      <td>Dmdd</td>\n",
              "      <td>1996</td>\n",
              "      <td>DMDD</td>\n",
              "      <td>35.290799</td>\n",
              "      <td>-4.059696</td>\n",
              "      <td>Dinamu Secondary School</td>\n",
              "      <td>0</td>\n",
              "      <td>Internal</td>\n",
              "      <td>Magoma</td>\n",
              "      <td>Manyara</td>\n",
              "      <td>21</td>\n",
              "      <td>3</td>\n",
              "      <td>Mbulu</td>\n",
              "      <td>Bashay</td>\n",
              "      <td>321</td>\n",
              "      <td>True</td>\n",
              "      <td>GeoData Consultants Ltd</td>\n",
              "      <td>Parastatal</td>\n",
              "      <td>NaN</td>\n",
              "      <td>True</td>\n",
              "      <td>2012</td>\n",
              "      <td>other</td>\n",
              "      <td>other</td>\n",
              "      <td>other</td>\n",
              "      <td>parastatal</td>\n",
              "      <td>parastatal</td>\n",
              "      <td>never pay</td>\n",
              "      <td>never pay</td>\n",
              "      <td>soft</td>\n",
              "      <td>good</td>\n",
              "      <td>seasonal</td>\n",
              "      <td>seasonal</td>\n",
              "      <td>rainwater harvesting</td>\n",
              "      <td>rainwater harvesting</td>\n",
              "      <td>surface</td>\n",
              "      <td>other</td>\n",
              "      <td>other</td>\n",
              "    </tr>\n",
              "  </tbody>\n",
              "</table>\n",
              "</div>"
            ],
            "text/plain": [
              "      id  amount_tsh date_recorded funder  gps_height installer  longitude  \\\n",
              "0  50785         0.0    2013-02-04   Dmdd        1996      DMDD  35.290799   \n",
              "\n",
              "   latitude                 wpt_name  num_private     basin subvillage  \\\n",
              "0 -4.059696  Dinamu Secondary School            0  Internal     Magoma   \n",
              "\n",
              "    region  region_code  district_code    lga    ward  population  \\\n",
              "0  Manyara           21              3  Mbulu  Bashay         321   \n",
              "\n",
              "  public_meeting              recorded_by scheme_management scheme_name  \\\n",
              "0           True  GeoData Consultants Ltd        Parastatal         NaN   \n",
              "\n",
              "  permit  construction_year extraction_type extraction_type_group  \\\n",
              "0   True               2012           other                 other   \n",
              "\n",
              "  extraction_type_class  management management_group    payment payment_type  \\\n",
              "0                 other  parastatal       parastatal  never pay    never pay   \n",
              "\n",
              "  water_quality quality_group  quantity quantity_group                source  \\\n",
              "0          soft          good  seasonal       seasonal  rainwater harvesting   \n",
              "\n",
              "            source_type source_class waterpoint_type waterpoint_type_group  \n",
              "0  rainwater harvesting      surface           other                 other  "
            ]
          },
          "execution_count": 1753,
          "metadata": {},
          "output_type": "execute_result"
        }
      ],
      "source": [
        "## Load Test Data\n",
        "path = '/Users/whitefreeze/Downloads/Pump it Up/Test_set_values.csv'\n",
        "#path = '/content/drive/MyDrive/Data Science/Coding Dojo/Course 3: ML - Advanced/Pump it Up - Data Files/Test_set_values.csv'\n",
        "\n",
        "# skipinitialspace used to ignore spaces immediately following the delimiter\n",
        "df_test = pd.read_csv(path, skipinitialspace=True)\n",
        "df_test.head(1)"
      ]
    },
    {
      "cell_type": "code",
      "execution_count": null,
      "metadata": {
        "colab": {
          "base_uri": "https://localhost:8080/",
          "height": 80
        },
        "id": "C9HjhNEn-S8b",
        "outputId": "652a3998-0f2d-497f-d7a7-ce73f3e80325"
      },
      "outputs": [
        {
          "data": {
            "text/html": [
              "<div>\n",
              "<style scoped>\n",
              "    .dataframe tbody tr th:only-of-type {\n",
              "        vertical-align: middle;\n",
              "    }\n",
              "\n",
              "    .dataframe tbody tr th {\n",
              "        vertical-align: top;\n",
              "    }\n",
              "\n",
              "    .dataframe thead th {\n",
              "        text-align: right;\n",
              "    }\n",
              "</style>\n",
              "<table border=\"1\" class=\"dataframe\">\n",
              "  <thead>\n",
              "    <tr style=\"text-align: right;\">\n",
              "      <th></th>\n",
              "      <th>id</th>\n",
              "      <th>status_group</th>\n",
              "    </tr>\n",
              "  </thead>\n",
              "  <tbody>\n",
              "    <tr>\n",
              "      <th>0</th>\n",
              "      <td>69572</td>\n",
              "      <td>functional</td>\n",
              "    </tr>\n",
              "  </tbody>\n",
              "</table>\n",
              "</div>"
            ],
            "text/plain": [
              "      id status_group\n",
              "0  69572   functional"
            ]
          },
          "execution_count": 1754,
          "metadata": {},
          "output_type": "execute_result"
        }
      ],
      "source": [
        "## Load Training Target Data\n",
        "path = '/Users/whitefreeze/Downloads/Pump it Up/training_Set_labels.csv'\n",
        "#path = '/content/drive/MyDrive/Data Science/Coding Dojo/Course 3: ML - Advanced/Pump it Up - Data Files/training_Set_labels.csv'\n",
        "\n",
        "# skipinitialspace used to ignore spaces immediately following the delimiter\n",
        "df_target = pd.read_csv(path, skipinitialspace=True)\n",
        "df_target.head(1)"
      ]
    },
    {
      "cell_type": "code",
      "execution_count": null,
      "metadata": {
        "colab": {
          "base_uri": "https://localhost:8080/",
          "height": 178
        },
        "id": "TKNUWyi63Zjr",
        "outputId": "47cd3b9c-6f90-4988-df2c-95a550c671d6"
      },
      "outputs": [
        {
          "data": {
            "text/html": [
              "<div>\n",
              "<style scoped>\n",
              "    .dataframe tbody tr th:only-of-type {\n",
              "        vertical-align: middle;\n",
              "    }\n",
              "\n",
              "    .dataframe tbody tr th {\n",
              "        vertical-align: top;\n",
              "    }\n",
              "\n",
              "    .dataframe thead th {\n",
              "        text-align: right;\n",
              "    }\n",
              "</style>\n",
              "<table border=\"1\" class=\"dataframe\">\n",
              "  <thead>\n",
              "    <tr style=\"text-align: right;\">\n",
              "      <th></th>\n",
              "      <th>id</th>\n",
              "      <th>amount_tsh</th>\n",
              "      <th>date_recorded</th>\n",
              "      <th>funder</th>\n",
              "      <th>gps_height</th>\n",
              "      <th>installer</th>\n",
              "      <th>longitude</th>\n",
              "      <th>latitude</th>\n",
              "      <th>wpt_name</th>\n",
              "      <th>num_private</th>\n",
              "      <th>basin</th>\n",
              "      <th>subvillage</th>\n",
              "      <th>region</th>\n",
              "      <th>region_code</th>\n",
              "      <th>district_code</th>\n",
              "      <th>lga</th>\n",
              "      <th>ward</th>\n",
              "      <th>population</th>\n",
              "      <th>public_meeting</th>\n",
              "      <th>recorded_by</th>\n",
              "      <th>scheme_management</th>\n",
              "      <th>scheme_name</th>\n",
              "      <th>permit</th>\n",
              "      <th>construction_year</th>\n",
              "      <th>extraction_type</th>\n",
              "      <th>extraction_type_group</th>\n",
              "      <th>extraction_type_class</th>\n",
              "      <th>management</th>\n",
              "      <th>management_group</th>\n",
              "      <th>payment</th>\n",
              "      <th>payment_type</th>\n",
              "      <th>water_quality</th>\n",
              "      <th>quality_group</th>\n",
              "      <th>quantity</th>\n",
              "      <th>quantity_group</th>\n",
              "      <th>source</th>\n",
              "      <th>source_type</th>\n",
              "      <th>source_class</th>\n",
              "      <th>waterpoint_type</th>\n",
              "      <th>waterpoint_type_group</th>\n",
              "    </tr>\n",
              "  </thead>\n",
              "  <tbody>\n",
              "    <tr>\n",
              "      <th>0</th>\n",
              "      <td>69572</td>\n",
              "      <td>6000.0</td>\n",
              "      <td>2011-03-14</td>\n",
              "      <td>Roman</td>\n",
              "      <td>1390</td>\n",
              "      <td>Roman</td>\n",
              "      <td>34.938093</td>\n",
              "      <td>-9.856322</td>\n",
              "      <td>none</td>\n",
              "      <td>0</td>\n",
              "      <td>Lake Nyasa</td>\n",
              "      <td>Mnyusi B</td>\n",
              "      <td>Iringa</td>\n",
              "      <td>11</td>\n",
              "      <td>5</td>\n",
              "      <td>Ludewa</td>\n",
              "      <td>Mundindi</td>\n",
              "      <td>109</td>\n",
              "      <td>True</td>\n",
              "      <td>GeoData Consultants Ltd</td>\n",
              "      <td>VWC</td>\n",
              "      <td>Roman</td>\n",
              "      <td>False</td>\n",
              "      <td>1999</td>\n",
              "      <td>gravity</td>\n",
              "      <td>gravity</td>\n",
              "      <td>gravity</td>\n",
              "      <td>vwc</td>\n",
              "      <td>user-group</td>\n",
              "      <td>pay annually</td>\n",
              "      <td>annually</td>\n",
              "      <td>soft</td>\n",
              "      <td>good</td>\n",
              "      <td>enough</td>\n",
              "      <td>enough</td>\n",
              "      <td>spring</td>\n",
              "      <td>spring</td>\n",
              "      <td>groundwater</td>\n",
              "      <td>communal standpipe</td>\n",
              "      <td>communal standpipe</td>\n",
              "    </tr>\n",
              "  </tbody>\n",
              "</table>\n",
              "</div>"
            ],
            "text/plain": [
              "      id  amount_tsh date_recorded funder  gps_height installer  longitude  \\\n",
              "0  69572      6000.0    2011-03-14  Roman        1390     Roman  34.938093   \n",
              "\n",
              "   latitude wpt_name  num_private       basin subvillage  region  region_code  \\\n",
              "0 -9.856322     none            0  Lake Nyasa   Mnyusi B  Iringa           11   \n",
              "\n",
              "   district_code     lga      ward  population public_meeting  \\\n",
              "0              5  Ludewa  Mundindi         109           True   \n",
              "\n",
              "               recorded_by scheme_management scheme_name permit  \\\n",
              "0  GeoData Consultants Ltd               VWC       Roman  False   \n",
              "\n",
              "   construction_year extraction_type extraction_type_group  \\\n",
              "0               1999         gravity               gravity   \n",
              "\n",
              "  extraction_type_class management management_group       payment  \\\n",
              "0               gravity        vwc       user-group  pay annually   \n",
              "\n",
              "  payment_type water_quality quality_group quantity quantity_group  source  \\\n",
              "0     annually          soft          good   enough         enough  spring   \n",
              "\n",
              "  source_type source_class     waterpoint_type waterpoint_type_group  \n",
              "0      spring  groundwater  communal standpipe    communal standpipe  "
            ]
          },
          "execution_count": 1755,
          "metadata": {},
          "output_type": "execute_result"
        }
      ],
      "source": [
        "## Load Training Values Data\n",
        "path = '/Users/whitefreeze/Downloads/Pump it Up/training_Set_values.csv'\n",
        "#path = '/content/drive/MyDrive/Data Science/Coding Dojo/Course 3: ML - Advanced/Pump it Up - Data Files/training_Set_values.csv'\n",
        "\n",
        "# skipinitialspace used to ignore spaces immediately following the delimiter\n",
        "df = pd.read_csv(path, skipinitialspace=True)\n",
        "df.head(1)"
      ]
    },
    {
      "cell_type": "code",
      "execution_count": null,
      "metadata": {
        "colab": {
          "base_uri": "https://localhost:8080/"
        },
        "id": "SonC6MixRAEN",
        "outputId": "67d06870-fe2e-4a5c-8984-b79e91341f3b"
      },
      "outputs": [
        {
          "data": {
            "text/plain": [
              "(59400, 40)"
            ]
          },
          "execution_count": 1756,
          "metadata": {},
          "output_type": "execute_result"
        }
      ],
      "source": [
        "# Display shape of dataset\n",
        "df.shape"
      ]
    },
    {
      "cell_type": "markdown",
      "metadata": {
        "id": "H3MgW1y6zpD4"
      },
      "source": [
        "The dataset has 40 features."
      ]
    },
    {
      "cell_type": "code",
      "execution_count": null,
      "metadata": {
        "colab": {
          "base_uri": "https://localhost:8080/"
        },
        "id": "DnzkT7pgsqhg",
        "outputId": "de80bac2-cfef-4778-e8df-00ac54e14b16"
      },
      "outputs": [
        {
          "name": "stdout",
          "output_type": "stream",
          "text": [
            "Number of columns:  40\n"
          ]
        }
      ],
      "source": [
        "# Count number of features\n",
        "shape = df.shape\n",
        "print('Number of columns: ', shape[1])"
      ]
    },
    {
      "cell_type": "markdown",
      "metadata": {
        "id": "TKXFtuhls5Uv"
      },
      "source": [
        "The dataset has 59,400 observations in the dataset."
      ]
    },
    {
      "cell_type": "code",
      "execution_count": null,
      "metadata": {
        "colab": {
          "base_uri": "https://localhost:8080/"
        },
        "id": "uWiupMAJoHv6",
        "outputId": "fa6047ba-a55f-4ac2-f311-d7d092c11ff2"
      },
      "outputs": [
        {
          "name": "stdout",
          "output_type": "stream",
          "text": [
            "The \"Pump It Up\" Dataset has 59400 observations\n"
          ]
        }
      ],
      "source": [
        "print(f'The \"Pump It Up\" Dataset has {len(df.index)} observations')"
      ]
    },
    {
      "cell_type": "code",
      "execution_count": null,
      "metadata": {
        "id": "MbnJg3GHuSF9",
        "outputId": "b0d0123a-2905-4266-fbd7-8c9efe84bf28"
      },
      "outputs": [
        {
          "name": "stdout",
          "output_type": "stream",
          "text": [
            "<class 'pandas.core.frame.DataFrame'>\n",
            "RangeIndex: 59400 entries, 0 to 59399\n",
            "Data columns (total 40 columns):\n",
            " #   Column                 Non-Null Count  Dtype  \n",
            "---  ------                 --------------  -----  \n",
            " 0   id                     59400 non-null  int64  \n",
            " 1   amount_tsh             59400 non-null  float64\n",
            " 2   date_recorded          59400 non-null  object \n",
            " 3   funder                 55765 non-null  object \n",
            " 4   gps_height             59400 non-null  int64  \n",
            " 5   installer              55745 non-null  object \n",
            " 6   longitude              59400 non-null  float64\n",
            " 7   latitude               59400 non-null  float64\n",
            " 8   wpt_name               59400 non-null  object \n",
            " 9   num_private            59400 non-null  int64  \n",
            " 10  basin                  59400 non-null  object \n",
            " 11  subvillage             59029 non-null  object \n",
            " 12  region                 59400 non-null  object \n",
            " 13  region_code            59400 non-null  int64  \n",
            " 14  district_code          59400 non-null  int64  \n",
            " 15  lga                    59400 non-null  object \n",
            " 16  ward                   59400 non-null  object \n",
            " 17  population             59400 non-null  int64  \n",
            " 18  public_meeting         56066 non-null  object \n",
            " 19  recorded_by            59400 non-null  object \n",
            " 20  scheme_management      55523 non-null  object \n",
            " 21  scheme_name            31234 non-null  object \n",
            " 22  permit                 56344 non-null  object \n",
            " 23  construction_year      59400 non-null  int64  \n",
            " 24  extraction_type        59400 non-null  object \n",
            " 25  extraction_type_group  59400 non-null  object \n",
            " 26  extraction_type_class  59400 non-null  object \n",
            " 27  management             59400 non-null  object \n",
            " 28  management_group       59400 non-null  object \n",
            " 29  payment                59400 non-null  object \n",
            " 30  payment_type           59400 non-null  object \n",
            " 31  water_quality          59400 non-null  object \n",
            " 32  quality_group          59400 non-null  object \n",
            " 33  quantity               59400 non-null  object \n",
            " 34  quantity_group         59400 non-null  object \n",
            " 35  source                 59400 non-null  object \n",
            " 36  source_type            59400 non-null  object \n",
            " 37  source_class           59400 non-null  object \n",
            " 38  waterpoint_type        59400 non-null  object \n",
            " 39  waterpoint_type_group  59400 non-null  object \n",
            "dtypes: float64(3), int64(7), object(30)\n",
            "memory usage: 18.1+ MB\n"
          ]
        }
      ],
      "source": [
        "df.info()"
      ]
    },
    {
      "cell_type": "markdown",
      "metadata": {
        "id": "Z9Yne2RSMl7q"
      },
      "source": [
        "### Data Dictionary"
      ]
    },
    {
      "cell_type": "markdown",
      "metadata": {
        "id": "pypWMB1lMoDT"
      },
      "source": [
        "amount_tsh - Total static head (amount water available to waterpoint)\n",
        "\n",
        "date_recorded - The date the row was entered\n",
        "\n",
        "funder - Who funded the well\n",
        "\n",
        "gps_height - Altitude of the well\n",
        "\n",
        "installer - Organization that installed the well\n",
        "\n",
        "longitude - GPS coordinate\n",
        "\n",
        "latitude - GPS coordinate\n",
        "\n",
        "wpt_name - Name of the waterpoint if there is one\n",
        "\n",
        "num_private -\n",
        "\n",
        "basin - Geographic water basin\n",
        "\n",
        "subvillage - Geographic location\n",
        "\n",
        "region - Geographic location\n",
        "\n",
        "region_code - Geographic location (coded)\n",
        "\n",
        "district_code - Geographic location (coded)\n",
        "\n",
        "lga - Geographic location\n",
        "\n",
        "ward - Geographic location\n",
        "\n",
        "population - Population around the well\n",
        "\n",
        "public_meeting - True/False\n",
        "\n",
        "recorded_by - Group entering this row of data\n",
        "\n",
        "scheme_management - Who operates the waterpoint\n",
        "\n",
        "scheme_name - Who operates the waterpoint\n",
        "\n",
        "permit - If the waterpoint is permitted\n",
        "\n",
        "construction_year - Year the waterpoint was constructed\n",
        "\n",
        "extraction_type - The kind of extraction the waterpoint uses\n",
        "\n",
        "extraction_type_group - The kind of extraction the waterpoint uses\n",
        "\n",
        "extraction_type_class - The kind of extraction the waterpoint uses\n",
        "\n",
        "management - How the waterpoint is managed\n",
        "\n",
        "management_group - How the waterpoint is managed\n",
        "\n",
        "payment - What the water costs\n",
        "\n",
        "payment_type - What the water costs\n",
        "\n",
        "water_quality - The quality of the water\n",
        "\n",
        "quality_group - The quality of the water\n",
        "\n",
        "quantity - The quantity of water\n",
        "\n",
        "quantity_group - The quantity of water\n",
        "\n",
        "source - The source of the water\n",
        "\n",
        "source_type - The source of the water\n",
        "\n",
        "source_class - The source of the water\n",
        "\n",
        "waterpoint_type - The kind of waterpoint\n",
        "\n",
        "waterpoint_type_group - The kind of waterpoint\n"
      ]
    },
    {
      "cell_type": "markdown",
      "metadata": {
        "id": "t_WigmqKumaL"
      },
      "source": [
        "### Duplicate Observations: Identify & Address"
      ]
    },
    {
      "cell_type": "code",
      "execution_count": null,
      "metadata": {
        "colab": {
          "base_uri": "https://localhost:8080/"
        },
        "id": "8On3ExhHO_WD",
        "outputId": "dadd35b0-c7af-43af-f750-0dcad590cac5"
      },
      "outputs": [
        {
          "name": "stdout",
          "output_type": "stream",
          "text": [
            "There are 0 duplicate rows.\n"
          ]
        }
      ],
      "source": [
        "# Count number of duplicate rows in dataset\n",
        "print(f'There are {df.duplicated().sum()} duplicate rows.')"
      ]
    },
    {
      "cell_type": "markdown",
      "metadata": {
        "id": "ubSfBuXovcLA"
      },
      "source": [
        "### Delete Unnecessary Columns"
      ]
    },
    {
      "cell_type": "markdown",
      "metadata": {
        "id": "Mk9qUO4xNAW0"
      },
      "source": [
        "There are a few features that may be duplicates, but will need to perform some analysis to determine if some features are exact replicas of others, or if there are unique values between them. Some of the features that need to be analyzed to determine if they are duplicates of each other are:\n",
        "\n",
        "1.\n",
        "> * *payment*\n",
        "> * **payment_type** (visually analyzed: equivalent values: drop \"**payment_type**\")\n",
        "\n",
        "2.\n",
        "> * *scheme_name*\n",
        "> * **scheme_name** (has 28,166 missing values: drop \"**scheme_name**\")\n",
        "\n",
        "3.\n",
        "> * *extraction_type*\n",
        "> * **extraction_type_group** (visually analyzed: same values: drop \"**extraction_type_group**\")\n",
        "\n",
        "4.\n",
        "> * *quantity*\n",
        "> * **quantity_group** (visually analyzed: same values: drop \"**quantity_group**\")\n",
        "\n",
        "5.\n",
        "> * *id*\n",
        "> * **id** (only needed for final competition entry. will drop during initial processing. will reprocess and add 'id' back before submitting to competition.)\n"
      ]
    },
    {
      "cell_type": "code",
      "execution_count": null,
      "metadata": {
        "colab": {
          "base_uri": "https://localhost:8080/",
          "height": 308
        },
        "id": "FsjuZ0MVOHg4",
        "outputId": "21783ad8-5175-4748-c0a6-9bbea84165e4"
      },
      "outputs": [
        {
          "data": {
            "text/html": [
              "<div>\n",
              "<style scoped>\n",
              "    .dataframe tbody tr th:only-of-type {\n",
              "        vertical-align: middle;\n",
              "    }\n",
              "\n",
              "    .dataframe tbody tr th {\n",
              "        vertical-align: top;\n",
              "    }\n",
              "\n",
              "    .dataframe thead th {\n",
              "        text-align: right;\n",
              "    }\n",
              "</style>\n",
              "<table border=\"1\" class=\"dataframe\">\n",
              "  <thead>\n",
              "    <tr style=\"text-align: right;\">\n",
              "      <th></th>\n",
              "      <th>id</th>\n",
              "      <th>amount_tsh</th>\n",
              "      <th>date_recorded</th>\n",
              "      <th>funder</th>\n",
              "      <th>gps_height</th>\n",
              "      <th>installer</th>\n",
              "      <th>longitude</th>\n",
              "      <th>latitude</th>\n",
              "      <th>wpt_name</th>\n",
              "      <th>num_private</th>\n",
              "      <th>basin</th>\n",
              "      <th>subvillage</th>\n",
              "      <th>region</th>\n",
              "      <th>region_code</th>\n",
              "      <th>district_code</th>\n",
              "      <th>lga</th>\n",
              "      <th>ward</th>\n",
              "      <th>population</th>\n",
              "      <th>public_meeting</th>\n",
              "      <th>recorded_by</th>\n",
              "      <th>scheme_management</th>\n",
              "      <th>scheme_name</th>\n",
              "      <th>permit</th>\n",
              "      <th>construction_year</th>\n",
              "      <th>extraction_type</th>\n",
              "      <th>extraction_type_group</th>\n",
              "      <th>extraction_type_class</th>\n",
              "      <th>management</th>\n",
              "      <th>management_group</th>\n",
              "      <th>payment</th>\n",
              "      <th>water_quality</th>\n",
              "      <th>quality_group</th>\n",
              "      <th>quantity</th>\n",
              "      <th>quantity_group</th>\n",
              "      <th>source</th>\n",
              "      <th>source_type</th>\n",
              "      <th>source_class</th>\n",
              "      <th>waterpoint_type</th>\n",
              "      <th>waterpoint_type_group</th>\n",
              "    </tr>\n",
              "  </thead>\n",
              "  <tbody>\n",
              "    <tr>\n",
              "      <th>0</th>\n",
              "      <td>69572</td>\n",
              "      <td>6000.0</td>\n",
              "      <td>2011-03-14</td>\n",
              "      <td>Roman</td>\n",
              "      <td>1390</td>\n",
              "      <td>Roman</td>\n",
              "      <td>34.938093</td>\n",
              "      <td>-9.856322</td>\n",
              "      <td>none</td>\n",
              "      <td>0</td>\n",
              "      <td>Lake Nyasa</td>\n",
              "      <td>Mnyusi B</td>\n",
              "      <td>Iringa</td>\n",
              "      <td>11</td>\n",
              "      <td>5</td>\n",
              "      <td>Ludewa</td>\n",
              "      <td>Mundindi</td>\n",
              "      <td>109</td>\n",
              "      <td>True</td>\n",
              "      <td>GeoData Consultants Ltd</td>\n",
              "      <td>VWC</td>\n",
              "      <td>Roman</td>\n",
              "      <td>False</td>\n",
              "      <td>1999</td>\n",
              "      <td>gravity</td>\n",
              "      <td>gravity</td>\n",
              "      <td>gravity</td>\n",
              "      <td>vwc</td>\n",
              "      <td>user-group</td>\n",
              "      <td>pay annually</td>\n",
              "      <td>soft</td>\n",
              "      <td>good</td>\n",
              "      <td>enough</td>\n",
              "      <td>enough</td>\n",
              "      <td>spring</td>\n",
              "      <td>spring</td>\n",
              "      <td>groundwater</td>\n",
              "      <td>communal standpipe</td>\n",
              "      <td>communal standpipe</td>\n",
              "    </tr>\n",
              "    <tr>\n",
              "      <th>1</th>\n",
              "      <td>8776</td>\n",
              "      <td>0.0</td>\n",
              "      <td>2013-03-06</td>\n",
              "      <td>Grumeti</td>\n",
              "      <td>1399</td>\n",
              "      <td>GRUMETI</td>\n",
              "      <td>34.698766</td>\n",
              "      <td>-2.147466</td>\n",
              "      <td>Zahanati</td>\n",
              "      <td>0</td>\n",
              "      <td>Lake Victoria</td>\n",
              "      <td>Nyamara</td>\n",
              "      <td>Mara</td>\n",
              "      <td>20</td>\n",
              "      <td>2</td>\n",
              "      <td>Serengeti</td>\n",
              "      <td>Natta</td>\n",
              "      <td>280</td>\n",
              "      <td>NaN</td>\n",
              "      <td>GeoData Consultants Ltd</td>\n",
              "      <td>Other</td>\n",
              "      <td>NaN</td>\n",
              "      <td>True</td>\n",
              "      <td>2010</td>\n",
              "      <td>gravity</td>\n",
              "      <td>gravity</td>\n",
              "      <td>gravity</td>\n",
              "      <td>wug</td>\n",
              "      <td>user-group</td>\n",
              "      <td>never pay</td>\n",
              "      <td>soft</td>\n",
              "      <td>good</td>\n",
              "      <td>insufficient</td>\n",
              "      <td>insufficient</td>\n",
              "      <td>rainwater harvesting</td>\n",
              "      <td>rainwater harvesting</td>\n",
              "      <td>surface</td>\n",
              "      <td>communal standpipe</td>\n",
              "      <td>communal standpipe</td>\n",
              "    </tr>\n",
              "    <tr>\n",
              "      <th>2</th>\n",
              "      <td>34310</td>\n",
              "      <td>25.0</td>\n",
              "      <td>2013-02-25</td>\n",
              "      <td>Lottery Club</td>\n",
              "      <td>686</td>\n",
              "      <td>World vision</td>\n",
              "      <td>37.460664</td>\n",
              "      <td>-3.821329</td>\n",
              "      <td>Kwa Mahundi</td>\n",
              "      <td>0</td>\n",
              "      <td>Pangani</td>\n",
              "      <td>Majengo</td>\n",
              "      <td>Manyara</td>\n",
              "      <td>21</td>\n",
              "      <td>4</td>\n",
              "      <td>Simanjiro</td>\n",
              "      <td>Ngorika</td>\n",
              "      <td>250</td>\n",
              "      <td>True</td>\n",
              "      <td>GeoData Consultants Ltd</td>\n",
              "      <td>VWC</td>\n",
              "      <td>Nyumba ya mungu pipe scheme</td>\n",
              "      <td>True</td>\n",
              "      <td>2009</td>\n",
              "      <td>gravity</td>\n",
              "      <td>gravity</td>\n",
              "      <td>gravity</td>\n",
              "      <td>vwc</td>\n",
              "      <td>user-group</td>\n",
              "      <td>pay per bucket</td>\n",
              "      <td>soft</td>\n",
              "      <td>good</td>\n",
              "      <td>enough</td>\n",
              "      <td>enough</td>\n",
              "      <td>dam</td>\n",
              "      <td>dam</td>\n",
              "      <td>surface</td>\n",
              "      <td>communal standpipe multiple</td>\n",
              "      <td>communal standpipe</td>\n",
              "    </tr>\n",
              "  </tbody>\n",
              "</table>\n",
              "</div>"
            ],
            "text/plain": [
              "      id  amount_tsh date_recorded        funder  gps_height     installer  \\\n",
              "0  69572      6000.0    2011-03-14         Roman        1390         Roman   \n",
              "1   8776         0.0    2013-03-06       Grumeti        1399       GRUMETI   \n",
              "2  34310        25.0    2013-02-25  Lottery Club         686  World vision   \n",
              "\n",
              "   longitude  latitude     wpt_name  num_private          basin subvillage  \\\n",
              "0  34.938093 -9.856322         none            0     Lake Nyasa   Mnyusi B   \n",
              "1  34.698766 -2.147466     Zahanati            0  Lake Victoria    Nyamara   \n",
              "2  37.460664 -3.821329  Kwa Mahundi            0        Pangani    Majengo   \n",
              "\n",
              "    region  region_code  district_code        lga      ward  population  \\\n",
              "0   Iringa           11              5     Ludewa  Mundindi         109   \n",
              "1     Mara           20              2  Serengeti     Natta         280   \n",
              "2  Manyara           21              4  Simanjiro   Ngorika         250   \n",
              "\n",
              "  public_meeting              recorded_by scheme_management  \\\n",
              "0           True  GeoData Consultants Ltd               VWC   \n",
              "1            NaN  GeoData Consultants Ltd             Other   \n",
              "2           True  GeoData Consultants Ltd               VWC   \n",
              "\n",
              "                   scheme_name permit  construction_year extraction_type  \\\n",
              "0                        Roman  False               1999         gravity   \n",
              "1                          NaN   True               2010         gravity   \n",
              "2  Nyumba ya mungu pipe scheme   True               2009         gravity   \n",
              "\n",
              "  extraction_type_group extraction_type_class management management_group  \\\n",
              "0               gravity               gravity        vwc       user-group   \n",
              "1               gravity               gravity        wug       user-group   \n",
              "2               gravity               gravity        vwc       user-group   \n",
              "\n",
              "          payment water_quality quality_group      quantity quantity_group  \\\n",
              "0    pay annually          soft          good        enough         enough   \n",
              "1       never pay          soft          good  insufficient   insufficient   \n",
              "2  pay per bucket          soft          good        enough         enough   \n",
              "\n",
              "                 source           source_type source_class  \\\n",
              "0                spring                spring  groundwater   \n",
              "1  rainwater harvesting  rainwater harvesting      surface   \n",
              "2                   dam                   dam      surface   \n",
              "\n",
              "               waterpoint_type waterpoint_type_group  \n",
              "0           communal standpipe    communal standpipe  \n",
              "1           communal standpipe    communal standpipe  \n",
              "2  communal standpipe multiple    communal standpipe  "
            ]
          },
          "execution_count": 1761,
          "metadata": {},
          "output_type": "execute_result"
        }
      ],
      "source": [
        "#1. Drop 'payment_type' column\n",
        "df = df.drop(columns=['payment_type'])\n",
        "df.head(3)"
      ]
    },
    {
      "cell_type": "code",
      "execution_count": null,
      "metadata": {
        "colab": {
          "base_uri": "https://localhost:8080/",
          "height": 308
        },
        "id": "ImPTpxCu5-Qz",
        "outputId": "89e32a31-cb3d-488d-fa2b-38bed8969ce3"
      },
      "outputs": [
        {
          "data": {
            "text/html": [
              "<div>\n",
              "<style scoped>\n",
              "    .dataframe tbody tr th:only-of-type {\n",
              "        vertical-align: middle;\n",
              "    }\n",
              "\n",
              "    .dataframe tbody tr th {\n",
              "        vertical-align: top;\n",
              "    }\n",
              "\n",
              "    .dataframe thead th {\n",
              "        text-align: right;\n",
              "    }\n",
              "</style>\n",
              "<table border=\"1\" class=\"dataframe\">\n",
              "  <thead>\n",
              "    <tr style=\"text-align: right;\">\n",
              "      <th></th>\n",
              "      <th>id</th>\n",
              "      <th>amount_tsh</th>\n",
              "      <th>date_recorded</th>\n",
              "      <th>funder</th>\n",
              "      <th>gps_height</th>\n",
              "      <th>installer</th>\n",
              "      <th>longitude</th>\n",
              "      <th>latitude</th>\n",
              "      <th>wpt_name</th>\n",
              "      <th>num_private</th>\n",
              "      <th>basin</th>\n",
              "      <th>subvillage</th>\n",
              "      <th>region</th>\n",
              "      <th>region_code</th>\n",
              "      <th>district_code</th>\n",
              "      <th>lga</th>\n",
              "      <th>ward</th>\n",
              "      <th>population</th>\n",
              "      <th>public_meeting</th>\n",
              "      <th>recorded_by</th>\n",
              "      <th>scheme_management</th>\n",
              "      <th>permit</th>\n",
              "      <th>construction_year</th>\n",
              "      <th>extraction_type</th>\n",
              "      <th>extraction_type_group</th>\n",
              "      <th>extraction_type_class</th>\n",
              "      <th>management</th>\n",
              "      <th>management_group</th>\n",
              "      <th>payment</th>\n",
              "      <th>water_quality</th>\n",
              "      <th>quality_group</th>\n",
              "      <th>quantity</th>\n",
              "      <th>quantity_group</th>\n",
              "      <th>source</th>\n",
              "      <th>source_type</th>\n",
              "      <th>source_class</th>\n",
              "      <th>waterpoint_type</th>\n",
              "      <th>waterpoint_type_group</th>\n",
              "    </tr>\n",
              "  </thead>\n",
              "  <tbody>\n",
              "    <tr>\n",
              "      <th>0</th>\n",
              "      <td>69572</td>\n",
              "      <td>6000.0</td>\n",
              "      <td>2011-03-14</td>\n",
              "      <td>Roman</td>\n",
              "      <td>1390</td>\n",
              "      <td>Roman</td>\n",
              "      <td>34.938093</td>\n",
              "      <td>-9.856322</td>\n",
              "      <td>none</td>\n",
              "      <td>0</td>\n",
              "      <td>Lake Nyasa</td>\n",
              "      <td>Mnyusi B</td>\n",
              "      <td>Iringa</td>\n",
              "      <td>11</td>\n",
              "      <td>5</td>\n",
              "      <td>Ludewa</td>\n",
              "      <td>Mundindi</td>\n",
              "      <td>109</td>\n",
              "      <td>True</td>\n",
              "      <td>GeoData Consultants Ltd</td>\n",
              "      <td>VWC</td>\n",
              "      <td>False</td>\n",
              "      <td>1999</td>\n",
              "      <td>gravity</td>\n",
              "      <td>gravity</td>\n",
              "      <td>gravity</td>\n",
              "      <td>vwc</td>\n",
              "      <td>user-group</td>\n",
              "      <td>pay annually</td>\n",
              "      <td>soft</td>\n",
              "      <td>good</td>\n",
              "      <td>enough</td>\n",
              "      <td>enough</td>\n",
              "      <td>spring</td>\n",
              "      <td>spring</td>\n",
              "      <td>groundwater</td>\n",
              "      <td>communal standpipe</td>\n",
              "      <td>communal standpipe</td>\n",
              "    </tr>\n",
              "    <tr>\n",
              "      <th>1</th>\n",
              "      <td>8776</td>\n",
              "      <td>0.0</td>\n",
              "      <td>2013-03-06</td>\n",
              "      <td>Grumeti</td>\n",
              "      <td>1399</td>\n",
              "      <td>GRUMETI</td>\n",
              "      <td>34.698766</td>\n",
              "      <td>-2.147466</td>\n",
              "      <td>Zahanati</td>\n",
              "      <td>0</td>\n",
              "      <td>Lake Victoria</td>\n",
              "      <td>Nyamara</td>\n",
              "      <td>Mara</td>\n",
              "      <td>20</td>\n",
              "      <td>2</td>\n",
              "      <td>Serengeti</td>\n",
              "      <td>Natta</td>\n",
              "      <td>280</td>\n",
              "      <td>NaN</td>\n",
              "      <td>GeoData Consultants Ltd</td>\n",
              "      <td>Other</td>\n",
              "      <td>True</td>\n",
              "      <td>2010</td>\n",
              "      <td>gravity</td>\n",
              "      <td>gravity</td>\n",
              "      <td>gravity</td>\n",
              "      <td>wug</td>\n",
              "      <td>user-group</td>\n",
              "      <td>never pay</td>\n",
              "      <td>soft</td>\n",
              "      <td>good</td>\n",
              "      <td>insufficient</td>\n",
              "      <td>insufficient</td>\n",
              "      <td>rainwater harvesting</td>\n",
              "      <td>rainwater harvesting</td>\n",
              "      <td>surface</td>\n",
              "      <td>communal standpipe</td>\n",
              "      <td>communal standpipe</td>\n",
              "    </tr>\n",
              "    <tr>\n",
              "      <th>2</th>\n",
              "      <td>34310</td>\n",
              "      <td>25.0</td>\n",
              "      <td>2013-02-25</td>\n",
              "      <td>Lottery Club</td>\n",
              "      <td>686</td>\n",
              "      <td>World vision</td>\n",
              "      <td>37.460664</td>\n",
              "      <td>-3.821329</td>\n",
              "      <td>Kwa Mahundi</td>\n",
              "      <td>0</td>\n",
              "      <td>Pangani</td>\n",
              "      <td>Majengo</td>\n",
              "      <td>Manyara</td>\n",
              "      <td>21</td>\n",
              "      <td>4</td>\n",
              "      <td>Simanjiro</td>\n",
              "      <td>Ngorika</td>\n",
              "      <td>250</td>\n",
              "      <td>True</td>\n",
              "      <td>GeoData Consultants Ltd</td>\n",
              "      <td>VWC</td>\n",
              "      <td>True</td>\n",
              "      <td>2009</td>\n",
              "      <td>gravity</td>\n",
              "      <td>gravity</td>\n",
              "      <td>gravity</td>\n",
              "      <td>vwc</td>\n",
              "      <td>user-group</td>\n",
              "      <td>pay per bucket</td>\n",
              "      <td>soft</td>\n",
              "      <td>good</td>\n",
              "      <td>enough</td>\n",
              "      <td>enough</td>\n",
              "      <td>dam</td>\n",
              "      <td>dam</td>\n",
              "      <td>surface</td>\n",
              "      <td>communal standpipe multiple</td>\n",
              "      <td>communal standpipe</td>\n",
              "    </tr>\n",
              "  </tbody>\n",
              "</table>\n",
              "</div>"
            ],
            "text/plain": [
              "      id  amount_tsh date_recorded        funder  gps_height     installer  \\\n",
              "0  69572      6000.0    2011-03-14         Roman        1390         Roman   \n",
              "1   8776         0.0    2013-03-06       Grumeti        1399       GRUMETI   \n",
              "2  34310        25.0    2013-02-25  Lottery Club         686  World vision   \n",
              "\n",
              "   longitude  latitude     wpt_name  num_private          basin subvillage  \\\n",
              "0  34.938093 -9.856322         none            0     Lake Nyasa   Mnyusi B   \n",
              "1  34.698766 -2.147466     Zahanati            0  Lake Victoria    Nyamara   \n",
              "2  37.460664 -3.821329  Kwa Mahundi            0        Pangani    Majengo   \n",
              "\n",
              "    region  region_code  district_code        lga      ward  population  \\\n",
              "0   Iringa           11              5     Ludewa  Mundindi         109   \n",
              "1     Mara           20              2  Serengeti     Natta         280   \n",
              "2  Manyara           21              4  Simanjiro   Ngorika         250   \n",
              "\n",
              "  public_meeting              recorded_by scheme_management permit  \\\n",
              "0           True  GeoData Consultants Ltd               VWC  False   \n",
              "1            NaN  GeoData Consultants Ltd             Other   True   \n",
              "2           True  GeoData Consultants Ltd               VWC   True   \n",
              "\n",
              "   construction_year extraction_type extraction_type_group  \\\n",
              "0               1999         gravity               gravity   \n",
              "1               2010         gravity               gravity   \n",
              "2               2009         gravity               gravity   \n",
              "\n",
              "  extraction_type_class management management_group         payment  \\\n",
              "0               gravity        vwc       user-group    pay annually   \n",
              "1               gravity        wug       user-group       never pay   \n",
              "2               gravity        vwc       user-group  pay per bucket   \n",
              "\n",
              "  water_quality quality_group      quantity quantity_group  \\\n",
              "0          soft          good        enough         enough   \n",
              "1          soft          good  insufficient   insufficient   \n",
              "2          soft          good        enough         enough   \n",
              "\n",
              "                 source           source_type source_class  \\\n",
              "0                spring                spring  groundwater   \n",
              "1  rainwater harvesting  rainwater harvesting      surface   \n",
              "2                   dam                   dam      surface   \n",
              "\n",
              "               waterpoint_type waterpoint_type_group  \n",
              "0           communal standpipe    communal standpipe  \n",
              "1           communal standpipe    communal standpipe  \n",
              "2  communal standpipe multiple    communal standpipe  "
            ]
          },
          "execution_count": 1762,
          "metadata": {},
          "output_type": "execute_result"
        }
      ],
      "source": [
        "#2. Drop 'scheme_name' column\n",
        "df = df.drop(columns=['scheme_name'])\n",
        "df.head(3)"
      ]
    },
    {
      "cell_type": "code",
      "execution_count": null,
      "metadata": {
        "colab": {
          "base_uri": "https://localhost:8080/",
          "height": 308
        },
        "id": "OU-ou0O0nx8n",
        "outputId": "6fe94be8-29ff-4c54-f422-ef59e8300456"
      },
      "outputs": [
        {
          "data": {
            "text/html": [
              "<div>\n",
              "<style scoped>\n",
              "    .dataframe tbody tr th:only-of-type {\n",
              "        vertical-align: middle;\n",
              "    }\n",
              "\n",
              "    .dataframe tbody tr th {\n",
              "        vertical-align: top;\n",
              "    }\n",
              "\n",
              "    .dataframe thead th {\n",
              "        text-align: right;\n",
              "    }\n",
              "</style>\n",
              "<table border=\"1\" class=\"dataframe\">\n",
              "  <thead>\n",
              "    <tr style=\"text-align: right;\">\n",
              "      <th></th>\n",
              "      <th>id</th>\n",
              "      <th>amount_tsh</th>\n",
              "      <th>date_recorded</th>\n",
              "      <th>funder</th>\n",
              "      <th>gps_height</th>\n",
              "      <th>installer</th>\n",
              "      <th>longitude</th>\n",
              "      <th>latitude</th>\n",
              "      <th>wpt_name</th>\n",
              "      <th>num_private</th>\n",
              "      <th>basin</th>\n",
              "      <th>subvillage</th>\n",
              "      <th>region</th>\n",
              "      <th>region_code</th>\n",
              "      <th>district_code</th>\n",
              "      <th>lga</th>\n",
              "      <th>ward</th>\n",
              "      <th>population</th>\n",
              "      <th>public_meeting</th>\n",
              "      <th>recorded_by</th>\n",
              "      <th>scheme_management</th>\n",
              "      <th>permit</th>\n",
              "      <th>construction_year</th>\n",
              "      <th>extraction_type</th>\n",
              "      <th>extraction_type_class</th>\n",
              "      <th>management</th>\n",
              "      <th>management_group</th>\n",
              "      <th>payment</th>\n",
              "      <th>water_quality</th>\n",
              "      <th>quality_group</th>\n",
              "      <th>quantity</th>\n",
              "      <th>quantity_group</th>\n",
              "      <th>source</th>\n",
              "      <th>source_type</th>\n",
              "      <th>source_class</th>\n",
              "      <th>waterpoint_type</th>\n",
              "      <th>waterpoint_type_group</th>\n",
              "    </tr>\n",
              "  </thead>\n",
              "  <tbody>\n",
              "    <tr>\n",
              "      <th>0</th>\n",
              "      <td>69572</td>\n",
              "      <td>6000.0</td>\n",
              "      <td>2011-03-14</td>\n",
              "      <td>Roman</td>\n",
              "      <td>1390</td>\n",
              "      <td>Roman</td>\n",
              "      <td>34.938093</td>\n",
              "      <td>-9.856322</td>\n",
              "      <td>none</td>\n",
              "      <td>0</td>\n",
              "      <td>Lake Nyasa</td>\n",
              "      <td>Mnyusi B</td>\n",
              "      <td>Iringa</td>\n",
              "      <td>11</td>\n",
              "      <td>5</td>\n",
              "      <td>Ludewa</td>\n",
              "      <td>Mundindi</td>\n",
              "      <td>109</td>\n",
              "      <td>True</td>\n",
              "      <td>GeoData Consultants Ltd</td>\n",
              "      <td>VWC</td>\n",
              "      <td>False</td>\n",
              "      <td>1999</td>\n",
              "      <td>gravity</td>\n",
              "      <td>gravity</td>\n",
              "      <td>vwc</td>\n",
              "      <td>user-group</td>\n",
              "      <td>pay annually</td>\n",
              "      <td>soft</td>\n",
              "      <td>good</td>\n",
              "      <td>enough</td>\n",
              "      <td>enough</td>\n",
              "      <td>spring</td>\n",
              "      <td>spring</td>\n",
              "      <td>groundwater</td>\n",
              "      <td>communal standpipe</td>\n",
              "      <td>communal standpipe</td>\n",
              "    </tr>\n",
              "    <tr>\n",
              "      <th>1</th>\n",
              "      <td>8776</td>\n",
              "      <td>0.0</td>\n",
              "      <td>2013-03-06</td>\n",
              "      <td>Grumeti</td>\n",
              "      <td>1399</td>\n",
              "      <td>GRUMETI</td>\n",
              "      <td>34.698766</td>\n",
              "      <td>-2.147466</td>\n",
              "      <td>Zahanati</td>\n",
              "      <td>0</td>\n",
              "      <td>Lake Victoria</td>\n",
              "      <td>Nyamara</td>\n",
              "      <td>Mara</td>\n",
              "      <td>20</td>\n",
              "      <td>2</td>\n",
              "      <td>Serengeti</td>\n",
              "      <td>Natta</td>\n",
              "      <td>280</td>\n",
              "      <td>NaN</td>\n",
              "      <td>GeoData Consultants Ltd</td>\n",
              "      <td>Other</td>\n",
              "      <td>True</td>\n",
              "      <td>2010</td>\n",
              "      <td>gravity</td>\n",
              "      <td>gravity</td>\n",
              "      <td>wug</td>\n",
              "      <td>user-group</td>\n",
              "      <td>never pay</td>\n",
              "      <td>soft</td>\n",
              "      <td>good</td>\n",
              "      <td>insufficient</td>\n",
              "      <td>insufficient</td>\n",
              "      <td>rainwater harvesting</td>\n",
              "      <td>rainwater harvesting</td>\n",
              "      <td>surface</td>\n",
              "      <td>communal standpipe</td>\n",
              "      <td>communal standpipe</td>\n",
              "    </tr>\n",
              "    <tr>\n",
              "      <th>2</th>\n",
              "      <td>34310</td>\n",
              "      <td>25.0</td>\n",
              "      <td>2013-02-25</td>\n",
              "      <td>Lottery Club</td>\n",
              "      <td>686</td>\n",
              "      <td>World vision</td>\n",
              "      <td>37.460664</td>\n",
              "      <td>-3.821329</td>\n",
              "      <td>Kwa Mahundi</td>\n",
              "      <td>0</td>\n",
              "      <td>Pangani</td>\n",
              "      <td>Majengo</td>\n",
              "      <td>Manyara</td>\n",
              "      <td>21</td>\n",
              "      <td>4</td>\n",
              "      <td>Simanjiro</td>\n",
              "      <td>Ngorika</td>\n",
              "      <td>250</td>\n",
              "      <td>True</td>\n",
              "      <td>GeoData Consultants Ltd</td>\n",
              "      <td>VWC</td>\n",
              "      <td>True</td>\n",
              "      <td>2009</td>\n",
              "      <td>gravity</td>\n",
              "      <td>gravity</td>\n",
              "      <td>vwc</td>\n",
              "      <td>user-group</td>\n",
              "      <td>pay per bucket</td>\n",
              "      <td>soft</td>\n",
              "      <td>good</td>\n",
              "      <td>enough</td>\n",
              "      <td>enough</td>\n",
              "      <td>dam</td>\n",
              "      <td>dam</td>\n",
              "      <td>surface</td>\n",
              "      <td>communal standpipe multiple</td>\n",
              "      <td>communal standpipe</td>\n",
              "    </tr>\n",
              "  </tbody>\n",
              "</table>\n",
              "</div>"
            ],
            "text/plain": [
              "      id  amount_tsh date_recorded        funder  gps_height     installer  \\\n",
              "0  69572      6000.0    2011-03-14         Roman        1390         Roman   \n",
              "1   8776         0.0    2013-03-06       Grumeti        1399       GRUMETI   \n",
              "2  34310        25.0    2013-02-25  Lottery Club         686  World vision   \n",
              "\n",
              "   longitude  latitude     wpt_name  num_private          basin subvillage  \\\n",
              "0  34.938093 -9.856322         none            0     Lake Nyasa   Mnyusi B   \n",
              "1  34.698766 -2.147466     Zahanati            0  Lake Victoria    Nyamara   \n",
              "2  37.460664 -3.821329  Kwa Mahundi            0        Pangani    Majengo   \n",
              "\n",
              "    region  region_code  district_code        lga      ward  population  \\\n",
              "0   Iringa           11              5     Ludewa  Mundindi         109   \n",
              "1     Mara           20              2  Serengeti     Natta         280   \n",
              "2  Manyara           21              4  Simanjiro   Ngorika         250   \n",
              "\n",
              "  public_meeting              recorded_by scheme_management permit  \\\n",
              "0           True  GeoData Consultants Ltd               VWC  False   \n",
              "1            NaN  GeoData Consultants Ltd             Other   True   \n",
              "2           True  GeoData Consultants Ltd               VWC   True   \n",
              "\n",
              "   construction_year extraction_type extraction_type_class management  \\\n",
              "0               1999         gravity               gravity        vwc   \n",
              "1               2010         gravity               gravity        wug   \n",
              "2               2009         gravity               gravity        vwc   \n",
              "\n",
              "  management_group         payment water_quality quality_group      quantity  \\\n",
              "0       user-group    pay annually          soft          good        enough   \n",
              "1       user-group       never pay          soft          good  insufficient   \n",
              "2       user-group  pay per bucket          soft          good        enough   \n",
              "\n",
              "  quantity_group                source           source_type source_class  \\\n",
              "0         enough                spring                spring  groundwater   \n",
              "1   insufficient  rainwater harvesting  rainwater harvesting      surface   \n",
              "2         enough                   dam                   dam      surface   \n",
              "\n",
              "               waterpoint_type waterpoint_type_group  \n",
              "0           communal standpipe    communal standpipe  \n",
              "1           communal standpipe    communal standpipe  \n",
              "2  communal standpipe multiple    communal standpipe  "
            ]
          },
          "execution_count": 1763,
          "metadata": {},
          "output_type": "execute_result"
        }
      ],
      "source": [
        "#3. Drop 'extraction_type_group' column\n",
        "df = df.drop(columns=['extraction_type_group'])\n",
        "df.head(3)"
      ]
    },
    {
      "cell_type": "code",
      "execution_count": null,
      "metadata": {
        "colab": {
          "base_uri": "https://localhost:8080/",
          "height": 308
        },
        "id": "vPevAlR0O40J",
        "outputId": "9638f329-099d-4f02-aa9f-71c2790db4a9"
      },
      "outputs": [
        {
          "data": {
            "text/html": [
              "<div>\n",
              "<style scoped>\n",
              "    .dataframe tbody tr th:only-of-type {\n",
              "        vertical-align: middle;\n",
              "    }\n",
              "\n",
              "    .dataframe tbody tr th {\n",
              "        vertical-align: top;\n",
              "    }\n",
              "\n",
              "    .dataframe thead th {\n",
              "        text-align: right;\n",
              "    }\n",
              "</style>\n",
              "<table border=\"1\" class=\"dataframe\">\n",
              "  <thead>\n",
              "    <tr style=\"text-align: right;\">\n",
              "      <th></th>\n",
              "      <th>id</th>\n",
              "      <th>amount_tsh</th>\n",
              "      <th>date_recorded</th>\n",
              "      <th>funder</th>\n",
              "      <th>gps_height</th>\n",
              "      <th>installer</th>\n",
              "      <th>longitude</th>\n",
              "      <th>latitude</th>\n",
              "      <th>wpt_name</th>\n",
              "      <th>num_private</th>\n",
              "      <th>basin</th>\n",
              "      <th>subvillage</th>\n",
              "      <th>region</th>\n",
              "      <th>region_code</th>\n",
              "      <th>district_code</th>\n",
              "      <th>lga</th>\n",
              "      <th>ward</th>\n",
              "      <th>population</th>\n",
              "      <th>public_meeting</th>\n",
              "      <th>recorded_by</th>\n",
              "      <th>scheme_management</th>\n",
              "      <th>permit</th>\n",
              "      <th>construction_year</th>\n",
              "      <th>extraction_type</th>\n",
              "      <th>extraction_type_class</th>\n",
              "      <th>management</th>\n",
              "      <th>management_group</th>\n",
              "      <th>payment</th>\n",
              "      <th>water_quality</th>\n",
              "      <th>quality_group</th>\n",
              "      <th>quantity</th>\n",
              "      <th>source</th>\n",
              "      <th>source_type</th>\n",
              "      <th>source_class</th>\n",
              "      <th>waterpoint_type</th>\n",
              "      <th>waterpoint_type_group</th>\n",
              "    </tr>\n",
              "  </thead>\n",
              "  <tbody>\n",
              "    <tr>\n",
              "      <th>0</th>\n",
              "      <td>69572</td>\n",
              "      <td>6000.0</td>\n",
              "      <td>2011-03-14</td>\n",
              "      <td>Roman</td>\n",
              "      <td>1390</td>\n",
              "      <td>Roman</td>\n",
              "      <td>34.938093</td>\n",
              "      <td>-9.856322</td>\n",
              "      <td>none</td>\n",
              "      <td>0</td>\n",
              "      <td>Lake Nyasa</td>\n",
              "      <td>Mnyusi B</td>\n",
              "      <td>Iringa</td>\n",
              "      <td>11</td>\n",
              "      <td>5</td>\n",
              "      <td>Ludewa</td>\n",
              "      <td>Mundindi</td>\n",
              "      <td>109</td>\n",
              "      <td>True</td>\n",
              "      <td>GeoData Consultants Ltd</td>\n",
              "      <td>VWC</td>\n",
              "      <td>False</td>\n",
              "      <td>1999</td>\n",
              "      <td>gravity</td>\n",
              "      <td>gravity</td>\n",
              "      <td>vwc</td>\n",
              "      <td>user-group</td>\n",
              "      <td>pay annually</td>\n",
              "      <td>soft</td>\n",
              "      <td>good</td>\n",
              "      <td>enough</td>\n",
              "      <td>spring</td>\n",
              "      <td>spring</td>\n",
              "      <td>groundwater</td>\n",
              "      <td>communal standpipe</td>\n",
              "      <td>communal standpipe</td>\n",
              "    </tr>\n",
              "    <tr>\n",
              "      <th>1</th>\n",
              "      <td>8776</td>\n",
              "      <td>0.0</td>\n",
              "      <td>2013-03-06</td>\n",
              "      <td>Grumeti</td>\n",
              "      <td>1399</td>\n",
              "      <td>GRUMETI</td>\n",
              "      <td>34.698766</td>\n",
              "      <td>-2.147466</td>\n",
              "      <td>Zahanati</td>\n",
              "      <td>0</td>\n",
              "      <td>Lake Victoria</td>\n",
              "      <td>Nyamara</td>\n",
              "      <td>Mara</td>\n",
              "      <td>20</td>\n",
              "      <td>2</td>\n",
              "      <td>Serengeti</td>\n",
              "      <td>Natta</td>\n",
              "      <td>280</td>\n",
              "      <td>NaN</td>\n",
              "      <td>GeoData Consultants Ltd</td>\n",
              "      <td>Other</td>\n",
              "      <td>True</td>\n",
              "      <td>2010</td>\n",
              "      <td>gravity</td>\n",
              "      <td>gravity</td>\n",
              "      <td>wug</td>\n",
              "      <td>user-group</td>\n",
              "      <td>never pay</td>\n",
              "      <td>soft</td>\n",
              "      <td>good</td>\n",
              "      <td>insufficient</td>\n",
              "      <td>rainwater harvesting</td>\n",
              "      <td>rainwater harvesting</td>\n",
              "      <td>surface</td>\n",
              "      <td>communal standpipe</td>\n",
              "      <td>communal standpipe</td>\n",
              "    </tr>\n",
              "    <tr>\n",
              "      <th>2</th>\n",
              "      <td>34310</td>\n",
              "      <td>25.0</td>\n",
              "      <td>2013-02-25</td>\n",
              "      <td>Lottery Club</td>\n",
              "      <td>686</td>\n",
              "      <td>World vision</td>\n",
              "      <td>37.460664</td>\n",
              "      <td>-3.821329</td>\n",
              "      <td>Kwa Mahundi</td>\n",
              "      <td>0</td>\n",
              "      <td>Pangani</td>\n",
              "      <td>Majengo</td>\n",
              "      <td>Manyara</td>\n",
              "      <td>21</td>\n",
              "      <td>4</td>\n",
              "      <td>Simanjiro</td>\n",
              "      <td>Ngorika</td>\n",
              "      <td>250</td>\n",
              "      <td>True</td>\n",
              "      <td>GeoData Consultants Ltd</td>\n",
              "      <td>VWC</td>\n",
              "      <td>True</td>\n",
              "      <td>2009</td>\n",
              "      <td>gravity</td>\n",
              "      <td>gravity</td>\n",
              "      <td>vwc</td>\n",
              "      <td>user-group</td>\n",
              "      <td>pay per bucket</td>\n",
              "      <td>soft</td>\n",
              "      <td>good</td>\n",
              "      <td>enough</td>\n",
              "      <td>dam</td>\n",
              "      <td>dam</td>\n",
              "      <td>surface</td>\n",
              "      <td>communal standpipe multiple</td>\n",
              "      <td>communal standpipe</td>\n",
              "    </tr>\n",
              "  </tbody>\n",
              "</table>\n",
              "</div>"
            ],
            "text/plain": [
              "      id  amount_tsh date_recorded        funder  gps_height     installer  \\\n",
              "0  69572      6000.0    2011-03-14         Roman        1390         Roman   \n",
              "1   8776         0.0    2013-03-06       Grumeti        1399       GRUMETI   \n",
              "2  34310        25.0    2013-02-25  Lottery Club         686  World vision   \n",
              "\n",
              "   longitude  latitude     wpt_name  num_private          basin subvillage  \\\n",
              "0  34.938093 -9.856322         none            0     Lake Nyasa   Mnyusi B   \n",
              "1  34.698766 -2.147466     Zahanati            0  Lake Victoria    Nyamara   \n",
              "2  37.460664 -3.821329  Kwa Mahundi            0        Pangani    Majengo   \n",
              "\n",
              "    region  region_code  district_code        lga      ward  population  \\\n",
              "0   Iringa           11              5     Ludewa  Mundindi         109   \n",
              "1     Mara           20              2  Serengeti     Natta         280   \n",
              "2  Manyara           21              4  Simanjiro   Ngorika         250   \n",
              "\n",
              "  public_meeting              recorded_by scheme_management permit  \\\n",
              "0           True  GeoData Consultants Ltd               VWC  False   \n",
              "1            NaN  GeoData Consultants Ltd             Other   True   \n",
              "2           True  GeoData Consultants Ltd               VWC   True   \n",
              "\n",
              "   construction_year extraction_type extraction_type_class management  \\\n",
              "0               1999         gravity               gravity        vwc   \n",
              "1               2010         gravity               gravity        wug   \n",
              "2               2009         gravity               gravity        vwc   \n",
              "\n",
              "  management_group         payment water_quality quality_group      quantity  \\\n",
              "0       user-group    pay annually          soft          good        enough   \n",
              "1       user-group       never pay          soft          good  insufficient   \n",
              "2       user-group  pay per bucket          soft          good        enough   \n",
              "\n",
              "                 source           source_type source_class  \\\n",
              "0                spring                spring  groundwater   \n",
              "1  rainwater harvesting  rainwater harvesting      surface   \n",
              "2                   dam                   dam      surface   \n",
              "\n",
              "               waterpoint_type waterpoint_type_group  \n",
              "0           communal standpipe    communal standpipe  \n",
              "1           communal standpipe    communal standpipe  \n",
              "2  communal standpipe multiple    communal standpipe  "
            ]
          },
          "execution_count": 1764,
          "metadata": {},
          "output_type": "execute_result"
        }
      ],
      "source": [
        "#4. Drop 'quantity_group' column\n",
        "df = df.drop(columns=['quantity_group'])\n",
        "df.head(3)"
      ]
    },
    {
      "cell_type": "code",
      "execution_count": null,
      "metadata": {
        "id": "BG9UFK57uSGA",
        "outputId": "1522c34a-bd9c-4429-b911-86a27258bd72"
      },
      "outputs": [
        {
          "data": {
            "text/html": [
              "<div>\n",
              "<style scoped>\n",
              "    .dataframe tbody tr th:only-of-type {\n",
              "        vertical-align: middle;\n",
              "    }\n",
              "\n",
              "    .dataframe tbody tr th {\n",
              "        vertical-align: top;\n",
              "    }\n",
              "\n",
              "    .dataframe thead th {\n",
              "        text-align: right;\n",
              "    }\n",
              "</style>\n",
              "<table border=\"1\" class=\"dataframe\">\n",
              "  <thead>\n",
              "    <tr style=\"text-align: right;\">\n",
              "      <th></th>\n",
              "      <th>amount_tsh</th>\n",
              "      <th>date_recorded</th>\n",
              "      <th>funder</th>\n",
              "      <th>gps_height</th>\n",
              "      <th>installer</th>\n",
              "      <th>longitude</th>\n",
              "      <th>latitude</th>\n",
              "      <th>wpt_name</th>\n",
              "      <th>num_private</th>\n",
              "      <th>basin</th>\n",
              "      <th>subvillage</th>\n",
              "      <th>region</th>\n",
              "      <th>region_code</th>\n",
              "      <th>district_code</th>\n",
              "      <th>lga</th>\n",
              "      <th>ward</th>\n",
              "      <th>population</th>\n",
              "      <th>public_meeting</th>\n",
              "      <th>recorded_by</th>\n",
              "      <th>scheme_management</th>\n",
              "      <th>permit</th>\n",
              "      <th>construction_year</th>\n",
              "      <th>extraction_type</th>\n",
              "      <th>extraction_type_class</th>\n",
              "      <th>management</th>\n",
              "      <th>management_group</th>\n",
              "      <th>payment</th>\n",
              "      <th>water_quality</th>\n",
              "      <th>quality_group</th>\n",
              "      <th>quantity</th>\n",
              "      <th>source</th>\n",
              "      <th>source_type</th>\n",
              "      <th>source_class</th>\n",
              "      <th>waterpoint_type</th>\n",
              "      <th>waterpoint_type_group</th>\n",
              "    </tr>\n",
              "  </thead>\n",
              "  <tbody>\n",
              "    <tr>\n",
              "      <th>0</th>\n",
              "      <td>6000.0</td>\n",
              "      <td>2011-03-14</td>\n",
              "      <td>Roman</td>\n",
              "      <td>1390</td>\n",
              "      <td>Roman</td>\n",
              "      <td>34.938093</td>\n",
              "      <td>-9.856322</td>\n",
              "      <td>none</td>\n",
              "      <td>0</td>\n",
              "      <td>Lake Nyasa</td>\n",
              "      <td>Mnyusi B</td>\n",
              "      <td>Iringa</td>\n",
              "      <td>11</td>\n",
              "      <td>5</td>\n",
              "      <td>Ludewa</td>\n",
              "      <td>Mundindi</td>\n",
              "      <td>109</td>\n",
              "      <td>True</td>\n",
              "      <td>GeoData Consultants Ltd</td>\n",
              "      <td>VWC</td>\n",
              "      <td>False</td>\n",
              "      <td>1999</td>\n",
              "      <td>gravity</td>\n",
              "      <td>gravity</td>\n",
              "      <td>vwc</td>\n",
              "      <td>user-group</td>\n",
              "      <td>pay annually</td>\n",
              "      <td>soft</td>\n",
              "      <td>good</td>\n",
              "      <td>enough</td>\n",
              "      <td>spring</td>\n",
              "      <td>spring</td>\n",
              "      <td>groundwater</td>\n",
              "      <td>communal standpipe</td>\n",
              "      <td>communal standpipe</td>\n",
              "    </tr>\n",
              "    <tr>\n",
              "      <th>1</th>\n",
              "      <td>0.0</td>\n",
              "      <td>2013-03-06</td>\n",
              "      <td>Grumeti</td>\n",
              "      <td>1399</td>\n",
              "      <td>GRUMETI</td>\n",
              "      <td>34.698766</td>\n",
              "      <td>-2.147466</td>\n",
              "      <td>Zahanati</td>\n",
              "      <td>0</td>\n",
              "      <td>Lake Victoria</td>\n",
              "      <td>Nyamara</td>\n",
              "      <td>Mara</td>\n",
              "      <td>20</td>\n",
              "      <td>2</td>\n",
              "      <td>Serengeti</td>\n",
              "      <td>Natta</td>\n",
              "      <td>280</td>\n",
              "      <td>NaN</td>\n",
              "      <td>GeoData Consultants Ltd</td>\n",
              "      <td>Other</td>\n",
              "      <td>True</td>\n",
              "      <td>2010</td>\n",
              "      <td>gravity</td>\n",
              "      <td>gravity</td>\n",
              "      <td>wug</td>\n",
              "      <td>user-group</td>\n",
              "      <td>never pay</td>\n",
              "      <td>soft</td>\n",
              "      <td>good</td>\n",
              "      <td>insufficient</td>\n",
              "      <td>rainwater harvesting</td>\n",
              "      <td>rainwater harvesting</td>\n",
              "      <td>surface</td>\n",
              "      <td>communal standpipe</td>\n",
              "      <td>communal standpipe</td>\n",
              "    </tr>\n",
              "    <tr>\n",
              "      <th>2</th>\n",
              "      <td>25.0</td>\n",
              "      <td>2013-02-25</td>\n",
              "      <td>Lottery Club</td>\n",
              "      <td>686</td>\n",
              "      <td>World vision</td>\n",
              "      <td>37.460664</td>\n",
              "      <td>-3.821329</td>\n",
              "      <td>Kwa Mahundi</td>\n",
              "      <td>0</td>\n",
              "      <td>Pangani</td>\n",
              "      <td>Majengo</td>\n",
              "      <td>Manyara</td>\n",
              "      <td>21</td>\n",
              "      <td>4</td>\n",
              "      <td>Simanjiro</td>\n",
              "      <td>Ngorika</td>\n",
              "      <td>250</td>\n",
              "      <td>True</td>\n",
              "      <td>GeoData Consultants Ltd</td>\n",
              "      <td>VWC</td>\n",
              "      <td>True</td>\n",
              "      <td>2009</td>\n",
              "      <td>gravity</td>\n",
              "      <td>gravity</td>\n",
              "      <td>vwc</td>\n",
              "      <td>user-group</td>\n",
              "      <td>pay per bucket</td>\n",
              "      <td>soft</td>\n",
              "      <td>good</td>\n",
              "      <td>enough</td>\n",
              "      <td>dam</td>\n",
              "      <td>dam</td>\n",
              "      <td>surface</td>\n",
              "      <td>communal standpipe multiple</td>\n",
              "      <td>communal standpipe</td>\n",
              "    </tr>\n",
              "  </tbody>\n",
              "</table>\n",
              "</div>"
            ],
            "text/plain": [
              "   amount_tsh date_recorded        funder  gps_height     installer  \\\n",
              "0      6000.0    2011-03-14         Roman        1390         Roman   \n",
              "1         0.0    2013-03-06       Grumeti        1399       GRUMETI   \n",
              "2        25.0    2013-02-25  Lottery Club         686  World vision   \n",
              "\n",
              "   longitude  latitude     wpt_name  num_private          basin subvillage  \\\n",
              "0  34.938093 -9.856322         none            0     Lake Nyasa   Mnyusi B   \n",
              "1  34.698766 -2.147466     Zahanati            0  Lake Victoria    Nyamara   \n",
              "2  37.460664 -3.821329  Kwa Mahundi            0        Pangani    Majengo   \n",
              "\n",
              "    region  region_code  district_code        lga      ward  population  \\\n",
              "0   Iringa           11              5     Ludewa  Mundindi         109   \n",
              "1     Mara           20              2  Serengeti     Natta         280   \n",
              "2  Manyara           21              4  Simanjiro   Ngorika         250   \n",
              "\n",
              "  public_meeting              recorded_by scheme_management permit  \\\n",
              "0           True  GeoData Consultants Ltd               VWC  False   \n",
              "1            NaN  GeoData Consultants Ltd             Other   True   \n",
              "2           True  GeoData Consultants Ltd               VWC   True   \n",
              "\n",
              "   construction_year extraction_type extraction_type_class management  \\\n",
              "0               1999         gravity               gravity        vwc   \n",
              "1               2010         gravity               gravity        wug   \n",
              "2               2009         gravity               gravity        vwc   \n",
              "\n",
              "  management_group         payment water_quality quality_group      quantity  \\\n",
              "0       user-group    pay annually          soft          good        enough   \n",
              "1       user-group       never pay          soft          good  insufficient   \n",
              "2       user-group  pay per bucket          soft          good        enough   \n",
              "\n",
              "                 source           source_type source_class  \\\n",
              "0                spring                spring  groundwater   \n",
              "1  rainwater harvesting  rainwater harvesting      surface   \n",
              "2                   dam                   dam      surface   \n",
              "\n",
              "               waterpoint_type waterpoint_type_group  \n",
              "0           communal standpipe    communal standpipe  \n",
              "1           communal standpipe    communal standpipe  \n",
              "2  communal standpipe multiple    communal standpipe  "
            ]
          },
          "execution_count": 1765,
          "metadata": {},
          "output_type": "execute_result"
        }
      ],
      "source": [
        "#5. Drop 'id' column\n",
        "df = df.drop(columns=['id'])\n",
        "df.head(3)"
      ]
    },
    {
      "cell_type": "markdown",
      "metadata": {
        "id": "ajbQkDf2ujQd"
      },
      "source": [
        "### Data Type: Ensure Matching Data Dictionary\n",
        "\n",
        "Display information about features."
      ]
    },
    {
      "cell_type": "code",
      "execution_count": null,
      "metadata": {
        "colab": {
          "base_uri": "https://localhost:8080/"
        },
        "id": "hT1OwwgjmpVT",
        "outputId": "13fb884b-735f-46b9-cd5c-cdda13f7630d"
      },
      "outputs": [
        {
          "name": "stdout",
          "output_type": "stream",
          "text": [
            "<class 'pandas.core.frame.DataFrame'>\n",
            "RangeIndex: 59400 entries, 0 to 59399\n",
            "Data columns (total 35 columns):\n",
            " #   Column                 Non-Null Count  Dtype  \n",
            "---  ------                 --------------  -----  \n",
            " 0   amount_tsh             59400 non-null  float64\n",
            " 1   date_recorded          59400 non-null  object \n",
            " 2   funder                 55765 non-null  object \n",
            " 3   gps_height             59400 non-null  int64  \n",
            " 4   installer              55745 non-null  object \n",
            " 5   longitude              59400 non-null  float64\n",
            " 6   latitude               59400 non-null  float64\n",
            " 7   wpt_name               59400 non-null  object \n",
            " 8   num_private            59400 non-null  int64  \n",
            " 9   basin                  59400 non-null  object \n",
            " 10  subvillage             59029 non-null  object \n",
            " 11  region                 59400 non-null  object \n",
            " 12  region_code            59400 non-null  int64  \n",
            " 13  district_code          59400 non-null  int64  \n",
            " 14  lga                    59400 non-null  object \n",
            " 15  ward                   59400 non-null  object \n",
            " 16  population             59400 non-null  int64  \n",
            " 17  public_meeting         56066 non-null  object \n",
            " 18  recorded_by            59400 non-null  object \n",
            " 19  scheme_management      55523 non-null  object \n",
            " 20  permit                 56344 non-null  object \n",
            " 21  construction_year      59400 non-null  int64  \n",
            " 22  extraction_type        59400 non-null  object \n",
            " 23  extraction_type_class  59400 non-null  object \n",
            " 24  management             59400 non-null  object \n",
            " 25  management_group       59400 non-null  object \n",
            " 26  payment                59400 non-null  object \n",
            " 27  water_quality          59400 non-null  object \n",
            " 28  quality_group          59400 non-null  object \n",
            " 29  quantity               59400 non-null  object \n",
            " 30  source                 59400 non-null  object \n",
            " 31  source_type            59400 non-null  object \n",
            " 32  source_class           59400 non-null  object \n",
            " 33  waterpoint_type        59400 non-null  object \n",
            " 34  waterpoint_type_group  59400 non-null  object \n",
            "dtypes: float64(3), int64(6), object(26)\n",
            "memory usage: 15.9+ MB\n"
          ]
        }
      ],
      "source": [
        "df.info()"
      ]
    },
    {
      "cell_type": "markdown",
      "metadata": {
        "id": "jpf6VYwSmf2R"
      },
      "source": [
        "Four of the features remining in the datset need to have their datatypes updated:\n",
        "\n",
        "* 'date_recorded' to date type\n",
        "* 'public_meeting' to boolean\n",
        "* 'permit' to boolean\n",
        "* 'construction_year' to integer"
      ]
    },
    {
      "cell_type": "code",
      "execution_count": null,
      "metadata": {
        "id": "eoYSotVPmgAr",
        "outputId": "cddb582f-d06c-40c2-9fe7-1a99157397ef"
      },
      "outputs": [
        {
          "name": "stdout",
          "output_type": "stream",
          "text": [
            "<class 'pandas.core.series.Series'>\n",
            "RangeIndex: 59400 entries, 0 to 59399\n",
            "Series name: date_recorded\n",
            "Non-Null Count  Dtype         \n",
            "--------------  -----         \n",
            "59400 non-null  datetime64[ns]\n",
            "dtypes: datetime64[ns](1)\n",
            "memory usage: 464.2 KB\n"
          ]
        }
      ],
      "source": [
        "# Change 'date_recorded' to type integer\n",
        "# df['date_recorded'] = df['date_recorded'].astype('int')\n",
        "\n",
        "# Not able to train dataset if 'date_recorded' is type datetime...\n",
        "df['date_recorded'] = pd.to_datetime(df['date_recorded'])\n",
        "\n",
        "# Able to train dataset with data type datetime64[D]:\n",
        "# df['date_recorded'].astype('datetime64[ns]')\n",
        "\n",
        "# df['date_recorded'] = pd.Timestamp(df['date_recorded'])\n",
        "\n",
        "df['date_recorded'].info()"
      ]
    },
    {
      "cell_type": "code",
      "execution_count": null,
      "metadata": {
        "id": "IUrXuignmf7c",
        "outputId": "167672d6-d8e2-4a68-b8c5-6e2a6ce4e537"
      },
      "outputs": [
        {
          "name": "stdout",
          "output_type": "stream",
          "text": [
            "<class 'pandas.core.series.Series'>\n",
            "RangeIndex: 59400 entries, 0 to 59399\n",
            "Series name: public_meeting\n",
            "Non-Null Count  Dtype\n",
            "--------------  -----\n",
            "59400 non-null  bool \n",
            "dtypes: bool(1)\n",
            "memory usage: 58.1 KB\n"
          ]
        }
      ],
      "source": [
        "# Change 'public_meeting' to boolean\n",
        "df['public_meeting'] = df['public_meeting'].astype('bool')\n",
        "\n",
        "df['public_meeting'].info()"
      ]
    },
    {
      "cell_type": "code",
      "execution_count": null,
      "metadata": {
        "id": "udtx6bbimfxm",
        "outputId": "b0b4c152-6000-42ab-899f-79c6443a0ef3"
      },
      "outputs": [
        {
          "name": "stdout",
          "output_type": "stream",
          "text": [
            "<class 'pandas.core.series.Series'>\n",
            "RangeIndex: 59400 entries, 0 to 59399\n",
            "Series name: permit\n",
            "Non-Null Count  Dtype\n",
            "--------------  -----\n",
            "59400 non-null  bool \n",
            "dtypes: bool(1)\n",
            "memory usage: 58.1 KB\n"
          ]
        }
      ],
      "source": [
        "# Change 'permit' to boolean\n",
        "df['permit'] = df['permit'].astype('bool')\n",
        "\n",
        "df['permit'].info()"
      ]
    },
    {
      "cell_type": "code",
      "execution_count": null,
      "metadata": {
        "id": "ADKCYP65mfsp",
        "outputId": "3a4f9454-cf78-4cab-b132-f223f836e1ab"
      },
      "outputs": [
        {
          "name": "stdout",
          "output_type": "stream",
          "text": [
            "<class 'pandas.core.series.Series'>\n",
            "RangeIndex: 59400 entries, 0 to 59399\n",
            "Series name: construction_year\n",
            "Non-Null Count  Dtype\n",
            "--------------  -----\n",
            "59400 non-null  int64\n",
            "dtypes: int64(1)\n",
            "memory usage: 464.2 KB\n"
          ]
        }
      ],
      "source": [
        "# Change 'construction_year' to integer\n",
        "df['construction_year'] = df['construction_year'].astype('int')\n",
        "\n",
        "df['construction_year'].info()"
      ]
    },
    {
      "cell_type": "markdown",
      "metadata": {
        "id": "LjArYeWTZCXI"
      },
      "source": [
        "### Inconsistent Values: Check & Address (Categorical Columns)"
      ]
    },
    {
      "cell_type": "markdown",
      "metadata": {
        "id": "UQ3VzqVCZSxH"
      },
      "source": [
        "* Check all values for each feature to ensure that there are no inconsistent values."
      ]
    },
    {
      "cell_type": "code",
      "execution_count": null,
      "metadata": {
        "colab": {
          "base_uri": "https://localhost:8080/"
        },
        "id": "JomjmxDuahcc",
        "outputId": "e55c0a57-59bc-4641-abf4-af8ea4058b91"
      },
      "outputs": [
        {
          "name": "stdout",
          "output_type": "stream",
          "text": [
            "Number of unique values in feature: 1897\n"
          ]
        }
      ],
      "source": [
        "# funder\n",
        "print(f'Number of unique values in feature: {df.funder.nunique()}')"
      ]
    },
    {
      "cell_type": "code",
      "execution_count": null,
      "metadata": {
        "colab": {
          "base_uri": "https://localhost:8080/"
        },
        "id": "35GAS0DyZPyl",
        "outputId": "6efd325f-25c9-495a-b6b1-2ff1e6223df2"
      },
      "outputs": [
        {
          "data": {
            "text/plain": [
              "Government Of Tanzania    9084\n",
              "Danida                    3114\n",
              "Hesawa                    2202\n",
              "Rwssp                     1374\n",
              "World Bank                1349\n",
              "Kkkt                      1287\n",
              "World Vision              1246\n",
              "Unicef                    1057\n",
              "Tasaf                      877\n",
              "District Council           843\n",
              "Dhv                        829\n",
              "Private Individual         826\n",
              "Dwsp                       811\n",
              "0                          777\n",
              "Norad                      765\n",
              "Name: funder, dtype: int64"
            ]
          },
          "execution_count": 1772,
          "metadata": {},
          "output_type": "execute_result"
        }
      ],
      "source": [
        "# funder\n",
        "df.funder.value_counts()[0:15]"
      ]
    },
    {
      "cell_type": "markdown",
      "metadata": {
        "id": "90noX8urbUFD"
      },
      "source": [
        "For 'funder' values, we can see that there are 1,897 unique values, which will be very difficult to cross check that there are no inconsistent values.\n",
        "\n",
        "There are 777 instances for the value \"0\". This appears to be what was used to indicate \"None\" or a missing value."
      ]
    },
    {
      "cell_type": "code",
      "execution_count": null,
      "metadata": {
        "colab": {
          "base_uri": "https://localhost:8080/"
        },
        "id": "ggP2zccQcJJk",
        "outputId": "7e3aefe2-8fcb-465d-ab28-319796fa6b7f"
      },
      "outputs": [
        {
          "name": "stdout",
          "output_type": "stream",
          "text": [
            "Number of unique values in feature: 2145\n"
          ]
        }
      ],
      "source": [
        "# installer\n",
        "print(f'Number of unique values in feature: {df.installer.nunique()}')"
      ]
    },
    {
      "cell_type": "markdown",
      "metadata": {
        "id": "7WP7GXMavia4"
      },
      "source": [
        "For 'installer' (and similar to 'funder') values, we can see that there are 2,145 unique values. This will also be very difficult to cross check for inconsistent values.\n",
        "\n",
        "There are also 777 instances for the value \"0\" in 'installer'. This, again, appears to be what was used to indicate \"None\" or a missing value."
      ]
    },
    {
      "cell_type": "code",
      "execution_count": null,
      "metadata": {
        "colab": {
          "base_uri": "https://localhost:8080/"
        },
        "id": "36DWN5N5cI3W",
        "outputId": "d0c969ce-5696-42e7-cd7b-014507659b41"
      },
      "outputs": [
        {
          "data": {
            "text/plain": [
              "DWE                           17402\n",
              "Government                     1825\n",
              "RWE                            1206\n",
              "Commu                          1060\n",
              "DANIDA                         1050\n",
              "KKKT                            898\n",
              "Hesawa                          840\n",
              "0                               777\n",
              "TCRS                            707\n",
              "Central government              622\n",
              "CES                             610\n",
              "Community                       553\n",
              "DANID                           552\n",
              "District Council                551\n",
              "HESAWA                          539\n",
              "LGA                             408\n",
              "World vision                    408\n",
              "WEDECO                          397\n",
              "TASAF                           396\n",
              "District council                392\n",
              "Gover                           383\n",
              "AMREF                           329\n",
              "TWESA                           316\n",
              "WU                              301\n",
              "Dmdd                            287\n",
              "ACRA                            278\n",
              "World Vision                    270\n",
              "SEMA                            249\n",
              "DW                              246\n",
              "OXFAM                           234\n",
              "Da                              224\n",
              "Gove                            222\n",
              "UNICEF                          222\n",
              "Idara ya maji                   222\n",
              "Sengerema Water Department      214\n",
              "Kiliwater                       210\n",
              "NORAD                           208\n",
              "FinW                            208\n",
              "DH                              202\n",
              "Villagers                       199\n",
              "DWSP                            192\n",
              "Distri                          181\n",
              "Lawatefuka water sup            180\n",
              "Magadini-Makiwaru wa            175\n",
              "RC                              174\n",
              "FW                              173\n",
              "KKKT _ Konde and DWE            166\n",
              "Centr                           162\n",
              "WVT                             158\n",
              "MWE                             157\n",
              "Name: installer, dtype: int64"
            ]
          },
          "execution_count": 1774,
          "metadata": {},
          "output_type": "execute_result"
        }
      ],
      "source": [
        "# installer\n",
        "df.installer.value_counts()[0:50]"
      ]
    },
    {
      "cell_type": "markdown",
      "metadata": {
        "id": "8edcYSQWv-Jh"
      },
      "source": [
        "We can see that there are a variety of inconsistent values that include the following (a visual inspection of the dataset was also performed and added further insight into trends and typical types of inconsistent data):\n",
        "\n",
        "> * capitalization differences\n",
        "> * erroneous spacing\n",
        "> * various implimentations for the same name/abbreviation\n",
        "> * various positioning of \"/\" in joint ventures\n",
        "> * inconsistent use of periods in names/abbreviations\n",
        "\n",
        "An example for different spelling/abbreviation usage in names can be seen in the above value_counts:\n",
        "\n",
        "> * 1825: Government\n",
        "> *  622: Central government\n",
        "> *  383: Gover\n",
        "> *  222: Gove\n",
        "> *  162: Centr\n",
        "\n",
        "Also:\n",
        "\n",
        "> * 551: District Council\n",
        "> * 392: District council\n",
        "> * 181: Distri\n",
        "\n",
        "There are many, many more examples in the two features 'funder' and 'installer', some more or less obvious than others.\n",
        "\n"
      ]
    },
    {
      "cell_type": "markdown",
      "metadata": {
        "id": "zmyBnceL1d7L"
      },
      "source": [
        "Plan for addressing inconsistent values in both 'funder' and 'installer' features:\n",
        "\n",
        "* standardize usage of \"/\" in names\n",
        "* remove all periods from names\n",
        "* remove erroneous whitespace\n",
        "* set all values to uppercase\n",
        "\n",
        "This should take care of the majority of naming inconsistencies that are relatively straight forward to fix.\n",
        "\n",
        "To alleviate variations in naming and abbreviations, more insight into the data needs to be achieved (access to a subject-matter expert would be ideal) in order to optimize any naming standardization methods developed."
      ]
    },
    {
      "cell_type": "markdown",
      "metadata": {
        "id": "QmeKP9bFRRbd"
      },
      "source": [
        "#### Inconsistent Values: Clean (Uppercase)\n",
        "* set all values to uppercase"
      ]
    },
    {
      "cell_type": "markdown",
      "metadata": {
        "id": "T-LbMXStek2X"
      },
      "source": [
        "##### 'funder'"
      ]
    },
    {
      "cell_type": "code",
      "execution_count": null,
      "metadata": {
        "colab": {
          "base_uri": "https://localhost:8080/"
        },
        "id": "QuNlWd1Cd8dw",
        "outputId": "eb8c88e7-2274-4360-cb23-f3e3cf887381"
      },
      "outputs": [
        {
          "data": {
            "text/plain": [
              "0                  Roman\n",
              "1                Grumeti\n",
              "2           Lottery Club\n",
              "3                 Unicef\n",
              "4            Action In A\n",
              "5    Mkinga Distric Coun\n",
              "6                   Dwsp\n",
              "7                  Rwssp\n",
              "8               Wateraid\n",
              "9            Isingiro Ho\n",
              "Name: funder, dtype: object"
            ]
          },
          "execution_count": 1775,
          "metadata": {},
          "output_type": "execute_result"
        }
      ],
      "source": [
        "# View head of 'funder' to see capitalization example\n",
        "df['funder'].head(10)"
      ]
    },
    {
      "cell_type": "code",
      "execution_count": null,
      "metadata": {
        "id": "yvSLEZH4IRCD"
      },
      "outputs": [],
      "source": [
        "# Uppercase all values in column 'funder'\n",
        "df['funder'] = df['funder'].str.upper()"
      ]
    },
    {
      "cell_type": "code",
      "execution_count": null,
      "metadata": {
        "colab": {
          "base_uri": "https://localhost:8080/"
        },
        "id": "fYUdEC55eL-U",
        "outputId": "5fbfb3b3-5326-4285-ad1e-2c3b608bb807"
      },
      "outputs": [
        {
          "data": {
            "text/plain": [
              "0           ROMAN\n",
              "1         GRUMETI\n",
              "2    LOTTERY CLUB\n",
              "3          UNICEF\n",
              "4     ACTION IN A\n",
              "Name: funder, dtype: object"
            ]
          },
          "execution_count": 1777,
          "metadata": {},
          "output_type": "execute_result"
        }
      ],
      "source": [
        "# View head of 'funder' to verify if capitalization has been standardized\n",
        "df['funder'].head(5)"
      ]
    },
    {
      "cell_type": "markdown",
      "metadata": {
        "id": "Ru9sqA-VesYP"
      },
      "source": [
        "##### 'installer'"
      ]
    },
    {
      "cell_type": "code",
      "execution_count": null,
      "metadata": {
        "colab": {
          "base_uri": "https://localhost:8080/"
        },
        "id": "4PIJhJ_JeXP5",
        "outputId": "d49f627f-8ade-4a10-fe72-a2a6461001f4"
      },
      "outputs": [
        {
          "data": {
            "text/plain": [
              "0           Roman\n",
              "1         GRUMETI\n",
              "2    World vision\n",
              "3          UNICEF\n",
              "4         Artisan\n",
              "5             DWE\n",
              "6            DWSP\n",
              "7             DWE\n",
              "8       Water Aid\n",
              "9         Artisan\n",
              "Name: installer, dtype: object"
            ]
          },
          "execution_count": 1778,
          "metadata": {},
          "output_type": "execute_result"
        }
      ],
      "source": [
        "# View head of 'installer' to see capitalization example\n",
        "df['installer'].head(10)"
      ]
    },
    {
      "cell_type": "code",
      "execution_count": null,
      "metadata": {
        "id": "lSLks8m1IxWX"
      },
      "outputs": [],
      "source": [
        "# Uppercase all values in column 'installer'\n",
        "df['installer'] = df['installer'].str.upper()"
      ]
    },
    {
      "cell_type": "code",
      "execution_count": null,
      "metadata": {
        "colab": {
          "base_uri": "https://localhost:8080/"
        },
        "id": "1QWs48knecML",
        "outputId": "b6f1006e-fa14-4e04-c6ff-52e9ca5070bc"
      },
      "outputs": [
        {
          "data": {
            "text/plain": [
              "0           ROMAN\n",
              "1         GRUMETI\n",
              "2    WORLD VISION\n",
              "3          UNICEF\n",
              "4         ARTISAN\n",
              "Name: installer, dtype: object"
            ]
          },
          "execution_count": 1780,
          "metadata": {},
          "output_type": "execute_result"
        }
      ],
      "source": [
        "# View head of 'installer' to verify if capitalization has been standardized\n",
        "df['installer'].head(5)"
      ]
    },
    {
      "cell_type": "markdown",
      "metadata": {
        "id": "xpVZ9LLDRknz"
      },
      "source": [
        "#### Inconsistent Values: Clean (\"/\")\n",
        "* standardize usage of \"/\" in names"
      ]
    },
    {
      "cell_type": "code",
      "execution_count": null,
      "metadata": {
        "colab": {
          "base_uri": "https://localhost:8080/"
        },
        "id": "lIQaasp-KjGS",
        "outputId": "19299ede-474d-46fa-b661-6448a8c2dd71"
      },
      "outputs": [
        {
          "data": {
            "text/plain": [
              "63               ADRA /COMMUNITY\n",
              "110               ADRA/COMMUNITY\n",
              "222              ADRA /COMMUNITY\n",
              "274                      RWE/DWE\n",
              "401               RWE/ COMMUNITY\n",
              "                  ...           \n",
              "59058              RCCHURCH/CEFA\n",
              "59101                TASSAF/TCRS\n",
              "59174        DWE/ANGLICAN CHURCH\n",
              "59241            ADRA/ COMMUNITY\n",
              "59331    RC CHURCH/CENTRAL GOVER\n",
              "Name: installer, Length: 664, dtype: object"
            ]
          },
          "execution_count": 1781,
          "metadata": {},
          "output_type": "execute_result"
        }
      ],
      "source": [
        "# Show examples of usage for \"/\" in values\n",
        "df[df['installer'].str.contains(\"/\", na = False)]['installer']"
      ]
    },
    {
      "cell_type": "markdown",
      "metadata": {
        "id": "fIoMXZC9WUnr"
      },
      "source": [
        "##### Testing Regex\n",
        "\n",
        "Create a sample test dataframe to correctly work out regex expression."
      ]
    },
    {
      "cell_type": "code",
      "execution_count": null,
      "metadata": {
        "colab": {
          "base_uri": "https://localhost:8080/",
          "height": 359
        },
        "id": "hyZMsdPTaCG9",
        "outputId": "b9903a2e-5acd-4eb3-e4ed-ea31ac80b55d"
      },
      "outputs": [
        {
          "data": {
            "text/html": [
              "<div>\n",
              "<style scoped>\n",
              "    .dataframe tbody tr th:only-of-type {\n",
              "        vertical-align: middle;\n",
              "    }\n",
              "\n",
              "    .dataframe tbody tr th {\n",
              "        vertical-align: top;\n",
              "    }\n",
              "\n",
              "    .dataframe thead th {\n",
              "        text-align: right;\n",
              "    }\n",
              "</style>\n",
              "<table border=\"1\" class=\"dataframe\">\n",
              "  <thead>\n",
              "    <tr style=\"text-align: right;\">\n",
              "      <th></th>\n",
              "      <th>installer</th>\n",
              "    </tr>\n",
              "  </thead>\n",
              "  <tbody>\n",
              "    <tr>\n",
              "      <th>0</th>\n",
              "      <td>ADRA /COMMUNITY</td>\n",
              "    </tr>\n",
              "    <tr>\n",
              "      <th>1</th>\n",
              "      <td>ADRA/COMMUNITY</td>\n",
              "    </tr>\n",
              "    <tr>\n",
              "      <th>2</th>\n",
              "      <td>ADRA /COMMUNITY</td>\n",
              "    </tr>\n",
              "    <tr>\n",
              "      <th>3</th>\n",
              "      <td>RWE/DWE</td>\n",
              "    </tr>\n",
              "    <tr>\n",
              "      <th>4</th>\n",
              "      <td>RWE/ COMMUNITY</td>\n",
              "    </tr>\n",
              "    <tr>\n",
              "      <th>5</th>\n",
              "      <td>RCCHURCH/CEFA</td>\n",
              "    </tr>\n",
              "    <tr>\n",
              "      <th>6</th>\n",
              "      <td>TASSAF/TCRS</td>\n",
              "    </tr>\n",
              "    <tr>\n",
              "      <th>7</th>\n",
              "      <td>DWE/ANGLICAN CHURCH</td>\n",
              "    </tr>\n",
              "    <tr>\n",
              "      <th>8</th>\n",
              "      <td>ADRA/ COMMUNITY</td>\n",
              "    </tr>\n",
              "    <tr>\n",
              "      <th>9</th>\n",
              "      <td>RC CHURCH/CENTRAL GOVER</td>\n",
              "    </tr>\n",
              "  </tbody>\n",
              "</table>\n",
              "</div>"
            ],
            "text/plain": [
              "                 installer\n",
              "0          ADRA /COMMUNITY\n",
              "1           ADRA/COMMUNITY\n",
              "2          ADRA /COMMUNITY\n",
              "3                  RWE/DWE\n",
              "4           RWE/ COMMUNITY\n",
              "5            RCCHURCH/CEFA\n",
              "6              TASSAF/TCRS\n",
              "7      DWE/ANGLICAN CHURCH\n",
              "8          ADRA/ COMMUNITY\n",
              "9  RC CHURCH/CENTRAL GOVER"
            ]
          },
          "execution_count": 1782,
          "metadata": {},
          "output_type": "execute_result"
        }
      ],
      "source": [
        "# create test DataFrame called \"test\"\n",
        "# initialize list of elements\n",
        "data = [\"ADRA /COMMUNITY\"], [\"ADRA/COMMUNITY\"], [\"ADRA /COMMUNITY\"], [\"RWE/DWE\"], [\"RWE/ COMMUNITY\"], [\"RCCHURCH/CEFA\"], [\"TASSAF/TCRS\"], [\"DWE/ANGLICAN CHURCH\"], [\"ADRA/ COMMUNITY\"], [\"RC CHURCH/CENTRAL GOVER\"]\n",
        "\n",
        "# Create pandas DataFreame with column name\n",
        "test = pd.DataFrame(data, columns = ['installer'])\n",
        "\n",
        "# print dataframe\n",
        "test"
      ]
    },
    {
      "cell_type": "code",
      "execution_count": null,
      "metadata": {
        "colab": {
          "base_uri": "https://localhost:8080/"
        },
        "id": "d8HxMl72P7Y_",
        "outputId": "519747c1-7e0e-4b94-f828-8054769b6fb8"
      },
      "outputs": [
        {
          "data": {
            "text/plain": [
              "0            ADRA  / COMMUNITY\n",
              "1             ADRA / COMMUNITY\n",
              "2            ADRA  / COMMUNITY\n",
              "3                    RWE / DWE\n",
              "4             RWE /  COMMUNITY\n",
              "5              RCCHURCH / CEFA\n",
              "6                TASSAF / TCRS\n",
              "7        DWE / ANGLICAN CHURCH\n",
              "8            ADRA /  COMMUNITY\n",
              "9    RC CHURCH / CENTRAL GOVER\n",
              "Name: installer, dtype: object"
            ]
          },
          "execution_count": 1783,
          "metadata": {},
          "output_type": "execute_result"
        }
      ],
      "source": [
        "# Regex pattern to search for\n",
        "pattern = r'(\\w+\\s?)(/)(\\s?\\w+)'\n",
        "text = \"\"\n",
        "# Variable 'm' to hold each returned occurrence of the pattern\n",
        "m = re.search(pattern, text)\n",
        "\n",
        "# Use a lambda function on test['installer'] to join the captured groups with spaces.\n",
        "test['installer'].str.replace(pattern,\n",
        "                              lambda m: m.group(1)+' '+\n",
        "                              m.group(2)+' '+\n",
        "                              m.group(3))"
      ]
    },
    {
      "cell_type": "code",
      "execution_count": null,
      "metadata": {
        "colab": {
          "base_uri": "https://localhost:8080/"
        },
        "id": "wP8POXyjX01l",
        "outputId": "d324434f-799c-4824-c2b1-971250d02a94"
      },
      "outputs": [
        {
          "data": {
            "text/plain": [
              "110    ADRA / COMMUNITY\n",
              "Name: installer, dtype: object"
            ]
          },
          "execution_count": 1784,
          "metadata": {},
          "output_type": "execute_result"
        }
      ],
      "source": [
        "# Use a lambda function on df['installer'] to join the captured groups with spaces.\n",
        "df['installer'].str.replace(pattern,\n",
        "                              lambda m: m.group(1)+' '+\n",
        "                              m.group(2)+' '+\n",
        "                              m.group(3)).filter(items = [110], axis=0)"
      ]
    },
    {
      "cell_type": "markdown",
      "metadata": {
        "id": "fcMeVIGGZQUx"
      },
      "source": [
        "Using .filter at end of .str.replace showed that row 110 (that contained a \"/\") was indeed updated with extra spaces on each side of the forward slash."
      ]
    },
    {
      "cell_type": "markdown",
      "metadata": {
        "id": "msQ8RkmUfTiY"
      },
      "source": [
        "##### 'installer'\n",
        "\n",
        "We will now save our DataFrame in-place for the 'installer' feature."
      ]
    },
    {
      "cell_type": "code",
      "execution_count": null,
      "metadata": {
        "id": "Ykw8AB1ZZ1dr"
      },
      "outputs": [],
      "source": [
        "# Use a lambda function on df['installer'] to join the captured groups with spaces and save in-place.\n",
        "df['installer'] = df['installer'].str.replace(pattern,\n",
        "                              lambda m: m.group(1)+' '+\n",
        "                              m.group(2)+' '+\n",
        "                              m.group(3))"
      ]
    },
    {
      "cell_type": "code",
      "execution_count": null,
      "metadata": {
        "colab": {
          "base_uri": "https://localhost:8080/"
        },
        "id": "cphkXbklJ-pr",
        "outputId": "09df15d3-4068-4ceb-eb00-7c8ec7685fce"
      },
      "outputs": [
        {
          "data": {
            "text/plain": [
              "63               ADRA  / COMMUNITY\n",
              "110               ADRA / COMMUNITY\n",
              "222              ADRA  / COMMUNITY\n",
              "274                      RWE / DWE\n",
              "401               RWE /  COMMUNITY\n",
              "                   ...            \n",
              "59058              RCCHURCH / CEFA\n",
              "59101                TASSAF / TCRS\n",
              "59174        DWE / ANGLICAN CHURCH\n",
              "59241            ADRA /  COMMUNITY\n",
              "59331    RC CHURCH / CENTRAL GOVER\n",
              "Name: installer, Length: 664, dtype: object"
            ]
          },
          "execution_count": 1786,
          "metadata": {},
          "output_type": "execute_result"
        }
      ],
      "source": [
        "# Verify usage for \"/\" in values\n",
        "df[df['installer'].str.contains(r\"/\", na = False)]['installer']"
      ]
    },
    {
      "cell_type": "markdown",
      "metadata": {
        "id": "tPK8nxB1c0sW"
      },
      "source": [
        "##### 'funder'\n",
        "\n",
        "We will repeat the same cleaning on the 'funder' feature."
      ]
    },
    {
      "cell_type": "code",
      "execution_count": null,
      "metadata": {
        "colab": {
          "base_uri": "https://localhost:8080/"
        },
        "id": "O5csEYjudIal",
        "outputId": "e0ce1b01-7f52-4559-842e-b817f5177add"
      },
      "outputs": [
        {
          "data": {
            "text/plain": [
              "51                          DWE/NORAD\n",
              "82       SWISLAND/ MOUNT MERU FLOWERS\n",
              "90                         ISF/TACARE\n",
              "265      SWISLAND/ MOUNT MERU FLOWERS\n",
              "274                 NORAD /GOVERNMENT\n",
              "                     ...             \n",
              "59058                   RCCHURCH/CEFA\n",
              "59101                  TASSAF/ DANIDA\n",
              "59141               WORLD VISION/ADRA\n",
              "59174             DWE/ANGLICAN CHURCH\n",
              "59331                 RC CHURCH/CENTR\n",
              "Name: funder, Length: 756, dtype: object"
            ]
          },
          "execution_count": 1787,
          "metadata": {},
          "output_type": "execute_result"
        }
      ],
      "source": [
        "# Show usage for \"/\" in 'funder' values\n",
        "df[df['funder'].str.contains(r\"/\", na = False)]['funder']"
      ]
    },
    {
      "cell_type": "code",
      "execution_count": null,
      "metadata": {
        "id": "i_gATMCqdOZi"
      },
      "outputs": [],
      "source": [
        "# Use a lambda function on df['funder'] to join the captured groups with spaces and save in-place.\n",
        "df['funder'] = df['funder'].str.replace(pattern,\n",
        "                              lambda m: m.group(1)+' '+\n",
        "                              m.group(2)+' '+\n",
        "                              m.group(3))"
      ]
    },
    {
      "cell_type": "code",
      "execution_count": null,
      "metadata": {
        "colab": {
          "base_uri": "https://localhost:8080/"
        },
        "id": "ogSFAsP3dIEe",
        "outputId": "37b949f8-93fd-4d0b-e82e-52fed412978c"
      },
      "outputs": [
        {
          "data": {
            "text/plain": [
              "51                          DWE / NORAD\n",
              "82       SWISLAND /  MOUNT MERU FLOWERS\n",
              "90                         ISF / TACARE\n",
              "265      SWISLAND /  MOUNT MERU FLOWERS\n",
              "274                 NORAD  / GOVERNMENT\n",
              "                      ...              \n",
              "59058                   RCCHURCH / CEFA\n",
              "59101                  TASSAF /  DANIDA\n",
              "59141               WORLD VISION / ADRA\n",
              "59174             DWE / ANGLICAN CHURCH\n",
              "59331                 RC CHURCH / CENTR\n",
              "Name: funder, Length: 756, dtype: object"
            ]
          },
          "execution_count": 1789,
          "metadata": {},
          "output_type": "execute_result"
        }
      ],
      "source": [
        "# Verify usage for \"/\" in 'funder' values\n",
        "df[df['funder'].str.contains(r\"/\", na = False)]['funder']"
      ]
    },
    {
      "cell_type": "markdown",
      "metadata": {
        "id": "3IDa-awIaPmb"
      },
      "source": [
        "We have cleaned both 'funder' and 'installer' in regards to forward slash usage.\n",
        "\n",
        "And while there are now spaces on each side of the forward slash (as we wanted, in order to make further cleaning easier), there are now double/multiple spaces in our values.\n",
        "\n",
        "This is fine as we will address the spacing issue for both the additional spaces that we just injected, as well as the ones pre-existing in our dataset, in a future step."
      ]
    },
    {
      "cell_type": "markdown",
      "metadata": {
        "id": "SAS2Ojo1RrUQ"
      },
      "source": [
        "#### Inconsistent Values: Clean (Periods)\n",
        "* remove all periods from names"
      ]
    },
    {
      "cell_type": "markdown",
      "metadata": {
        "id": "zbXsIN6SmxSQ"
      },
      "source": [
        "##### Testing Regex\n",
        "\n",
        "We will test our \".\" replacement feature on a test set."
      ]
    },
    {
      "cell_type": "code",
      "execution_count": null,
      "metadata": {
        "colab": {
          "base_uri": "https://localhost:8080/",
          "height": 266
        },
        "id": "Eel5uIIBm34L",
        "outputId": "24281fe2-55f9-4b23-9d3d-ab23daaca8ba"
      },
      "outputs": [
        {
          "data": {
            "text/html": [
              "<div>\n",
              "<style scoped>\n",
              "    .dataframe tbody tr th:only-of-type {\n",
              "        vertical-align: middle;\n",
              "    }\n",
              "\n",
              "    .dataframe tbody tr th {\n",
              "        vertical-align: top;\n",
              "    }\n",
              "\n",
              "    .dataframe thead th {\n",
              "        text-align: right;\n",
              "    }\n",
              "</style>\n",
              "<table border=\"1\" class=\"dataframe\">\n",
              "  <thead>\n",
              "    <tr style=\"text-align: right;\">\n",
              "      <th></th>\n",
              "      <th>installer</th>\n",
              "    </tr>\n",
              "  </thead>\n",
              "  <tbody>\n",
              "    <tr>\n",
              "      <th>0</th>\n",
              "      <td>OIKOS E .AFRICA</td>\n",
              "    </tr>\n",
              "    <tr>\n",
              "      <th>1</th>\n",
              "      <td>DR. MATOMOLA</td>\n",
              "    </tr>\n",
              "    <tr>\n",
              "      <th>2</th>\n",
              "      <td>I.E.C</td>\n",
              "    </tr>\n",
              "    <tr>\n",
              "      <th>3</th>\n",
              "      <td>T. N. KARUGENDO</td>\n",
              "    </tr>\n",
              "    <tr>\n",
              "      <th>4</th>\n",
              "      <td>DR. MATOMOLA</td>\n",
              "    </tr>\n",
              "    <tr>\n",
              "      <th>5</th>\n",
              "      <td>OIKOS E.AFRICA</td>\n",
              "    </tr>\n",
              "    <tr>\n",
              "      <th>6</th>\n",
              "      <td>NAISHU CONSTRUCTION CO. LTD</td>\n",
              "    </tr>\n",
              "  </tbody>\n",
              "</table>\n",
              "</div>"
            ],
            "text/plain": [
              "                     installer\n",
              "0              OIKOS E .AFRICA\n",
              "1                 DR. MATOMOLA\n",
              "2                        I.E.C\n",
              "3              T. N. KARUGENDO\n",
              "4                 DR. MATOMOLA\n",
              "5               OIKOS E.AFRICA\n",
              "6  NAISHU CONSTRUCTION CO. LTD"
            ]
          },
          "execution_count": 1790,
          "metadata": {},
          "output_type": "execute_result"
        }
      ],
      "source": [
        "# create test DataFrame called \"test_dot\"\n",
        "# initialize list of elements\n",
        "data = ['OIKOS E .AFRICA'], ['DR. MATOMOLA'], ['I.E.C'], ['T. N. KARUGENDO'], ['DR. MATOMOLA'], ['OIKOS E.AFRICA'], ['NAISHU CONSTRUCTION CO. LTD']\n",
        "\n",
        "# Create pandas DataFreame with column name\n",
        "test_dot = pd.DataFrame(data, columns = ['installer'])\n",
        "\n",
        "# print dataframe\n",
        "test_dot"
      ]
    },
    {
      "cell_type": "code",
      "execution_count": null,
      "metadata": {
        "colab": {
          "base_uri": "https://localhost:8080/",
          "height": 320
        },
        "id": "OXR68HYJq_AK",
        "outputId": "fe473f80-b4dc-4833-d4cb-06ba61942caf"
      },
      "outputs": [
        {
          "data": {
            "text/html": [
              "<div>\n",
              "<style scoped>\n",
              "    .dataframe tbody tr th:only-of-type {\n",
              "        vertical-align: middle;\n",
              "    }\n",
              "\n",
              "    .dataframe tbody tr th {\n",
              "        vertical-align: top;\n",
              "    }\n",
              "\n",
              "    .dataframe thead th {\n",
              "        text-align: right;\n",
              "    }\n",
              "</style>\n",
              "<table border=\"1\" class=\"dataframe\">\n",
              "  <thead>\n",
              "    <tr style=\"text-align: right;\">\n",
              "      <th></th>\n",
              "      <th>installer</th>\n",
              "    </tr>\n",
              "  </thead>\n",
              "  <tbody>\n",
              "    <tr>\n",
              "      <th>0</th>\n",
              "      <td>OIKOS E  AFRICA</td>\n",
              "    </tr>\n",
              "    <tr>\n",
              "      <th>1</th>\n",
              "      <td>DR  MATOMOLA</td>\n",
              "    </tr>\n",
              "    <tr>\n",
              "      <th>2</th>\n",
              "      <td>I E C</td>\n",
              "    </tr>\n",
              "    <tr>\n",
              "      <th>3</th>\n",
              "      <td>T  N  KARUGENDO</td>\n",
              "    </tr>\n",
              "    <tr>\n",
              "      <th>4</th>\n",
              "      <td>DR  MATOMOLA</td>\n",
              "    </tr>\n",
              "    <tr>\n",
              "      <th>5</th>\n",
              "      <td>OIKOS E AFRICA</td>\n",
              "    </tr>\n",
              "    <tr>\n",
              "      <th>6</th>\n",
              "      <td>NAISHU CONSTRUCTION CO  LTD</td>\n",
              "    </tr>\n",
              "  </tbody>\n",
              "</table>\n",
              "</div>"
            ],
            "text/plain": [
              "                     installer\n",
              "0              OIKOS E  AFRICA\n",
              "1                 DR  MATOMOLA\n",
              "2                        I E C\n",
              "3              T  N  KARUGENDO\n",
              "4                 DR  MATOMOLA\n",
              "5               OIKOS E AFRICA\n",
              "6  NAISHU CONSTRUCTION CO  LTD"
            ]
          },
          "execution_count": 1791,
          "metadata": {},
          "output_type": "execute_result"
        }
      ],
      "source": [
        "# Remove all periods from values in test_dot dataset\n",
        "test_dot['installer'] = test_dot['installer'].str.replace(\".\", \" \")\n",
        "# Verify\n",
        "test_dot"
      ]
    },
    {
      "cell_type": "markdown",
      "metadata": {
        "id": "PsPtLvDptS8b"
      },
      "source": [
        "Code figured out. Will now apply to entire dataset."
      ]
    },
    {
      "cell_type": "markdown",
      "metadata": {
        "id": "QFBIo83ej93m"
      },
      "source": [
        "##### 'installer'\n",
        "\n",
        "We will update the 'installer' feature."
      ]
    },
    {
      "cell_type": "code",
      "execution_count": null,
      "metadata": {
        "colab": {
          "base_uri": "https://localhost:8080/"
        },
        "id": "UPG5-4bXbnaS",
        "outputId": "8c0b56f3-5728-4c03-a90d-f1e77488522e"
      },
      "outputs": [
        {
          "data": {
            "text/plain": [
              "0               ROMAN\n",
              "1             GRUMETI\n",
              "2        WORLD VISION\n",
              "3              UNICEF\n",
              "4             ARTISAN\n",
              "             ...     \n",
              "59394        ML APPRO\n",
              "59395             CES\n",
              "59396            CEFA\n",
              "59398            MUSA\n",
              "59399           WORLD\n",
              "Name: installer, Length: 55745, dtype: object"
            ]
          },
          "execution_count": 1792,
          "metadata": {},
          "output_type": "execute_result"
        }
      ],
      "source": [
        "# Verify usage for \".\" in values\n",
        "df[df['installer'].str.contains(\".\", na = False)]['installer']"
      ]
    },
    {
      "cell_type": "code",
      "execution_count": null,
      "metadata": {
        "id": "RWSuIykMkL8c"
      },
      "outputs": [],
      "source": [
        "# Remove all periods from values in 'installer'\n",
        "df.installer = df['installer'].str.replace(\".\", \" \")"
      ]
    },
    {
      "cell_type": "code",
      "execution_count": null,
      "metadata": {
        "colab": {
          "base_uri": "https://localhost:8080/"
        },
        "id": "k08Iok5wt4yD",
        "outputId": "c8f14469-2b8d-472a-a881-91836e0c2872"
      },
      "outputs": [
        {
          "data": {
            "text/plain": [
              "0               ROMAN\n",
              "1             GRUMETI\n",
              "2        WORLD VISION\n",
              "3              UNICEF\n",
              "4             ARTISAN\n",
              "             ...     \n",
              "59394        ML APPRO\n",
              "59395             CES\n",
              "59396            CEFA\n",
              "59398            MUSA\n",
              "59399           WORLD\n",
              "Name: installer, Length: 55745, dtype: object"
            ]
          },
          "execution_count": 1794,
          "metadata": {},
          "output_type": "execute_result"
        }
      ],
      "source": [
        "# Verify usage for \".\" in values\n",
        "df[df['installer'].str.contains(\".\", na = False)]['installer']"
      ]
    },
    {
      "cell_type": "markdown",
      "metadata": {
        "id": "tdeqhxS9kFCu"
      },
      "source": [
        "##### 'funder'\n",
        "\n",
        "We will update the 'funder' feature."
      ]
    },
    {
      "cell_type": "code",
      "execution_count": null,
      "metadata": {
        "colab": {
          "base_uri": "https://localhost:8080/"
        },
        "id": "UaWkJGnQurvH",
        "outputId": "ebd28a14-9f23-4228-a3fc-12beea16e5a5"
      },
      "outputs": [
        {
          "data": {
            "text/plain": [
              "0                  ROMAN\n",
              "1                GRUMETI\n",
              "2           LOTTERY CLUB\n",
              "3                 UNICEF\n",
              "4            ACTION IN A\n",
              "              ...       \n",
              "59394         WORLD BANK\n",
              "59395    GERMANY REPUBLI\n",
              "59396        CEFA-NJOMBE\n",
              "59398              MALEC\n",
              "59399         WORLD BANK\n",
              "Name: funder, Length: 55765, dtype: object"
            ]
          },
          "execution_count": 1795,
          "metadata": {},
          "output_type": "execute_result"
        }
      ],
      "source": [
        "# Verify usage for \".\" in values\n",
        "df[df['funder'].str.contains(\".\", na = False)]['funder']"
      ]
    },
    {
      "cell_type": "code",
      "execution_count": null,
      "metadata": {
        "id": "g9qzjhaWurlg"
      },
      "outputs": [],
      "source": [
        "# Remove all periods from values in 'funder'\n",
        "df.funder = df['funder'].str.replace(\".\", \" \")"
      ]
    },
    {
      "cell_type": "code",
      "execution_count": null,
      "metadata": {
        "colab": {
          "base_uri": "https://localhost:8080/"
        },
        "id": "qmBvFJApurcn",
        "outputId": "e9d4fe74-907c-43b6-a629-230c3966c003"
      },
      "outputs": [
        {
          "data": {
            "text/plain": [
              "0                  ROMAN\n",
              "1                GRUMETI\n",
              "2           LOTTERY CLUB\n",
              "3                 UNICEF\n",
              "4            ACTION IN A\n",
              "              ...       \n",
              "59394         WORLD BANK\n",
              "59395    GERMANY REPUBLI\n",
              "59396        CEFA-NJOMBE\n",
              "59398              MALEC\n",
              "59399         WORLD BANK\n",
              "Name: funder, Length: 55765, dtype: object"
            ]
          },
          "execution_count": 1797,
          "metadata": {},
          "output_type": "execute_result"
        }
      ],
      "source": [
        "# Verify usage for \".\" in values\n",
        "df[df['funder'].str.contains(\".\", na = False)]['funder']"
      ]
    },
    {
      "cell_type": "markdown",
      "metadata": {
        "id": "-GCJPtSQRgos"
      },
      "source": [
        "#### Inconsistent Values: Clean (Whitespace)\n",
        "* remove erroneous whitespace"
      ]
    },
    {
      "cell_type": "markdown",
      "metadata": {
        "id": "9xhoFzHUWjZ0"
      },
      "source": [
        "Note: skipinitialspace was used on loading the data, so all spaces immediately following the delimiter for all values in all features have been ignored. I believe this will be useful for this dataset."
      ]
    },
    {
      "cell_type": "markdown",
      "metadata": {
        "id": "kpIOq-ycu_uc"
      },
      "source": [
        "##### 'installer'\n",
        "\n",
        "We will update the 'installer' feature."
      ]
    },
    {
      "cell_type": "code",
      "execution_count": null,
      "metadata": {
        "id": "BlSXWPy0Ug45"
      },
      "outputs": [],
      "source": [
        "# Remove leading and trailing whitespace in 'installer'\n",
        "df['installer'] = df.installer.str.strip()"
      ]
    },
    {
      "cell_type": "code",
      "execution_count": null,
      "metadata": {
        "colab": {
          "base_uri": "https://localhost:8080/"
        },
        "id": "BLGUrdK5caWO",
        "outputId": "dd8d0c2c-30df-43f3-9394-fd3cca80c35a"
      },
      "outputs": [
        {
          "data": {
            "text/plain": [
              "0        0.0\n",
              "39572    0.0\n",
              "39560    0.0\n",
              "39561    0.0\n",
              "39562    0.0\n",
              "        ... \n",
              "59357    NaN\n",
              "59366    NaN\n",
              "59370    NaN\n",
              "59376    NaN\n",
              "59397    NaN\n",
              "Name: installer, Length: 59400, dtype: float64"
            ]
          },
          "execution_count": 1799,
          "metadata": {},
          "output_type": "execute_result"
        }
      ],
      "source": [
        "# Count number of multiple spaces in values for 'installer'\n",
        "df.installer.str.count('/s+').sort_values(ascending=False)"
      ]
    },
    {
      "cell_type": "markdown",
      "metadata": {
        "id": "Sm_xCGBEvGBY"
      },
      "source": [
        "##### 'funder'\n",
        "\n",
        "We will update the 'funder' feature."
      ]
    },
    {
      "cell_type": "code",
      "execution_count": null,
      "metadata": {
        "id": "iT6kCp8lRw4l"
      },
      "outputs": [],
      "source": [
        "# Remove leading and trailing whitespace in 'funder'\n",
        "df['funder'] = df.funder.str.strip()"
      ]
    },
    {
      "cell_type": "code",
      "execution_count": null,
      "metadata": {
        "colab": {
          "base_uri": "https://localhost:8080/"
        },
        "id": "xFnyre7HbTo8",
        "outputId": "7f6f46f9-3cae-4612-c3a3-f9699a884cef"
      },
      "outputs": [
        {
          "data": {
            "text/plain": [
              "0        0.0\n",
              "39566    0.0\n",
              "39555    0.0\n",
              "39556    0.0\n",
              "39557    0.0\n",
              "        ... \n",
              "59357    NaN\n",
              "59366    NaN\n",
              "59370    NaN\n",
              "59376    NaN\n",
              "59397    NaN\n",
              "Name: funder, Length: 59400, dtype: float64"
            ]
          },
          "execution_count": 1801,
          "metadata": {},
          "output_type": "execute_result"
        }
      ],
      "source": [
        "# Count number of multiple spaces in values for 'funder'\n",
        "df.funder.str.count('/s+').sort_values(ascending=False)"
      ]
    },
    {
      "cell_type": "markdown",
      "metadata": {
        "id": "U-1vFAsFcmHR"
      },
      "source": [
        "* Do the space counts above include total number of spaces in each observation? Or maximum spaces in a row for each observation? Are double/multiple spaces already removed from both features?\n",
        "\n",
        "* Is the following line of code needed? Have all of the double/multiple spaces already been removed?"
      ]
    },
    {
      "cell_type": "code",
      "execution_count": null,
      "metadata": {
        "id": "bJ2g9tZiU8p9"
      },
      "outputs": [],
      "source": [
        "# Remove duplicate white spaces in all columns\n",
        "df.columns = df.columns.str.replace(r'\\s+', ' ', regex=True)"
      ]
    },
    {
      "cell_type": "markdown",
      "metadata": {
        "id": "HBDAOs0gQmQc"
      },
      "source": [
        "A [research paper](https://www.mdpi.com/2220-9964/6/10/316) has been found that can give some insight into this dataset and some of the abbreviations used in the 'funder' and 'installer' features."
      ]
    },
    {
      "cell_type": "markdown",
      "metadata": {
        "id": "MEveTd-xZKUw"
      },
      "source": [
        "### Impossible Values: Check & Address (Numerical Columns)"
      ]
    },
    {
      "cell_type": "markdown",
      "metadata": {
        "id": "txI3XYIrZXNY"
      },
      "source": [
        "* Check all values for each feature to ensure that there are no inconsistent or impossible values.\n",
        "\n",
        "* We will display the descriptive statistics for the numeric columns only for the purpose of detecting impossible values, not for finding or removing outliers (as removing outliers could lead to data leakage)"
      ]
    },
    {
      "cell_type": "code",
      "execution_count": null,
      "metadata": {
        "colab": {
          "base_uri": "https://localhost:8080/",
          "height": 297
        },
        "id": "K9Bpz1IRZvbp",
        "outputId": "7b9cb984-dda6-459a-8f3a-53636e09bfda"
      },
      "outputs": [
        {
          "data": {
            "text/html": [
              "<div>\n",
              "<style scoped>\n",
              "    .dataframe tbody tr th:only-of-type {\n",
              "        vertical-align: middle;\n",
              "    }\n",
              "\n",
              "    .dataframe tbody tr th {\n",
              "        vertical-align: top;\n",
              "    }\n",
              "\n",
              "    .dataframe thead th {\n",
              "        text-align: right;\n",
              "    }\n",
              "</style>\n",
              "<table border=\"1\" class=\"dataframe\">\n",
              "  <thead>\n",
              "    <tr style=\"text-align: right;\">\n",
              "      <th></th>\n",
              "      <th>amount_tsh</th>\n",
              "      <th>gps_height</th>\n",
              "      <th>longitude</th>\n",
              "      <th>latitude</th>\n",
              "      <th>num_private</th>\n",
              "      <th>region_code</th>\n",
              "      <th>district_code</th>\n",
              "      <th>population</th>\n",
              "      <th>construction_year</th>\n",
              "    </tr>\n",
              "  </thead>\n",
              "  <tbody>\n",
              "    <tr>\n",
              "      <th>count</th>\n",
              "      <td>59400.000000</td>\n",
              "      <td>59400.000000</td>\n",
              "      <td>59400.000000</td>\n",
              "      <td>5.940000e+04</td>\n",
              "      <td>59400.000000</td>\n",
              "      <td>59400.000000</td>\n",
              "      <td>59400.000000</td>\n",
              "      <td>59400.000000</td>\n",
              "      <td>59400.000000</td>\n",
              "    </tr>\n",
              "    <tr>\n",
              "      <th>mean</th>\n",
              "      <td>317.650385</td>\n",
              "      <td>668.297239</td>\n",
              "      <td>34.077427</td>\n",
              "      <td>-5.706033e+00</td>\n",
              "      <td>0.474141</td>\n",
              "      <td>15.297003</td>\n",
              "      <td>5.629747</td>\n",
              "      <td>179.909983</td>\n",
              "      <td>1300.652475</td>\n",
              "    </tr>\n",
              "    <tr>\n",
              "      <th>std</th>\n",
              "      <td>2997.574558</td>\n",
              "      <td>693.116350</td>\n",
              "      <td>6.567432</td>\n",
              "      <td>2.946019e+00</td>\n",
              "      <td>12.236230</td>\n",
              "      <td>17.587406</td>\n",
              "      <td>9.633649</td>\n",
              "      <td>471.482176</td>\n",
              "      <td>951.620547</td>\n",
              "    </tr>\n",
              "    <tr>\n",
              "      <th>min</th>\n",
              "      <td>0.000000</td>\n",
              "      <td>-90.000000</td>\n",
              "      <td>0.000000</td>\n",
              "      <td>-1.164944e+01</td>\n",
              "      <td>0.000000</td>\n",
              "      <td>1.000000</td>\n",
              "      <td>0.000000</td>\n",
              "      <td>0.000000</td>\n",
              "      <td>0.000000</td>\n",
              "    </tr>\n",
              "    <tr>\n",
              "      <th>25%</th>\n",
              "      <td>0.000000</td>\n",
              "      <td>0.000000</td>\n",
              "      <td>33.090347</td>\n",
              "      <td>-8.540621e+00</td>\n",
              "      <td>0.000000</td>\n",
              "      <td>5.000000</td>\n",
              "      <td>2.000000</td>\n",
              "      <td>0.000000</td>\n",
              "      <td>0.000000</td>\n",
              "    </tr>\n",
              "    <tr>\n",
              "      <th>50%</th>\n",
              "      <td>0.000000</td>\n",
              "      <td>369.000000</td>\n",
              "      <td>34.908743</td>\n",
              "      <td>-5.021597e+00</td>\n",
              "      <td>0.000000</td>\n",
              "      <td>12.000000</td>\n",
              "      <td>3.000000</td>\n",
              "      <td>25.000000</td>\n",
              "      <td>1986.000000</td>\n",
              "    </tr>\n",
              "    <tr>\n",
              "      <th>75%</th>\n",
              "      <td>20.000000</td>\n",
              "      <td>1319.250000</td>\n",
              "      <td>37.178387</td>\n",
              "      <td>-3.326156e+00</td>\n",
              "      <td>0.000000</td>\n",
              "      <td>17.000000</td>\n",
              "      <td>5.000000</td>\n",
              "      <td>215.000000</td>\n",
              "      <td>2004.000000</td>\n",
              "    </tr>\n",
              "    <tr>\n",
              "      <th>max</th>\n",
              "      <td>350000.000000</td>\n",
              "      <td>2770.000000</td>\n",
              "      <td>40.345193</td>\n",
              "      <td>-2.000000e-08</td>\n",
              "      <td>1776.000000</td>\n",
              "      <td>99.000000</td>\n",
              "      <td>80.000000</td>\n",
              "      <td>30500.000000</td>\n",
              "      <td>2013.000000</td>\n",
              "    </tr>\n",
              "  </tbody>\n",
              "</table>\n",
              "</div>"
            ],
            "text/plain": [
              "          amount_tsh    gps_height     longitude      latitude   num_private  \\\n",
              "count   59400.000000  59400.000000  59400.000000  5.940000e+04  59400.000000   \n",
              "mean      317.650385    668.297239     34.077427 -5.706033e+00      0.474141   \n",
              "std      2997.574558    693.116350      6.567432  2.946019e+00     12.236230   \n",
              "min         0.000000    -90.000000      0.000000 -1.164944e+01      0.000000   \n",
              "25%         0.000000      0.000000     33.090347 -8.540621e+00      0.000000   \n",
              "50%         0.000000    369.000000     34.908743 -5.021597e+00      0.000000   \n",
              "75%        20.000000   1319.250000     37.178387 -3.326156e+00      0.000000   \n",
              "max    350000.000000   2770.000000     40.345193 -2.000000e-08   1776.000000   \n",
              "\n",
              "        region_code  district_code    population  construction_year  \n",
              "count  59400.000000   59400.000000  59400.000000       59400.000000  \n",
              "mean      15.297003       5.629747    179.909983        1300.652475  \n",
              "std       17.587406       9.633649    471.482176         951.620547  \n",
              "min        1.000000       0.000000      0.000000           0.000000  \n",
              "25%        5.000000       2.000000      0.000000           0.000000  \n",
              "50%       12.000000       3.000000     25.000000        1986.000000  \n",
              "75%       17.000000       5.000000    215.000000        2004.000000  \n",
              "max       99.000000      80.000000  30500.000000        2013.000000  "
            ]
          },
          "execution_count": 1803,
          "metadata": {},
          "output_type": "execute_result"
        }
      ],
      "source": [
        "# Display the descriptive statistics for the numeric columns\n",
        "df.describe(include= \"number\")"
      ]
    },
    {
      "cell_type": "markdown",
      "metadata": {
        "id": "rBejXSv1umI_"
      },
      "source": [
        "### Missing Values: Identify & Address\n"
      ]
    },
    {
      "cell_type": "markdown",
      "metadata": {
        "id": "-sHz6J4cQgTy"
      },
      "source": [
        "#### Zero Values: Removal\n",
        "\n",
        "Find how \"null\" values are expressed in this dataset and delete them so that they can be imputed in a future step."
      ]
    },
    {
      "cell_type": "markdown",
      "metadata": {
        "id": "-pZVOe3rBpP7"
      },
      "source": [
        "After further inspecting this dataset {and as observed before in the section \"*Inconsistent Values: Check & Address (Categorical Columns)*\"} it seems that zero is the placeholder for \"null\" values.\n",
        "\n",
        "Each feature will need to be verified as to whether zero was used to indicate a \"null\" value."
      ]
    },
    {
      "cell_type": "markdown",
      "metadata": {
        "id": "AttyYa1oASco"
      },
      "source": [
        "##### 'construction_year'"
      ]
    },
    {
      "cell_type": "markdown",
      "metadata": {
        "id": "hJcGIefWBD7L"
      },
      "source": [
        "'construction_year' is the only numerical feature that it is clearly does not make sense to have a minimum value of zero. All zero values for this feature should be deleted and imputed later on."
      ]
    },
    {
      "cell_type": "code",
      "execution_count": null,
      "metadata": {
        "id": "C4-emNEBuSGV",
        "outputId": "89cb4e87-4431-48d3-cffb-c4dbee2e0c80"
      },
      "outputs": [
        {
          "data": {
            "text/plain": [
              "0       20709\n",
              "1960      102\n",
              "1961       21\n",
              "1962       30\n",
              "1963       85\n",
              "1964       40\n",
              "1965       19\n",
              "1966       17\n",
              "1967       88\n",
              "1968       77\n",
              "1969       59\n",
              "1970      411\n",
              "1971      145\n",
              "1972      708\n",
              "1973      184\n",
              "1974      676\n",
              "1975      437\n",
              "1976      414\n",
              "1977      202\n",
              "1978     1037\n",
              "1979      192\n",
              "1980      811\n",
              "1981      238\n",
              "1982      744\n",
              "1983      488\n",
              "1984      779\n",
              "1985      945\n",
              "1986      434\n",
              "1987      302\n",
              "1988      521\n",
              "1989      316\n",
              "1990      954\n",
              "1991      324\n",
              "1992      640\n",
              "1993      608\n",
              "1994      738\n",
              "1995     1014\n",
              "1996      811\n",
              "1997      644\n",
              "1998      966\n",
              "1999      979\n",
              "2000     2091\n",
              "2001      540\n",
              "2002     1075\n",
              "2003     1286\n",
              "2004     1123\n",
              "2005     1011\n",
              "2006     1471\n",
              "2007     1587\n",
              "2008     2613\n",
              "2009     2533\n",
              "2010     2645\n",
              "2011     1256\n",
              "2012     1084\n",
              "2013      176\n",
              "Name: construction_year, dtype: int64"
            ]
          },
          "execution_count": 1804,
          "metadata": {},
          "output_type": "execute_result"
        }
      ],
      "source": [
        "# Display all values by year for 'construction_year'\n",
        "df['construction_year'].value_counts().sort_index()"
      ]
    },
    {
      "cell_type": "code",
      "execution_count": null,
      "metadata": {
        "colab": {
          "base_uri": "https://localhost:8080/"
        },
        "id": "lUg1Uv1vUfpf",
        "outputId": "64090207-91b5-49cb-f8fa-f27f3337c456"
      },
      "outputs": [
        {
          "name": "stdout",
          "output_type": "stream",
          "text": [
            "[array([    4,     6,     7, ..., 59393, 59397, 59398])]\n"
          ]
        }
      ],
      "source": [
        "# Show examples of usage for zero in values\n",
        "print(list(np.where(df[\"construction_year\"] == 0)))"
      ]
    },
    {
      "cell_type": "code",
      "execution_count": null,
      "metadata": {
        "colab": {
          "base_uri": "https://localhost:8080/"
        },
        "id": "cfrruB9xAQK6",
        "outputId": "7086d373-84c0-4687-a85c-fc8b718134fa"
      },
      "outputs": [
        {
          "data": {
            "text/plain": [
              "4    0\n",
              "Name: construction_year, dtype: int64"
            ]
          },
          "execution_count": 1806,
          "metadata": {},
          "output_type": "execute_result"
        }
      ],
      "source": [
        "# Verify value of row #4 before replacement\n",
        "df['construction_year'].filter(items = [4], axis=0)"
      ]
    },
    {
      "cell_type": "code",
      "execution_count": null,
      "metadata": {
        "colab": {
          "base_uri": "https://localhost:8080/"
        },
        "id": "AGppZHHOUr0B",
        "outputId": "976d1e31-8d20-418e-8d34-37679b240891"
      },
      "outputs": [
        {
          "data": {
            "text/plain": [
              "4    <NA>\n",
              "Name: construction_year, dtype: Int64"
            ]
          },
          "execution_count": 1807,
          "metadata": {},
          "output_type": "execute_result"
        }
      ],
      "source": [
        "# Use first index from above that returned target value (0): verify NaN returned\n",
        "# MUST use special nullable integer data type 'Int64' to have a null value that is an integer\n",
        "df['construction_year'].replace(0, np.nan).astype('Int64').filter(items = [4], axis=0)"
      ]
    },
    {
      "cell_type": "code",
      "execution_count": null,
      "metadata": {
        "colab": {
          "base_uri": "https://localhost:8080/"
        },
        "id": "DvgOTMK_UrpW",
        "outputId": "23a21405-caea-448b-ed7f-1b6d7393bf3e"
      },
      "outputs": [
        {
          "data": {
            "text/plain": [
              "4    <NA>\n",
              "Name: construction_year, dtype: Int64"
            ]
          },
          "execution_count": 1808,
          "metadata": {},
          "output_type": "execute_result"
        }
      ],
      "source": [
        "# Remove all zero values from 'construction_year'\n",
        "df['construction_year'] = df['construction_year'].replace(0, np.nan).astype('Int64')\n",
        "df['construction_year'].filter(items = [4], axis=0)"
      ]
    },
    {
      "cell_type": "code",
      "execution_count": null,
      "metadata": {
        "colab": {
          "base_uri": "https://localhost:8080/"
        },
        "id": "Y3DexCwtUrer",
        "outputId": "d19d5eb3-6072-4496-8c35-a163162d69fe"
      },
      "outputs": [
        {
          "data": {
            "text/html": [
              "<div>\n",
              "<style scoped>\n",
              "    .dataframe tbody tr th:only-of-type {\n",
              "        vertical-align: middle;\n",
              "    }\n",
              "\n",
              "    .dataframe tbody tr th {\n",
              "        vertical-align: top;\n",
              "    }\n",
              "\n",
              "    .dataframe thead th {\n",
              "        text-align: right;\n",
              "    }\n",
              "</style>\n",
              "<table border=\"1\" class=\"dataframe\">\n",
              "  <thead>\n",
              "    <tr style=\"text-align: right;\">\n",
              "      <th></th>\n",
              "      <th>amount_tsh</th>\n",
              "      <th>date_recorded</th>\n",
              "      <th>funder</th>\n",
              "      <th>gps_height</th>\n",
              "      <th>installer</th>\n",
              "      <th>longitude</th>\n",
              "      <th>latitude</th>\n",
              "      <th>wpt_name</th>\n",
              "      <th>num_private</th>\n",
              "      <th>basin</th>\n",
              "      <th>subvillage</th>\n",
              "      <th>region</th>\n",
              "      <th>region_code</th>\n",
              "      <th>district_code</th>\n",
              "      <th>lga</th>\n",
              "      <th>ward</th>\n",
              "      <th>population</th>\n",
              "      <th>public_meeting</th>\n",
              "      <th>recorded_by</th>\n",
              "      <th>scheme_management</th>\n",
              "      <th>permit</th>\n",
              "      <th>construction_year</th>\n",
              "      <th>extraction_type</th>\n",
              "      <th>extraction_type_class</th>\n",
              "      <th>management</th>\n",
              "      <th>management_group</th>\n",
              "      <th>payment</th>\n",
              "      <th>water_quality</th>\n",
              "      <th>quality_group</th>\n",
              "      <th>quantity</th>\n",
              "      <th>source</th>\n",
              "      <th>source_type</th>\n",
              "      <th>source_class</th>\n",
              "      <th>waterpoint_type</th>\n",
              "      <th>waterpoint_type_group</th>\n",
              "    </tr>\n",
              "  </thead>\n",
              "  <tbody>\n",
              "  </tbody>\n",
              "</table>\n",
              "</div>"
            ],
            "text/plain": [
              "Empty DataFrame\n",
              "Columns: [amount_tsh, date_recorded, funder, gps_height, installer, longitude, latitude, wpt_name, num_private, basin, subvillage, region, region_code, district_code, lga, ward, population, public_meeting, recorded_by, scheme_management, permit, construction_year, extraction_type, extraction_type_class, management, management_group, payment, water_quality, quality_group, quantity, source, source_type, source_class, waterpoint_type, waterpoint_type_group]\n",
              "Index: []"
            ]
          },
          "execution_count": 1809,
          "metadata": {},
          "output_type": "execute_result"
        }
      ],
      "source": [
        "# Verify 0 replaced with null integer value (no zero values remain)\n",
        "df.loc[df['construction_year'] == 0]"
      ]
    },
    {
      "cell_type": "code",
      "execution_count": null,
      "metadata": {
        "id": "v2CU1a4duSGW",
        "outputId": "1a4b8a26-8a8b-477f-dcbb-111129c1a1df"
      },
      "outputs": [
        {
          "name": "stdout",
          "output_type": "stream",
          "text": [
            "<class 'pandas.core.series.Series'>\n",
            "RangeIndex: 59400 entries, 0 to 59399\n",
            "Series name: construction_year\n",
            "Non-Null Count  Dtype\n",
            "--------------  -----\n",
            "38691 non-null  Int64\n",
            "dtypes: Int64(1)\n",
            "memory usage: 522.2 KB\n"
          ]
        }
      ],
      "source": [
        "# Display datatype for 'construction_year'\n",
        "df.construction_year.info()"
      ]
    },
    {
      "cell_type": "code",
      "execution_count": null,
      "metadata": {
        "id": "7dhqisC5uSGW",
        "outputId": "0a580a5b-42b6-422d-80c5-14688f9f871e"
      },
      "outputs": [
        {
          "name": "stdout",
          "output_type": "stream",
          "text": [
            "<class 'pandas.core.series.Series'>\n",
            "RangeIndex: 59400 entries, 0 to 59399\n",
            "Series name: construction_year\n",
            "Non-Null Count  Dtype\n",
            "--------------  -----\n",
            "38691 non-null  Int64\n",
            "dtypes: Int64(1)\n",
            "memory usage: 522.2 KB\n",
            "None\n"
          ]
        }
      ],
      "source": [
        "# Display all values by year for 'construction_year'\n",
        "print(df.construction_year.info())"
      ]
    },
    {
      "cell_type": "markdown",
      "metadata": {
        "id": "GyCwSXZjUrTT"
      },
      "source": [
        "In 'construction_year', all \"zero\" values (0) have been replaced with < NA > and feature is of type integer."
      ]
    },
    {
      "cell_type": "markdown",
      "metadata": {
        "id": "0tnrfJlcRLA7"
      },
      "source": [
        "##### 'longitude'"
      ]
    },
    {
      "cell_type": "code",
      "execution_count": null,
      "metadata": {
        "colab": {
          "base_uri": "https://localhost:8080/"
        },
        "id": "_VHbxAaPROzc",
        "outputId": "38be0de1-b7b9-41f4-f2ad-155a01bc9b47"
      },
      "outputs": [
        {
          "name": "stdout",
          "output_type": "stream",
          "text": [
            "[array([   21,    53,   168, ..., 59295, 59324, 59374])]\n"
          ]
        }
      ],
      "source": [
        "# Show examples of usage for zero in values\n",
        "print(list(np.where(df[\"longitude\"] == 0)))"
      ]
    },
    {
      "cell_type": "code",
      "execution_count": null,
      "metadata": {
        "colab": {
          "base_uri": "https://localhost:8080/"
        },
        "id": "n5aOKZCrRwAm",
        "outputId": "a745575f-ef54-4047-c2c2-b13a346a6e9c"
      },
      "outputs": [
        {
          "data": {
            "text/plain": [
              "21    0.0\n",
              "Name: longitude, dtype: float64"
            ]
          },
          "execution_count": 1813,
          "metadata": {},
          "output_type": "execute_result"
        }
      ],
      "source": [
        "# Verify value of row #21 before replacment\n",
        "df['longitude'].filter(items = [21], axis=0)"
      ]
    },
    {
      "cell_type": "code",
      "execution_count": null,
      "metadata": {
        "colab": {
          "base_uri": "https://localhost:8080/"
        },
        "id": "h-pgVJYBROb7",
        "outputId": "25b350e5-9055-497f-c3fc-c9acf0136bbf"
      },
      "outputs": [
        {
          "data": {
            "text/plain": [
              "21   NaN\n",
              "Name: longitude, dtype: float64"
            ]
          },
          "execution_count": 1814,
          "metadata": {},
          "output_type": "execute_result"
        }
      ],
      "source": [
        "# Use first index from above that returned target value (0): verify NaN returned\n",
        "df['longitude'].replace(0, np.nan).filter(items = [21], axis=0)"
      ]
    },
    {
      "cell_type": "code",
      "execution_count": null,
      "metadata": {
        "colab": {
          "base_uri": "https://localhost:8080/"
        },
        "id": "Jr_i-ay0RON9",
        "outputId": "a0681f73-6e1f-48c6-85f2-2e34b02c0faf"
      },
      "outputs": [
        {
          "data": {
            "text/plain": [
              "21   NaN\n",
              "Name: longitude, dtype: float64"
            ]
          },
          "execution_count": 1815,
          "metadata": {},
          "output_type": "execute_result"
        }
      ],
      "source": [
        "# Remove all zero values from 'longitude'\n",
        "df['longitude'] = df['longitude'].replace(0, np.nan)\n",
        "df['longitude'].filter(items = [21], axis=0)"
      ]
    },
    {
      "cell_type": "code",
      "execution_count": null,
      "metadata": {
        "colab": {
          "base_uri": "https://localhost:8080/"
        },
        "id": "1DkOnxeVRN3W",
        "outputId": "1e012693-2eea-49a9-887f-115fff3c0881"
      },
      "outputs": [
        {
          "name": "stdout",
          "output_type": "stream",
          "text": [
            "[array([], dtype=int64)]\n"
          ]
        }
      ],
      "source": [
        "# Verify 0 replaced with NaN\n",
        "print(list(np.where(df[\"longitude\"] == 0)))"
      ]
    },
    {
      "cell_type": "markdown",
      "metadata": {
        "id": "ebsqQWzgSTuf"
      },
      "source": [
        "In 'longitude', all \"zero\" values (0) have been replaced with NaN."
      ]
    },
    {
      "cell_type": "markdown",
      "metadata": {
        "id": "TL7cmj-XRDMl"
      },
      "source": [
        "##### 'latitude'\n",
        "\n",
        "Visually inspecting dataset reveals zero is missing, but has -2.00E-08 instead of zero."
      ]
    },
    {
      "cell_type": "code",
      "execution_count": null,
      "metadata": {
        "colab": {
          "base_uri": "https://localhost:8080/"
        },
        "id": "TXNupomBNa8d",
        "outputId": "ad60dc82-7cb3-4b5f-eaea-33d1519e7e6e"
      },
      "outputs": [
        {
          "name": "stdout",
          "output_type": "stream",
          "text": [
            "[array([   21,    53,   168, ..., 59295, 59324, 59374])]\n"
          ]
        }
      ],
      "source": [
        "# Show examples of usage for zero in values\n",
        "# Visually inspecting dataset reveals zero is missing, but has -2.00E-08 instead of zero\n",
        "print(list(np.where(df[\"latitude\"] == -2.00E-08)))"
      ]
    },
    {
      "cell_type": "code",
      "execution_count": null,
      "metadata": {
        "colab": {
          "base_uri": "https://localhost:8080/"
        },
        "id": "GFMpmVaZR7De",
        "outputId": "d0cb2c54-11ad-4468-d3e2-fb893a298a7e"
      },
      "outputs": [
        {
          "data": {
            "text/plain": [
              "21   -2.000000e-08\n",
              "Name: latitude, dtype: float64"
            ]
          },
          "execution_count": 1818,
          "metadata": {},
          "output_type": "execute_result"
        }
      ],
      "source": [
        "# Verify value of row #21 before replacment\n",
        "df['latitude'].filter(items = [21], axis=0)"
      ]
    },
    {
      "cell_type": "code",
      "execution_count": null,
      "metadata": {
        "colab": {
          "base_uri": "https://localhost:8080/"
        },
        "id": "1m96ckCyKama",
        "outputId": "b008cb85-9660-4a44-bff5-95a17ca6793b"
      },
      "outputs": [
        {
          "data": {
            "text/plain": [
              "21   NaN\n",
              "Name: latitude, dtype: float64"
            ]
          },
          "execution_count": 1819,
          "metadata": {},
          "output_type": "execute_result"
        }
      ],
      "source": [
        "# Use first index from above that returned target value (-2.00E-08): verify NaN returned\n",
        "df['latitude'].replace(-2.00E-08, np.nan).filter(items = [21], axis=0)"
      ]
    },
    {
      "cell_type": "code",
      "execution_count": null,
      "metadata": {
        "colab": {
          "base_uri": "https://localhost:8080/"
        },
        "id": "lmlW4n43Kfqv",
        "outputId": "52245c15-5dc5-4499-fa19-9e74412e2771"
      },
      "outputs": [
        {
          "data": {
            "text/plain": [
              "21   NaN\n",
              "Name: latitude, dtype: float64"
            ]
          },
          "execution_count": 1820,
          "metadata": {},
          "output_type": "execute_result"
        }
      ],
      "source": [
        "# Remove all zero values from 'latitude'\n",
        "df['latitude'] = df['latitude'].replace(-2.00E-08, np.nan)\n",
        "df['latitude'].filter(items = [21], axis=0)"
      ]
    },
    {
      "cell_type": "code",
      "execution_count": null,
      "metadata": {
        "colab": {
          "base_uri": "https://localhost:8080/"
        },
        "id": "VQbsUAo7P2Di",
        "outputId": "5854a17f-4786-4c54-9897-763b7cf9f6d2"
      },
      "outputs": [
        {
          "name": "stdout",
          "output_type": "stream",
          "text": [
            "[array([], dtype=int64)]\n"
          ]
        }
      ],
      "source": [
        "# Verify -2.00E-08 replaced with NaN\n",
        "print(list(np.where(df[\"latitude\"] == -2.00E-08)))"
      ]
    },
    {
      "cell_type": "markdown",
      "metadata": {
        "id": "gxOlQwnJQO8i"
      },
      "source": [
        "In 'latitude', all \"zero\" values (-2.00E-08) have been replaced with NaN."
      ]
    },
    {
      "cell_type": "markdown",
      "metadata": {
        "id": "CLXGH3SoIYWZ"
      },
      "source": [
        "##### 'district_code'\n",
        "\n",
        "This column has only a few zero values, but all of those rows also have an 'lga' value of \"Mpwapwa\". All other 'district_code' values in the 'lga' column having \"Mpwapwa\" as the value, have a 'district_code' of one (1). I will replace the zeroes with ones based on this."
      ]
    },
    {
      "cell_type": "code",
      "execution_count": null,
      "metadata": {
        "colab": {
          "base_uri": "https://localhost:8080/"
        },
        "id": "IFXKoOzVJSvh",
        "outputId": "a4fe8e21-5ca6-4d2b-e68e-6bf423d7ef22"
      },
      "outputs": [
        {
          "name": "stdout",
          "output_type": "stream",
          "text": [
            "The first zero value in column \"district_code\" is in row 895.\n",
            "\n",
            "Row 895's value before changing is: 0\n",
            "\n",
            "There are zero values are in the column in the following rows: \n",
            "[  895  2499  4706  5214 16752 16889 19591 21288 22277 23353 24022 28494\n",
            " 37469 37635 38706 38761 40524 44207 45943 55466 56641 56730 58757]\n",
            "\n",
            "The previous rows with zero values will be tested to see if they can be temporarily changed to the value 1: \n",
            "895      1\n",
            "2499     1\n",
            "4706     1\n",
            "5214     1\n",
            "16752    1\n",
            "16889    1\n",
            "19591    1\n",
            "21288    1\n",
            "22277    1\n",
            "23353    1\n",
            "24022    1\n",
            "28494    1\n",
            "37469    1\n",
            "37635    1\n",
            "38706    1\n",
            "38761    1\n",
            "40524    1\n",
            "44207    1\n",
            "45943    1\n",
            "55466    1\n",
            "56641    1\n",
            "56730    1\n",
            "58757    1\n",
            "Name: district_code, dtype: int64\n"
          ]
        }
      ],
      "source": [
        "# Save column name to variable\n",
        "col_name = 'district_code'\n",
        "\n",
        "# Show examples of usage for zero in values and save to variable\n",
        "zero_value = list(np.where(df[col_name] == 0))\n",
        "zero_value_index = zero_value[0][0]\n",
        "print(f'The first zero value in column \"{col_name}\" is in row {zero_value_index}.\\n')\n",
        "\n",
        "# Verify value of row zero_value before replacement\n",
        "print(f\"Row {zero_value_index}'s value before changing is: {df[col_name][zero_value_index]}\\n\")\n",
        "\n",
        "# List row numbers that contain the zero values\n",
        "print(f\"There are zero values are in the column in the following rows: \\n{zero_value[0]}\\n\")\n",
        "\n",
        "# Use first index from above that returned target value (0): verify NaN returned\n",
        "print(f'The previous rows with zero values will be tested to see if they can be temporarily changed to the value 1: \\n{df[col_name].replace(0, 1).filter(zero_value[0], axis=0)}')"
      ]
    },
    {
      "cell_type": "code",
      "execution_count": null,
      "metadata": {
        "colab": {
          "base_uri": "https://localhost:8080/"
        },
        "id": "vRtcW8qdOaYj",
        "outputId": "05871a1f-530c-4e07-a672-d9ed022ea6ad"
      },
      "outputs": [
        {
          "name": "stdout",
          "output_type": "stream",
          "text": [
            "Row 895's value after changing is: 1\n",
            "\n",
            "The number of rows with a value of zero is now: []\n"
          ]
        }
      ],
      "source": [
        "# Save the removal of all zero values from col_name\n",
        "df[col_name] = df[col_name].replace(0, 1)\n",
        "print(f\"Row {zero_value_index}'s value after changing is: {df[col_name][zero_value_index]}\\n\")\n",
        "\n",
        "# Verify 0 replaced with 1\n",
        "print(f'The number of rows with a value of zero is now: {list(np.where(df[col_name] == 0))[0]}')"
      ]
    },
    {
      "cell_type": "markdown",
      "metadata": {
        "id": "H92LONqOgVtl"
      },
      "source": [
        "##### 'population'\n",
        "\n",
        "This column has 21,381 zero values. However, there is no straight-forward way to impute those values to a better value than zero. The zero values in 'population' will be left as they are."
      ]
    },
    {
      "cell_type": "code",
      "execution_count": null,
      "metadata": {
        "colab": {
          "base_uri": "https://localhost:8080/"
        },
        "id": "bpRPEDENgWpr",
        "outputId": "d0069849-ea12-4cbf-f58f-54e6bd9be74e"
      },
      "outputs": [
        {
          "name": "stdout",
          "output_type": "stream",
          "text": [
            "The first zero value in column \"population\" is in row 4.\n",
            "\n",
            "Row 4's value before changing is: 0\n",
            "\n",
            "There are zero values are in the column in the following 21381 rows: \n",
            "[    4     6     7 ... 59393 59397 59398]\n",
            "\n"
          ]
        }
      ],
      "source": [
        "# Save column name to variable\n",
        "col_name = 'population'\n",
        "\n",
        "# Show examples of usage for zero in values and save to variable\n",
        "zero_value = list(np.where(df[col_name] == 0))\n",
        "zero_value_index = zero_value[0][0]\n",
        "print(f'The first zero value in column \"{col_name}\" is in row {zero_value_index}.\\n')\n",
        "\n",
        "# Verify value of row zero_value before replacement\n",
        "print(f\"Row {zero_value_index}'s value before changing is: {df[col_name][zero_value_index]}\\n\")\n",
        "\n",
        "# List row numbers that contain the zero values\n",
        "print(f\"There are zero values are in the column in the following {len(zero_value[0])} rows: \\n{zero_value[0]}\\n\")\n"
      ]
    },
    {
      "cell_type": "markdown",
      "metadata": {
        "id": "BOdYakG4hpS0"
      },
      "source": [
        "##### 'public_meeting'\n",
        "\n",
        "This column has 5,055 zero values. However, these values represent a boolean value, and as such, will not be altered."
      ]
    },
    {
      "cell_type": "markdown",
      "metadata": {
        "id": "bZgzuvM9ie2w"
      },
      "source": [
        "##### 'permit'\n",
        "\n",
        "This column has 17,492 zero values. However, these values represent a boolean value, and as such, will not be altered."
      ]
    },
    {
      "cell_type": "markdown",
      "metadata": {
        "id": "Gzx1-TyOiHjp"
      },
      "source": [
        "##### 'population'\n",
        "\n",
        "This column has 21,381 zero values. However, there is no straight-forward way to impute those values to a better value than zero. The zero values in 'population' will be left as they are."
      ]
    },
    {
      "cell_type": "markdown",
      "metadata": {
        "id": "0y2-Xy78jP5P"
      },
      "source": [
        "##### All Others\n",
        "\n",
        "All other features were checked for zero values and none were found."
      ]
    },
    {
      "cell_type": "markdown",
      "metadata": {
        "id": "M5HruB6Culs5"
      },
      "source": [
        "### Imputation Strategy (for Missing Values) & Justification"
      ]
    },
    {
      "cell_type": "code",
      "execution_count": null,
      "metadata": {
        "colab": {
          "base_uri": "https://localhost:8080/"
        },
        "id": "12lbUS65P0SC",
        "outputId": "a2c41420-6f16-4051-f0ea-6e14917f2d57"
      },
      "outputs": [
        {
          "data": {
            "text/plain": [
              "amount_tsh                   0\n",
              "date_recorded                0\n",
              "funder                    3635\n",
              "gps_height                   0\n",
              "installer                 3655\n",
              "longitude                 1812\n",
              "latitude                  1812\n",
              "wpt_name                     0\n",
              "num_private                  0\n",
              "basin                        0\n",
              "subvillage                 371\n",
              "region                       0\n",
              "region_code                  0\n",
              "district_code                0\n",
              "lga                          0\n",
              "ward                         0\n",
              "population                   0\n",
              "public_meeting               0\n",
              "recorded_by                  0\n",
              "scheme_management         3877\n",
              "permit                       0\n",
              "construction_year        20709\n",
              "extraction_type              0\n",
              "extraction_type_class        0\n",
              "management                   0\n",
              "management_group             0\n",
              "payment                      0\n",
              "water_quality                0\n",
              "quality_group                0\n",
              "quantity                     0\n",
              "source                       0\n",
              "source_type                  0\n",
              "source_class                 0\n",
              "waterpoint_type              0\n",
              "waterpoint_type_group        0\n",
              "dtype: int64"
            ]
          },
          "execution_count": 1825,
          "metadata": {},
          "output_type": "execute_result"
        }
      ],
      "source": [
        "# Identify any missing values per feature\n",
        "df.isna().sum()"
      ]
    },
    {
      "cell_type": "markdown",
      "metadata": {
        "id": "FtByKUPlui8r"
      },
      "source": [
        "### Inconsistent Values: Check & Address (Categorical Columns)"
      ]
    },
    {
      "cell_type": "markdown",
      "metadata": {
        "id": "ACWIFzUTkkzy"
      },
      "source": [
        "#### 'funder'\n",
        "\n",
        "Strategy: most_frequent"
      ]
    },
    {
      "cell_type": "markdown",
      "metadata": {
        "id": "VsnCXkKvkwZn"
      },
      "source": [
        "#### 'installer'\n",
        "\n",
        "Strategy: most_frequent"
      ]
    },
    {
      "cell_type": "markdown",
      "metadata": {
        "id": "yI4IppqekvvM"
      },
      "source": [
        "#### 'subvillage'\n",
        "\n",
        "Strategy: most_frequent (preferably most_frequent within the same district/region)"
      ]
    },
    {
      "cell_type": "markdown",
      "metadata": {
        "id": "XqaFfopqkvct"
      },
      "source": [
        "#### 'public_meeting'\n",
        "\n",
        "Strategy: most_frequent"
      ]
    },
    {
      "cell_type": "markdown",
      "metadata": {
        "id": "OM8Alj_XkvSC"
      },
      "source": [
        "#### 'scheme_management'\n",
        "\n",
        "Strategy: most_frequent"
      ]
    },
    {
      "cell_type": "markdown",
      "metadata": {
        "id": "qBqz9ajWlv42"
      },
      "source": [
        "#### 'permit'\n",
        "\n",
        "Strategy: most_frequent"
      ]
    },
    {
      "cell_type": "markdown",
      "metadata": {
        "id": "pqS-KB4HlvP_"
      },
      "source": [
        "#### 'construction_year'\n",
        "\n",
        "Strategy: most_frequent, as year should be an integer value."
      ]
    },
    {
      "cell_type": "markdown",
      "metadata": {
        "id": "QmrTfxb4uiws"
      },
      "source": [
        "### Impossible Values: Check & Address (Numerical Columns)"
      ]
    },
    {
      "cell_type": "markdown",
      "metadata": {
        "id": "6vuxZTDIkwRj"
      },
      "source": [
        "#### 'latitude'\n",
        "\n",
        "Strategy: mean"
      ]
    },
    {
      "cell_type": "markdown",
      "metadata": {
        "id": "RH1M1s7Wkv_E"
      },
      "source": [
        "#### 'longitude'\n",
        "\n",
        "Strategy: mean"
      ]
    },
    {
      "cell_type": "code",
      "execution_count": null,
      "metadata": {
        "id": "TbOyP0uLmfjC",
        "outputId": "666af35f-28b5-4fa1-85cf-7ba30d085979"
      },
      "outputs": [
        {
          "name": "stdout",
          "output_type": "stream",
          "text": [
            "<class 'pandas.core.frame.DataFrame'>\n",
            "RangeIndex: 59400 entries, 0 to 59399\n",
            "Data columns (total 35 columns):\n",
            " #   Column                 Non-Null Count  Dtype         \n",
            "---  ------                 --------------  -----         \n",
            " 0   amount_tsh             59400 non-null  float64       \n",
            " 1   date_recorded          59400 non-null  datetime64[ns]\n",
            " 2   funder                 55765 non-null  object        \n",
            " 3   gps_height             59400 non-null  int64         \n",
            " 4   installer              55745 non-null  object        \n",
            " 5   longitude              57588 non-null  float64       \n",
            " 6   latitude               57588 non-null  float64       \n",
            " 7   wpt_name               59400 non-null  object        \n",
            " 8   num_private            59400 non-null  int64         \n",
            " 9   basin                  59400 non-null  object        \n",
            " 10  subvillage             59029 non-null  object        \n",
            " 11  region                 59400 non-null  object        \n",
            " 12  region_code            59400 non-null  int64         \n",
            " 13  district_code          59400 non-null  int64         \n",
            " 14  lga                    59400 non-null  object        \n",
            " 15  ward                   59400 non-null  object        \n",
            " 16  population             59400 non-null  int64         \n",
            " 17  public_meeting         59400 non-null  bool          \n",
            " 18  recorded_by            59400 non-null  object        \n",
            " 19  scheme_management      55523 non-null  object        \n",
            " 20  permit                 59400 non-null  bool          \n",
            " 21  construction_year      38691 non-null  Int64         \n",
            " 22  extraction_type        59400 non-null  object        \n",
            " 23  extraction_type_class  59400 non-null  object        \n",
            " 24  management             59400 non-null  object        \n",
            " 25  management_group       59400 non-null  object        \n",
            " 26  payment                59400 non-null  object        \n",
            " 27  water_quality          59400 non-null  object        \n",
            " 28  quality_group          59400 non-null  object        \n",
            " 29  quantity               59400 non-null  object        \n",
            " 30  source                 59400 non-null  object        \n",
            " 31  source_type            59400 non-null  object        \n",
            " 32  source_class           59400 non-null  object        \n",
            " 33  waterpoint_type        59400 non-null  object        \n",
            " 34  waterpoint_type_group  59400 non-null  object        \n",
            "dtypes: Int64(1), bool(2), datetime64[ns](1), float64(3), int64(5), object(23)\n",
            "memory usage: 15.1+ MB\n"
          ]
        }
      ],
      "source": [
        "# Verify all columns have been updated to the correct datatypes\n",
        "df.info()"
      ]
    },
    {
      "cell_type": "markdown",
      "metadata": {
        "id": "PXH_q_nXuSGd"
      },
      "source": [
        "### Data Type: Ensure Matching Data Dictionary, Again\n",
        "\n",
        "Display information about features."
      ]
    },
    {
      "cell_type": "code",
      "execution_count": null,
      "metadata": {
        "id": "-pAciwv_uSGe",
        "outputId": "7d724227-4a70-4451-f177-1c0980813304"
      },
      "outputs": [
        {
          "name": "stdout",
          "output_type": "stream",
          "text": [
            "<class 'pandas.core.frame.DataFrame'>\n",
            "RangeIndex: 59400 entries, 0 to 59399\n",
            "Data columns (total 35 columns):\n",
            " #   Column                 Non-Null Count  Dtype         \n",
            "---  ------                 --------------  -----         \n",
            " 0   amount_tsh             59400 non-null  float64       \n",
            " 1   date_recorded          59400 non-null  datetime64[ns]\n",
            " 2   funder                 55765 non-null  object        \n",
            " 3   gps_height             59400 non-null  int64         \n",
            " 4   installer              55745 non-null  object        \n",
            " 5   longitude              57588 non-null  float64       \n",
            " 6   latitude               57588 non-null  float64       \n",
            " 7   wpt_name               59400 non-null  object        \n",
            " 8   num_private            59400 non-null  int64         \n",
            " 9   basin                  59400 non-null  object        \n",
            " 10  subvillage             59029 non-null  object        \n",
            " 11  region                 59400 non-null  object        \n",
            " 12  region_code            59400 non-null  int64         \n",
            " 13  district_code          59400 non-null  int64         \n",
            " 14  lga                    59400 non-null  object        \n",
            " 15  ward                   59400 non-null  object        \n",
            " 16  population             59400 non-null  int64         \n",
            " 17  public_meeting         59400 non-null  bool          \n",
            " 18  recorded_by            59400 non-null  object        \n",
            " 19  scheme_management      55523 non-null  object        \n",
            " 20  permit                 59400 non-null  bool          \n",
            " 21  construction_year      38691 non-null  Int64         \n",
            " 22  extraction_type        59400 non-null  object        \n",
            " 23  extraction_type_class  59400 non-null  object        \n",
            " 24  management             59400 non-null  object        \n",
            " 25  management_group       59400 non-null  object        \n",
            " 26  payment                59400 non-null  object        \n",
            " 27  water_quality          59400 non-null  object        \n",
            " 28  quality_group          59400 non-null  object        \n",
            " 29  quantity               59400 non-null  object        \n",
            " 30  source                 59400 non-null  object        \n",
            " 31  source_type            59400 non-null  object        \n",
            " 32  source_class           59400 non-null  object        \n",
            " 33  waterpoint_type        59400 non-null  object        \n",
            " 34  waterpoint_type_group  59400 non-null  object        \n",
            "dtypes: Int64(1), bool(2), datetime64[ns](1), float64(3), int64(5), object(23)\n",
            "memory usage: 15.1+ MB\n"
          ]
        }
      ],
      "source": [
        "df.info()"
      ]
    },
    {
      "cell_type": "code",
      "execution_count": null,
      "metadata": {
        "id": "fcHf6jIluSGe"
      },
      "outputs": [],
      "source": []
    },
    {
      "cell_type": "code",
      "execution_count": null,
      "metadata": {
        "id": "mbhQEO9fuSGe"
      },
      "outputs": [],
      "source": []
    },
    {
      "cell_type": "markdown",
      "metadata": {
        "id": "rJhitz_FtaSa"
      },
      "source": [
        "## Explore Data\n",
        "\n"
      ]
    },
    {
      "cell_type": "markdown",
      "metadata": {
        "id": "fRrvFCV_2pSR"
      },
      "source": [
        "### Exploratory Visualization #1"
      ]
    },
    {
      "cell_type": "markdown",
      "metadata": {
        "id": "buwOAVPn4JdB"
      },
      "source": [
        "#### Visualization"
      ]
    },
    {
      "cell_type": "code",
      "execution_count": null,
      "metadata": {
        "colab": {
          "base_uri": "https://localhost:8080/",
          "height": 995
        },
        "id": "zQrM7yXi2uJ3",
        "outputId": "01a42e89-5db4-4a8d-a023-33a34c527a01"
      },
      "outputs": [
        {
          "data": {
            "image/png": "[encoded data removed]",
            "text/plain": [
              "<Figure size 1200x1000 with 2 Axes>"
            ]
          },
          "metadata": {},
          "output_type": "display_data"
        }
      ],
      "source": [
        "# Visualization & settings\n",
        "corr = df.corr()\n",
        "mask = np.triu(np.ones_like(corr))\n",
        "fig, ax = plt.subplots(figsize = (12,10))\n",
        "ax = sns.heatmap(corr, cmap= 'GnBu', annot = True, mask = mask);"
      ]
    },
    {
      "cell_type": "markdown",
      "metadata": {
        "id": "WY1cjlTG42fk"
      },
      "source": [
        "#### Explanation"
      ]
    },
    {
      "cell_type": "markdown",
      "metadata": {
        "id": "XHdoumEx46WD"
      },
      "source": [
        "There is some correlation between the following numberical features:\n",
        "\n",
        "Very Strong, Positive (0.68): 'district_code' and 'region_code'\n",
        "* This is not surprizing, as the larger part of the country will only have the same smaller parts of the country contained within itself.\n",
        "\n",
        "Very Strong, Positive (0.66): 'construction_year' and 'gps_height'\n",
        "* While there may be a correlation between these two, I am puzzled as to what significance or useful/reliable insight this would bring.\n",
        "\n",
        "Moderately Strong, Negative (-0.43): 'latitude' and 'longitude'\n",
        "* As all of the locations are within the same, moderately-sized country, having a correlation between latitude and longitude is not surprising.\n",
        "\n",
        "Moderately Strong, Positive (0.40): 'construction_year' and 'longitude'\n",
        "* Again, I am puzzled as to how this correlation might be useful or reliable.\n",
        "\n",
        "There are no more correlations with a value greater than ±0.30 from zero."
      ]
    },
    {
      "cell_type": "markdown",
      "metadata": {
        "id": "MKelWnNsGtvZ"
      },
      "source": [
        "### Exploratory Visualization #2"
      ]
    },
    {
      "cell_type": "markdown",
      "metadata": {
        "id": "OkrC7HHMKKTI"
      },
      "source": [
        "#### Visualization"
      ]
    },
    {
      "cell_type": "code",
      "execution_count": null,
      "metadata": {
        "colab": {
          "base_uri": "https://localhost:8080/",
          "height": 612
        },
        "id": "BoTZtBqJGvSz",
        "outputId": "371d4d44-f8a8-4c24-e84b-f56fcd9a795c"
      },
      "outputs": [
        {
          "data": {
            "image/png": "[encoded data removed]",
            "text/plain": [
              "<Figure size 600x500 with 1 Axes>"
            ]
          },
          "metadata": {},
          "output_type": "display_data"
        }
      ],
      "source": [
        "# Set palette color via set_palette\n",
        "sns.set_palette(\"GnBu_r\")\n",
        "\n",
        "# Visualization & settings\n",
        "ax = sns.relplot(data=df,\n",
        "                 x='extraction_type_class', y='construction_year',\n",
        "                 alpha= 0.05,\n",
        "                 height=5, aspect=6/5\n",
        "                 )\n",
        "ax.set_axis_labels('Pump Type','Installation Year')\n",
        "ax.set(title='Pump Type & Installation Years')\n",
        "ax.tick_params(axis='x', rotation=70);"
      ]
    },
    {
      "cell_type": "markdown",
      "metadata": {
        "id": "YDwSLe3uKGH2"
      },
      "source": [
        "#### Explanation\n",
        "\n",
        "We can see that there have been many water pumps, of various types, installed in the country over the years. Some of the pumps appear to be very old, as the information goes all the way back to 1960. As people will most likely continue to need water, both the age and types of the pumps will probably big factors in determining how often servicing will be required to keep them operational."
      ]
    },
    {
      "cell_type": "markdown",
      "metadata": {
        "id": "OUaaFdkmJtr8"
      },
      "source": [
        "### Exploratory Visualization #3"
      ]
    },
    {
      "cell_type": "markdown",
      "metadata": {
        "id": "Ya1O541YKLq3"
      },
      "source": [
        "#### Visualization"
      ]
    },
    {
      "cell_type": "code",
      "execution_count": null,
      "metadata": {
        "colab": {
          "base_uri": "https://localhost:8080/",
          "height": 529
        },
        "id": "_PrYJXalJzqU",
        "outputId": "fce2d4e8-dbd7-4086-e6a7-9bb142ac4176"
      },
      "outputs": [
        {
          "data": {
            "image/png": "[encoded data removed]",
            "text/plain": [
              "<Figure size 500x500 with 1 Axes>"
            ]
          },
          "metadata": {},
          "output_type": "display_data"
        }
      ],
      "source": [
        "ax = sns.relplot(data=df,\n",
        "                 x='longitude', y='latitude',\n",
        "                 alpha= 0.10,\n",
        "                 height=5, aspect=5/5\n",
        "                 )\n",
        "ax.set_axis_labels('longitude','latitude')\n",
        "ax.set(title='latitude vs longitude')\n",
        "ax.tick_params(axis='x', rotation=0);"
      ]
    },
    {
      "cell_type": "markdown",
      "metadata": {
        "id": "63B1Z8CoKQX8"
      },
      "source": [
        "#### Explanation\n",
        "\n",
        "By plotting the lattitude and longitude for each water pump in the country, we can see what resembles an outline of Tanzania! From this visualization we can see that there are pumps all over the country, and probably not just in the cities. This makes checking on each pump regularly, to see if it requires maintenace or not, a very difficult task. This would probably be a difficult undertaking for even the most advanced countries. People need access to good, clean water for their families, animals, gardens and farms. Achieving the goal of being able to predict maintence needs proactively will help reduce the amount of time people will be without access to this life-giving resource."
      ]
    },
    {
      "cell_type": "markdown",
      "metadata": {
        "id": "fwroCGuZ8ZG4"
      },
      "source": [
        "### Exploratory Visualization #4"
      ]
    },
    {
      "cell_type": "code",
      "execution_count": null,
      "metadata": {
        "colab": {
          "base_uri": "https://localhost:8080/",
          "height": 679
        },
        "id": "TaVvgU529RJC",
        "outputId": "b7442830-f65a-457c-f0e1-17325ab255c1"
      },
      "outputs": [
        {
          "data": {
            "image/png": "[encoded data removed]",
            "text/plain": [
              "<Figure size 500x600 with 1 Axes>"
            ]
          },
          "metadata": {},
          "output_type": "display_data"
        }
      ],
      "source": [
        "# Set palette color via set_palette\n",
        "sns.set_palette(\"GnBu_r\")\n",
        "\n",
        "# Visualization & settings\n",
        "ax = sns.relplot(data=df,\n",
        "                 x='quality_group', y='population',\n",
        "                 alpha= 0.05,\n",
        "                 height=6, aspect=5/6\n",
        "                 )\n",
        "ax.set(yscale=\"log\")\n",
        "ax.set_axis_labels('Quality of Water','Population in Area')\n",
        "ax.set(title='Quality of Water for Population Sizes')\n",
        "ax.tick_params(axis='x', rotation=75);"
      ]
    },
    {
      "cell_type": "markdown",
      "metadata": {
        "id": "Yukv73aLdQCI"
      },
      "source": [
        "### Exploratory Visualization A"
      ]
    },
    {
      "cell_type": "code",
      "execution_count": null,
      "metadata": {
        "colab": {
          "base_uri": "https://localhost:8080/",
          "height": 551
        },
        "id": "vH8De41Rdia7",
        "outputId": "1a79a643-8e05-4bbe-e0f8-e15a5d272cf5"
      },
      "outputs": [
        {
          "data": {
            "image/png": "[encoded data removed]",
            "text/plain": [
              "<Figure size 640x480 with 1 Axes>"
            ]
          },
          "metadata": {},
          "output_type": "display_data"
        }
      ],
      "source": [
        "# Visualization & settings\n",
        "fig, ax = plt.subplots()\n",
        "g = sns.countplot(data=df, x='water_quality', palette='GnBu_r')\n",
        "# Set Y scale to display in logarithmic scale to account for large difference in values\n",
        "g.set_yscale(\"log\")\n",
        "ax.set(xlabel='', ylabel = '')\n",
        "ax.tick_params(axis='x', rotation=75)\n",
        "plt.show()"
      ]
    },
    {
      "cell_type": "markdown",
      "metadata": {
        "id": "MEYTl6mfxFVQ"
      },
      "source": [
        "### Exploratory Visualization B"
      ]
    },
    {
      "cell_type": "code",
      "execution_count": null,
      "metadata": {
        "colab": {
          "base_uri": "https://localhost:8080/",
          "height": 472
        },
        "id": "hFslG3C2a2QR",
        "outputId": "1e5395dc-0fde-4354-95f1-b1c659ff4c06"
      },
      "outputs": [
        {
          "data": {
            "image/png": "[encoded data removed]",
            "text/plain": [
              "<Figure size 640x480 with 1 Axes>"
            ]
          },
          "metadata": {},
          "output_type": "display_data"
        }
      ],
      "source": [
        "# Set palette color via set_palette as .histplot does not accept palette color option without hue also being set\n",
        "sns.set_palette(\"GnBu_r\")\n",
        "\n",
        "# Visualization & settings\n",
        "fig, ax = plt.subplots()\n",
        "sns.histplot(data=df, y='extraction_type_class')\n",
        "ax.set_title('Types of Pumps Used')\n",
        "ax.set_xlabel('Count')\n",
        "ax.set_ylabel('Pump Type');"
      ]
    },
    {
      "cell_type": "markdown",
      "metadata": {
        "id": "8sOWCDAgxFDj"
      },
      "source": [
        "### Exploratory Visualization C"
      ]
    },
    {
      "cell_type": "code",
      "execution_count": null,
      "metadata": {
        "colab": {
          "base_uri": "https://localhost:8080/",
          "height": 449
        },
        "id": "I92ICkLLv-Tz",
        "outputId": "bb56cbd5-29fe-4f1b-9e60-ede27d05e773"
      },
      "outputs": [
        {
          "data": {
            "image/png": "[encoded data removed]",
            "text/plain": [
              "<Figure size 640x480 with 1 Axes>"
            ]
          },
          "metadata": {},
          "output_type": "display_data"
        }
      ],
      "source": [
        "# Set palette color via set_palette as .histplot does not accept palette color option without hue also being set\n",
        "sns.set_palette(\"GnBu_r\")\n",
        "\n",
        "# Visualization & settings\n",
        "fig, ax = plt.subplots()\n",
        "g = sns.histplot(data=df, y='quantity')\n",
        "ax.set(xlabel='Count', ylabel='Quantity of Water at Pump')\n",
        "plt.show();"
      ]
    },
    {
      "cell_type": "markdown",
      "metadata": {
        "id": "rAYGQLNqvyQw"
      },
      "source": [
        "### Exploratory Visualization D"
      ]
    },
    {
      "cell_type": "code",
      "execution_count": null,
      "metadata": {
        "colab": {
          "base_uri": "https://localhost:8080/",
          "height": 266
        },
        "id": "1aI8TSn6tiNs",
        "outputId": "d88b94b0-8fa0-4c33-8901-8c757b171094"
      },
      "outputs": [
        {
          "data": {
            "text/html": [
              "<div>\n",
              "<style scoped>\n",
              "    .dataframe tbody tr th:only-of-type {\n",
              "        vertical-align: middle;\n",
              "    }\n",
              "\n",
              "    .dataframe tbody tr th {\n",
              "        vertical-align: top;\n",
              "    }\n",
              "\n",
              "    .dataframe thead th {\n",
              "        text-align: right;\n",
              "    }\n",
              "</style>\n",
              "<table border=\"1\" class=\"dataframe\">\n",
              "  <thead>\n",
              "    <tr style=\"text-align: right;\">\n",
              "      <th></th>\n",
              "      <th>payment</th>\n",
              "    </tr>\n",
              "  </thead>\n",
              "  <tbody>\n",
              "    <tr>\n",
              "      <th>never pay</th>\n",
              "      <td>25348</td>\n",
              "    </tr>\n",
              "    <tr>\n",
              "      <th>pay per bucket</th>\n",
              "      <td>8985</td>\n",
              "    </tr>\n",
              "    <tr>\n",
              "      <th>pay monthly</th>\n",
              "      <td>8300</td>\n",
              "    </tr>\n",
              "    <tr>\n",
              "      <th>unknown</th>\n",
              "      <td>8157</td>\n",
              "    </tr>\n",
              "    <tr>\n",
              "      <th>pay when scheme fails</th>\n",
              "      <td>3914</td>\n",
              "    </tr>\n",
              "    <tr>\n",
              "      <th>pay annually</th>\n",
              "      <td>3642</td>\n",
              "    </tr>\n",
              "    <tr>\n",
              "      <th>other</th>\n",
              "      <td>1054</td>\n",
              "    </tr>\n",
              "  </tbody>\n",
              "</table>\n",
              "</div>"
            ],
            "text/plain": [
              "                       payment\n",
              "never pay                25348\n",
              "pay per bucket            8985\n",
              "pay monthly               8300\n",
              "unknown                   8157\n",
              "pay when scheme fails     3914\n",
              "pay annually              3642\n",
              "other                     1054"
            ]
          },
          "execution_count": 1835,
          "metadata": {},
          "output_type": "execute_result"
        }
      ],
      "source": [
        "# Sort values for 'payment' by count into a DataFrame\n",
        "payment_sorted = pd.DataFrame(df['payment'].value_counts().sort_values(ascending=False))\n",
        "payment_sorted"
      ]
    },
    {
      "cell_type": "code",
      "execution_count": null,
      "metadata": {
        "colab": {
          "base_uri": "https://localhost:8080/",
          "height": 80
        },
        "id": "3u0OH0VWvvVS",
        "outputId": "1a0180a7-3417-44e7-bace-18e74195a483"
      },
      "outputs": [
        {
          "data": {
            "text/html": [
              "<div>\n",
              "<style scoped>\n",
              "    .dataframe tbody tr th:only-of-type {\n",
              "        vertical-align: middle;\n",
              "    }\n",
              "\n",
              "    .dataframe tbody tr th {\n",
              "        vertical-align: top;\n",
              "    }\n",
              "\n",
              "    .dataframe thead th {\n",
              "        text-align: right;\n",
              "    }\n",
              "</style>\n",
              "<table border=\"1\" class=\"dataframe\">\n",
              "  <thead>\n",
              "    <tr style=\"text-align: right;\">\n",
              "      <th></th>\n",
              "      <th>never pay</th>\n",
              "      <th>pay per bucket</th>\n",
              "      <th>pay monthly</th>\n",
              "      <th>unknown</th>\n",
              "      <th>pay when scheme fails</th>\n",
              "      <th>pay annually</th>\n",
              "      <th>other</th>\n",
              "    </tr>\n",
              "  </thead>\n",
              "  <tbody>\n",
              "    <tr>\n",
              "      <th>payment</th>\n",
              "      <td>25348</td>\n",
              "      <td>8985</td>\n",
              "      <td>8300</td>\n",
              "      <td>8157</td>\n",
              "      <td>3914</td>\n",
              "      <td>3642</td>\n",
              "      <td>1054</td>\n",
              "    </tr>\n",
              "  </tbody>\n",
              "</table>\n",
              "</div>"
            ],
            "text/plain": [
              "         never pay  pay per bucket  pay monthly  unknown  \\\n",
              "payment      25348            8985         8300     8157   \n",
              "\n",
              "         pay when scheme fails  pay annually  other  \n",
              "payment                   3914          3642   1054  "
            ]
          },
          "execution_count": 1836,
          "metadata": {},
          "output_type": "execute_result"
        }
      ],
      "source": [
        "# Transpose DataFrame (swap columns and rows) to assist with visualization\n",
        "payment_sorted_transposed = payment_sorted.T\n",
        "payment_sorted_transposed"
      ]
    },
    {
      "cell_type": "markdown",
      "metadata": {
        "id": "jFVe83PEPNJ3"
      },
      "source": [
        "#### Visualization"
      ]
    },
    {
      "cell_type": "code",
      "execution_count": null,
      "metadata": {
        "colab": {
          "base_uri": "https://localhost:8080/",
          "height": 573
        },
        "id": "ded0mN0jtUIS",
        "outputId": "4bebd4cd-6193-4e3a-b8c1-15881c9c5ad6"
      },
      "outputs": [
        {
          "data": {
            "image/png": "[encoded data removed]",
            "text/plain": [
              "<Figure size 640x480 with 1 Axes>"
            ]
          },
          "metadata": {},
          "output_type": "display_data"
        }
      ],
      "source": [
        "# Visualization & settings\n",
        "# Display values for 'payment' in order from most frequest to least frequent\n",
        "fig, ax = plt.subplots()\n",
        "g = sns.barplot(data=payment_sorted_transposed, palette='GnBu_r')\n",
        "ax.set(xlabel='', ylabel = '')\n",
        "ax.tick_params(axis='x', rotation=75)\n",
        "plt.show();"
      ]
    },
    {
      "cell_type": "markdown",
      "metadata": {
        "id": "qq_DW_qJwf4j"
      },
      "source": [
        "### Exploratory Visualization E"
      ]
    },
    {
      "cell_type": "code",
      "execution_count": null,
      "metadata": {
        "colab": {
          "base_uri": "https://localhost:8080/",
          "height": 472
        },
        "id": "h0OIQ3-Twj-s",
        "outputId": "01268d0d-ce09-4bcb-8e86-d52618396c41"
      },
      "outputs": [
        {
          "data": {
            "image/png": "[encoded data removed]",
            "text/plain": [
              "<Figure size 640x480 with 1 Axes>"
            ]
          },
          "metadata": {},
          "output_type": "display_data"
        }
      ],
      "source": [
        "# Set palette color via set_palette as .histplot does not accept palette color option without hue also being set\n",
        "sns.set_palette(\"GnBu_r\")\n",
        "\n",
        "# Visualization & settings\n",
        "fig, ax = plt.subplots()\n",
        "g = sns.histplot(data=df, x='population', bins=60)\n",
        "g.set_yscale(\"log\")\n",
        "ax.set_title('Population Using Pump')\n",
        "ax.set_xlabel('Population')\n",
        "ax.set_ylabel('Count');"
      ]
    },
    {
      "cell_type": "markdown",
      "metadata": {
        "id": "ZV54fxzGokRr"
      },
      "source": [
        "## Modeling\n",
        "\n"
      ]
    },
    {
      "cell_type": "markdown",
      "metadata": {
        "id": "TeQWYwFU4Dh2"
      },
      "source": [
        "### Modeling Preparation\n",
        "\n",
        "Create a copy of the DataFrame to train the model"
      ]
    },
    {
      "cell_type": "code",
      "execution_count": null,
      "metadata": {
        "colab": {
          "base_uri": "https://localhost:8080/",
          "height": 178
        },
        "id": "OUnGsb8B41j-",
        "outputId": "7fc701ee-25b7-4244-9f59-08d56df4a8a3"
      },
      "outputs": [
        {
          "data": {
            "text/html": [
              "<div>\n",
              "<style scoped>\n",
              "    .dataframe tbody tr th:only-of-type {\n",
              "        vertical-align: middle;\n",
              "    }\n",
              "\n",
              "    .dataframe tbody tr th {\n",
              "        vertical-align: top;\n",
              "    }\n",
              "\n",
              "    .dataframe thead th {\n",
              "        text-align: right;\n",
              "    }\n",
              "</style>\n",
              "<table border=\"1\" class=\"dataframe\">\n",
              "  <thead>\n",
              "    <tr style=\"text-align: right;\">\n",
              "      <th></th>\n",
              "      <th>amount_tsh</th>\n",
              "      <th>date_recorded</th>\n",
              "      <th>funder</th>\n",
              "      <th>gps_height</th>\n",
              "      <th>installer</th>\n",
              "      <th>longitude</th>\n",
              "      <th>latitude</th>\n",
              "      <th>wpt_name</th>\n",
              "      <th>num_private</th>\n",
              "      <th>basin</th>\n",
              "      <th>subvillage</th>\n",
              "      <th>region</th>\n",
              "      <th>region_code</th>\n",
              "      <th>district_code</th>\n",
              "      <th>lga</th>\n",
              "      <th>ward</th>\n",
              "      <th>population</th>\n",
              "      <th>public_meeting</th>\n",
              "      <th>recorded_by</th>\n",
              "      <th>scheme_management</th>\n",
              "      <th>permit</th>\n",
              "      <th>construction_year</th>\n",
              "      <th>extraction_type</th>\n",
              "      <th>extraction_type_class</th>\n",
              "      <th>management</th>\n",
              "      <th>management_group</th>\n",
              "      <th>payment</th>\n",
              "      <th>water_quality</th>\n",
              "      <th>quality_group</th>\n",
              "      <th>quantity</th>\n",
              "      <th>source</th>\n",
              "      <th>source_type</th>\n",
              "      <th>source_class</th>\n",
              "      <th>waterpoint_type</th>\n",
              "      <th>waterpoint_type_group</th>\n",
              "    </tr>\n",
              "  </thead>\n",
              "  <tbody>\n",
              "    <tr>\n",
              "      <th>0</th>\n",
              "      <td>6000.0</td>\n",
              "      <td>2011-03-14</td>\n",
              "      <td>ROMAN</td>\n",
              "      <td>1390</td>\n",
              "      <td>ROMAN</td>\n",
              "      <td>34.938093</td>\n",
              "      <td>-9.856322</td>\n",
              "      <td>none</td>\n",
              "      <td>0</td>\n",
              "      <td>Lake Nyasa</td>\n",
              "      <td>Mnyusi B</td>\n",
              "      <td>Iringa</td>\n",
              "      <td>11</td>\n",
              "      <td>5</td>\n",
              "      <td>Ludewa</td>\n",
              "      <td>Mundindi</td>\n",
              "      <td>109</td>\n",
              "      <td>True</td>\n",
              "      <td>GeoData Consultants Ltd</td>\n",
              "      <td>VWC</td>\n",
              "      <td>False</td>\n",
              "      <td>1999</td>\n",
              "      <td>gravity</td>\n",
              "      <td>gravity</td>\n",
              "      <td>vwc</td>\n",
              "      <td>user-group</td>\n",
              "      <td>pay annually</td>\n",
              "      <td>soft</td>\n",
              "      <td>good</td>\n",
              "      <td>enough</td>\n",
              "      <td>spring</td>\n",
              "      <td>spring</td>\n",
              "      <td>groundwater</td>\n",
              "      <td>communal standpipe</td>\n",
              "      <td>communal standpipe</td>\n",
              "    </tr>\n",
              "  </tbody>\n",
              "</table>\n",
              "</div>"
            ],
            "text/plain": [
              "   amount_tsh date_recorded funder  gps_height installer  longitude  latitude  \\\n",
              "0      6000.0    2011-03-14  ROMAN        1390     ROMAN  34.938093 -9.856322   \n",
              "\n",
              "  wpt_name  num_private       basin subvillage  region  region_code  \\\n",
              "0     none            0  Lake Nyasa   Mnyusi B  Iringa           11   \n",
              "\n",
              "   district_code     lga      ward  population  public_meeting  \\\n",
              "0              5  Ludewa  Mundindi         109            True   \n",
              "\n",
              "               recorded_by scheme_management  permit  construction_year  \\\n",
              "0  GeoData Consultants Ltd               VWC   False               1999   \n",
              "\n",
              "  extraction_type extraction_type_class management management_group  \\\n",
              "0         gravity               gravity        vwc       user-group   \n",
              "\n",
              "        payment water_quality quality_group quantity  source source_type  \\\n",
              "0  pay annually          soft          good   enough  spring      spring   \n",
              "\n",
              "  source_class     waterpoint_type waterpoint_type_group  \n",
              "0  groundwater  communal standpipe    communal standpipe  "
            ]
          },
          "execution_count": 1842,
          "metadata": {},
          "output_type": "execute_result"
        }
      ],
      "source": [
        "# Display current columns in DataFrame\n",
        "df.head(1)\n"
      ]
    },
    {
      "cell_type": "code",
      "execution_count": null,
      "metadata": {
        "colab": {
          "base_uri": "https://localhost:8080/",
          "height": 178
        },
        "id": "_B9lLcLV4J6I",
        "outputId": "f211d254-d0f5-410a-8469-b8b923374e58"
      },
      "outputs": [
        {
          "data": {
            "text/html": [
              "<div>\n",
              "<style scoped>\n",
              "    .dataframe tbody tr th:only-of-type {\n",
              "        vertical-align: middle;\n",
              "    }\n",
              "\n",
              "    .dataframe tbody tr th {\n",
              "        vertical-align: top;\n",
              "    }\n",
              "\n",
              "    .dataframe thead th {\n",
              "        text-align: right;\n",
              "    }\n",
              "</style>\n",
              "<table border=\"1\" class=\"dataframe\">\n",
              "  <thead>\n",
              "    <tr style=\"text-align: right;\">\n",
              "      <th></th>\n",
              "      <th>gps_height</th>\n",
              "    </tr>\n",
              "  </thead>\n",
              "  <tbody>\n",
              "    <tr>\n",
              "      <th>0</th>\n",
              "      <td>1390</td>\n",
              "    </tr>\n",
              "  </tbody>\n",
              "</table>\n",
              "</div>"
            ],
            "text/plain": [
              "   gps_height\n",
              "0        1390"
            ]
          },
          "execution_count": 1843,
          "metadata": {},
          "output_type": "execute_result"
        }
      ],
      "source": [
        "# Create df copy\n",
        "# Initial copy will exclude features with unresolved missing values.\n",
        "# Future copies will include those features once they are resolved.\n",
        "df_train = df[[\n",
        "#                'amount_tsh',\n",
        "               'gps_height',\n",
        "#               'wpt_name',\n",
        "#               'num_private',\n",
        "#               'basin',\n",
        "#               'region',\n",
        "#               'region_code',\n",
        "#               'district_code',\n",
        "#               'lga',\n",
        "#               'ward',\n",
        "#               'population',\n",
        "#               'extraction_type',\n",
        "#               'extraction_type_class',\n",
        "#               'management',\n",
        "#               'management_group',\n",
        "#               'payment',\n",
        "#               'water_quality',\n",
        "#               'quality_group',\n",
        "#               'quantity',\n",
        "#               'source',\n",
        "#               'source_type',\n",
        "#               'waterpoint_type',\n",
        "#               'waterpoint_type_group'\n",
        "              ]]\n",
        "df_train.head(1)"
      ]
    },
    {
      "cell_type": "code",
      "execution_count": null,
      "metadata": {
        "id": "ScdNbhXWuSGk",
        "outputId": "da0d1974-3897-4f47-b6a2-77579c30fb2e"
      },
      "outputs": [
        {
          "name": "stdout",
          "output_type": "stream",
          "text": [
            "<class 'pandas.core.frame.DataFrame'>\n",
            "RangeIndex: 59400 entries, 0 to 59399\n",
            "Data columns (total 1 columns):\n",
            " #   Column      Non-Null Count  Dtype\n",
            "---  ------      --------------  -----\n",
            " 0   gps_height  59400 non-null  int64\n",
            "dtypes: int64(1)\n",
            "memory usage: 464.2 KB\n"
          ]
        }
      ],
      "source": [
        "df_train.info()"
      ]
    },
    {
      "cell_type": "markdown",
      "metadata": {
        "id": "QvYOfmOMB8bj"
      },
      "source": [
        "### !!! Split the Data"
      ]
    },
    {
      "cell_type": "code",
      "execution_count": null,
      "metadata": {
        "id": "-xG0cw7VCDD2"
      },
      "outputs": [],
      "source": [
        "# Assign optimized copy of DataFrame to use as X\n",
        "# Randomly sample 60% of the DataFrame to make PCA processing possible\n",
        "## X = df_train.sample(frac = 0.6, random_state=42)\n",
        "\n",
        "# 1% used for troubleshooting\n",
        "X = df_train.sample(frac = 0.01, random_state=42)\n",
        "\n",
        "# Assign provided training target DataFrame to use as y\n",
        "# Randomly sample the same 60% of the DataFrame rows as X above\n",
        "## y = df_target.sample(frac = 0.6, random_state=42)\n",
        "\n",
        "# 1% used for troubleshooting\n",
        "y = df_target.sample(frac = 0.01, random_state=42)\n"
      ]
    },
    {
      "cell_type": "code",
      "execution_count": null,
      "metadata": {
        "id": "9IMEe8FIB-pD"
      },
      "outputs": [],
      "source": [
        "# Train Test Split\n",
        "X_train, X_test, y_train, y_test = train_test_split(X, y, random_state = 42)"
      ]
    },
    {
      "cell_type": "markdown",
      "metadata": {
        "id": "BV55GB152nLb"
      },
      "source": [
        "### Column Transformer & PCA Fit/Transform"
      ]
    },
    {
      "cell_type": "markdown",
      "metadata": {
        "id": "vaUaYt9h2nB7"
      },
      "source": [
        "* Fit and evaluate multiple types of models on your data.\n",
        "> * Evaluate each model with multiple appropriate metrics on BOTH the train and test data.\n",
        "> * Use GridSearchCV to tune some of the hyperparameters of each model.\n",
        "> * Display the metrics of your best tuned version of each model type."
      ]
    },
    {
      "cell_type": "code",
      "execution_count": null,
      "metadata": {
        "id": "alU-BbVmQnwa"
      },
      "outputs": [],
      "source": [
        "# Instantiate Column Selectors\n",
        "cat_selector = make_column_selector(dtype_include='object')\n",
        "num_selector = make_column_selector(dtype_include='number')\n",
        "\n",
        "# OneHotEncoder\n",
        "ohe = OneHotEncoder(handle_unknown='ignore', sparse=False)\n",
        "\n",
        "# Scaler\n",
        "scaler = StandardScaler()"
      ]
    },
    {
      "cell_type": "code",
      "execution_count": null,
      "metadata": {
        "colab": {
          "base_uri": "https://localhost:8080/",
          "height": 115
        },
        "id": "cyj2lZXGRZpu",
        "outputId": "5a6475dd-b00c-4a4e-991d-7e8038b79fcf"
      },
      "outputs": [
        {
          "data": {
            "text/html": [
              "<style>#sk-container-id-25 {color: black;background-color: white;}#sk-container-id-25 pre{padding: 0;}#sk-container-id-25 div.sk-toggleable {background-color: white;}#sk-container-id-25 label.sk-toggleable__label {cursor: pointer;display: block;width: 100%;margin-bottom: 0;padding: 0.3em;box-sizing: border-box;text-align: center;}#sk-container-id-25 label.sk-toggleable__label-arrow:before {content: \"▸\";float: left;margin-right: 0.25em;color: #696969;}#sk-container-id-25 label.sk-toggleable__label-arrow:hover:before {color: black;}#sk-container-id-25 div.sk-estimator:hover label.sk-toggleable__label-arrow:before {color: black;}#sk-container-id-25 div.sk-toggleable__content {max-height: 0;max-width: 0;overflow: hidden;text-align: left;background-color: #f0f8ff;}#sk-container-id-25 div.sk-toggleable__content pre {margin: 0.2em;color: black;border-radius: 0.25em;background-color: #f0f8ff;}#sk-container-id-25 input.sk-toggleable__control:checked~div.sk-toggleable__content {max-height: 200px;max-width: 100%;overflow: auto;}#sk-container-id-25 input.sk-toggleable__control:checked~label.sk-toggleable__label-arrow:before {content: \"▾\";}#sk-container-id-25 div.sk-estimator input.sk-toggleable__control:checked~label.sk-toggleable__label {background-color: #d4ebff;}#sk-container-id-25 div.sk-label input.sk-toggleable__control:checked~label.sk-toggleable__label {background-color: #d4ebff;}#sk-container-id-25 input.sk-hidden--visually {border: 0;clip: rect(1px 1px 1px 1px);clip: rect(1px, 1px, 1px, 1px);height: 1px;margin: -1px;overflow: hidden;padding: 0;position: absolute;width: 1px;}#sk-container-id-25 div.sk-estimator {font-family: monospace;background-color: #f0f8ff;border: 1px dotted black;border-radius: 0.25em;box-sizing: border-box;margin-bottom: 0.5em;}#sk-container-id-25 div.sk-estimator:hover {background-color: #d4ebff;}#sk-container-id-25 div.sk-parallel-item::after {content: \"\";width: 100%;border-bottom: 1px solid gray;flex-grow: 1;}#sk-container-id-25 div.sk-label:hover label.sk-toggleable__label {background-color: #d4ebff;}#sk-container-id-25 div.sk-serial::before {content: \"\";position: absolute;border-left: 1px solid gray;box-sizing: border-box;top: 0;bottom: 0;left: 50%;z-index: 0;}#sk-container-id-25 div.sk-serial {display: flex;flex-direction: column;align-items: center;background-color: white;padding-right: 0.2em;padding-left: 0.2em;position: relative;}#sk-container-id-25 div.sk-item {position: relative;z-index: 1;}#sk-container-id-25 div.sk-parallel {display: flex;align-items: stretch;justify-content: center;background-color: white;position: relative;}#sk-container-id-25 div.sk-item::before, #sk-container-id-25 div.sk-parallel-item::before {content: \"\";position: absolute;border-left: 1px solid gray;box-sizing: border-box;top: 0;bottom: 0;left: 50%;z-index: -1;}#sk-container-id-25 div.sk-parallel-item {display: flex;flex-direction: column;z-index: 1;position: relative;background-color: white;}#sk-container-id-25 div.sk-parallel-item:first-child::after {align-self: flex-end;width: 50%;}#sk-container-id-25 div.sk-parallel-item:last-child::after {align-self: flex-start;width: 50%;}#sk-container-id-25 div.sk-parallel-item:only-child::after {width: 0;}#sk-container-id-25 div.sk-dashed-wrapped {border: 1px dashed gray;margin: 0 0.4em 0.5em 0.4em;box-sizing: border-box;padding-bottom: 0.4em;background-color: white;}#sk-container-id-25 div.sk-label label {font-family: monospace;font-weight: bold;display: inline-block;line-height: 1.2em;}#sk-container-id-25 div.sk-label-container {text-align: center;}#sk-container-id-25 div.sk-container {/* jupyter's `normalize.less` sets `[hidden] { display: none; }` but bootstrap.min.css set `[hidden] { display: none !important; }` so we also need the `!important` here to be able to override the default hidden behavior on the sphinx rendered scikit-learn.org. See: https://github.com/scikit-learn/scikit-learn/issues/21755 */display: inline-block !important;position: relative;}#sk-container-id-25 div.sk-text-repr-fallback {display: none;}</style><div id=\"sk-container-id-25\" class=\"sk-top-container\"><div class=\"sk-text-repr-fallback\"><pre>ColumnTransformer(remainder=&#x27;passthrough&#x27;,\n",
              "                  transformers=[(&#x27;pipeline-1&#x27;,\n",
              "                                 Pipeline(steps=[(&#x27;standardscaler&#x27;,\n",
              "                                                  StandardScaler())]),\n",
              "                                 &lt;sklearn.compose._column_transformer.make_column_selector object at 0x143db5fa0&gt;),\n",
              "                                (&#x27;pipeline-2&#x27;,\n",
              "                                 Pipeline(steps=[(&#x27;onehotencoder&#x27;,\n",
              "                                                  OneHotEncoder(handle_unknown=&#x27;ignore&#x27;,\n",
              "                                                                sparse=False))]),\n",
              "                                 &lt;sklearn.compose._column_transformer.make_column_selector object at 0x143db5460&gt;)])</pre><b>In a Jupyter environment, please rerun this cell to show the HTML representation or trust the notebook. <br />On GitHub, the HTML representation is unable to render, please try loading this page with nbviewer.org.</b></div><div class=\"sk-container\" hidden><div class=\"sk-item sk-dashed-wrapped\"><div class=\"sk-label-container\"><div class=\"sk-label sk-toggleable\"><input class=\"sk-toggleable__control sk-hidden--visually\" id=\"sk-estimator-id-157\" type=\"checkbox\" ><label for=\"sk-estimator-id-157\" class=\"sk-toggleable__label sk-toggleable__label-arrow\">ColumnTransformer</label><div class=\"sk-toggleable__content\"><pre>ColumnTransformer(remainder=&#x27;passthrough&#x27;,\n",
              "                  transformers=[(&#x27;pipeline-1&#x27;,\n",
              "                                 Pipeline(steps=[(&#x27;standardscaler&#x27;,\n",
              "                                                  StandardScaler())]),\n",
              "                                 &lt;sklearn.compose._column_transformer.make_column_selector object at 0x143db5fa0&gt;),\n",
              "                                (&#x27;pipeline-2&#x27;,\n",
              "                                 Pipeline(steps=[(&#x27;onehotencoder&#x27;,\n",
              "                                                  OneHotEncoder(handle_unknown=&#x27;ignore&#x27;,\n",
              "                                                                sparse=False))]),\n",
              "                                 &lt;sklearn.compose._column_transformer.make_column_selector object at 0x143db5460&gt;)])</pre></div></div></div><div class=\"sk-parallel\"><div class=\"sk-parallel-item\"><div class=\"sk-item\"><div class=\"sk-label-container\"><div class=\"sk-label sk-toggleable\"><input class=\"sk-toggleable__control sk-hidden--visually\" id=\"sk-estimator-id-158\" type=\"checkbox\" ><label for=\"sk-estimator-id-158\" class=\"sk-toggleable__label sk-toggleable__label-arrow\">pipeline-1</label><div class=\"sk-toggleable__content\"><pre>&lt;sklearn.compose._column_transformer.make_column_selector object at 0x143db5fa0&gt;</pre></div></div></div><div class=\"sk-serial\"><div class=\"sk-item\"><div class=\"sk-serial\"><div class=\"sk-item\"><div class=\"sk-estimator sk-toggleable\"><input class=\"sk-toggleable__control sk-hidden--visually\" id=\"sk-estimator-id-159\" type=\"checkbox\" ><label for=\"sk-estimator-id-159\" class=\"sk-toggleable__label sk-toggleable__label-arrow\">StandardScaler</label><div class=\"sk-toggleable__content\"><pre>StandardScaler()</pre></div></div></div></div></div></div></div></div><div class=\"sk-parallel-item\"><div class=\"sk-item\"><div class=\"sk-label-container\"><div class=\"sk-label sk-toggleable\"><input class=\"sk-toggleable__control sk-hidden--visually\" id=\"sk-estimator-id-160\" type=\"checkbox\" ><label for=\"sk-estimator-id-160\" class=\"sk-toggleable__label sk-toggleable__label-arrow\">pipeline-2</label><div class=\"sk-toggleable__content\"><pre>&lt;sklearn.compose._column_transformer.make_column_selector object at 0x143db5460&gt;</pre></div></div></div><div class=\"sk-serial\"><div class=\"sk-item\"><div class=\"sk-serial\"><div class=\"sk-item\"><div class=\"sk-estimator sk-toggleable\"><input class=\"sk-toggleable__control sk-hidden--visually\" id=\"sk-estimator-id-161\" type=\"checkbox\" ><label for=\"sk-estimator-id-161\" class=\"sk-toggleable__label sk-toggleable__label-arrow\">OneHotEncoder</label><div class=\"sk-toggleable__content\"><pre>OneHotEncoder(handle_unknown=&#x27;ignore&#x27;, sparse=False)</pre></div></div></div></div></div></div></div></div><div class=\"sk-parallel-item\"><div class=\"sk-item\"><div class=\"sk-label-container\"><div class=\"sk-label sk-toggleable\"><input class=\"sk-toggleable__control sk-hidden--visually\" id=\"sk-estimator-id-162\" type=\"checkbox\" ><label for=\"sk-estimator-id-162\" class=\"sk-toggleable__label sk-toggleable__label-arrow\">remainder</label><div class=\"sk-toggleable__content\"><pre></pre></div></div></div><div class=\"sk-serial\"><div class=\"sk-item\"><div class=\"sk-estimator sk-toggleable\"><input class=\"sk-toggleable__control sk-hidden--visually\" id=\"sk-estimator-id-163\" type=\"checkbox\" ><label for=\"sk-estimator-id-163\" class=\"sk-toggleable__label sk-toggleable__label-arrow\">passthrough</label><div class=\"sk-toggleable__content\"><pre>passthrough</pre></div></div></div></div></div></div></div></div></div></div>"
            ],
            "text/plain": [
              "ColumnTransformer(remainder='passthrough',\n",
              "                  transformers=[('pipeline-1',\n",
              "                                 Pipeline(steps=[('standardscaler',\n",
              "                                                  StandardScaler())]),\n",
              "                                 <sklearn.compose._column_transformer.make_column_selector object at 0x143db5fa0>),\n",
              "                                ('pipeline-2',\n",
              "                                 Pipeline(steps=[('onehotencoder',\n",
              "                                                  OneHotEncoder(handle_unknown='ignore',\n",
              "                                                                sparse=False))]),\n",
              "                                 <sklearn.compose._column_transformer.make_column_selector object at 0x143db5460>)])"
            ]
          },
          "execution_count": 1848,
          "metadata": {},
          "output_type": "execute_result"
        }
      ],
      "source": [
        "# Numeric pipeline\n",
        "numeric_pipe = make_pipeline(scaler)\n",
        "numeric_pipe\n",
        "\n",
        "# Categorical pipeline\n",
        "categorical_pipe = make_pipeline(ohe)\n",
        "categorical_pipe\n",
        "\n",
        "# Tuples for Column Transformer\n",
        "number_tuple = (numeric_pipe, num_selector)\n",
        "category_tuple = (categorical_pipe, cat_selector)\n",
        "\n",
        "# Column Transformer\n",
        "preprocessor = make_column_transformer(number_tuple, category_tuple, remainder='passthrough')\n",
        "preprocessor"
      ]
    },
    {
      "cell_type": "code",
      "execution_count": null,
      "metadata": {
        "id": "-3O0T1bxuSGm",
        "outputId": "259d58cf-f7f5-49cf-8e3c-d73c1a6eac73"
      },
      "outputs": [
        {
          "data": {
            "text/html": [
              "<style>#sk-container-id-26 {color: black;background-color: white;}#sk-container-id-26 pre{padding: 0;}#sk-container-id-26 div.sk-toggleable {background-color: white;}#sk-container-id-26 label.sk-toggleable__label {cursor: pointer;display: block;width: 100%;margin-bottom: 0;padding: 0.3em;box-sizing: border-box;text-align: center;}#sk-container-id-26 label.sk-toggleable__label-arrow:before {content: \"▸\";float: left;margin-right: 0.25em;color: #696969;}#sk-container-id-26 label.sk-toggleable__label-arrow:hover:before {color: black;}#sk-container-id-26 div.sk-estimator:hover label.sk-toggleable__label-arrow:before {color: black;}#sk-container-id-26 div.sk-toggleable__content {max-height: 0;max-width: 0;overflow: hidden;text-align: left;background-color: #f0f8ff;}#sk-container-id-26 div.sk-toggleable__content pre {margin: 0.2em;color: black;border-radius: 0.25em;background-color: #f0f8ff;}#sk-container-id-26 input.sk-toggleable__control:checked~div.sk-toggleable__content {max-height: 200px;max-width: 100%;overflow: auto;}#sk-container-id-26 input.sk-toggleable__control:checked~label.sk-toggleable__label-arrow:before {content: \"▾\";}#sk-container-id-26 div.sk-estimator input.sk-toggleable__control:checked~label.sk-toggleable__label {background-color: #d4ebff;}#sk-container-id-26 div.sk-label input.sk-toggleable__control:checked~label.sk-toggleable__label {background-color: #d4ebff;}#sk-container-id-26 input.sk-hidden--visually {border: 0;clip: rect(1px 1px 1px 1px);clip: rect(1px, 1px, 1px, 1px);height: 1px;margin: -1px;overflow: hidden;padding: 0;position: absolute;width: 1px;}#sk-container-id-26 div.sk-estimator {font-family: monospace;background-color: #f0f8ff;border: 1px dotted black;border-radius: 0.25em;box-sizing: border-box;margin-bottom: 0.5em;}#sk-container-id-26 div.sk-estimator:hover {background-color: #d4ebff;}#sk-container-id-26 div.sk-parallel-item::after {content: \"\";width: 100%;border-bottom: 1px solid gray;flex-grow: 1;}#sk-container-id-26 div.sk-label:hover label.sk-toggleable__label {background-color: #d4ebff;}#sk-container-id-26 div.sk-serial::before {content: \"\";position: absolute;border-left: 1px solid gray;box-sizing: border-box;top: 0;bottom: 0;left: 50%;z-index: 0;}#sk-container-id-26 div.sk-serial {display: flex;flex-direction: column;align-items: center;background-color: white;padding-right: 0.2em;padding-left: 0.2em;position: relative;}#sk-container-id-26 div.sk-item {position: relative;z-index: 1;}#sk-container-id-26 div.sk-parallel {display: flex;align-items: stretch;justify-content: center;background-color: white;position: relative;}#sk-container-id-26 div.sk-item::before, #sk-container-id-26 div.sk-parallel-item::before {content: \"\";position: absolute;border-left: 1px solid gray;box-sizing: border-box;top: 0;bottom: 0;left: 50%;z-index: -1;}#sk-container-id-26 div.sk-parallel-item {display: flex;flex-direction: column;z-index: 1;position: relative;background-color: white;}#sk-container-id-26 div.sk-parallel-item:first-child::after {align-self: flex-end;width: 50%;}#sk-container-id-26 div.sk-parallel-item:last-child::after {align-self: flex-start;width: 50%;}#sk-container-id-26 div.sk-parallel-item:only-child::after {width: 0;}#sk-container-id-26 div.sk-dashed-wrapped {border: 1px dashed gray;margin: 0 0.4em 0.5em 0.4em;box-sizing: border-box;padding-bottom: 0.4em;background-color: white;}#sk-container-id-26 div.sk-label label {font-family: monospace;font-weight: bold;display: inline-block;line-height: 1.2em;}#sk-container-id-26 div.sk-label-container {text-align: center;}#sk-container-id-26 div.sk-container {/* jupyter's `normalize.less` sets `[hidden] { display: none; }` but bootstrap.min.css set `[hidden] { display: none !important; }` so we also need the `!important` here to be able to override the default hidden behavior on the sphinx rendered scikit-learn.org. See: https://github.com/scikit-learn/scikit-learn/issues/21755 */display: inline-block !important;position: relative;}#sk-container-id-26 div.sk-text-repr-fallback {display: none;}</style><div id=\"sk-container-id-26\" class=\"sk-top-container\"><div class=\"sk-text-repr-fallback\"><pre>ColumnTransformer(remainder=&#x27;passthrough&#x27;,\n",
              "                  transformers=[(&#x27;pipeline-1&#x27;,\n",
              "                                 Pipeline(steps=[(&#x27;standardscaler&#x27;,\n",
              "                                                  StandardScaler())]),\n",
              "                                 &lt;sklearn.compose._column_transformer.make_column_selector object at 0x143db5fa0&gt;),\n",
              "                                (&#x27;pipeline-2&#x27;,\n",
              "                                 Pipeline(steps=[(&#x27;onehotencoder&#x27;,\n",
              "                                                  OneHotEncoder(handle_unknown=&#x27;ignore&#x27;,\n",
              "                                                                sparse=False))]),\n",
              "                                 &lt;sklearn.compose._column_transformer.make_column_selector object at 0x143db5460&gt;)])</pre><b>In a Jupyter environment, please rerun this cell to show the HTML representation or trust the notebook. <br />On GitHub, the HTML representation is unable to render, please try loading this page with nbviewer.org.</b></div><div class=\"sk-container\" hidden><div class=\"sk-item sk-dashed-wrapped\"><div class=\"sk-label-container\"><div class=\"sk-label sk-toggleable\"><input class=\"sk-toggleable__control sk-hidden--visually\" id=\"sk-estimator-id-164\" type=\"checkbox\" ><label for=\"sk-estimator-id-164\" class=\"sk-toggleable__label sk-toggleable__label-arrow\">ColumnTransformer</label><div class=\"sk-toggleable__content\"><pre>ColumnTransformer(remainder=&#x27;passthrough&#x27;,\n",
              "                  transformers=[(&#x27;pipeline-1&#x27;,\n",
              "                                 Pipeline(steps=[(&#x27;standardscaler&#x27;,\n",
              "                                                  StandardScaler())]),\n",
              "                                 &lt;sklearn.compose._column_transformer.make_column_selector object at 0x143db5fa0&gt;),\n",
              "                                (&#x27;pipeline-2&#x27;,\n",
              "                                 Pipeline(steps=[(&#x27;onehotencoder&#x27;,\n",
              "                                                  OneHotEncoder(handle_unknown=&#x27;ignore&#x27;,\n",
              "                                                                sparse=False))]),\n",
              "                                 &lt;sklearn.compose._column_transformer.make_column_selector object at 0x143db5460&gt;)])</pre></div></div></div><div class=\"sk-parallel\"><div class=\"sk-parallel-item\"><div class=\"sk-item\"><div class=\"sk-label-container\"><div class=\"sk-label sk-toggleable\"><input class=\"sk-toggleable__control sk-hidden--visually\" id=\"sk-estimator-id-165\" type=\"checkbox\" ><label for=\"sk-estimator-id-165\" class=\"sk-toggleable__label sk-toggleable__label-arrow\">pipeline-1</label><div class=\"sk-toggleable__content\"><pre>&lt;sklearn.compose._column_transformer.make_column_selector object at 0x143db5fa0&gt;</pre></div></div></div><div class=\"sk-serial\"><div class=\"sk-item\"><div class=\"sk-serial\"><div class=\"sk-item\"><div class=\"sk-estimator sk-toggleable\"><input class=\"sk-toggleable__control sk-hidden--visually\" id=\"sk-estimator-id-166\" type=\"checkbox\" ><label for=\"sk-estimator-id-166\" class=\"sk-toggleable__label sk-toggleable__label-arrow\">StandardScaler</label><div class=\"sk-toggleable__content\"><pre>StandardScaler()</pre></div></div></div></div></div></div></div></div><div class=\"sk-parallel-item\"><div class=\"sk-item\"><div class=\"sk-label-container\"><div class=\"sk-label sk-toggleable\"><input class=\"sk-toggleable__control sk-hidden--visually\" id=\"sk-estimator-id-167\" type=\"checkbox\" ><label for=\"sk-estimator-id-167\" class=\"sk-toggleable__label sk-toggleable__label-arrow\">pipeline-2</label><div class=\"sk-toggleable__content\"><pre>&lt;sklearn.compose._column_transformer.make_column_selector object at 0x143db5460&gt;</pre></div></div></div><div class=\"sk-serial\"><div class=\"sk-item\"><div class=\"sk-serial\"><div class=\"sk-item\"><div class=\"sk-estimator sk-toggleable\"><input class=\"sk-toggleable__control sk-hidden--visually\" id=\"sk-estimator-id-168\" type=\"checkbox\" ><label for=\"sk-estimator-id-168\" class=\"sk-toggleable__label sk-toggleable__label-arrow\">OneHotEncoder</label><div class=\"sk-toggleable__content\"><pre>OneHotEncoder(handle_unknown=&#x27;ignore&#x27;, sparse=False)</pre></div></div></div></div></div></div></div></div><div class=\"sk-parallel-item\"><div class=\"sk-item\"><div class=\"sk-label-container\"><div class=\"sk-label sk-toggleable\"><input class=\"sk-toggleable__control sk-hidden--visually\" id=\"sk-estimator-id-169\" type=\"checkbox\" ><label for=\"sk-estimator-id-169\" class=\"sk-toggleable__label sk-toggleable__label-arrow\">remainder</label><div class=\"sk-toggleable__content\"><pre>[]</pre></div></div></div><div class=\"sk-serial\"><div class=\"sk-item\"><div class=\"sk-estimator sk-toggleable\"><input class=\"sk-toggleable__control sk-hidden--visually\" id=\"sk-estimator-id-170\" type=\"checkbox\" ><label for=\"sk-estimator-id-170\" class=\"sk-toggleable__label sk-toggleable__label-arrow\">passthrough</label><div class=\"sk-toggleable__content\"><pre>passthrough</pre></div></div></div></div></div></div></div></div></div></div>"
            ],
            "text/plain": [
              "ColumnTransformer(remainder='passthrough',\n",
              "                  transformers=[('pipeline-1',\n",
              "                                 Pipeline(steps=[('standardscaler',\n",
              "                                                  StandardScaler())]),\n",
              "                                 <sklearn.compose._column_transformer.make_column_selector object at 0x143db5fa0>),\n",
              "                                ('pipeline-2',\n",
              "                                 Pipeline(steps=[('onehotencoder',\n",
              "                                                  OneHotEncoder(handle_unknown='ignore',\n",
              "                                                                sparse=False))]),\n",
              "                                 <sklearn.compose._column_transformer.make_column_selector object at 0x143db5460>)])"
            ]
          },
          "execution_count": 1849,
          "metadata": {},
          "output_type": "execute_result"
        }
      ],
      "source": [
        "##preprocessor.fit_transform(X_train)\n",
        "preprocessor.fit(X_train)"
      ]
    },
    {
      "cell_type": "code",
      "execution_count": null,
      "metadata": {
        "id": "IT6DiOfJuSGm",
        "outputId": "b8bc1f62-a43f-44bd-e954-508ebc478fd8"
      },
      "outputs": [
        {
          "data": {
            "text/plain": [
              "array([[-9.72457375e-01],\n",
              "       [-2.68672680e-01],\n",
              "       [ 1.66602290e+00],\n",
              "       [-9.72457375e-01],\n",
              "       [-9.65334048e-01],\n",
              "       [ 3.22563449e-01],\n",
              "       [-9.72457375e-01],\n",
              "       [-9.72457375e-01],\n",
              "       [-9.72457375e-01],\n",
              "       [ 1.08048543e+00],\n",
              "       [-3.02864649e-01],\n",
              "       [ 3.92372053e-01],\n",
              "       [-5.03742467e-01],\n",
              "       [ 5.07769948e-01],\n",
              "       [ 2.45386285e+00],\n",
              "       [-5.90647055e-01],\n",
              "       [ 8.76758280e-01],\n",
              "       [-3.49878607e-01],\n",
              "       [ 1.57769364e+00],\n",
              "       [ 9.72210860e-01],\n",
              "       [ 1.04344413e+00],\n",
              "       [-9.72457375e-01],\n",
              "       [-9.72457375e-01],\n",
              "       [-1.02516999e+00],\n",
              "       [-9.72457375e-01],\n",
              "       [ 7.87004361e-01],\n",
              "       [-9.72457375e-01],\n",
              "       [ 4.00920045e-01],\n",
              "       [-9.72457375e-01],\n",
              "       [ 4.39386010e-01],\n",
              "       [ 2.22836873e-01],\n",
              "       [ 1.11467740e+00],\n",
              "       [ 1.22865063e+00],\n",
              "       [-9.72457375e-01],\n",
              "       [-9.72457375e-01],\n",
              "       [ 8.95278929e-01],\n",
              "       [ 1.21297931e+00],\n",
              "       [ 1.00497816e+00],\n",
              "       [ 4.37961345e-01],\n",
              "       [-9.72457375e-01],\n",
              "       [-9.72457375e-01],\n",
              "       [-8.51360818e-01],\n",
              "       [-9.72457375e-01],\n",
              "       [ 3.62454080e-01],\n",
              "       [-9.72457375e-01],\n",
              "       [ 1.47654240e+00],\n",
              "       [ 1.49363839e+00],\n",
              "       [-9.72457375e-01],\n",
              "       [ 6.26017174e-01],\n",
              "       [ 1.55489900e+00],\n",
              "       [-9.72457375e-01],\n",
              "       [ 6.13195186e-01],\n",
              "       [ 1.49506305e+00],\n",
              "       [ 1.17593801e+00],\n",
              "       [-9.72457375e-01],\n",
              "       [-6.14866366e-01],\n",
              "       [-9.72457375e-01],\n",
              "       [-5.53605755e-01],\n",
              "       [-9.22594087e-01],\n",
              "       [-6.02044378e-01],\n",
              "       [-9.72457375e-01],\n",
              "       [ 1.13604738e+00],\n",
              "       [-9.72457375e-01],\n",
              "       [ 9.26621568e-01],\n",
              "       [ 1.20300665e+00],\n",
              "       [ 1.77247581e-01],\n",
              "       [ 1.74295483e+00],\n",
              "       [ 1.53495368e+00],\n",
              "       [ 7.00099773e-01],\n",
              "       [ 5.07769948e-01],\n",
              "       [-9.72457375e-01],\n",
              "       [-9.48238063e-01],\n",
              "       [ 1.39818581e+00],\n",
              "       [-9.72457375e-01],\n",
              "       [ 2.12903914e+00],\n",
              "       [ 1.33122653e+00],\n",
              "       [-9.72457375e-01],\n",
              "       [-9.82430032e-01],\n",
              "       [-9.72457375e-01],\n",
              "       [-9.72457375e-01],\n",
              "       [ 5.07769948e-01],\n",
              "       [-9.72457375e-01],\n",
              "       [ 1.62755693e+00],\n",
              "       [-9.72457375e-01],\n",
              "       [-6.93222962e-01],\n",
              "       [-9.72457375e-01],\n",
              "       [-6.87524300e-01],\n",
              "       [-4.88071148e-01],\n",
              "       [-9.72457375e-01],\n",
              "       [ 1.33977453e+00],\n",
              "       [-9.72457375e-01],\n",
              "       [-6.46209004e-01],\n",
              "       [ 1.19445866e+00],\n",
              "       [ 5.22016602e-01],\n",
              "       [ 7.75607038e-01],\n",
              "       [ 8.31168988e-01],\n",
              "       [ 1.04486879e+00],\n",
              "       [ 1.51073437e+00],\n",
              "       [ 1.24147262e+00],\n",
              "       [-7.38812254e-01],\n",
              "       [ 1.34404852e+00],\n",
              "       [ 7.52812392e-01],\n",
              "       [-9.72457375e-01],\n",
              "       [ 1.17308868e+00],\n",
              "       [ 2.13331314e+00],\n",
              "       [-6.91798296e-01],\n",
              "       [ 2.05780587e+00],\n",
              "       [-9.72457375e-01],\n",
              "       [ 1.27139059e+00],\n",
              "       [ 1.76850596e-02],\n",
              "       [-9.72457375e-01],\n",
              "       [ 1.05199212e+00],\n",
              "       [ 1.31697988e+00],\n",
              "       [-9.98101351e-01],\n",
              "       [ 9.89306844e-01],\n",
              "       [ 1.15456803e+00],\n",
              "       [ 6.13195186e-01],\n",
              "       [ 1.15456803e+00],\n",
              "       [ 8.83881606e-01],\n",
              "       [ 7.42839734e-01],\n",
              "       [-7.60182234e-01],\n",
              "       [-9.90978025e-01],\n",
              "       [ 2.02218924e+00],\n",
              "       [-9.72457375e-01],\n",
              "       [-9.33991410e-01],\n",
              "       [-9.72457375e-01],\n",
              "       [ 1.25999326e+00],\n",
              "       [ 3.82399395e-01],\n",
              "       [-9.72457375e-01],\n",
              "       [-9.72457375e-01],\n",
              "       [-9.72457375e-01],\n",
              "       [-9.78156036e-01],\n",
              "       [ 7.03976784e-02],\n",
              "       [ 1.26711659e+00],\n",
              "       [ 1.17736267e+00],\n",
              "       [-9.72457375e-01],\n",
              "       [-9.72457375e-01],\n",
              "       [ 1.12037606e+00],\n",
              "       [ 2.23161505e+00],\n",
              "       [-3.57001934e-01],\n",
              "       [-7.38812254e-01],\n",
              "       [-9.66758713e-01],\n",
              "       [ 1.73868083e+00],\n",
              "       [-9.72457375e-01],\n",
              "       [-9.72457375e-01],\n",
              "       [-5.08016463e-01],\n",
              "       [ 3.25412780e-01],\n",
              "       [-9.72457375e-01],\n",
              "       [ 9.89306844e-01],\n",
              "       [ 1.27566458e+00],\n",
              "       [ 7.41415069e-01],\n",
              "       [ 3.59604749e-01],\n",
              "       [-8.59908810e-01],\n",
              "       [ 1.01922482e+00],\n",
              "       [ 1.32267854e+00],\n",
              "       [-9.72457375e-01],\n",
              "       [ 1.30558256e+00],\n",
              "       [-9.72457375e-01],\n",
              "       [-9.72457375e-01],\n",
              "       [ 8.15497669e-01],\n",
              "       [-6.78976308e-01],\n",
              "       [-9.72457375e-01],\n",
              "       [-9.72457375e-01],\n",
              "       [ 1.80706477e+00],\n",
              "       [-9.72457375e-01],\n",
              "       [-9.72457375e-01],\n",
              "       [ 1.83983207e+00],\n",
              "       [-9.72457375e-01],\n",
              "       [-1.78918762e-01],\n",
              "       [-9.72457375e-01],\n",
              "       [-9.72457375e-01],\n",
              "       [ 1.55917299e+00],\n",
              "       [-9.72457375e-01],\n",
              "       [ 7.15771092e-01],\n",
              "       [ 1.74153016e+00],\n",
              "       [-9.72457375e-01],\n",
              "       [-4.69550498e-01],\n",
              "       [ 9.33744894e-01],\n",
              "       [ 1.24289728e+00],\n",
              "       [-5.46482428e-01],\n",
              "       [ 6.90127116e-01],\n",
              "       [-9.72457375e-01],\n",
              "       [-9.72457375e-01],\n",
              "       [-9.53936725e-01],\n",
              "       [-5.60729082e-01],\n",
              "       [-5.45057763e-01],\n",
              "       [-9.72457375e-01],\n",
              "       [ 1.22437663e+00],\n",
              "       [ 1.04059480e+00],\n",
              "       [-9.72457375e-01],\n",
              "       [ 1.31840455e+00],\n",
              "       [ 3.29686776e-01],\n",
              "       [ 1.69309154e+00],\n",
              "       [-9.72457375e-01],\n",
              "       [ 1.01210149e+00],\n",
              "       [-9.75306705e-01],\n",
              "       [ 4.53632664e-01],\n",
              "       [ 3.65303411e-01],\n",
              "       [-9.72457375e-01],\n",
              "       [ 4.79276640e-01],\n",
              "       [-9.72457375e-01],\n",
              "       [-9.72457375e-01],\n",
              "       [-9.72457375e-01],\n",
              "       [-8.91251448e-01],\n",
              "       [ 1.02064948e+00],\n",
              "       [ 1.15029403e+00],\n",
              "       [-9.72457375e-01],\n",
              "       [ 1.31270588e+00],\n",
              "       [ 7.71333042e-01],\n",
              "       [-9.72457375e-01],\n",
              "       [-9.78156036e-01],\n",
              "       [ 4.59331325e-01],\n",
              "       [-9.72457375e-01],\n",
              "       [-9.81005367e-01],\n",
              "       [ 1.20870531e+00],\n",
              "       [ 8.96703595e-01],\n",
              "       [-1.97439412e-01],\n",
              "       [ 7.05798435e-01],\n",
              "       [-1.00522468e+00],\n",
              "       [ 1.01780015e+00],\n",
              "       [-2.75796007e-01],\n",
              "       [-9.72457375e-01],\n",
              "       [-9.72457375e-01],\n",
              "       [ 2.79823488e-01],\n",
              "       [-9.72457375e-01],\n",
              "       [-5.10865794e-01],\n",
              "       [-9.72457375e-01],\n",
              "       [ 1.12607472e+00],\n",
              "       [-3.18535968e-01],\n",
              "       [-9.72457375e-01],\n",
              "       [-9.76731371e-01],\n",
              "       [-9.72457375e-01],\n",
              "       [-9.72457375e-01],\n",
              "       [ 6.13195186e-01],\n",
              "       [-9.72457375e-01],\n",
              "       [-9.72457375e-01],\n",
              "       [ 9.85032848e-01],\n",
              "       [ 1.41243246e+00],\n",
              "       [ 5.44811248e-01],\n",
              "       [ 9.47991548e-01],\n",
              "       [ 6.87277785e-01],\n",
              "       [-9.72457375e-01],\n",
              "       [-4.96619140e-01],\n",
              "       [-9.81005367e-01],\n",
              "       [-9.72457375e-01],\n",
              "       [-3.38481284e-01],\n",
              "       [ 1.19160933e+00],\n",
              "       [ 1.10897874e+00],\n",
              "       [-9.72457375e-01],\n",
              "       [-9.72457375e-01],\n",
              "       [ 8.98128260e-01],\n",
              "       [-9.72457375e-01],\n",
              "       [-9.72457375e-01],\n",
              "       [-9.72457375e-01],\n",
              "       [ 7.84155030e-01],\n",
              "       [-9.72457375e-01],\n",
              "       [-4.56728510e-01],\n",
              "       [-9.72457375e-01],\n",
              "       [ 6.61236823e-02],\n",
              "       [-6.03469043e-01],\n",
              "       [-9.85279363e-01],\n",
              "       [ 6.20318512e-01],\n",
              "       [ 5.67605894e-01],\n",
              "       [ 6.54510481e-01],\n",
              "       [-7.10318946e-01],\n",
              "       [ 8.93854264e-01],\n",
              "       [ 8.35442984e-01],\n",
              "       [-5.76400401e-01],\n",
              "       [-9.72457375e-01],\n",
              "       [ 1.45232309e+00],\n",
              "       [ 1.86975004e+00],\n",
              "       [ 8.81032276e-01],\n",
              "       [ 1.39391181e+00],\n",
              "       [-9.72457375e-01],\n",
              "       [ 1.13177338e+00],\n",
              "       [-5.55030420e-01],\n",
              "       [ 1.36684317e+00],\n",
              "       [-9.72457375e-01],\n",
              "       [-9.72457375e-01],\n",
              "       [-4.92345144e-01],\n",
              "       [ 8.82456941e-01],\n",
              "       [-4.65276502e-01],\n",
              "       [-9.72457375e-01],\n",
              "       [-9.72457375e-01],\n",
              "       [-9.72457375e-01],\n",
              "       [-7.03195619e-01],\n",
              "       [-9.72457375e-01],\n",
              "       [-9.72457375e-01],\n",
              "       [-9.65334048e-01],\n",
              "       [-9.72457375e-01],\n",
              "       [ 1.50178939e-01],\n",
              "       [ 5.49085244e-01],\n",
              "       [-9.72457375e-01],\n",
              "       [ 8.02675680e-01],\n",
              "       [-7.40236919e-01],\n",
              "       [-9.72457375e-01],\n",
              "       [ 2.42782189e-01],\n",
              "       [-9.72457375e-01],\n",
              "       [ 8.62511626e-01],\n",
              "       [-9.72457375e-01],\n",
              "       [ 7.72757707e-01],\n",
              "       [-9.72457375e-01],\n",
              "       [ 5.83277213e-01],\n",
              "       [-9.72457375e-01],\n",
              "       [ 7.03976784e-02],\n",
              "       [ 5.69030559e-01],\n",
              "       [ 7.32470091e-02],\n",
              "       [ 8.92429599e-01],\n",
              "       [-9.72457375e-01],\n",
              "       [-9.72457375e-01],\n",
              "       [-9.72457375e-01],\n",
              "       [-9.72457375e-01],\n",
              "       [ 1.65889957e+00],\n",
              "       [ 1.18591067e+00],\n",
              "       [-9.72457375e-01],\n",
              "       [ 1.38678848e+00],\n",
              "       [ 2.12334048e+00],\n",
              "       [-9.72457375e-01],\n",
              "       [ 9.39443556e-01],\n",
              "       [ 1.40103514e+00],\n",
              "       [-9.09772098e-01],\n",
              "       [-9.72457375e-01],\n",
              "       [ 4.15166699e-01],\n",
              "       [-9.72457375e-01],\n",
              "       [-1.23356812e-01],\n",
              "       [ 6.07496524e-01],\n",
              "       [-9.72457375e-01],\n",
              "       [ 7.21469754e-01],\n",
              "       [-9.72457375e-01],\n",
              "       [-9.85279363e-01],\n",
              "       [-9.72457375e-01],\n",
              "       [ 1.49221372e+00],\n",
              "       [ 9.50840879e-01],\n",
              "       [-9.72457375e-01],\n",
              "       [-9.72457375e-01],\n",
              "       [-9.72457375e-01],\n",
              "       [ 1.97802461e+00],\n",
              "       [ 1.28808959e-01],\n",
              "       [ 1.32980187e+00],\n",
              "       [ 1.15599269e+00],\n",
              "       [-9.08347433e-01],\n",
              "       [-9.72457375e-01],\n",
              "       [ 1.85265406e+00],\n",
              "       [-9.72457375e-01],\n",
              "       [-2.74371342e-01],\n",
              "       [-9.72457375e-01],\n",
              "       [-9.72457375e-01],\n",
              "       [ 8.89580268e-01],\n",
              "       [ 6.10345855e-01],\n",
              "       [-3.44179945e-01],\n",
              "       [-9.72457375e-01],\n",
              "       [-9.72457375e-01],\n",
              "       [-4.63851837e-01],\n",
              "       [-9.72457375e-01],\n",
              "       [ 6.60209143e-01],\n",
              "       [-9.72457375e-01],\n",
              "       [-9.72457375e-01],\n",
              "       [-9.72457375e-01],\n",
              "       [ 1.25002061e+00],\n",
              "       [-9.72457375e-01],\n",
              "       [-9.72457375e-01],\n",
              "       [-9.72457375e-01],\n",
              "       [ 1.66174890e+00],\n",
              "       [-2.98590653e-01],\n",
              "       [-5.55030420e-01],\n",
              "       [-3.45604611e-01],\n",
              "       [ 1.33692520e+00],\n",
              "       [ 1.32837720e+00],\n",
              "       [ 1.67599555e+00],\n",
              "       [-9.72457375e-01],\n",
              "       [-9.72457375e-01],\n",
              "       [ 1.03774547e+00],\n",
              "       [ 1.81703743e+00],\n",
              "       [ 4.53632664e-01],\n",
              "       [-7.60182234e-01],\n",
              "       [-9.72457375e-01],\n",
              "       [-5.35085105e-01],\n",
              "       [ 3.33960772e-01],\n",
              "       [-9.55361390e-01],\n",
              "       [ 3.11166126e-01],\n",
              "       [ 1.55774833e+00],\n",
              "       [-4.62427171e-01],\n",
              "       [-4.26810537e-01],\n",
              "       [ 8.02675680e-01],\n",
              "       [-9.72457375e-01],\n",
              "       [-9.72457375e-01],\n",
              "       [ 1.05626612e+00],\n",
              "       [ 4.56481995e-01],\n",
              "       [-9.72457375e-01],\n",
              "       [-9.72457375e-01],\n",
              "       [ 7.59935719e-01],\n",
              "       [ 8.14073003e-01],\n",
              "       [ 1.20585598e+00],\n",
              "       [ 8.56812964e-01],\n",
              "       [-9.72457375e-01],\n",
              "       [-9.72457375e-01],\n",
              "       [-9.72457375e-01],\n",
              "       [-9.72457375e-01],\n",
              "       [ 9.13799579e-01],\n",
              "       [ 1.06481411e+00],\n",
              "       [ 1.55204967e+00],\n",
              "       [-1.01947133e+00],\n",
              "       [-9.72457375e-01],\n",
              "       [ 6.88702450e-01],\n",
              "       [ 1.03347147e+00],\n",
              "       [ 5.89075121e-04],\n",
              "       [ 1.22152730e+00],\n",
              "       [-9.72457375e-01],\n",
              "       [ 1.46941907e+00],\n",
              "       [-9.31142079e-01],\n",
              "       [-2.64795670e-02],\n",
              "       [ 1.93813398e+00],\n",
              "       [ 6.78729793e-01],\n",
              "       [ 1.78672247e-01],\n",
              "       [-9.15470760e-01],\n",
              "       [-9.72457375e-01],\n",
              "       [ 1.16454068e+00],\n",
              "       [-9.72457375e-01],\n",
              "       [-9.11196764e-01],\n",
              "       [-4.36783194e-01],\n",
              "       [ 9.00977591e-01],\n",
              "       [-8.01497530e-01],\n",
              "       [-9.72457375e-01],\n",
              "       [ 1.51603605e-01],\n",
              "       [-9.72457375e-01],\n",
              "       [ 1.43950110e+00],\n",
              "       [-9.72457375e-01],\n",
              "       [ 1.06908810e+00],\n",
              "       [ 1.28136325e+00],\n",
              "       [-9.04073437e-01],\n",
              "       [ 2.71275496e-01],\n",
              "       [ 6.77305127e-01],\n",
              "       [-9.72457375e-01],\n",
              "       [-9.72457375e-01],\n",
              "       [ 9.53690210e-01],\n",
              "       [-9.72457375e-01],\n",
              "       [-1.71795435e-01],\n",
              "       [ 8.78182945e-01],\n",
              "       [-8.52785483e-01],\n",
              "       [ 5.13468609e-01],\n",
              "       [ 9.88909859e-02],\n",
              "       [ 1.52070703e+00],\n",
              "       [ 1.25002061e+00],\n",
              "       [-9.72457375e-01],\n",
              "       [-1.00380001e+00]])"
            ]
          },
          "execution_count": 1850,
          "metadata": {},
          "output_type": "execute_result"
        }
      ],
      "source": [
        "train_ohe = preprocessor.transform(X_train)\n",
        "test_ohe = preprocessor.transform(X_test)\n",
        "train_ohe"
      ]
    },
    {
      "cell_type": "code",
      "execution_count": null,
      "metadata": {
        "id": "cO444e8LuSGm"
      },
      "outputs": [],
      "source": [
        "# Instantiate model\n",
        "pca = PCA(.8)"
      ]
    },
    {
      "cell_type": "code",
      "execution_count": null,
      "metadata": {
        "id": "I5ccF_5guSGm"
      },
      "outputs": [],
      "source": [
        "# Create a tranformer pipeline\n",
        "transformer = make_pipeline(preprocessor, pca)"
      ]
    },
    {
      "cell_type": "code",
      "execution_count": null,
      "metadata": {
        "id": "gnwVwHEIuSGn"
      },
      "outputs": [],
      "source": [
        "# Fit preprocessor on training set only\n",
        "##preprocessor.fit(X_train)"
      ]
    },
    {
      "cell_type": "code",
      "execution_count": null,
      "metadata": {
        "id": "gFN_uPS5uSGn"
      },
      "outputs": [],
      "source": [
        "# Apply transform to both the training set and test set\n",
        "##X_train = preprocessor.transform(X_train)\n",
        "##X_test = preprocessor.transform(X_test)"
      ]
    },
    {
      "cell_type": "code",
      "execution_count": null,
      "metadata": {
        "id": "V6ieGWIpuSGn"
      },
      "outputs": [],
      "source": [
        "# PCA values that are acceptable 0.8-0.95\n",
        "# PCA value of 0.7 suggested to get code to run, 0.6 if needed\n",
        "# PCA  --> reduce size of the data --> reduce size and maintain performance --> will help code to run\n",
        "\n",
        "# Instantiate model\n",
        "### pca = PCA(.8)\n",
        "\n",
        "# Fit just PCA on training set only\n",
        "### pca.fit(X_train)\n",
        "\n",
        "\n",
        "# Create PCA pipeline for Model to use\n",
        "# PCA_pipe = make_pipeline(\n",
        "#     preprocessor,\n",
        "#     PCA(n_components=.80)\n",
        "#     )"
      ]
    },
    {
      "cell_type": "code",
      "execution_count": null,
      "metadata": {
        "id": "eOYnGJySuSGn"
      },
      "outputs": [],
      "source": [
        "# Apply mapping (transform) to both the training set and test set\n",
        "##X_train = pca.transform(X_train)\n",
        "##X_test = pca.transform(X_test)"
      ]
    },
    {
      "cell_type": "code",
      "execution_count": null,
      "metadata": {
        "id": "uqKVdU09uSGn"
      },
      "outputs": [],
      "source": []
    },
    {
      "cell_type": "markdown",
      "metadata": {
        "id": "V7m9fcmcuSGn"
      },
      "source": [
        "### XGBoost Pipeline & Evaluation"
      ]
    },
    {
      "cell_type": "code",
      "execution_count": null,
      "metadata": {
        "id": "mKXfTeiQuSGo"
      },
      "outputs": [],
      "source": [
        "# Instantiate model\n",
        "xgbc = XGBClassifier(random_state=42)"
      ]
    },
    {
      "cell_type": "code",
      "execution_count": null,
      "metadata": {
        "id": "-Zz9Q7CLuSGo"
      },
      "outputs": [],
      "source": [
        "# Create modeling pipeline\n",
        "xgbc_pipe = make_pipeline(transformer, xgbc)"
      ]
    },
    {
      "cell_type": "code",
      "execution_count": null,
      "metadata": {
        "id": "t4uXqEtSuSGo",
        "outputId": "9353f0f4-aae0-4a83-8b25-7768f059a578"
      },
      "outputs": [
        {
          "ename": "TypeError",
          "evalue": "'<' not supported between instances of 'str' and 'int'",
          "output_type": "error",
          "traceback": [
            "\u001b[0;31m---------------------------------------------------------------------------\u001b[0m",
            "\u001b[0;31mTypeError\u001b[0m                                 Traceback (most recent call last)",
            "Cell \u001b[0;32mIn [1859], line 2\u001b[0m\n\u001b[1;32m      1\u001b[0m \u001b[38;5;66;03m# Train the model on the data\u001b[39;00m\n\u001b[0;32m----> 2\u001b[0m \u001b[43mxgbc_pipe\u001b[49m\u001b[38;5;241;43m.\u001b[39;49m\u001b[43mfit\u001b[49m\u001b[43m(\u001b[49m\u001b[43mX_train\u001b[49m\u001b[43m,\u001b[49m\u001b[43m \u001b[49m\u001b[43my_train\u001b[49m\u001b[43m)\u001b[49m\n",
            "File \u001b[0;32m~/anaconda3/envs/dojo-env/lib/python3.9/site-packages/sklearn/pipeline.py:382\u001b[0m, in \u001b[0;36mPipeline.fit\u001b[0;34m(self, X, y, **fit_params)\u001b[0m\n\u001b[1;32m    380\u001b[0m     \u001b[38;5;28;01mif\u001b[39;00m \u001b[38;5;28mself\u001b[39m\u001b[38;5;241m.\u001b[39m_final_estimator \u001b[38;5;241m!=\u001b[39m \u001b[38;5;124m\"\u001b[39m\u001b[38;5;124mpassthrough\u001b[39m\u001b[38;5;124m\"\u001b[39m:\n\u001b[1;32m    381\u001b[0m         fit_params_last_step \u001b[38;5;241m=\u001b[39m fit_params_steps[\u001b[38;5;28mself\u001b[39m\u001b[38;5;241m.\u001b[39msteps[\u001b[38;5;241m-\u001b[39m\u001b[38;5;241m1\u001b[39m][\u001b[38;5;241m0\u001b[39m]]\n\u001b[0;32m--> 382\u001b[0m         \u001b[38;5;28;43mself\u001b[39;49m\u001b[38;5;241;43m.\u001b[39;49m\u001b[43m_final_estimator\u001b[49m\u001b[38;5;241;43m.\u001b[39;49m\u001b[43mfit\u001b[49m\u001b[43m(\u001b[49m\u001b[43mXt\u001b[49m\u001b[43m,\u001b[49m\u001b[43m \u001b[49m\u001b[43my\u001b[49m\u001b[43m,\u001b[49m\u001b[43m \u001b[49m\u001b[38;5;241;43m*\u001b[39;49m\u001b[38;5;241;43m*\u001b[39;49m\u001b[43mfit_params_last_step\u001b[49m\u001b[43m)\u001b[49m\n\u001b[1;32m    384\u001b[0m \u001b[38;5;28;01mreturn\u001b[39;00m \u001b[38;5;28mself\u001b[39m\n",
            "File \u001b[0;32m~/anaconda3/envs/dojo-env/lib/python3.9/site-packages/xgboost/core.py:506\u001b[0m, in \u001b[0;36m_deprecate_positional_args.<locals>.inner_f\u001b[0;34m(*args, **kwargs)\u001b[0m\n\u001b[1;32m    504\u001b[0m \u001b[38;5;28;01mfor\u001b[39;00m k, arg \u001b[38;5;129;01min\u001b[39;00m \u001b[38;5;28mzip\u001b[39m(sig\u001b[38;5;241m.\u001b[39mparameters, args):\n\u001b[1;32m    505\u001b[0m     kwargs[k] \u001b[38;5;241m=\u001b[39m arg\n\u001b[0;32m--> 506\u001b[0m \u001b[38;5;28;01mreturn\u001b[39;00m \u001b[43mf\u001b[49m\u001b[43m(\u001b[49m\u001b[38;5;241;43m*\u001b[39;49m\u001b[38;5;241;43m*\u001b[39;49m\u001b[43mkwargs\u001b[49m\u001b[43m)\u001b[49m\n",
            "File \u001b[0;32m~/anaconda3/envs/dojo-env/lib/python3.9/site-packages/xgboost/sklearn.py:1194\u001b[0m, in \u001b[0;36mXGBClassifier.fit\u001b[0;34m(self, X, y, sample_weight, base_margin, eval_set, eval_metric, early_stopping_rounds, verbose, xgb_model, sample_weight_eval_set, base_margin_eval_set, feature_weights, callbacks)\u001b[0m\n\u001b[1;32m   1192\u001b[0m         \u001b[38;5;28;01mraise\u001b[39;00m \u001b[38;5;167;01mValueError\u001b[39;00m(label_encoding_check_error)\n\u001b[1;32m   1193\u001b[0m \u001b[38;5;28;01melse\u001b[39;00m:\n\u001b[0;32m-> 1194\u001b[0m     \u001b[38;5;28mself\u001b[39m\u001b[38;5;241m.\u001b[39mclasses_ \u001b[38;5;241m=\u001b[39m \u001b[43mnp\u001b[49m\u001b[38;5;241;43m.\u001b[39;49m\u001b[43munique\u001b[49m\u001b[43m(\u001b[49m\u001b[43mnp\u001b[49m\u001b[38;5;241;43m.\u001b[39;49m\u001b[43masarray\u001b[49m\u001b[43m(\u001b[49m\u001b[43my\u001b[49m\u001b[43m)\u001b[49m\u001b[43m)\u001b[49m\n\u001b[1;32m   1195\u001b[0m     \u001b[38;5;28mself\u001b[39m\u001b[38;5;241m.\u001b[39mn_classes_ \u001b[38;5;241m=\u001b[39m \u001b[38;5;28mlen\u001b[39m(\u001b[38;5;28mself\u001b[39m\u001b[38;5;241m.\u001b[39mclasses_)\n\u001b[1;32m   1196\u001b[0m     \u001b[38;5;28;01mif\u001b[39;00m \u001b[38;5;129;01mnot\u001b[39;00m \u001b[38;5;28mself\u001b[39m\u001b[38;5;241m.\u001b[39muse_label_encoder \u001b[38;5;129;01mand\u001b[39;00m (\n\u001b[1;32m   1197\u001b[0m         \u001b[38;5;129;01mnot\u001b[39;00m np\u001b[38;5;241m.\u001b[39marray_equal(\u001b[38;5;28mself\u001b[39m\u001b[38;5;241m.\u001b[39mclasses_, np\u001b[38;5;241m.\u001b[39marange(\u001b[38;5;28mself\u001b[39m\u001b[38;5;241m.\u001b[39mn_classes_))\n\u001b[1;32m   1198\u001b[0m     ):\n",
            "File \u001b[0;32m<__array_function__ internals>:180\u001b[0m, in \u001b[0;36munique\u001b[0;34m(*args, **kwargs)\u001b[0m\n",
            "File \u001b[0;32m~/anaconda3/envs/dojo-env/lib/python3.9/site-packages/numpy/lib/arraysetops.py:274\u001b[0m, in \u001b[0;36munique\u001b[0;34m(ar, return_index, return_inverse, return_counts, axis, equal_nan)\u001b[0m\n\u001b[1;32m    272\u001b[0m ar \u001b[38;5;241m=\u001b[39m np\u001b[38;5;241m.\u001b[39masanyarray(ar)\n\u001b[1;32m    273\u001b[0m \u001b[38;5;28;01mif\u001b[39;00m axis \u001b[38;5;129;01mis\u001b[39;00m \u001b[38;5;28;01mNone\u001b[39;00m:\n\u001b[0;32m--> 274\u001b[0m     ret \u001b[38;5;241m=\u001b[39m \u001b[43m_unique1d\u001b[49m\u001b[43m(\u001b[49m\u001b[43mar\u001b[49m\u001b[43m,\u001b[49m\u001b[43m \u001b[49m\u001b[43mreturn_index\u001b[49m\u001b[43m,\u001b[49m\u001b[43m \u001b[49m\u001b[43mreturn_inverse\u001b[49m\u001b[43m,\u001b[49m\u001b[43m \u001b[49m\u001b[43mreturn_counts\u001b[49m\u001b[43m,\u001b[49m\u001b[43m \u001b[49m\n\u001b[1;32m    275\u001b[0m \u001b[43m                    \u001b[49m\u001b[43mequal_nan\u001b[49m\u001b[38;5;241;43m=\u001b[39;49m\u001b[43mequal_nan\u001b[49m\u001b[43m)\u001b[49m\n\u001b[1;32m    276\u001b[0m     \u001b[38;5;28;01mreturn\u001b[39;00m _unpack_tuple(ret)\n\u001b[1;32m    278\u001b[0m \u001b[38;5;66;03m# axis was specified and not None\u001b[39;00m\n",
            "File \u001b[0;32m~/anaconda3/envs/dojo-env/lib/python3.9/site-packages/numpy/lib/arraysetops.py:336\u001b[0m, in \u001b[0;36m_unique1d\u001b[0;34m(ar, return_index, return_inverse, return_counts, equal_nan)\u001b[0m\n\u001b[1;32m    334\u001b[0m     aux \u001b[38;5;241m=\u001b[39m ar[perm]\n\u001b[1;32m    335\u001b[0m \u001b[38;5;28;01melse\u001b[39;00m:\n\u001b[0;32m--> 336\u001b[0m     \u001b[43mar\u001b[49m\u001b[38;5;241;43m.\u001b[39;49m\u001b[43msort\u001b[49m\u001b[43m(\u001b[49m\u001b[43m)\u001b[49m\n\u001b[1;32m    337\u001b[0m     aux \u001b[38;5;241m=\u001b[39m ar\n\u001b[1;32m    338\u001b[0m mask \u001b[38;5;241m=\u001b[39m np\u001b[38;5;241m.\u001b[39mempty(aux\u001b[38;5;241m.\u001b[39mshape, dtype\u001b[38;5;241m=\u001b[39mnp\u001b[38;5;241m.\u001b[39mbool_)\n",
            "\u001b[0;31mTypeError\u001b[0m: '<' not supported between instances of 'str' and 'int'"
          ]
        }
      ],
      "source": [
        "# Train the model on the data\n",
        "xgbc_pipe.fit(X_train, y_train)"
      ]
    },
    {
      "cell_type": "code",
      "execution_count": null,
      "metadata": {
        "id": "E7pFilmBuSGo"
      },
      "outputs": [],
      "source": [
        "# Display accuracy metric to evaluate model performance\n",
        "print('Training accuracy:', xgbc.score(X_train, y_train))\n",
        "print('Testing accuracy:', xgbc.score(X_test, y_test))"
      ]
    },
    {
      "cell_type": "code",
      "execution_count": null,
      "metadata": {
        "id": "AZnJO339uSGo"
      },
      "outputs": [],
      "source": [
        "# Display multiple performance metrics to evaluate model performance\n",
        "score = evaluate_classification(xgbc, X_train, y_train, X_test, y_test, name='xgbc')\n",
        "\n",
        "score"
      ]
    },
    {
      "cell_type": "code",
      "execution_count": null,
      "metadata": {
        "id": "2xOZ9wN5uSGo"
      },
      "outputs": [],
      "source": []
    },
    {
      "cell_type": "code",
      "execution_count": null,
      "metadata": {
        "id": "uksZTVFRDb1K"
      },
      "outputs": [],
      "source": [
        "# Create pipeline for Model\n",
        "\n",
        "# xgb_pipe = make_pipeline(\n",
        "#     PCA_pipe,\n",
        "#     XGBClassifier()\n",
        "#     )\n"
      ]
    },
    {
      "cell_type": "code",
      "execution_count": null,
      "metadata": {
        "id": "qZJ1Q8gISm9E"
      },
      "outputs": [],
      "source": [
        "# Fit on data\n",
        "\n",
        "# xgb_pipe.fit(X_train, y_train)\n",
        "# print('Training accuracy:', xgb_pipe.score(X_train, y_train))\n",
        "# print('Testing accuracy:', xgb_pipe.score(X_test, y_test))"
      ]
    },
    {
      "cell_type": "markdown",
      "metadata": {
        "id": "1oRJcWoMuSGp"
      },
      "source": [
        "### RandomForest Pipeline & Evaluation"
      ]
    },
    {
      "cell_type": "code",
      "execution_count": null,
      "metadata": {
        "id": "r_EEeNw8uSGp"
      },
      "outputs": [],
      "source": [
        "# Instantiate model\n",
        "rfc = RandomForestClassifier(max_depth=2, random_state=42)"
      ]
    },
    {
      "cell_type": "code",
      "execution_count": null,
      "metadata": {
        "id": "nuDjYLryuSGp",
        "outputId": "16e97c3d-daf6-4454-d4a3-7fc53941f0bf"
      },
      "outputs": [
        {
          "ename": "TypeError",
          "evalue": "'<' not supported between instances of 'str' and 'int'",
          "output_type": "error",
          "traceback": [
            "\u001b[0;31m---------------------------------------------------------------------------\u001b[0m",
            "\u001b[0;31mTypeError\u001b[0m                                 Traceback (most recent call last)",
            "Cell \u001b[0;32mIn [1861], line 2\u001b[0m\n\u001b[1;32m      1\u001b[0m \u001b[38;5;66;03m# Train the model on the data\u001b[39;00m\n\u001b[0;32m----> 2\u001b[0m \u001b[43mrfc\u001b[49m\u001b[38;5;241;43m.\u001b[39;49m\u001b[43mfit\u001b[49m\u001b[43m(\u001b[49m\u001b[43mX_train\u001b[49m\u001b[43m,\u001b[49m\u001b[43m \u001b[49m\u001b[43my_train\u001b[49m\u001b[43m)\u001b[49m\n",
            "File \u001b[0;32m~/anaconda3/envs/dojo-env/lib/python3.9/site-packages/sklearn/ensemble/_forest.py:371\u001b[0m, in \u001b[0;36mBaseForest.fit\u001b[0;34m(self, X, y, sample_weight)\u001b[0m\n\u001b[1;32m    364\u001b[0m         \u001b[38;5;28;01mraise\u001b[39;00m \u001b[38;5;167;01mValueError\u001b[39;00m(\n\u001b[1;32m    365\u001b[0m             \u001b[38;5;124m\"\u001b[39m\u001b[38;5;124mSum of y is not strictly positive which \u001b[39m\u001b[38;5;124m\"\u001b[39m\n\u001b[1;32m    366\u001b[0m             \u001b[38;5;124m\"\u001b[39m\u001b[38;5;124mis necessary for Poisson regression.\u001b[39m\u001b[38;5;124m\"\u001b[39m\n\u001b[1;32m    367\u001b[0m         )\n\u001b[1;32m    369\u001b[0m \u001b[38;5;28mself\u001b[39m\u001b[38;5;241m.\u001b[39mn_outputs_ \u001b[38;5;241m=\u001b[39m y\u001b[38;5;241m.\u001b[39mshape[\u001b[38;5;241m1\u001b[39m]\n\u001b[0;32m--> 371\u001b[0m y, expanded_class_weight \u001b[38;5;241m=\u001b[39m \u001b[38;5;28;43mself\u001b[39;49m\u001b[38;5;241;43m.\u001b[39;49m\u001b[43m_validate_y_class_weight\u001b[49m\u001b[43m(\u001b[49m\u001b[43my\u001b[49m\u001b[43m)\u001b[49m\n\u001b[1;32m    373\u001b[0m \u001b[38;5;28;01mif\u001b[39;00m \u001b[38;5;28mgetattr\u001b[39m(y, \u001b[38;5;124m\"\u001b[39m\u001b[38;5;124mdtype\u001b[39m\u001b[38;5;124m\"\u001b[39m, \u001b[38;5;28;01mNone\u001b[39;00m) \u001b[38;5;241m!=\u001b[39m DOUBLE \u001b[38;5;129;01mor\u001b[39;00m \u001b[38;5;129;01mnot\u001b[39;00m y\u001b[38;5;241m.\u001b[39mflags\u001b[38;5;241m.\u001b[39mcontiguous:\n\u001b[1;32m    374\u001b[0m     y \u001b[38;5;241m=\u001b[39m np\u001b[38;5;241m.\u001b[39mascontiguousarray(y, dtype\u001b[38;5;241m=\u001b[39mDOUBLE)\n",
            "File \u001b[0;32m~/anaconda3/envs/dojo-env/lib/python3.9/site-packages/sklearn/ensemble/_forest.py:758\u001b[0m, in \u001b[0;36mForestClassifier._validate_y_class_weight\u001b[0;34m(self, y)\u001b[0m\n\u001b[1;32m    757\u001b[0m \u001b[38;5;28;01mdef\u001b[39;00m \u001b[38;5;21m_validate_y_class_weight\u001b[39m(\u001b[38;5;28mself\u001b[39m, y):\n\u001b[0;32m--> 758\u001b[0m     \u001b[43mcheck_classification_targets\u001b[49m\u001b[43m(\u001b[49m\u001b[43my\u001b[49m\u001b[43m)\u001b[49m\n\u001b[1;32m    760\u001b[0m     y \u001b[38;5;241m=\u001b[39m np\u001b[38;5;241m.\u001b[39mcopy(y)\n\u001b[1;32m    761\u001b[0m     expanded_class_weight \u001b[38;5;241m=\u001b[39m \u001b[38;5;28;01mNone\u001b[39;00m\n",
            "File \u001b[0;32m~/anaconda3/envs/dojo-env/lib/python3.9/site-packages/sklearn/utils/multiclass.py:192\u001b[0m, in \u001b[0;36mcheck_classification_targets\u001b[0;34m(y)\u001b[0m\n\u001b[1;32m    180\u001b[0m \u001b[38;5;28;01mdef\u001b[39;00m \u001b[38;5;21mcheck_classification_targets\u001b[39m(y):\n\u001b[1;32m    181\u001b[0m     \u001b[38;5;124;03m\"\"\"Ensure that target y is of a non-regression type.\u001b[39;00m\n\u001b[1;32m    182\u001b[0m \n\u001b[1;32m    183\u001b[0m \u001b[38;5;124;03m    Only the following target types (as defined in type_of_target) are allowed:\u001b[39;00m\n\u001b[0;32m   (...)\u001b[0m\n\u001b[1;32m    190\u001b[0m \u001b[38;5;124;03m        Target values.\u001b[39;00m\n\u001b[1;32m    191\u001b[0m \u001b[38;5;124;03m    \"\"\"\u001b[39;00m\n\u001b[0;32m--> 192\u001b[0m     y_type \u001b[38;5;241m=\u001b[39m \u001b[43mtype_of_target\u001b[49m\u001b[43m(\u001b[49m\u001b[43my\u001b[49m\u001b[43m,\u001b[49m\u001b[43m \u001b[49m\u001b[43minput_name\u001b[49m\u001b[38;5;241;43m=\u001b[39;49m\u001b[38;5;124;43m\"\u001b[39;49m\u001b[38;5;124;43my\u001b[39;49m\u001b[38;5;124;43m\"\u001b[39;49m\u001b[43m)\u001b[49m\n\u001b[1;32m    193\u001b[0m     \u001b[38;5;28;01mif\u001b[39;00m y_type \u001b[38;5;129;01mnot\u001b[39;00m \u001b[38;5;129;01min\u001b[39;00m [\n\u001b[1;32m    194\u001b[0m         \u001b[38;5;124m\"\u001b[39m\u001b[38;5;124mbinary\u001b[39m\u001b[38;5;124m\"\u001b[39m,\n\u001b[1;32m    195\u001b[0m         \u001b[38;5;124m\"\u001b[39m\u001b[38;5;124mmulticlass\u001b[39m\u001b[38;5;124m\"\u001b[39m,\n\u001b[0;32m   (...)\u001b[0m\n\u001b[1;32m    198\u001b[0m         \u001b[38;5;124m\"\u001b[39m\u001b[38;5;124mmultilabel-sequences\u001b[39m\u001b[38;5;124m\"\u001b[39m,\n\u001b[1;32m    199\u001b[0m     ]:\n\u001b[1;32m    200\u001b[0m         \u001b[38;5;28;01mraise\u001b[39;00m \u001b[38;5;167;01mValueError\u001b[39;00m(\u001b[38;5;124m\"\u001b[39m\u001b[38;5;124mUnknown label type: \u001b[39m\u001b[38;5;132;01m%r\u001b[39;00m\u001b[38;5;124m\"\u001b[39m \u001b[38;5;241m%\u001b[39m y_type)\n",
            "File \u001b[0;32m~/anaconda3/envs/dojo-env/lib/python3.9/site-packages/sklearn/utils/multiclass.py:286\u001b[0m, in \u001b[0;36mtype_of_target\u001b[0;34m(y, input_name)\u001b[0m\n\u001b[1;32m    283\u001b[0m \u001b[38;5;28;01mif\u001b[39;00m sparse_pandas:\n\u001b[1;32m    284\u001b[0m     \u001b[38;5;28;01mraise\u001b[39;00m \u001b[38;5;167;01mValueError\u001b[39;00m(\u001b[38;5;124m\"\u001b[39m\u001b[38;5;124my cannot be class \u001b[39m\u001b[38;5;124m'\u001b[39m\u001b[38;5;124mSparseSeries\u001b[39m\u001b[38;5;124m'\u001b[39m\u001b[38;5;124m or \u001b[39m\u001b[38;5;124m'\u001b[39m\u001b[38;5;124mSparseArray\u001b[39m\u001b[38;5;124m'\u001b[39m\u001b[38;5;124m\"\u001b[39m)\n\u001b[0;32m--> 286\u001b[0m \u001b[38;5;28;01mif\u001b[39;00m \u001b[43mis_multilabel\u001b[49m\u001b[43m(\u001b[49m\u001b[43my\u001b[49m\u001b[43m)\u001b[49m:\n\u001b[1;32m    287\u001b[0m     \u001b[38;5;28;01mreturn\u001b[39;00m \u001b[38;5;124m\"\u001b[39m\u001b[38;5;124mmultilabel-indicator\u001b[39m\u001b[38;5;124m\"\u001b[39m\n\u001b[1;32m    289\u001b[0m \u001b[38;5;66;03m# DeprecationWarning will be replaced by ValueError, see NEP 34\u001b[39;00m\n\u001b[1;32m    290\u001b[0m \u001b[38;5;66;03m# https://numpy.org/neps/nep-0034-infer-dtype-is-object.html\u001b[39;00m\n",
            "File \u001b[0;32m~/anaconda3/envs/dojo-env/lib/python3.9/site-packages/sklearn/utils/multiclass.py:173\u001b[0m, in \u001b[0;36mis_multilabel\u001b[0;34m(y)\u001b[0m\n\u001b[1;32m    164\u001b[0m     \u001b[38;5;28;01mreturn\u001b[39;00m (\n\u001b[1;32m    165\u001b[0m         \u001b[38;5;28mlen\u001b[39m(y\u001b[38;5;241m.\u001b[39mdata) \u001b[38;5;241m==\u001b[39m \u001b[38;5;241m0\u001b[39m\n\u001b[1;32m    166\u001b[0m         \u001b[38;5;129;01mor\u001b[39;00m np\u001b[38;5;241m.\u001b[39munique(y\u001b[38;5;241m.\u001b[39mdata)\u001b[38;5;241m.\u001b[39msize \u001b[38;5;241m==\u001b[39m \u001b[38;5;241m1\u001b[39m\n\u001b[0;32m   (...)\u001b[0m\n\u001b[1;32m    170\u001b[0m         )\n\u001b[1;32m    171\u001b[0m     )\n\u001b[1;32m    172\u001b[0m \u001b[38;5;28;01melse\u001b[39;00m:\n\u001b[0;32m--> 173\u001b[0m     labels \u001b[38;5;241m=\u001b[39m \u001b[43mnp\u001b[49m\u001b[38;5;241;43m.\u001b[39;49m\u001b[43munique\u001b[49m\u001b[43m(\u001b[49m\u001b[43my\u001b[49m\u001b[43m)\u001b[49m\n\u001b[1;32m    175\u001b[0m     \u001b[38;5;28;01mreturn\u001b[39;00m \u001b[38;5;28mlen\u001b[39m(labels) \u001b[38;5;241m<\u001b[39m \u001b[38;5;241m3\u001b[39m \u001b[38;5;129;01mand\u001b[39;00m (\n\u001b[1;32m    176\u001b[0m         y\u001b[38;5;241m.\u001b[39mdtype\u001b[38;5;241m.\u001b[39mkind \u001b[38;5;129;01min\u001b[39;00m \u001b[38;5;124m\"\u001b[39m\u001b[38;5;124mbiu\u001b[39m\u001b[38;5;124m\"\u001b[39m \u001b[38;5;129;01mor\u001b[39;00m _is_integral_float(labels)  \u001b[38;5;66;03m# bool, int, uint\u001b[39;00m\n\u001b[1;32m    177\u001b[0m     )\n",
            "File \u001b[0;32m<__array_function__ internals>:180\u001b[0m, in \u001b[0;36munique\u001b[0;34m(*args, **kwargs)\u001b[0m\n",
            "File \u001b[0;32m~/anaconda3/envs/dojo-env/lib/python3.9/site-packages/numpy/lib/arraysetops.py:274\u001b[0m, in \u001b[0;36munique\u001b[0;34m(ar, return_index, return_inverse, return_counts, axis, equal_nan)\u001b[0m\n\u001b[1;32m    272\u001b[0m ar \u001b[38;5;241m=\u001b[39m np\u001b[38;5;241m.\u001b[39masanyarray(ar)\n\u001b[1;32m    273\u001b[0m \u001b[38;5;28;01mif\u001b[39;00m axis \u001b[38;5;129;01mis\u001b[39;00m \u001b[38;5;28;01mNone\u001b[39;00m:\n\u001b[0;32m--> 274\u001b[0m     ret \u001b[38;5;241m=\u001b[39m \u001b[43m_unique1d\u001b[49m\u001b[43m(\u001b[49m\u001b[43mar\u001b[49m\u001b[43m,\u001b[49m\u001b[43m \u001b[49m\u001b[43mreturn_index\u001b[49m\u001b[43m,\u001b[49m\u001b[43m \u001b[49m\u001b[43mreturn_inverse\u001b[49m\u001b[43m,\u001b[49m\u001b[43m \u001b[49m\u001b[43mreturn_counts\u001b[49m\u001b[43m,\u001b[49m\u001b[43m \u001b[49m\n\u001b[1;32m    275\u001b[0m \u001b[43m                    \u001b[49m\u001b[43mequal_nan\u001b[49m\u001b[38;5;241;43m=\u001b[39;49m\u001b[43mequal_nan\u001b[49m\u001b[43m)\u001b[49m\n\u001b[1;32m    276\u001b[0m     \u001b[38;5;28;01mreturn\u001b[39;00m _unpack_tuple(ret)\n\u001b[1;32m    278\u001b[0m \u001b[38;5;66;03m# axis was specified and not None\u001b[39;00m\n",
            "File \u001b[0;32m~/anaconda3/envs/dojo-env/lib/python3.9/site-packages/numpy/lib/arraysetops.py:336\u001b[0m, in \u001b[0;36m_unique1d\u001b[0;34m(ar, return_index, return_inverse, return_counts, equal_nan)\u001b[0m\n\u001b[1;32m    334\u001b[0m     aux \u001b[38;5;241m=\u001b[39m ar[perm]\n\u001b[1;32m    335\u001b[0m \u001b[38;5;28;01melse\u001b[39;00m:\n\u001b[0;32m--> 336\u001b[0m     \u001b[43mar\u001b[49m\u001b[38;5;241;43m.\u001b[39;49m\u001b[43msort\u001b[49m\u001b[43m(\u001b[49m\u001b[43m)\u001b[49m\n\u001b[1;32m    337\u001b[0m     aux \u001b[38;5;241m=\u001b[39m ar\n\u001b[1;32m    338\u001b[0m mask \u001b[38;5;241m=\u001b[39m np\u001b[38;5;241m.\u001b[39mempty(aux\u001b[38;5;241m.\u001b[39mshape, dtype\u001b[38;5;241m=\u001b[39mnp\u001b[38;5;241m.\u001b[39mbool_)\n",
            "\u001b[0;31mTypeError\u001b[0m: '<' not supported between instances of 'str' and 'int'"
          ]
        }
      ],
      "source": [
        "# Train the model on the data\n",
        "rfc.fit(X_train, y_train)"
      ]
    },
    {
      "cell_type": "code",
      "execution_count": null,
      "metadata": {
        "id": "Vk4a_nEluSGp"
      },
      "outputs": [],
      "source": [
        "# Display accuracy metric to evaluate model performance\n",
        "print('Training accuracy:', rfc.score(X_train, y_train))\n",
        "print('Testing accuracy:', rfc.score(X_test, y_test))"
      ]
    },
    {
      "cell_type": "code",
      "execution_count": null,
      "metadata": {
        "id": "Rk_VL8mXuSGq"
      },
      "outputs": [],
      "source": [
        "# Display mulitple performance metrics to evaluate model performance\n",
        "rfc_score = evaluate_classification(rfc, X_train, y_train, X_test, y_test, name='rfc')\n",
        "\n",
        "score = pd.concat([score, rfc_score])\n",
        "score"
      ]
    },
    {
      "cell_type": "code",
      "execution_count": null,
      "metadata": {
        "id": "fSxbcy18uSGq"
      },
      "outputs": [],
      "source": [
        "# Create pipeline for Model\n",
        "\n",
        "# rf_pipe = make_pipeline(\n",
        "#     PCA_pipe,\n",
        "#     RandomForestClassifier(max_depth=2, random_state=42)\n",
        "#     )"
      ]
    },
    {
      "cell_type": "code",
      "execution_count": null,
      "metadata": {
        "id": "8p50KLKEuSGq"
      },
      "outputs": [],
      "source": [
        "# Fit on data\n",
        "\n",
        "# rf_pipe.fit(X_train, y_train)\n",
        "# print('Training accuracy:', rf_pipe.score(X_train, y_train))\n",
        "# print('Testing accuracy:', rf_pipe.score(X_test, y_test))"
      ]
    },
    {
      "cell_type": "markdown",
      "metadata": {
        "id": "bQsCiJ85oppz"
      },
      "source": [
        "* Fit and evaluate multiple types of models on your data.\n",
        "> * Evaluate each model with multiple appropriate metrics on BOTH the train and test data.\n",
        "> * Use GridSearchCV to tune some of the hyperparameters of each model.\n",
        "> * Display the metrics of your best tuned version of each model type."
      ]
    },
    {
      "cell_type": "markdown",
      "metadata": {
        "id": "0FUrxSRfpAzL"
      },
      "source": [
        "* Try feature engineering techniques or PCA to engineer your dataset to see how this impacts your modeling results.\n",
        "> * We encourage you to try multiple techniques depending on your data!\n"
      ]
    },
    {
      "cell_type": "markdown",
      "metadata": {
        "id": "wioRiXoWpAmJ"
      },
      "source": [
        "* Choose your \"production\" model and justify this decision using the metrics most important to your business problem.\n"
      ]
    },
    {
      "cell_type": "markdown",
      "metadata": {
        "id": "inhg-__MpAZJ"
      },
      "source": [
        "* Go back through your code and ensure that you have provided clear comments"
      ]
    }
  ],
  "metadata": {
    "colab": {
      "provenance": [],
      "toc_visible": true,
      "include_colab_link": true
    },
    "kernelspec": {
      "display_name": "Python 3 (ipykernel)",
      "language": "python",
      "name": "python3"
    },
    "language_info": {
      "codemirror_mode": {
        "name": "ipython",
        "version": 3
      },
      "file_extension": ".py",
      "mimetype": "text/x-python",
      "name": "python",
      "nbconvert_exporter": "python",
      "pygments_lexer": "ipython3",
      "version": "3.9.15"
    },
    "toc": {
      "base_numbering": 1,
      "nav_menu": {
        "height": "655px",
        "width": "469px"
      },
      "number_sections": false,
      "sideBar": true,
      "skip_h1_title": false,
      "title_cell": "Table of Contents",
      "title_sidebar": "Contents",
      "toc_cell": false,
      "toc_position": {
        "height": "calc(100% - 180px)",
        "left": "10px",
        "top": "150px",
        "width": "444px"
      },
      "toc_section_display": true,
      "toc_window_display": true
    }
  },
  "nbformat": 4,
  "nbformat_minor": 0
}