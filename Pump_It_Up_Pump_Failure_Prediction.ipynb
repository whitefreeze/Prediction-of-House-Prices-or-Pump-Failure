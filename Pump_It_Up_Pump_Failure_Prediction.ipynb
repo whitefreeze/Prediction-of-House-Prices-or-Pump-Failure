{
  "nbformat": 4,
  "nbformat_minor": 0,
  "metadata": {
    "colab": {
      "provenance": [],
      "toc_visible": true,
      "authorship_tag": "ABX9TyMagsX0RWuxjQmvtJRpIo+d",
      "include_colab_link": true
    },
    "kernelspec": {
      "name": "python3",
      "display_name": "Python 3"
    },
    "language_info": {
      "name": "python"
    }
  },
  "cells": [
    {
      "cell_type": "markdown",
      "metadata": {
        "id": "view-in-github",
        "colab_type": "text"
      },
      "source": [
        "<a href=\"https://colab.research.google.com/github/whitefreeze/Pump-It-up-Pump-Failure-Prediction/blob/main/Pump_It_Up_Pump_Failure_Prediction.ipynb\" target=\"_parent\"><img src=\"https://colab.research.google.com/assets/colab-badge.svg\" alt=\"Open In Colab\"/></a>"
      ]
    },
    {
      "cell_type": "markdown",
      "source": [
        "# [Pump Failure Prediction](https://www.drivendata.org/competitions/7/pump-it-up-data-mining-the-water-table/page/23/)\n",
        "\n",
        "Predict the status of waterpoints/pumps and catagorize into the following three categories for 'status_group':\n",
        "> * 'functional'\n",
        "> * 'non functional'\n",
        "> * 'functional needs repair'\n",
        "\n",
        "Submission will include the 'id' and 'status_group' features."
      ],
      "metadata": {
        "id": "FWwXmrMn3CaX"
      }
    },
    {
      "cell_type": "markdown",
      "source": [
        "## Prepare Dataset"
      ],
      "metadata": {
        "id": "s-EUO8hCuRIk"
      }
    },
    {
      "cell_type": "markdown",
      "source": [
        "### Import Packages"
      ],
      "metadata": {
        "id": "Txvb5d13uZI3"
      }
    },
    {
      "cell_type": "code",
      "source": [
        "## Pandas\n",
        "import pandas as pd\n",
        "## Numpy\n",
        "import numpy as np\n",
        "## MatplotLib\n",
        "import matplotlib.pyplot as plt\n",
        "## Seaborn\n",
        "import seaborn as sns\n",
        "\n",
        "# re Python library\n",
        "import re\n",
        "\n",
        "# Matplotlib Colors\n",
        "import matplotlib.colors as mcolors\n",
        "\n",
        "## Preprocessing\n",
        "from sklearn.model_selection import train_test_split\n",
        "from sklearn.compose import make_column_selector\n",
        "from sklearn.preprocessing import StandardScaler, OneHotEncoder\n",
        "from sklearn.pipeline import make_pipeline\n",
        "from sklearn.compose import make_column_transformer\n",
        "\n",
        "## Classification Metrics\n",
        "from sklearn import metrics\n",
        "#from sklearn.metrics import accuracy_score, recall_score, precision_score, \\\n",
        "#f1_score, classification_report, confusion_matrix, ConfusionMatrixDisplay, \\\n",
        "#RocCurveDisplay\n",
        "\n",
        "# Display all columns\n",
        "pd.set_option('display.max_column', None)"
      ],
      "metadata": {
        "id": "HaLMui132rbd"
      },
      "execution_count": null,
      "outputs": []
    },
    {
      "cell_type": "markdown",
      "source": [
        "### Functions"
      ],
      "metadata": {
        "id": "2WKhTrC0uX-p"
      }
    },
    {
      "cell_type": "markdown",
      "source": [
        "**Add evaluate_regression function if needed**"
      ],
      "metadata": {
        "id": "pjl7i1hTzsGt"
      }
    },
    {
      "cell_type": "code",
      "source": [
        "## Define a function that takes in arguments and prints out a classification report and confusion matrix\n",
        "def evaluate_classification(model, X_train, y_train, X_test, y_test,\n",
        "                            cmap='Greens', normalize=None, classes=None, \n",
        "                            figsize=(20,5), name='Classification Model', \n",
        "                            average='binary', zero_division=0):\n",
        "  \"\"\"Takes as required arguments: a model, traing features, training labels,\n",
        "  testing feature, testing labels\n",
        "  Prints a classification reports and confusion matrics for each data set\n",
        "  returns a dataframe of metrics\n",
        "\n",
        "  Optional arguments: \n",
        "    cmap: colormap \n",
        "    normalize: confusion matrix normalization ['true', 'pred', 'all' or None]\n",
        "    classes: ordered list of class labels\n",
        "    figsize: size of figure\n",
        "    name: give your model a name\n",
        "    average: how to aggregate scores for multiclass problems\n",
        "    zero_division: what should the result of divide by zero be?\"\"\"\n",
        "\n",
        "  # Gather model predictions\n",
        "  train_preds = model.predict(X_train)\n",
        "  test_preds = model.predict(X_test)\n",
        "\n",
        "  # Display classification report and confusion matrices\n",
        "  print('======Train Set Metrics======')\n",
        "  print(metrics.classification_report(y_train, train_preds, \n",
        "                                      zero_division=0,\n",
        "                                      target_names=classes))\n",
        "  \n",
        "  print('======Test Set Metrics======')\n",
        "  print(metrics.classification_report(y_test, test_preds, \n",
        "                                      zero_division=0,\n",
        "                                      target_names=classes))\n",
        "\n",
        "  fig, axes = plt.subplots(ncols=2, figsize=figsize)\n",
        "\n",
        "  ConfusionMatrixDisplay.from_predictions(y_train, train_preds, cmap=cmap, \n",
        "                                display_labels=classes,\n",
        "                                normalize=normalize, ax=axes[0])\n",
        "  axes[0].set_title('Train Confusion Matrix')\n",
        "\n",
        "  ConfusionMatrixDisplay.from_predictions(y_test, test_preds, cmap=cmap, \n",
        "                              display_labels=classes,\n",
        "                              normalize=normalize, ax=axes[1])\n",
        "  axes[1].set_title('Test Confusion Matrix')\n",
        "  plt.show()\n",
        "\n",
        "  # If there are more than 2 classes and an average has not been set, \n",
        "  # set average to 'macro'\n",
        "  if average == 'binary' and y_train.nunique() > 2:\n",
        "    average = 'macro'\n",
        "\n",
        "  # Create a dataframe of scores to return\n",
        "  scores = pd.DataFrame()\n",
        "  \n",
        "  # Training\n",
        "\n",
        "  scores.loc[name, 'Train Accuracy'] = accuracy_score(y_train, train_preds)\n",
        "  scores.loc[name, 'Train Recall'] = recall_score(y_train, train_preds,\n",
        "                                                           average=average,\n",
        "                                                       zero_division=zero_division)\n",
        "  scores.loc[name, 'Train Precision'] = precision_score(y_train, train_preds,\n",
        "                                                           average=average,\n",
        "                                                      zero_division=zero_division)\n",
        "  scores.loc[name, 'Train F1-Score'] = f1_score(y_train, train_preds,\n",
        "                                                           average=average,\n",
        "                                                     zero_division=zero_division)\n",
        "  \n",
        "  # Testing\n",
        "  scores.loc[name, 'Test Accuracy'] = accuracy_score(y_test, test_preds)\n",
        "  scores.loc[name, 'Test Recall'] = recall_score(y_test, test_preds,\n",
        "                                                           average=average,\n",
        "                                                      zero_division=zero_division)\n",
        "  scores.loc[name, 'Test Precision'] = precision_score(y_test, test_preds,\n",
        "                                                           average=average,\n",
        "                                                      zero_division=zero_division)\n",
        "  scores.loc[name, 'Test F1-Score'] = f1_score(y_test, test_preds,\n",
        "                                                           average=average,\n",
        "                                                     zero_division=zero_division)\n",
        "\n",
        "  return scores"
      ],
      "metadata": {
        "id": "X72JkjMWyMd1"
      },
      "execution_count": null,
      "outputs": []
    },
    {
      "cell_type": "markdown",
      "source": [
        "### Source References"
      ],
      "metadata": {
        "id": "8RlVKM5SuXsL"
      }
    },
    {
      "cell_type": "markdown",
      "source": [
        "### Load Data"
      ],
      "metadata": {
        "id": "55aYWG6Q1uTK"
      }
    },
    {
      "cell_type": "code",
      "source": [
        "# Conect to Drive\n",
        "from google.colab import drive\n",
        "drive.mount('/content/drive')"
      ],
      "metadata": {
        "colab": {
          "base_uri": "https://localhost:8080/"
        },
        "id": "zHap5jHm2SBn",
        "outputId": "7d4702a0-5def-4191-bc9b-25fd5a61a356"
      },
      "execution_count": null,
      "outputs": [
        {
          "output_type": "stream",
          "name": "stdout",
          "text": [
            "Mounted at /content/drive\n"
          ]
        }
      ]
    },
    {
      "cell_type": "code",
      "source": [
        "## Load in Data\n",
        "path = '/content/drive/MyDrive/Data Science/Coding Dojo/Course 3: ML - Advanced/Pump it Up - Data Files/training_Set_values.csv'\n",
        "\n",
        "# skipinitialspace used to ignore spaces immediately following the delimiter\n",
        "df = pd.read_csv(path, skipinitialspace=True)\n",
        "df.head()"
      ],
      "metadata": {
        "colab": {
          "base_uri": "https://localhost:8080/",
          "height": 455
        },
        "id": "TKNUWyi63Zjr",
        "outputId": "8c16b343-2870-4965-b683-537e09bc43a2"
      },
      "execution_count": null,
      "outputs": [
        {
          "output_type": "execute_result",
          "data": {
            "text/plain": [
              "      id  amount_tsh date_recorded        funder  gps_height     installer  \\\n",
              "0  69572      6000.0    2011-03-14         Roman        1390         Roman   \n",
              "1   8776         0.0    2013-03-06       Grumeti        1399       GRUMETI   \n",
              "2  34310        25.0    2013-02-25  Lottery Club         686  World vision   \n",
              "3  67743         0.0    2013-01-28        Unicef         263        UNICEF   \n",
              "4  19728         0.0    2011-07-13   Action In A           0       Artisan   \n",
              "\n",
              "   longitude   latitude              wpt_name  num_private  \\\n",
              "0  34.938093  -9.856322                  none            0   \n",
              "1  34.698766  -2.147466              Zahanati            0   \n",
              "2  37.460664  -3.821329           Kwa Mahundi            0   \n",
              "3  38.486161 -11.155298  Zahanati Ya Nanyumbu            0   \n",
              "4  31.130847  -1.825359               Shuleni            0   \n",
              "\n",
              "                     basin  subvillage   region  region_code  district_code  \\\n",
              "0               Lake Nyasa    Mnyusi B   Iringa           11              5   \n",
              "1            Lake Victoria     Nyamara     Mara           20              2   \n",
              "2                  Pangani     Majengo  Manyara           21              4   \n",
              "3  Ruvuma / Southern Coast  Mahakamani   Mtwara           90             63   \n",
              "4            Lake Victoria  Kyanyamisa   Kagera           18              1   \n",
              "\n",
              "         lga        ward  population public_meeting              recorded_by  \\\n",
              "0     Ludewa    Mundindi         109           True  GeoData Consultants Ltd   \n",
              "1  Serengeti       Natta         280            NaN  GeoData Consultants Ltd   \n",
              "2  Simanjiro     Ngorika         250           True  GeoData Consultants Ltd   \n",
              "3   Nanyumbu    Nanyumbu          58           True  GeoData Consultants Ltd   \n",
              "4    Karagwe  Nyakasimbi           0           True  GeoData Consultants Ltd   \n",
              "\n",
              "  scheme_management                  scheme_name permit  construction_year  \\\n",
              "0               VWC                        Roman  False               1999   \n",
              "1             Other                          NaN   True               2010   \n",
              "2               VWC  Nyumba ya mungu pipe scheme   True               2009   \n",
              "3               VWC                          NaN   True               1986   \n",
              "4               NaN                          NaN   True                  0   \n",
              "\n",
              "  extraction_type extraction_type_group extraction_type_class management  \\\n",
              "0         gravity               gravity               gravity        vwc   \n",
              "1         gravity               gravity               gravity        wug   \n",
              "2         gravity               gravity               gravity        vwc   \n",
              "3     submersible           submersible           submersible        vwc   \n",
              "4         gravity               gravity               gravity      other   \n",
              "\n",
              "  management_group         payment payment_type water_quality quality_group  \\\n",
              "0       user-group    pay annually     annually          soft          good   \n",
              "1       user-group       never pay    never pay          soft          good   \n",
              "2       user-group  pay per bucket   per bucket          soft          good   \n",
              "3       user-group       never pay    never pay          soft          good   \n",
              "4            other       never pay    never pay          soft          good   \n",
              "\n",
              "       quantity quantity_group                source           source_type  \\\n",
              "0        enough         enough                spring                spring   \n",
              "1  insufficient   insufficient  rainwater harvesting  rainwater harvesting   \n",
              "2        enough         enough                   dam                   dam   \n",
              "3           dry            dry           machine dbh              borehole   \n",
              "4      seasonal       seasonal  rainwater harvesting  rainwater harvesting   \n",
              "\n",
              "  source_class              waterpoint_type waterpoint_type_group  \n",
              "0  groundwater           communal standpipe    communal standpipe  \n",
              "1      surface           communal standpipe    communal standpipe  \n",
              "2      surface  communal standpipe multiple    communal standpipe  \n",
              "3  groundwater  communal standpipe multiple    communal standpipe  \n",
              "4      surface           communal standpipe    communal standpipe  "
            ],
            "text/html": [
              "\n",
              "  <div id=\"df-3b17240a-ebbb-4574-9ebb-1709477d697a\">\n",
              "    <div class=\"colab-df-container\">\n",
              "      <div>\n",
              "<style scoped>\n",
              "    .dataframe tbody tr th:only-of-type {\n",
              "        vertical-align: middle;\n",
              "    }\n",
              "\n",
              "    .dataframe tbody tr th {\n",
              "        vertical-align: top;\n",
              "    }\n",
              "\n",
              "    .dataframe thead th {\n",
              "        text-align: right;\n",
              "    }\n",
              "</style>\n",
              "<table border=\"1\" class=\"dataframe\">\n",
              "  <thead>\n",
              "    <tr style=\"text-align: right;\">\n",
              "      <th></th>\n",
              "      <th>id</th>\n",
              "      <th>amount_tsh</th>\n",
              "      <th>date_recorded</th>\n",
              "      <th>funder</th>\n",
              "      <th>gps_height</th>\n",
              "      <th>installer</th>\n",
              "      <th>longitude</th>\n",
              "      <th>latitude</th>\n",
              "      <th>wpt_name</th>\n",
              "      <th>num_private</th>\n",
              "      <th>basin</th>\n",
              "      <th>subvillage</th>\n",
              "      <th>region</th>\n",
              "      <th>region_code</th>\n",
              "      <th>district_code</th>\n",
              "      <th>lga</th>\n",
              "      <th>ward</th>\n",
              "      <th>population</th>\n",
              "      <th>public_meeting</th>\n",
              "      <th>recorded_by</th>\n",
              "      <th>scheme_management</th>\n",
              "      <th>scheme_name</th>\n",
              "      <th>permit</th>\n",
              "      <th>construction_year</th>\n",
              "      <th>extraction_type</th>\n",
              "      <th>extraction_type_group</th>\n",
              "      <th>extraction_type_class</th>\n",
              "      <th>management</th>\n",
              "      <th>management_group</th>\n",
              "      <th>payment</th>\n",
              "      <th>payment_type</th>\n",
              "      <th>water_quality</th>\n",
              "      <th>quality_group</th>\n",
              "      <th>quantity</th>\n",
              "      <th>quantity_group</th>\n",
              "      <th>source</th>\n",
              "      <th>source_type</th>\n",
              "      <th>source_class</th>\n",
              "      <th>waterpoint_type</th>\n",
              "      <th>waterpoint_type_group</th>\n",
              "    </tr>\n",
              "  </thead>\n",
              "  <tbody>\n",
              "    <tr>\n",
              "      <th>0</th>\n",
              "      <td>69572</td>\n",
              "      <td>6000.0</td>\n",
              "      <td>2011-03-14</td>\n",
              "      <td>Roman</td>\n",
              "      <td>1390</td>\n",
              "      <td>Roman</td>\n",
              "      <td>34.938093</td>\n",
              "      <td>-9.856322</td>\n",
              "      <td>none</td>\n",
              "      <td>0</td>\n",
              "      <td>Lake Nyasa</td>\n",
              "      <td>Mnyusi B</td>\n",
              "      <td>Iringa</td>\n",
              "      <td>11</td>\n",
              "      <td>5</td>\n",
              "      <td>Ludewa</td>\n",
              "      <td>Mundindi</td>\n",
              "      <td>109</td>\n",
              "      <td>True</td>\n",
              "      <td>GeoData Consultants Ltd</td>\n",
              "      <td>VWC</td>\n",
              "      <td>Roman</td>\n",
              "      <td>False</td>\n",
              "      <td>1999</td>\n",
              "      <td>gravity</td>\n",
              "      <td>gravity</td>\n",
              "      <td>gravity</td>\n",
              "      <td>vwc</td>\n",
              "      <td>user-group</td>\n",
              "      <td>pay annually</td>\n",
              "      <td>annually</td>\n",
              "      <td>soft</td>\n",
              "      <td>good</td>\n",
              "      <td>enough</td>\n",
              "      <td>enough</td>\n",
              "      <td>spring</td>\n",
              "      <td>spring</td>\n",
              "      <td>groundwater</td>\n",
              "      <td>communal standpipe</td>\n",
              "      <td>communal standpipe</td>\n",
              "    </tr>\n",
              "    <tr>\n",
              "      <th>1</th>\n",
              "      <td>8776</td>\n",
              "      <td>0.0</td>\n",
              "      <td>2013-03-06</td>\n",
              "      <td>Grumeti</td>\n",
              "      <td>1399</td>\n",
              "      <td>GRUMETI</td>\n",
              "      <td>34.698766</td>\n",
              "      <td>-2.147466</td>\n",
              "      <td>Zahanati</td>\n",
              "      <td>0</td>\n",
              "      <td>Lake Victoria</td>\n",
              "      <td>Nyamara</td>\n",
              "      <td>Mara</td>\n",
              "      <td>20</td>\n",
              "      <td>2</td>\n",
              "      <td>Serengeti</td>\n",
              "      <td>Natta</td>\n",
              "      <td>280</td>\n",
              "      <td>NaN</td>\n",
              "      <td>GeoData Consultants Ltd</td>\n",
              "      <td>Other</td>\n",
              "      <td>NaN</td>\n",
              "      <td>True</td>\n",
              "      <td>2010</td>\n",
              "      <td>gravity</td>\n",
              "      <td>gravity</td>\n",
              "      <td>gravity</td>\n",
              "      <td>wug</td>\n",
              "      <td>user-group</td>\n",
              "      <td>never pay</td>\n",
              "      <td>never pay</td>\n",
              "      <td>soft</td>\n",
              "      <td>good</td>\n",
              "      <td>insufficient</td>\n",
              "      <td>insufficient</td>\n",
              "      <td>rainwater harvesting</td>\n",
              "      <td>rainwater harvesting</td>\n",
              "      <td>surface</td>\n",
              "      <td>communal standpipe</td>\n",
              "      <td>communal standpipe</td>\n",
              "    </tr>\n",
              "    <tr>\n",
              "      <th>2</th>\n",
              "      <td>34310</td>\n",
              "      <td>25.0</td>\n",
              "      <td>2013-02-25</td>\n",
              "      <td>Lottery Club</td>\n",
              "      <td>686</td>\n",
              "      <td>World vision</td>\n",
              "      <td>37.460664</td>\n",
              "      <td>-3.821329</td>\n",
              "      <td>Kwa Mahundi</td>\n",
              "      <td>0</td>\n",
              "      <td>Pangani</td>\n",
              "      <td>Majengo</td>\n",
              "      <td>Manyara</td>\n",
              "      <td>21</td>\n",
              "      <td>4</td>\n",
              "      <td>Simanjiro</td>\n",
              "      <td>Ngorika</td>\n",
              "      <td>250</td>\n",
              "      <td>True</td>\n",
              "      <td>GeoData Consultants Ltd</td>\n",
              "      <td>VWC</td>\n",
              "      <td>Nyumba ya mungu pipe scheme</td>\n",
              "      <td>True</td>\n",
              "      <td>2009</td>\n",
              "      <td>gravity</td>\n",
              "      <td>gravity</td>\n",
              "      <td>gravity</td>\n",
              "      <td>vwc</td>\n",
              "      <td>user-group</td>\n",
              "      <td>pay per bucket</td>\n",
              "      <td>per bucket</td>\n",
              "      <td>soft</td>\n",
              "      <td>good</td>\n",
              "      <td>enough</td>\n",
              "      <td>enough</td>\n",
              "      <td>dam</td>\n",
              "      <td>dam</td>\n",
              "      <td>surface</td>\n",
              "      <td>communal standpipe multiple</td>\n",
              "      <td>communal standpipe</td>\n",
              "    </tr>\n",
              "    <tr>\n",
              "      <th>3</th>\n",
              "      <td>67743</td>\n",
              "      <td>0.0</td>\n",
              "      <td>2013-01-28</td>\n",
              "      <td>Unicef</td>\n",
              "      <td>263</td>\n",
              "      <td>UNICEF</td>\n",
              "      <td>38.486161</td>\n",
              "      <td>-11.155298</td>\n",
              "      <td>Zahanati Ya Nanyumbu</td>\n",
              "      <td>0</td>\n",
              "      <td>Ruvuma / Southern Coast</td>\n",
              "      <td>Mahakamani</td>\n",
              "      <td>Mtwara</td>\n",
              "      <td>90</td>\n",
              "      <td>63</td>\n",
              "      <td>Nanyumbu</td>\n",
              "      <td>Nanyumbu</td>\n",
              "      <td>58</td>\n",
              "      <td>True</td>\n",
              "      <td>GeoData Consultants Ltd</td>\n",
              "      <td>VWC</td>\n",
              "      <td>NaN</td>\n",
              "      <td>True</td>\n",
              "      <td>1986</td>\n",
              "      <td>submersible</td>\n",
              "      <td>submersible</td>\n",
              "      <td>submersible</td>\n",
              "      <td>vwc</td>\n",
              "      <td>user-group</td>\n",
              "      <td>never pay</td>\n",
              "      <td>never pay</td>\n",
              "      <td>soft</td>\n",
              "      <td>good</td>\n",
              "      <td>dry</td>\n",
              "      <td>dry</td>\n",
              "      <td>machine dbh</td>\n",
              "      <td>borehole</td>\n",
              "      <td>groundwater</td>\n",
              "      <td>communal standpipe multiple</td>\n",
              "      <td>communal standpipe</td>\n",
              "    </tr>\n",
              "    <tr>\n",
              "      <th>4</th>\n",
              "      <td>19728</td>\n",
              "      <td>0.0</td>\n",
              "      <td>2011-07-13</td>\n",
              "      <td>Action In A</td>\n",
              "      <td>0</td>\n",
              "      <td>Artisan</td>\n",
              "      <td>31.130847</td>\n",
              "      <td>-1.825359</td>\n",
              "      <td>Shuleni</td>\n",
              "      <td>0</td>\n",
              "      <td>Lake Victoria</td>\n",
              "      <td>Kyanyamisa</td>\n",
              "      <td>Kagera</td>\n",
              "      <td>18</td>\n",
              "      <td>1</td>\n",
              "      <td>Karagwe</td>\n",
              "      <td>Nyakasimbi</td>\n",
              "      <td>0</td>\n",
              "      <td>True</td>\n",
              "      <td>GeoData Consultants Ltd</td>\n",
              "      <td>NaN</td>\n",
              "      <td>NaN</td>\n",
              "      <td>True</td>\n",
              "      <td>0</td>\n",
              "      <td>gravity</td>\n",
              "      <td>gravity</td>\n",
              "      <td>gravity</td>\n",
              "      <td>other</td>\n",
              "      <td>other</td>\n",
              "      <td>never pay</td>\n",
              "      <td>never pay</td>\n",
              "      <td>soft</td>\n",
              "      <td>good</td>\n",
              "      <td>seasonal</td>\n",
              "      <td>seasonal</td>\n",
              "      <td>rainwater harvesting</td>\n",
              "      <td>rainwater harvesting</td>\n",
              "      <td>surface</td>\n",
              "      <td>communal standpipe</td>\n",
              "      <td>communal standpipe</td>\n",
              "    </tr>\n",
              "  </tbody>\n",
              "</table>\n",
              "</div>\n",
              "      <button class=\"colab-df-convert\" onclick=\"convertToInteractive('df-3b17240a-ebbb-4574-9ebb-1709477d697a')\"\n",
              "              title=\"Convert this dataframe to an interactive table.\"\n",
              "              style=\"display:none;\">\n",
              "        \n",
              "  <svg xmlns=\"http://www.w3.org/2000/svg\" height=\"24px\"viewBox=\"0 0 24 24\"\n",
              "       width=\"24px\">\n",
              "    <path d=\"M0 0h24v24H0V0z\" fill=\"none\"/>\n",
              "    <path d=\"M18.56 5.44l.94 2.06.94-2.06 2.06-.94-2.06-.94-.94-2.06-.94 2.06-2.06.94zm-11 1L8.5 8.5l.94-2.06 2.06-.94-2.06-.94L8.5 2.5l-.94 2.06-2.06.94zm10 10l.94 2.06.94-2.06 2.06-.94-2.06-.94-.94-2.06-.94 2.06-2.06.94z\"/><path d=\"M17.41 7.96l-1.37-1.37c-.4-.4-.92-.59-1.43-.59-.52 0-1.04.2-1.43.59L10.3 9.45l-7.72 7.72c-.78.78-.78 2.05 0 2.83L4 21.41c.39.39.9.59 1.41.59.51 0 1.02-.2 1.41-.59l7.78-7.78 2.81-2.81c.8-.78.8-2.07 0-2.86zM5.41 20L4 18.59l7.72-7.72 1.47 1.35L5.41 20z\"/>\n",
              "  </svg>\n",
              "      </button>\n",
              "      \n",
              "  <style>\n",
              "    .colab-df-container {\n",
              "      display:flex;\n",
              "      flex-wrap:wrap;\n",
              "      gap: 12px;\n",
              "    }\n",
              "\n",
              "    .colab-df-convert {\n",
              "      background-color: #E8F0FE;\n",
              "      border: none;\n",
              "      border-radius: 50%;\n",
              "      cursor: pointer;\n",
              "      display: none;\n",
              "      fill: #1967D2;\n",
              "      height: 32px;\n",
              "      padding: 0 0 0 0;\n",
              "      width: 32px;\n",
              "    }\n",
              "\n",
              "    .colab-df-convert:hover {\n",
              "      background-color: #E2EBFA;\n",
              "      box-shadow: 0px 1px 2px rgba(60, 64, 67, 0.3), 0px 1px 3px 1px rgba(60, 64, 67, 0.15);\n",
              "      fill: #174EA6;\n",
              "    }\n",
              "\n",
              "    [theme=dark] .colab-df-convert {\n",
              "      background-color: #3B4455;\n",
              "      fill: #D2E3FC;\n",
              "    }\n",
              "\n",
              "    [theme=dark] .colab-df-convert:hover {\n",
              "      background-color: #434B5C;\n",
              "      box-shadow: 0px 1px 3px 1px rgba(0, 0, 0, 0.15);\n",
              "      filter: drop-shadow(0px 1px 2px rgba(0, 0, 0, 0.3));\n",
              "      fill: #FFFFFF;\n",
              "    }\n",
              "  </style>\n",
              "\n",
              "      <script>\n",
              "        const buttonEl =\n",
              "          document.querySelector('#df-3b17240a-ebbb-4574-9ebb-1709477d697a button.colab-df-convert');\n",
              "        buttonEl.style.display =\n",
              "          google.colab.kernel.accessAllowed ? 'block' : 'none';\n",
              "\n",
              "        async function convertToInteractive(key) {\n",
              "          const element = document.querySelector('#df-3b17240a-ebbb-4574-9ebb-1709477d697a');\n",
              "          const dataTable =\n",
              "            await google.colab.kernel.invokeFunction('convertToInteractive',\n",
              "                                                     [key], {});\n",
              "          if (!dataTable) return;\n",
              "\n",
              "          const docLinkHtml = 'Like what you see? Visit the ' +\n",
              "            '<a target=\"_blank\" href=https://colab.research.google.com/notebooks/data_table.ipynb>data table notebook</a>'\n",
              "            + ' to learn more about interactive tables.';\n",
              "          element.innerHTML = '';\n",
              "          dataTable['output_type'] = 'display_data';\n",
              "          await google.colab.output.renderOutput(dataTable, element);\n",
              "          const docLink = document.createElement('div');\n",
              "          docLink.innerHTML = docLinkHtml;\n",
              "          element.appendChild(docLink);\n",
              "        }\n",
              "      </script>\n",
              "    </div>\n",
              "  </div>\n",
              "  "
            ]
          },
          "metadata": {},
          "execution_count": 5
        }
      ]
    },
    {
      "cell_type": "code",
      "source": [
        "# Display shape of dataset\n",
        "df.shape"
      ],
      "metadata": {
        "colab": {
          "base_uri": "https://localhost:8080/"
        },
        "id": "SonC6MixRAEN",
        "outputId": "96812d4c-95a5-4de6-d432-bff9843400f3"
      },
      "execution_count": null,
      "outputs": [
        {
          "output_type": "execute_result",
          "data": {
            "text/plain": [
              "(59400, 40)"
            ]
          },
          "metadata": {},
          "execution_count": 6
        }
      ]
    },
    {
      "cell_type": "markdown",
      "source": [
        "The dataset has 40 features."
      ],
      "metadata": {
        "id": "H3MgW1y6zpD4"
      }
    },
    {
      "cell_type": "code",
      "source": [
        "# Count number of features\n",
        "shape = df.shape\n",
        "print('Number of columns: ', shape[1])"
      ],
      "metadata": {
        "id": "DnzkT7pgsqhg",
        "colab": {
          "base_uri": "https://localhost:8080/"
        },
        "outputId": "61cfbd7e-f767-44f7-905c-c6566e612b7d"
      },
      "execution_count": null,
      "outputs": [
        {
          "output_type": "stream",
          "name": "stdout",
          "text": [
            "Number of columns:  40\n"
          ]
        }
      ]
    },
    {
      "cell_type": "markdown",
      "source": [
        "The dataset has 59,400 observations in the dataset."
      ],
      "metadata": {
        "id": "TKXFtuhls5Uv"
      }
    },
    {
      "cell_type": "code",
      "source": [
        "print(f'The \"Pump It Up\" Dataset has {len(df.index)} observations')"
      ],
      "metadata": {
        "id": "uWiupMAJoHv6",
        "colab": {
          "base_uri": "https://localhost:8080/"
        },
        "outputId": "1a5da33e-c933-4d6f-ecd9-fccfb7bac2a3"
      },
      "execution_count": null,
      "outputs": [
        {
          "output_type": "stream",
          "name": "stdout",
          "text": [
            "The \"Pump It Up\" Dataset has 59400 observations\n"
          ]
        }
      ]
    },
    {
      "cell_type": "markdown",
      "source": [
        "### Data Dictionary"
      ],
      "metadata": {
        "id": "Z9Yne2RSMl7q"
      }
    },
    {
      "cell_type": "markdown",
      "source": [
        "amount_tsh - Total static head (amount water available to waterpoint)\n",
        "\n",
        "date_recorded - The date the row was entered\n",
        "\n",
        "funder - Who funded the well\n",
        "\n",
        "gps_height - Altitude of the well\n",
        "\n",
        "installer - Organization that installed the well\n",
        "\n",
        "longitude - GPS coordinate\n",
        "\n",
        "latitude - GPS coordinate\n",
        "\n",
        "wpt_name - Name of the waterpoint if there is one\n",
        "\n",
        "num_private -\n",
        "\n",
        "basin - Geographic water basin\n",
        "\n",
        "subvillage - Geographic location\n",
        "\n",
        "region - Geographic location\n",
        "\n",
        "region_code - Geographic location (coded)\n",
        "\n",
        "district_code - Geographic location (coded)\n",
        "\n",
        "lga - Geographic location\n",
        "\n",
        "ward - Geographic location\n",
        "\n",
        "population - Population around the well\n",
        "\n",
        "public_meeting - True/False\n",
        "\n",
        "recorded_by - Group entering this row of data\n",
        "\n",
        "scheme_management - Who operates the waterpoint\n",
        "\n",
        "scheme_name - Who operates the waterpoint\n",
        "\n",
        "permit - If the waterpoint is permitted\n",
        "\n",
        "construction_year - Year the waterpoint was constructed\n",
        "\n",
        "extraction_type - The kind of extraction the waterpoint uses\n",
        "\n",
        "extraction_type_group - The kind of extraction the waterpoint uses\n",
        "\n",
        "extraction_type_class - The kind of extraction the waterpoint uses\n",
        "\n",
        "management - How the waterpoint is managed\n",
        "\n",
        "management_group - How the waterpoint is managed\n",
        "\n",
        "payment - What the water costs\n",
        "\n",
        "payment_type - What the water costs\n",
        "\n",
        "water_quality - The quality of the water\n",
        "\n",
        "quality_group - The quality of the water\n",
        "\n",
        "quantity - The quantity of water\n",
        "\n",
        "quantity_group - The quantity of water\n",
        "\n",
        "source - The source of the water\n",
        "\n",
        "source_type - The source of the water\n",
        "\n",
        "source_class - The source of the water\n",
        "\n",
        "waterpoint_type - The kind of waterpoint\n",
        "\n",
        "waterpoint_type_group - The kind of waterpoint\n"
      ],
      "metadata": {
        "id": "pypWMB1lMoDT"
      }
    },
    {
      "cell_type": "markdown",
      "source": [
        "### Duplicate Observations: Identify & Address"
      ],
      "metadata": {
        "id": "t_WigmqKumaL"
      }
    },
    {
      "cell_type": "code",
      "source": [
        "# Count number of duplicate rows in dataset\n",
        "print(f'There are {df.duplicated().sum()} duplicate rows.')"
      ],
      "metadata": {
        "colab": {
          "base_uri": "https://localhost:8080/"
        },
        "id": "8On3ExhHO_WD",
        "outputId": "c1cbb556-abd1-4975-8b97-985e77bfa690"
      },
      "execution_count": null,
      "outputs": [
        {
          "output_type": "stream",
          "name": "stdout",
          "text": [
            "There are 0 duplicate rows.\n"
          ]
        }
      ]
    },
    {
      "cell_type": "markdown",
      "source": [
        "### Delete Unnecessary Columns"
      ],
      "metadata": {
        "id": "ubSfBuXovcLA"
      }
    },
    {
      "cell_type": "markdown",
      "source": [
        "There are a few features that may be duplicates, but will need to perform some analysis to determine if some features are exact replicas of others, or if there are unique values between them. Some of the features that need to be analyzed to determine if they are duplicates of each other are:\n",
        "\n",
        "1. \n",
        "> * *payment*\n",
        "> * **payment_type** (visually analyzed: equivalent values: drop \"**payment_type**\")\n",
        "\n",
        "2. \n",
        "> * *quantity*\n",
        "> * **quantity_group** (visually analyzed: same values: drop \"**quantity_group**\")\n"
      ],
      "metadata": {
        "id": "Mk9qUO4xNAW0"
      }
    },
    {
      "cell_type": "code",
      "source": [
        "# Drop 'payment_type' column\n",
        "df = df.drop(columns=['payment_type'])\n",
        "df.head(3)"
      ],
      "metadata": {
        "colab": {
          "base_uri": "https://localhost:8080/",
          "height": 308
        },
        "id": "FsjuZ0MVOHg4",
        "outputId": "ae4e5961-dbb1-44b2-f944-42417323d4eb"
      },
      "execution_count": null,
      "outputs": [
        {
          "output_type": "execute_result",
          "data": {
            "text/plain": [
              "      id  amount_tsh date_recorded        funder  gps_height     installer  \\\n",
              "0  69572      6000.0    2011-03-14         Roman        1390         Roman   \n",
              "1   8776         0.0    2013-03-06       Grumeti        1399       GRUMETI   \n",
              "2  34310        25.0    2013-02-25  Lottery Club         686  World vision   \n",
              "\n",
              "   longitude  latitude     wpt_name  num_private          basin subvillage  \\\n",
              "0  34.938093 -9.856322         none            0     Lake Nyasa   Mnyusi B   \n",
              "1  34.698766 -2.147466     Zahanati            0  Lake Victoria    Nyamara   \n",
              "2  37.460664 -3.821329  Kwa Mahundi            0        Pangani    Majengo   \n",
              "\n",
              "    region  region_code  district_code        lga      ward  population  \\\n",
              "0   Iringa           11              5     Ludewa  Mundindi         109   \n",
              "1     Mara           20              2  Serengeti     Natta         280   \n",
              "2  Manyara           21              4  Simanjiro   Ngorika         250   \n",
              "\n",
              "  public_meeting              recorded_by scheme_management  \\\n",
              "0           True  GeoData Consultants Ltd               VWC   \n",
              "1            NaN  GeoData Consultants Ltd             Other   \n",
              "2           True  GeoData Consultants Ltd               VWC   \n",
              "\n",
              "                   scheme_name permit  construction_year extraction_type  \\\n",
              "0                        Roman  False               1999         gravity   \n",
              "1                          NaN   True               2010         gravity   \n",
              "2  Nyumba ya mungu pipe scheme   True               2009         gravity   \n",
              "\n",
              "  extraction_type_group extraction_type_class management management_group  \\\n",
              "0               gravity               gravity        vwc       user-group   \n",
              "1               gravity               gravity        wug       user-group   \n",
              "2               gravity               gravity        vwc       user-group   \n",
              "\n",
              "          payment water_quality quality_group      quantity quantity_group  \\\n",
              "0    pay annually          soft          good        enough         enough   \n",
              "1       never pay          soft          good  insufficient   insufficient   \n",
              "2  pay per bucket          soft          good        enough         enough   \n",
              "\n",
              "                 source           source_type source_class  \\\n",
              "0                spring                spring  groundwater   \n",
              "1  rainwater harvesting  rainwater harvesting      surface   \n",
              "2                   dam                   dam      surface   \n",
              "\n",
              "               waterpoint_type waterpoint_type_group  \n",
              "0           communal standpipe    communal standpipe  \n",
              "1           communal standpipe    communal standpipe  \n",
              "2  communal standpipe multiple    communal standpipe  "
            ],
            "text/html": [
              "\n",
              "  <div id=\"df-a2b5da26-3e8a-488b-af29-346a7f8d336c\">\n",
              "    <div class=\"colab-df-container\">\n",
              "      <div>\n",
              "<style scoped>\n",
              "    .dataframe tbody tr th:only-of-type {\n",
              "        vertical-align: middle;\n",
              "    }\n",
              "\n",
              "    .dataframe tbody tr th {\n",
              "        vertical-align: top;\n",
              "    }\n",
              "\n",
              "    .dataframe thead th {\n",
              "        text-align: right;\n",
              "    }\n",
              "</style>\n",
              "<table border=\"1\" class=\"dataframe\">\n",
              "  <thead>\n",
              "    <tr style=\"text-align: right;\">\n",
              "      <th></th>\n",
              "      <th>id</th>\n",
              "      <th>amount_tsh</th>\n",
              "      <th>date_recorded</th>\n",
              "      <th>funder</th>\n",
              "      <th>gps_height</th>\n",
              "      <th>installer</th>\n",
              "      <th>longitude</th>\n",
              "      <th>latitude</th>\n",
              "      <th>wpt_name</th>\n",
              "      <th>num_private</th>\n",
              "      <th>basin</th>\n",
              "      <th>subvillage</th>\n",
              "      <th>region</th>\n",
              "      <th>region_code</th>\n",
              "      <th>district_code</th>\n",
              "      <th>lga</th>\n",
              "      <th>ward</th>\n",
              "      <th>population</th>\n",
              "      <th>public_meeting</th>\n",
              "      <th>recorded_by</th>\n",
              "      <th>scheme_management</th>\n",
              "      <th>scheme_name</th>\n",
              "      <th>permit</th>\n",
              "      <th>construction_year</th>\n",
              "      <th>extraction_type</th>\n",
              "      <th>extraction_type_group</th>\n",
              "      <th>extraction_type_class</th>\n",
              "      <th>management</th>\n",
              "      <th>management_group</th>\n",
              "      <th>payment</th>\n",
              "      <th>water_quality</th>\n",
              "      <th>quality_group</th>\n",
              "      <th>quantity</th>\n",
              "      <th>quantity_group</th>\n",
              "      <th>source</th>\n",
              "      <th>source_type</th>\n",
              "      <th>source_class</th>\n",
              "      <th>waterpoint_type</th>\n",
              "      <th>waterpoint_type_group</th>\n",
              "    </tr>\n",
              "  </thead>\n",
              "  <tbody>\n",
              "    <tr>\n",
              "      <th>0</th>\n",
              "      <td>69572</td>\n",
              "      <td>6000.0</td>\n",
              "      <td>2011-03-14</td>\n",
              "      <td>Roman</td>\n",
              "      <td>1390</td>\n",
              "      <td>Roman</td>\n",
              "      <td>34.938093</td>\n",
              "      <td>-9.856322</td>\n",
              "      <td>none</td>\n",
              "      <td>0</td>\n",
              "      <td>Lake Nyasa</td>\n",
              "      <td>Mnyusi B</td>\n",
              "      <td>Iringa</td>\n",
              "      <td>11</td>\n",
              "      <td>5</td>\n",
              "      <td>Ludewa</td>\n",
              "      <td>Mundindi</td>\n",
              "      <td>109</td>\n",
              "      <td>True</td>\n",
              "      <td>GeoData Consultants Ltd</td>\n",
              "      <td>VWC</td>\n",
              "      <td>Roman</td>\n",
              "      <td>False</td>\n",
              "      <td>1999</td>\n",
              "      <td>gravity</td>\n",
              "      <td>gravity</td>\n",
              "      <td>gravity</td>\n",
              "      <td>vwc</td>\n",
              "      <td>user-group</td>\n",
              "      <td>pay annually</td>\n",
              "      <td>soft</td>\n",
              "      <td>good</td>\n",
              "      <td>enough</td>\n",
              "      <td>enough</td>\n",
              "      <td>spring</td>\n",
              "      <td>spring</td>\n",
              "      <td>groundwater</td>\n",
              "      <td>communal standpipe</td>\n",
              "      <td>communal standpipe</td>\n",
              "    </tr>\n",
              "    <tr>\n",
              "      <th>1</th>\n",
              "      <td>8776</td>\n",
              "      <td>0.0</td>\n",
              "      <td>2013-03-06</td>\n",
              "      <td>Grumeti</td>\n",
              "      <td>1399</td>\n",
              "      <td>GRUMETI</td>\n",
              "      <td>34.698766</td>\n",
              "      <td>-2.147466</td>\n",
              "      <td>Zahanati</td>\n",
              "      <td>0</td>\n",
              "      <td>Lake Victoria</td>\n",
              "      <td>Nyamara</td>\n",
              "      <td>Mara</td>\n",
              "      <td>20</td>\n",
              "      <td>2</td>\n",
              "      <td>Serengeti</td>\n",
              "      <td>Natta</td>\n",
              "      <td>280</td>\n",
              "      <td>NaN</td>\n",
              "      <td>GeoData Consultants Ltd</td>\n",
              "      <td>Other</td>\n",
              "      <td>NaN</td>\n",
              "      <td>True</td>\n",
              "      <td>2010</td>\n",
              "      <td>gravity</td>\n",
              "      <td>gravity</td>\n",
              "      <td>gravity</td>\n",
              "      <td>wug</td>\n",
              "      <td>user-group</td>\n",
              "      <td>never pay</td>\n",
              "      <td>soft</td>\n",
              "      <td>good</td>\n",
              "      <td>insufficient</td>\n",
              "      <td>insufficient</td>\n",
              "      <td>rainwater harvesting</td>\n",
              "      <td>rainwater harvesting</td>\n",
              "      <td>surface</td>\n",
              "      <td>communal standpipe</td>\n",
              "      <td>communal standpipe</td>\n",
              "    </tr>\n",
              "    <tr>\n",
              "      <th>2</th>\n",
              "      <td>34310</td>\n",
              "      <td>25.0</td>\n",
              "      <td>2013-02-25</td>\n",
              "      <td>Lottery Club</td>\n",
              "      <td>686</td>\n",
              "      <td>World vision</td>\n",
              "      <td>37.460664</td>\n",
              "      <td>-3.821329</td>\n",
              "      <td>Kwa Mahundi</td>\n",
              "      <td>0</td>\n",
              "      <td>Pangani</td>\n",
              "      <td>Majengo</td>\n",
              "      <td>Manyara</td>\n",
              "      <td>21</td>\n",
              "      <td>4</td>\n",
              "      <td>Simanjiro</td>\n",
              "      <td>Ngorika</td>\n",
              "      <td>250</td>\n",
              "      <td>True</td>\n",
              "      <td>GeoData Consultants Ltd</td>\n",
              "      <td>VWC</td>\n",
              "      <td>Nyumba ya mungu pipe scheme</td>\n",
              "      <td>True</td>\n",
              "      <td>2009</td>\n",
              "      <td>gravity</td>\n",
              "      <td>gravity</td>\n",
              "      <td>gravity</td>\n",
              "      <td>vwc</td>\n",
              "      <td>user-group</td>\n",
              "      <td>pay per bucket</td>\n",
              "      <td>soft</td>\n",
              "      <td>good</td>\n",
              "      <td>enough</td>\n",
              "      <td>enough</td>\n",
              "      <td>dam</td>\n",
              "      <td>dam</td>\n",
              "      <td>surface</td>\n",
              "      <td>communal standpipe multiple</td>\n",
              "      <td>communal standpipe</td>\n",
              "    </tr>\n",
              "  </tbody>\n",
              "</table>\n",
              "</div>\n",
              "      <button class=\"colab-df-convert\" onclick=\"convertToInteractive('df-a2b5da26-3e8a-488b-af29-346a7f8d336c')\"\n",
              "              title=\"Convert this dataframe to an interactive table.\"\n",
              "              style=\"display:none;\">\n",
              "        \n",
              "  <svg xmlns=\"http://www.w3.org/2000/svg\" height=\"24px\"viewBox=\"0 0 24 24\"\n",
              "       width=\"24px\">\n",
              "    <path d=\"M0 0h24v24H0V0z\" fill=\"none\"/>\n",
              "    <path d=\"M18.56 5.44l.94 2.06.94-2.06 2.06-.94-2.06-.94-.94-2.06-.94 2.06-2.06.94zm-11 1L8.5 8.5l.94-2.06 2.06-.94-2.06-.94L8.5 2.5l-.94 2.06-2.06.94zm10 10l.94 2.06.94-2.06 2.06-.94-2.06-.94-.94-2.06-.94 2.06-2.06.94z\"/><path d=\"M17.41 7.96l-1.37-1.37c-.4-.4-.92-.59-1.43-.59-.52 0-1.04.2-1.43.59L10.3 9.45l-7.72 7.72c-.78.78-.78 2.05 0 2.83L4 21.41c.39.39.9.59 1.41.59.51 0 1.02-.2 1.41-.59l7.78-7.78 2.81-2.81c.8-.78.8-2.07 0-2.86zM5.41 20L4 18.59l7.72-7.72 1.47 1.35L5.41 20z\"/>\n",
              "  </svg>\n",
              "      </button>\n",
              "      \n",
              "  <style>\n",
              "    .colab-df-container {\n",
              "      display:flex;\n",
              "      flex-wrap:wrap;\n",
              "      gap: 12px;\n",
              "    }\n",
              "\n",
              "    .colab-df-convert {\n",
              "      background-color: #E8F0FE;\n",
              "      border: none;\n",
              "      border-radius: 50%;\n",
              "      cursor: pointer;\n",
              "      display: none;\n",
              "      fill: #1967D2;\n",
              "      height: 32px;\n",
              "      padding: 0 0 0 0;\n",
              "      width: 32px;\n",
              "    }\n",
              "\n",
              "    .colab-df-convert:hover {\n",
              "      background-color: #E2EBFA;\n",
              "      box-shadow: 0px 1px 2px rgba(60, 64, 67, 0.3), 0px 1px 3px 1px rgba(60, 64, 67, 0.15);\n",
              "      fill: #174EA6;\n",
              "    }\n",
              "\n",
              "    [theme=dark] .colab-df-convert {\n",
              "      background-color: #3B4455;\n",
              "      fill: #D2E3FC;\n",
              "    }\n",
              "\n",
              "    [theme=dark] .colab-df-convert:hover {\n",
              "      background-color: #434B5C;\n",
              "      box-shadow: 0px 1px 3px 1px rgba(0, 0, 0, 0.15);\n",
              "      filter: drop-shadow(0px 1px 2px rgba(0, 0, 0, 0.3));\n",
              "      fill: #FFFFFF;\n",
              "    }\n",
              "  </style>\n",
              "\n",
              "      <script>\n",
              "        const buttonEl =\n",
              "          document.querySelector('#df-a2b5da26-3e8a-488b-af29-346a7f8d336c button.colab-df-convert');\n",
              "        buttonEl.style.display =\n",
              "          google.colab.kernel.accessAllowed ? 'block' : 'none';\n",
              "\n",
              "        async function convertToInteractive(key) {\n",
              "          const element = document.querySelector('#df-a2b5da26-3e8a-488b-af29-346a7f8d336c');\n",
              "          const dataTable =\n",
              "            await google.colab.kernel.invokeFunction('convertToInteractive',\n",
              "                                                     [key], {});\n",
              "          if (!dataTable) return;\n",
              "\n",
              "          const docLinkHtml = 'Like what you see? Visit the ' +\n",
              "            '<a target=\"_blank\" href=https://colab.research.google.com/notebooks/data_table.ipynb>data table notebook</a>'\n",
              "            + ' to learn more about interactive tables.';\n",
              "          element.innerHTML = '';\n",
              "          dataTable['output_type'] = 'display_data';\n",
              "          await google.colab.output.renderOutput(dataTable, element);\n",
              "          const docLink = document.createElement('div');\n",
              "          docLink.innerHTML = docLinkHtml;\n",
              "          element.appendChild(docLink);\n",
              "        }\n",
              "      </script>\n",
              "    </div>\n",
              "  </div>\n",
              "  "
            ]
          },
          "metadata": {},
          "execution_count": 10
        }
      ]
    },
    {
      "cell_type": "code",
      "source": [
        "# Drop 'quantity_group' column\n",
        "df = df.drop(columns=['quantity_group'])\n",
        "df.head(3)"
      ],
      "metadata": {
        "colab": {
          "base_uri": "https://localhost:8080/",
          "height": 308
        },
        "id": "vPevAlR0O40J",
        "outputId": "31369344-41e6-4b31-8650-09e62ea01208"
      },
      "execution_count": null,
      "outputs": [
        {
          "output_type": "execute_result",
          "data": {
            "text/plain": [
              "      id  amount_tsh date_recorded        funder  gps_height     installer  \\\n",
              "0  69572      6000.0    2011-03-14         Roman        1390         Roman   \n",
              "1   8776         0.0    2013-03-06       Grumeti        1399       GRUMETI   \n",
              "2  34310        25.0    2013-02-25  Lottery Club         686  World vision   \n",
              "\n",
              "   longitude  latitude     wpt_name  num_private          basin subvillage  \\\n",
              "0  34.938093 -9.856322         none            0     Lake Nyasa   Mnyusi B   \n",
              "1  34.698766 -2.147466     Zahanati            0  Lake Victoria    Nyamara   \n",
              "2  37.460664 -3.821329  Kwa Mahundi            0        Pangani    Majengo   \n",
              "\n",
              "    region  region_code  district_code        lga      ward  population  \\\n",
              "0   Iringa           11              5     Ludewa  Mundindi         109   \n",
              "1     Mara           20              2  Serengeti     Natta         280   \n",
              "2  Manyara           21              4  Simanjiro   Ngorika         250   \n",
              "\n",
              "  public_meeting              recorded_by scheme_management  \\\n",
              "0           True  GeoData Consultants Ltd               VWC   \n",
              "1            NaN  GeoData Consultants Ltd             Other   \n",
              "2           True  GeoData Consultants Ltd               VWC   \n",
              "\n",
              "                   scheme_name permit  construction_year extraction_type  \\\n",
              "0                        Roman  False               1999         gravity   \n",
              "1                          NaN   True               2010         gravity   \n",
              "2  Nyumba ya mungu pipe scheme   True               2009         gravity   \n",
              "\n",
              "  extraction_type_group extraction_type_class management management_group  \\\n",
              "0               gravity               gravity        vwc       user-group   \n",
              "1               gravity               gravity        wug       user-group   \n",
              "2               gravity               gravity        vwc       user-group   \n",
              "\n",
              "          payment water_quality quality_group      quantity  \\\n",
              "0    pay annually          soft          good        enough   \n",
              "1       never pay          soft          good  insufficient   \n",
              "2  pay per bucket          soft          good        enough   \n",
              "\n",
              "                 source           source_type source_class  \\\n",
              "0                spring                spring  groundwater   \n",
              "1  rainwater harvesting  rainwater harvesting      surface   \n",
              "2                   dam                   dam      surface   \n",
              "\n",
              "               waterpoint_type waterpoint_type_group  \n",
              "0           communal standpipe    communal standpipe  \n",
              "1           communal standpipe    communal standpipe  \n",
              "2  communal standpipe multiple    communal standpipe  "
            ],
            "text/html": [
              "\n",
              "  <div id=\"df-2bd28cf5-b22e-4f79-9578-e25dc6667aec\">\n",
              "    <div class=\"colab-df-container\">\n",
              "      <div>\n",
              "<style scoped>\n",
              "    .dataframe tbody tr th:only-of-type {\n",
              "        vertical-align: middle;\n",
              "    }\n",
              "\n",
              "    .dataframe tbody tr th {\n",
              "        vertical-align: top;\n",
              "    }\n",
              "\n",
              "    .dataframe thead th {\n",
              "        text-align: right;\n",
              "    }\n",
              "</style>\n",
              "<table border=\"1\" class=\"dataframe\">\n",
              "  <thead>\n",
              "    <tr style=\"text-align: right;\">\n",
              "      <th></th>\n",
              "      <th>id</th>\n",
              "      <th>amount_tsh</th>\n",
              "      <th>date_recorded</th>\n",
              "      <th>funder</th>\n",
              "      <th>gps_height</th>\n",
              "      <th>installer</th>\n",
              "      <th>longitude</th>\n",
              "      <th>latitude</th>\n",
              "      <th>wpt_name</th>\n",
              "      <th>num_private</th>\n",
              "      <th>basin</th>\n",
              "      <th>subvillage</th>\n",
              "      <th>region</th>\n",
              "      <th>region_code</th>\n",
              "      <th>district_code</th>\n",
              "      <th>lga</th>\n",
              "      <th>ward</th>\n",
              "      <th>population</th>\n",
              "      <th>public_meeting</th>\n",
              "      <th>recorded_by</th>\n",
              "      <th>scheme_management</th>\n",
              "      <th>scheme_name</th>\n",
              "      <th>permit</th>\n",
              "      <th>construction_year</th>\n",
              "      <th>extraction_type</th>\n",
              "      <th>extraction_type_group</th>\n",
              "      <th>extraction_type_class</th>\n",
              "      <th>management</th>\n",
              "      <th>management_group</th>\n",
              "      <th>payment</th>\n",
              "      <th>water_quality</th>\n",
              "      <th>quality_group</th>\n",
              "      <th>quantity</th>\n",
              "      <th>source</th>\n",
              "      <th>source_type</th>\n",
              "      <th>source_class</th>\n",
              "      <th>waterpoint_type</th>\n",
              "      <th>waterpoint_type_group</th>\n",
              "    </tr>\n",
              "  </thead>\n",
              "  <tbody>\n",
              "    <tr>\n",
              "      <th>0</th>\n",
              "      <td>69572</td>\n",
              "      <td>6000.0</td>\n",
              "      <td>2011-03-14</td>\n",
              "      <td>Roman</td>\n",
              "      <td>1390</td>\n",
              "      <td>Roman</td>\n",
              "      <td>34.938093</td>\n",
              "      <td>-9.856322</td>\n",
              "      <td>none</td>\n",
              "      <td>0</td>\n",
              "      <td>Lake Nyasa</td>\n",
              "      <td>Mnyusi B</td>\n",
              "      <td>Iringa</td>\n",
              "      <td>11</td>\n",
              "      <td>5</td>\n",
              "      <td>Ludewa</td>\n",
              "      <td>Mundindi</td>\n",
              "      <td>109</td>\n",
              "      <td>True</td>\n",
              "      <td>GeoData Consultants Ltd</td>\n",
              "      <td>VWC</td>\n",
              "      <td>Roman</td>\n",
              "      <td>False</td>\n",
              "      <td>1999</td>\n",
              "      <td>gravity</td>\n",
              "      <td>gravity</td>\n",
              "      <td>gravity</td>\n",
              "      <td>vwc</td>\n",
              "      <td>user-group</td>\n",
              "      <td>pay annually</td>\n",
              "      <td>soft</td>\n",
              "      <td>good</td>\n",
              "      <td>enough</td>\n",
              "      <td>spring</td>\n",
              "      <td>spring</td>\n",
              "      <td>groundwater</td>\n",
              "      <td>communal standpipe</td>\n",
              "      <td>communal standpipe</td>\n",
              "    </tr>\n",
              "    <tr>\n",
              "      <th>1</th>\n",
              "      <td>8776</td>\n",
              "      <td>0.0</td>\n",
              "      <td>2013-03-06</td>\n",
              "      <td>Grumeti</td>\n",
              "      <td>1399</td>\n",
              "      <td>GRUMETI</td>\n",
              "      <td>34.698766</td>\n",
              "      <td>-2.147466</td>\n",
              "      <td>Zahanati</td>\n",
              "      <td>0</td>\n",
              "      <td>Lake Victoria</td>\n",
              "      <td>Nyamara</td>\n",
              "      <td>Mara</td>\n",
              "      <td>20</td>\n",
              "      <td>2</td>\n",
              "      <td>Serengeti</td>\n",
              "      <td>Natta</td>\n",
              "      <td>280</td>\n",
              "      <td>NaN</td>\n",
              "      <td>GeoData Consultants Ltd</td>\n",
              "      <td>Other</td>\n",
              "      <td>NaN</td>\n",
              "      <td>True</td>\n",
              "      <td>2010</td>\n",
              "      <td>gravity</td>\n",
              "      <td>gravity</td>\n",
              "      <td>gravity</td>\n",
              "      <td>wug</td>\n",
              "      <td>user-group</td>\n",
              "      <td>never pay</td>\n",
              "      <td>soft</td>\n",
              "      <td>good</td>\n",
              "      <td>insufficient</td>\n",
              "      <td>rainwater harvesting</td>\n",
              "      <td>rainwater harvesting</td>\n",
              "      <td>surface</td>\n",
              "      <td>communal standpipe</td>\n",
              "      <td>communal standpipe</td>\n",
              "    </tr>\n",
              "    <tr>\n",
              "      <th>2</th>\n",
              "      <td>34310</td>\n",
              "      <td>25.0</td>\n",
              "      <td>2013-02-25</td>\n",
              "      <td>Lottery Club</td>\n",
              "      <td>686</td>\n",
              "      <td>World vision</td>\n",
              "      <td>37.460664</td>\n",
              "      <td>-3.821329</td>\n",
              "      <td>Kwa Mahundi</td>\n",
              "      <td>0</td>\n",
              "      <td>Pangani</td>\n",
              "      <td>Majengo</td>\n",
              "      <td>Manyara</td>\n",
              "      <td>21</td>\n",
              "      <td>4</td>\n",
              "      <td>Simanjiro</td>\n",
              "      <td>Ngorika</td>\n",
              "      <td>250</td>\n",
              "      <td>True</td>\n",
              "      <td>GeoData Consultants Ltd</td>\n",
              "      <td>VWC</td>\n",
              "      <td>Nyumba ya mungu pipe scheme</td>\n",
              "      <td>True</td>\n",
              "      <td>2009</td>\n",
              "      <td>gravity</td>\n",
              "      <td>gravity</td>\n",
              "      <td>gravity</td>\n",
              "      <td>vwc</td>\n",
              "      <td>user-group</td>\n",
              "      <td>pay per bucket</td>\n",
              "      <td>soft</td>\n",
              "      <td>good</td>\n",
              "      <td>enough</td>\n",
              "      <td>dam</td>\n",
              "      <td>dam</td>\n",
              "      <td>surface</td>\n",
              "      <td>communal standpipe multiple</td>\n",
              "      <td>communal standpipe</td>\n",
              "    </tr>\n",
              "  </tbody>\n",
              "</table>\n",
              "</div>\n",
              "      <button class=\"colab-df-convert\" onclick=\"convertToInteractive('df-2bd28cf5-b22e-4f79-9578-e25dc6667aec')\"\n",
              "              title=\"Convert this dataframe to an interactive table.\"\n",
              "              style=\"display:none;\">\n",
              "        \n",
              "  <svg xmlns=\"http://www.w3.org/2000/svg\" height=\"24px\"viewBox=\"0 0 24 24\"\n",
              "       width=\"24px\">\n",
              "    <path d=\"M0 0h24v24H0V0z\" fill=\"none\"/>\n",
              "    <path d=\"M18.56 5.44l.94 2.06.94-2.06 2.06-.94-2.06-.94-.94-2.06-.94 2.06-2.06.94zm-11 1L8.5 8.5l.94-2.06 2.06-.94-2.06-.94L8.5 2.5l-.94 2.06-2.06.94zm10 10l.94 2.06.94-2.06 2.06-.94-2.06-.94-.94-2.06-.94 2.06-2.06.94z\"/><path d=\"M17.41 7.96l-1.37-1.37c-.4-.4-.92-.59-1.43-.59-.52 0-1.04.2-1.43.59L10.3 9.45l-7.72 7.72c-.78.78-.78 2.05 0 2.83L4 21.41c.39.39.9.59 1.41.59.51 0 1.02-.2 1.41-.59l7.78-7.78 2.81-2.81c.8-.78.8-2.07 0-2.86zM5.41 20L4 18.59l7.72-7.72 1.47 1.35L5.41 20z\"/>\n",
              "  </svg>\n",
              "      </button>\n",
              "      \n",
              "  <style>\n",
              "    .colab-df-container {\n",
              "      display:flex;\n",
              "      flex-wrap:wrap;\n",
              "      gap: 12px;\n",
              "    }\n",
              "\n",
              "    .colab-df-convert {\n",
              "      background-color: #E8F0FE;\n",
              "      border: none;\n",
              "      border-radius: 50%;\n",
              "      cursor: pointer;\n",
              "      display: none;\n",
              "      fill: #1967D2;\n",
              "      height: 32px;\n",
              "      padding: 0 0 0 0;\n",
              "      width: 32px;\n",
              "    }\n",
              "\n",
              "    .colab-df-convert:hover {\n",
              "      background-color: #E2EBFA;\n",
              "      box-shadow: 0px 1px 2px rgba(60, 64, 67, 0.3), 0px 1px 3px 1px rgba(60, 64, 67, 0.15);\n",
              "      fill: #174EA6;\n",
              "    }\n",
              "\n",
              "    [theme=dark] .colab-df-convert {\n",
              "      background-color: #3B4455;\n",
              "      fill: #D2E3FC;\n",
              "    }\n",
              "\n",
              "    [theme=dark] .colab-df-convert:hover {\n",
              "      background-color: #434B5C;\n",
              "      box-shadow: 0px 1px 3px 1px rgba(0, 0, 0, 0.15);\n",
              "      filter: drop-shadow(0px 1px 2px rgba(0, 0, 0, 0.3));\n",
              "      fill: #FFFFFF;\n",
              "    }\n",
              "  </style>\n",
              "\n",
              "      <script>\n",
              "        const buttonEl =\n",
              "          document.querySelector('#df-2bd28cf5-b22e-4f79-9578-e25dc6667aec button.colab-df-convert');\n",
              "        buttonEl.style.display =\n",
              "          google.colab.kernel.accessAllowed ? 'block' : 'none';\n",
              "\n",
              "        async function convertToInteractive(key) {\n",
              "          const element = document.querySelector('#df-2bd28cf5-b22e-4f79-9578-e25dc6667aec');\n",
              "          const dataTable =\n",
              "            await google.colab.kernel.invokeFunction('convertToInteractive',\n",
              "                                                     [key], {});\n",
              "          if (!dataTable) return;\n",
              "\n",
              "          const docLinkHtml = 'Like what you see? Visit the ' +\n",
              "            '<a target=\"_blank\" href=https://colab.research.google.com/notebooks/data_table.ipynb>data table notebook</a>'\n",
              "            + ' to learn more about interactive tables.';\n",
              "          element.innerHTML = '';\n",
              "          dataTable['output_type'] = 'display_data';\n",
              "          await google.colab.output.renderOutput(dataTable, element);\n",
              "          const docLink = document.createElement('div');\n",
              "          docLink.innerHTML = docLinkHtml;\n",
              "          element.appendChild(docLink);\n",
              "        }\n",
              "      </script>\n",
              "    </div>\n",
              "  </div>\n",
              "  "
            ]
          },
          "metadata": {},
          "execution_count": 11
        }
      ]
    },
    {
      "cell_type": "markdown",
      "source": [
        "### Inconsistent Values: Check & Address (Categorical Columns)"
      ],
      "metadata": {
        "id": "LjArYeWTZCXI"
      }
    },
    {
      "cell_type": "markdown",
      "source": [
        "* Check all values for each feature to ensure that there are no inconsistent values."
      ],
      "metadata": {
        "id": "UQ3VzqVCZSxH"
      }
    },
    {
      "cell_type": "code",
      "source": [
        "# funder\n",
        "print(f'Number of unique values in feature: {df.funder.nunique()}')"
      ],
      "metadata": {
        "colab": {
          "base_uri": "https://localhost:8080/"
        },
        "id": "JomjmxDuahcc",
        "outputId": "494f251b-fc2a-424d-d579-410fa7eebaff"
      },
      "execution_count": null,
      "outputs": [
        {
          "output_type": "stream",
          "name": "stdout",
          "text": [
            "Number of unique values in feature: 1897\n"
          ]
        }
      ]
    },
    {
      "cell_type": "code",
      "source": [
        "# funder\n",
        "df.funder.value_counts()[0:15]"
      ],
      "metadata": {
        "colab": {
          "base_uri": "https://localhost:8080/"
        },
        "id": "35GAS0DyZPyl",
        "outputId": "4b35ea6c-2c86-4e8d-8993-da2e27136672"
      },
      "execution_count": null,
      "outputs": [
        {
          "output_type": "execute_result",
          "data": {
            "text/plain": [
              "Government Of Tanzania    9084\n",
              "Danida                    3114\n",
              "Hesawa                    2202\n",
              "Rwssp                     1374\n",
              "World Bank                1349\n",
              "Kkkt                      1287\n",
              "World Vision              1246\n",
              "Unicef                    1057\n",
              "Tasaf                      877\n",
              "District Council           843\n",
              "Dhv                        829\n",
              "Private Individual         826\n",
              "Dwsp                       811\n",
              "0                          777\n",
              "Norad                      765\n",
              "Name: funder, dtype: int64"
            ]
          },
          "metadata": {},
          "execution_count": 13
        }
      ]
    },
    {
      "cell_type": "markdown",
      "source": [
        "For 'funder' values, we can see that there are 1,897 unique values, which will be very difficult to cross check that there are no inconsistent values. \n",
        "\n",
        "There are 777 instances for the value \"0\". This appears to be what was used to indicate \"None\" or a missing value. "
      ],
      "metadata": {
        "id": "90noX8urbUFD"
      }
    },
    {
      "cell_type": "code",
      "source": [
        "# installer\n",
        "print(f'Number of unique values in feature: {df.installer.nunique()}')"
      ],
      "metadata": {
        "colab": {
          "base_uri": "https://localhost:8080/"
        },
        "id": "ggP2zccQcJJk",
        "outputId": "f8bfd56c-13c5-4bb5-f2e7-82f63a783f7a"
      },
      "execution_count": null,
      "outputs": [
        {
          "output_type": "stream",
          "name": "stdout",
          "text": [
            "Number of unique values in feature: 2145\n"
          ]
        }
      ]
    },
    {
      "cell_type": "markdown",
      "source": [
        "For 'installer' (and similar to 'funder') values, we can see that there are 2,145 unique values. This will also be very difficult to cross check for inconsistent values. \n",
        "\n",
        "There are also 777 instances for the value \"0\" in 'installer'. This, again, appears to be what was used to indicate \"None\" or a missing value."
      ],
      "metadata": {
        "id": "7WP7GXMavia4"
      }
    },
    {
      "cell_type": "code",
      "source": [
        "# installer \n",
        "df.installer.value_counts()[0:50]"
      ],
      "metadata": {
        "colab": {
          "base_uri": "https://localhost:8080/"
        },
        "id": "36DWN5N5cI3W",
        "outputId": "bfce38f8-4112-43bb-9fc3-a89999fa6a8b"
      },
      "execution_count": null,
      "outputs": [
        {
          "output_type": "execute_result",
          "data": {
            "text/plain": [
              "DWE                           17402\n",
              "Government                     1825\n",
              "RWE                            1206\n",
              "Commu                          1060\n",
              "DANIDA                         1050\n",
              "KKKT                            898\n",
              "Hesawa                          840\n",
              "0                               777\n",
              "TCRS                            707\n",
              "Central government              622\n",
              "CES                             610\n",
              "Community                       553\n",
              "DANID                           552\n",
              "District Council                551\n",
              "HESAWA                          539\n",
              "LGA                             408\n",
              "World vision                    408\n",
              "WEDECO                          397\n",
              "TASAF                           396\n",
              "District council                392\n",
              "Gover                           383\n",
              "AMREF                           329\n",
              "TWESA                           316\n",
              "WU                              301\n",
              "Dmdd                            287\n",
              "ACRA                            278\n",
              "World Vision                    270\n",
              "SEMA                            249\n",
              "DW                              246\n",
              "OXFAM                           234\n",
              "Da                              224\n",
              "Gove                            222\n",
              "UNICEF                          222\n",
              "Idara ya maji                   222\n",
              "Sengerema Water Department      214\n",
              "Kiliwater                       210\n",
              "NORAD                           208\n",
              "FinW                            208\n",
              "DH                              202\n",
              "Villagers                       199\n",
              "DWSP                            192\n",
              "Distri                          181\n",
              "Lawatefuka water sup            180\n",
              "Magadini-Makiwaru wa            175\n",
              "RC                              174\n",
              "FW                              173\n",
              "KKKT _ Konde and DWE            166\n",
              "Centr                           162\n",
              "WVT                             158\n",
              "MWE                             157\n",
              "Name: installer, dtype: int64"
            ]
          },
          "metadata": {},
          "execution_count": 15
        }
      ]
    },
    {
      "cell_type": "markdown",
      "source": [
        "We can see that there are a variety of inconsistent values that include the following (a visual inspection of the dataset was also performed and added further insight into trends and typical types of inconsistent data):\n",
        "\n",
        "> * capitalization differences\n",
        "> * erroneous spacing \n",
        "> * various implimentations for the same name/abbreviation\n",
        "> * various positioning of \"/\" in joint ventures\n",
        "> * inconsistent use of periods in names/abbreviations\n",
        "\n",
        "An example for different spelling/abbreviation usage in names can be seen in the above value_counts:\n",
        "\n",
        "> * 1825: Government\n",
        "> *  622: Central government\n",
        "> *  383: Gover\n",
        "> *  222: Gove\n",
        "> *  162: Centr\n",
        "\n",
        "Also:\n",
        "\n",
        "> * 551: District Council\n",
        "> * 392: District council\n",
        "> * 181: Distri\n",
        "\n",
        "There are many, many more examples in the two features 'funder' and 'installer', some more or less obvious than others. \n",
        "\n"
      ],
      "metadata": {
        "id": "8edcYSQWv-Jh"
      }
    },
    {
      "cell_type": "markdown",
      "source": [
        "Plan for addressing inconsistent values in both 'funder' and 'installer' features:\n",
        "\n",
        "* standardize usage of \"/\" in names\n",
        "* remove all periods from names\n",
        "* remove erroneous whitespace\n",
        "* set all values to uppercase\n",
        "\n",
        "This should take care of the majority of naming inconsistencies that are relatively straight forward to fix.\n",
        "\n",
        "To alleviate variations in naming and abbreviations, more insight into the data needs to be achieved (access to a subject-matter expert would be ideal) in order to optimize any naming standardization methods developed."
      ],
      "metadata": {
        "id": "zmyBnceL1d7L"
      }
    },
    {
      "cell_type": "markdown",
      "source": [
        "#### Inconsistent Values: Clean (Uppercase)\n",
        "* set all values to uppercase"
      ],
      "metadata": {
        "id": "QmeKP9bFRRbd"
      }
    },
    {
      "cell_type": "markdown",
      "source": [
        "##### 'funder'"
      ],
      "metadata": {
        "id": "T-LbMXStek2X"
      }
    },
    {
      "cell_type": "code",
      "source": [
        "# View head of 'funder' to see capitalization example\n",
        "df['funder'].head(10)"
      ],
      "metadata": {
        "colab": {
          "base_uri": "https://localhost:8080/"
        },
        "id": "QuNlWd1Cd8dw",
        "outputId": "c252811b-c7ce-462f-c4a6-055b8fcea4b7"
      },
      "execution_count": null,
      "outputs": [
        {
          "output_type": "execute_result",
          "data": {
            "text/plain": [
              "0                  Roman\n",
              "1                Grumeti\n",
              "2           Lottery Club\n",
              "3                 Unicef\n",
              "4            Action In A\n",
              "5    Mkinga Distric Coun\n",
              "6                   Dwsp\n",
              "7                  Rwssp\n",
              "8               Wateraid\n",
              "9            Isingiro Ho\n",
              "Name: funder, dtype: object"
            ]
          },
          "metadata": {},
          "execution_count": 16
        }
      ]
    },
    {
      "cell_type": "code",
      "source": [
        "# Uppercase all values in column 'funder'\n",
        "df['funder'] = df['funder'].str.upper()"
      ],
      "metadata": {
        "id": "yvSLEZH4IRCD"
      },
      "execution_count": null,
      "outputs": []
    },
    {
      "cell_type": "code",
      "source": [
        "# View head of 'funder' to verify if capitalization has been standardized\n",
        "df['funder'].head(5)"
      ],
      "metadata": {
        "colab": {
          "base_uri": "https://localhost:8080/"
        },
        "id": "fYUdEC55eL-U",
        "outputId": "bf450968-65a5-4be0-eb53-77a1f9b236ef"
      },
      "execution_count": null,
      "outputs": [
        {
          "output_type": "execute_result",
          "data": {
            "text/plain": [
              "0           ROMAN\n",
              "1         GRUMETI\n",
              "2    LOTTERY CLUB\n",
              "3          UNICEF\n",
              "4     ACTION IN A\n",
              "Name: funder, dtype: object"
            ]
          },
          "metadata": {},
          "execution_count": 18
        }
      ]
    },
    {
      "cell_type": "markdown",
      "source": [
        "##### 'installer'"
      ],
      "metadata": {
        "id": "Ru9sqA-VesYP"
      }
    },
    {
      "cell_type": "code",
      "source": [
        "# View head of 'installer' to see capitalization example\n",
        "df['installer'].head(10)"
      ],
      "metadata": {
        "colab": {
          "base_uri": "https://localhost:8080/"
        },
        "id": "4PIJhJ_JeXP5",
        "outputId": "654c2c22-141c-404b-eff7-dbab90530f4b"
      },
      "execution_count": null,
      "outputs": [
        {
          "output_type": "execute_result",
          "data": {
            "text/plain": [
              "0           Roman\n",
              "1         GRUMETI\n",
              "2    World vision\n",
              "3          UNICEF\n",
              "4         Artisan\n",
              "5             DWE\n",
              "6            DWSP\n",
              "7             DWE\n",
              "8       Water Aid\n",
              "9         Artisan\n",
              "Name: installer, dtype: object"
            ]
          },
          "metadata": {},
          "execution_count": 19
        }
      ]
    },
    {
      "cell_type": "code",
      "source": [
        "# Uppercase all values in column 'installer'\n",
        "df['installer'] = df['installer'].str.upper()"
      ],
      "metadata": {
        "id": "lSLks8m1IxWX"
      },
      "execution_count": null,
      "outputs": []
    },
    {
      "cell_type": "code",
      "source": [
        "# View head of 'installer' to verify if capitalization has been standardized\n",
        "df['installer'].head(5)"
      ],
      "metadata": {
        "colab": {
          "base_uri": "https://localhost:8080/"
        },
        "id": "1QWs48knecML",
        "outputId": "287f46e6-632b-4716-961a-ddcf0e65ff33"
      },
      "execution_count": null,
      "outputs": [
        {
          "output_type": "execute_result",
          "data": {
            "text/plain": [
              "0           ROMAN\n",
              "1         GRUMETI\n",
              "2    WORLD VISION\n",
              "3          UNICEF\n",
              "4         ARTISAN\n",
              "Name: installer, dtype: object"
            ]
          },
          "metadata": {},
          "execution_count": 21
        }
      ]
    },
    {
      "cell_type": "markdown",
      "source": [
        "#### Inconsistent Values: Clean (\"/\")\n",
        "* standardize usage of \"/\" in names"
      ],
      "metadata": {
        "id": "xpVZ9LLDRknz"
      }
    },
    {
      "cell_type": "code",
      "source": [
        "# Show examples of usage for \"/\" in values\n",
        "df[df['installer'].str.contains(\"/\", na = False)]['installer']"
      ],
      "metadata": {
        "colab": {
          "base_uri": "https://localhost:8080/"
        },
        "id": "lIQaasp-KjGS",
        "outputId": "cff32a1e-9c22-4e5d-94f3-a6fb213b08e2"
      },
      "execution_count": null,
      "outputs": [
        {
          "output_type": "execute_result",
          "data": {
            "text/plain": [
              "63               ADRA /COMMUNITY\n",
              "110               ADRA/COMMUNITY\n",
              "222              ADRA /COMMUNITY\n",
              "274                      RWE/DWE\n",
              "401               RWE/ COMMUNITY\n",
              "                  ...           \n",
              "59058              RCCHURCH/CEFA\n",
              "59101                TASSAF/TCRS\n",
              "59174        DWE/ANGLICAN CHURCH\n",
              "59241            ADRA/ COMMUNITY\n",
              "59331    RC CHURCH/CENTRAL GOVER\n",
              "Name: installer, Length: 664, dtype: object"
            ]
          },
          "metadata": {},
          "execution_count": 22
        }
      ]
    },
    {
      "cell_type": "markdown",
      "source": [
        "##### Testing Regex\n",
        "\n",
        "Create a sample test dataframe to correctly work out regex expression. "
      ],
      "metadata": {
        "id": "fIoMXZC9WUnr"
      }
    },
    {
      "cell_type": "code",
      "source": [
        "# create test DataFrame called \"test\"\n",
        "# initialize list of elements\n",
        "data = [\"ADRA /COMMUNITY\"], [\"ADRA/COMMUNITY\"], [\"ADRA /COMMUNITY\"], [\"RWE/DWE\"], [\"RWE/ COMMUNITY\"], [\"RCCHURCH/CEFA\"], [\"TASSAF/TCRS\"], [\"DWE/ANGLICAN CHURCH\"], [\"ADRA/ COMMUNITY\"], [\"RC CHURCH/CENTRAL GOVER\"]\n",
        "\n",
        "# Create pandas DataFreame with column name\n",
        "test = pd.DataFrame(data, columns = ['installer'])\n",
        "\n",
        "# print dataframe\n",
        "test"
      ],
      "metadata": {
        "colab": {
          "base_uri": "https://localhost:8080/",
          "height": 359
        },
        "id": "hyZMsdPTaCG9",
        "outputId": "29b2ab93-be03-45a2-8305-e6983178e62c"
      },
      "execution_count": null,
      "outputs": [
        {
          "output_type": "execute_result",
          "data": {
            "text/plain": [
              "                 installer\n",
              "0          ADRA /COMMUNITY\n",
              "1           ADRA/COMMUNITY\n",
              "2          ADRA /COMMUNITY\n",
              "3                  RWE/DWE\n",
              "4           RWE/ COMMUNITY\n",
              "5            RCCHURCH/CEFA\n",
              "6              TASSAF/TCRS\n",
              "7      DWE/ANGLICAN CHURCH\n",
              "8          ADRA/ COMMUNITY\n",
              "9  RC CHURCH/CENTRAL GOVER"
            ],
            "text/html": [
              "\n",
              "  <div id=\"df-a340219c-069f-40c2-bc84-6d250aaceda5\">\n",
              "    <div class=\"colab-df-container\">\n",
              "      <div>\n",
              "<style scoped>\n",
              "    .dataframe tbody tr th:only-of-type {\n",
              "        vertical-align: middle;\n",
              "    }\n",
              "\n",
              "    .dataframe tbody tr th {\n",
              "        vertical-align: top;\n",
              "    }\n",
              "\n",
              "    .dataframe thead th {\n",
              "        text-align: right;\n",
              "    }\n",
              "</style>\n",
              "<table border=\"1\" class=\"dataframe\">\n",
              "  <thead>\n",
              "    <tr style=\"text-align: right;\">\n",
              "      <th></th>\n",
              "      <th>installer</th>\n",
              "    </tr>\n",
              "  </thead>\n",
              "  <tbody>\n",
              "    <tr>\n",
              "      <th>0</th>\n",
              "      <td>ADRA /COMMUNITY</td>\n",
              "    </tr>\n",
              "    <tr>\n",
              "      <th>1</th>\n",
              "      <td>ADRA/COMMUNITY</td>\n",
              "    </tr>\n",
              "    <tr>\n",
              "      <th>2</th>\n",
              "      <td>ADRA /COMMUNITY</td>\n",
              "    </tr>\n",
              "    <tr>\n",
              "      <th>3</th>\n",
              "      <td>RWE/DWE</td>\n",
              "    </tr>\n",
              "    <tr>\n",
              "      <th>4</th>\n",
              "      <td>RWE/ COMMUNITY</td>\n",
              "    </tr>\n",
              "    <tr>\n",
              "      <th>5</th>\n",
              "      <td>RCCHURCH/CEFA</td>\n",
              "    </tr>\n",
              "    <tr>\n",
              "      <th>6</th>\n",
              "      <td>TASSAF/TCRS</td>\n",
              "    </tr>\n",
              "    <tr>\n",
              "      <th>7</th>\n",
              "      <td>DWE/ANGLICAN CHURCH</td>\n",
              "    </tr>\n",
              "    <tr>\n",
              "      <th>8</th>\n",
              "      <td>ADRA/ COMMUNITY</td>\n",
              "    </tr>\n",
              "    <tr>\n",
              "      <th>9</th>\n",
              "      <td>RC CHURCH/CENTRAL GOVER</td>\n",
              "    </tr>\n",
              "  </tbody>\n",
              "</table>\n",
              "</div>\n",
              "      <button class=\"colab-df-convert\" onclick=\"convertToInteractive('df-a340219c-069f-40c2-bc84-6d250aaceda5')\"\n",
              "              title=\"Convert this dataframe to an interactive table.\"\n",
              "              style=\"display:none;\">\n",
              "        \n",
              "  <svg xmlns=\"http://www.w3.org/2000/svg\" height=\"24px\"viewBox=\"0 0 24 24\"\n",
              "       width=\"24px\">\n",
              "    <path d=\"M0 0h24v24H0V0z\" fill=\"none\"/>\n",
              "    <path d=\"M18.56 5.44l.94 2.06.94-2.06 2.06-.94-2.06-.94-.94-2.06-.94 2.06-2.06.94zm-11 1L8.5 8.5l.94-2.06 2.06-.94-2.06-.94L8.5 2.5l-.94 2.06-2.06.94zm10 10l.94 2.06.94-2.06 2.06-.94-2.06-.94-.94-2.06-.94 2.06-2.06.94z\"/><path d=\"M17.41 7.96l-1.37-1.37c-.4-.4-.92-.59-1.43-.59-.52 0-1.04.2-1.43.59L10.3 9.45l-7.72 7.72c-.78.78-.78 2.05 0 2.83L4 21.41c.39.39.9.59 1.41.59.51 0 1.02-.2 1.41-.59l7.78-7.78 2.81-2.81c.8-.78.8-2.07 0-2.86zM5.41 20L4 18.59l7.72-7.72 1.47 1.35L5.41 20z\"/>\n",
              "  </svg>\n",
              "      </button>\n",
              "      \n",
              "  <style>\n",
              "    .colab-df-container {\n",
              "      display:flex;\n",
              "      flex-wrap:wrap;\n",
              "      gap: 12px;\n",
              "    }\n",
              "\n",
              "    .colab-df-convert {\n",
              "      background-color: #E8F0FE;\n",
              "      border: none;\n",
              "      border-radius: 50%;\n",
              "      cursor: pointer;\n",
              "      display: none;\n",
              "      fill: #1967D2;\n",
              "      height: 32px;\n",
              "      padding: 0 0 0 0;\n",
              "      width: 32px;\n",
              "    }\n",
              "\n",
              "    .colab-df-convert:hover {\n",
              "      background-color: #E2EBFA;\n",
              "      box-shadow: 0px 1px 2px rgba(60, 64, 67, 0.3), 0px 1px 3px 1px rgba(60, 64, 67, 0.15);\n",
              "      fill: #174EA6;\n",
              "    }\n",
              "\n",
              "    [theme=dark] .colab-df-convert {\n",
              "      background-color: #3B4455;\n",
              "      fill: #D2E3FC;\n",
              "    }\n",
              "\n",
              "    [theme=dark] .colab-df-convert:hover {\n",
              "      background-color: #434B5C;\n",
              "      box-shadow: 0px 1px 3px 1px rgba(0, 0, 0, 0.15);\n",
              "      filter: drop-shadow(0px 1px 2px rgba(0, 0, 0, 0.3));\n",
              "      fill: #FFFFFF;\n",
              "    }\n",
              "  </style>\n",
              "\n",
              "      <script>\n",
              "        const buttonEl =\n",
              "          document.querySelector('#df-a340219c-069f-40c2-bc84-6d250aaceda5 button.colab-df-convert');\n",
              "        buttonEl.style.display =\n",
              "          google.colab.kernel.accessAllowed ? 'block' : 'none';\n",
              "\n",
              "        async function convertToInteractive(key) {\n",
              "          const element = document.querySelector('#df-a340219c-069f-40c2-bc84-6d250aaceda5');\n",
              "          const dataTable =\n",
              "            await google.colab.kernel.invokeFunction('convertToInteractive',\n",
              "                                                     [key], {});\n",
              "          if (!dataTable) return;\n",
              "\n",
              "          const docLinkHtml = 'Like what you see? Visit the ' +\n",
              "            '<a target=\"_blank\" href=https://colab.research.google.com/notebooks/data_table.ipynb>data table notebook</a>'\n",
              "            + ' to learn more about interactive tables.';\n",
              "          element.innerHTML = '';\n",
              "          dataTable['output_type'] = 'display_data';\n",
              "          await google.colab.output.renderOutput(dataTable, element);\n",
              "          const docLink = document.createElement('div');\n",
              "          docLink.innerHTML = docLinkHtml;\n",
              "          element.appendChild(docLink);\n",
              "        }\n",
              "      </script>\n",
              "    </div>\n",
              "  </div>\n",
              "  "
            ]
          },
          "metadata": {},
          "execution_count": 23
        }
      ]
    },
    {
      "cell_type": "code",
      "source": [
        "# Regex pattern to search for\n",
        "pattern = r'(\\w+\\s?)(/)(\\s?\\w+)'\n",
        "text = \"\"\n",
        "# Variable 'm' to hold each returned occurrence of the pattern\n",
        "m = re.search(pattern, text)\n",
        "\n",
        "# Use a lambda function on test['installer'] to join the captured groups with spaces.\n",
        "test['installer'].str.replace(pattern, \n",
        "                              lambda m: m.group(1)+' '+\n",
        "                              m.group(2)+' '+\n",
        "                              m.group(3))"
      ],
      "metadata": {
        "colab": {
          "base_uri": "https://localhost:8080/"
        },
        "id": "d8HxMl72P7Y_",
        "outputId": "1be4c8af-7cca-40b2-800c-fee6f011f0f9"
      },
      "execution_count": null,
      "outputs": [
        {
          "output_type": "stream",
          "name": "stderr",
          "text": [
            "<ipython-input-24-b2521e3eea79>:8: FutureWarning: The default value of regex will change from True to False in a future version.\n",
            "  test['installer'].str.replace(pattern,\n"
          ]
        },
        {
          "output_type": "execute_result",
          "data": {
            "text/plain": [
              "0            ADRA  / COMMUNITY\n",
              "1             ADRA / COMMUNITY\n",
              "2            ADRA  / COMMUNITY\n",
              "3                    RWE / DWE\n",
              "4             RWE /  COMMUNITY\n",
              "5              RCCHURCH / CEFA\n",
              "6                TASSAF / TCRS\n",
              "7        DWE / ANGLICAN CHURCH\n",
              "8            ADRA /  COMMUNITY\n",
              "9    RC CHURCH / CENTRAL GOVER\n",
              "Name: installer, dtype: object"
            ]
          },
          "metadata": {},
          "execution_count": 24
        }
      ]
    },
    {
      "cell_type": "code",
      "source": [
        "# Use a lambda function on df['installer'] to join the captured groups with spaces.\n",
        "df['installer'].str.replace(pattern, \n",
        "                              lambda m: m.group(1)+' '+\n",
        "                              m.group(2)+' '+\n",
        "                              m.group(3)).filter(items = [110], axis=0)"
      ],
      "metadata": {
        "colab": {
          "base_uri": "https://localhost:8080/"
        },
        "id": "wP8POXyjX01l",
        "outputId": "5242d846-583a-4e7b-cea0-d410fa6010cf"
      },
      "execution_count": null,
      "outputs": [
        {
          "output_type": "stream",
          "name": "stderr",
          "text": [
            "<ipython-input-25-803d8a168d69>:2: FutureWarning: The default value of regex will change from True to False in a future version.\n",
            "  df['installer'].str.replace(pattern,\n"
          ]
        },
        {
          "output_type": "execute_result",
          "data": {
            "text/plain": [
              "110    ADRA / COMMUNITY\n",
              "Name: installer, dtype: object"
            ]
          },
          "metadata": {},
          "execution_count": 25
        }
      ]
    },
    {
      "cell_type": "markdown",
      "source": [
        "Using .filter at end of .str.replace showed that row 110 (that contained a \"/\") was indeed updated with extra spaces on each side of the forward slash. "
      ],
      "metadata": {
        "id": "fcMeVIGGZQUx"
      }
    },
    {
      "cell_type": "markdown",
      "source": [
        "##### 'installer'\n",
        "\n",
        "We will now save our DataFrame in-place for the 'installer' feature."
      ],
      "metadata": {
        "id": "msQ8RkmUfTiY"
      }
    },
    {
      "cell_type": "code",
      "source": [
        "# Use a lambda function on df['installer'] to join the captured groups with spaces and save in-place.\n",
        "df['installer'] = df['installer'].str.replace(pattern, \n",
        "                              lambda m: m.group(1)+' '+\n",
        "                              m.group(2)+' '+\n",
        "                              m.group(3))"
      ],
      "metadata": {
        "colab": {
          "base_uri": "https://localhost:8080/"
        },
        "id": "Ykw8AB1ZZ1dr",
        "outputId": "af8ccc65-4c08-4e90-a6ff-fb826e19474d"
      },
      "execution_count": null,
      "outputs": [
        {
          "output_type": "stream",
          "name": "stderr",
          "text": [
            "<ipython-input-26-1364d87969b4>:2: FutureWarning: The default value of regex will change from True to False in a future version.\n",
            "  df['installer'] = df['installer'].str.replace(pattern,\n"
          ]
        }
      ]
    },
    {
      "cell_type": "code",
      "source": [
        "# Verify usage for \"/\" in values\n",
        "df[df['installer'].str.contains(r\"/\", na = False)]['installer']"
      ],
      "metadata": {
        "colab": {
          "base_uri": "https://localhost:8080/"
        },
        "id": "cphkXbklJ-pr",
        "outputId": "ae449310-212c-4a10-b7cb-7e3e0e76b1e0"
      },
      "execution_count": null,
      "outputs": [
        {
          "output_type": "execute_result",
          "data": {
            "text/plain": [
              "63               ADRA  / COMMUNITY\n",
              "110               ADRA / COMMUNITY\n",
              "222              ADRA  / COMMUNITY\n",
              "274                      RWE / DWE\n",
              "401               RWE /  COMMUNITY\n",
              "                   ...            \n",
              "59058              RCCHURCH / CEFA\n",
              "59101                TASSAF / TCRS\n",
              "59174        DWE / ANGLICAN CHURCH\n",
              "59241            ADRA /  COMMUNITY\n",
              "59331    RC CHURCH / CENTRAL GOVER\n",
              "Name: installer, Length: 664, dtype: object"
            ]
          },
          "metadata": {},
          "execution_count": 27
        }
      ]
    },
    {
      "cell_type": "markdown",
      "source": [
        "##### 'funder'\n",
        "\n",
        "We will repeat the same cleaning on the 'funder' feature."
      ],
      "metadata": {
        "id": "tPK8nxB1c0sW"
      }
    },
    {
      "cell_type": "code",
      "source": [
        "# Show usage for \"/\" in 'funder' values\n",
        "df[df['funder'].str.contains(r\"/\", na = False)]['funder']"
      ],
      "metadata": {
        "colab": {
          "base_uri": "https://localhost:8080/"
        },
        "id": "O5csEYjudIal",
        "outputId": "16155350-22c2-459f-befa-b38c56368551"
      },
      "execution_count": null,
      "outputs": [
        {
          "output_type": "execute_result",
          "data": {
            "text/plain": [
              "51                          DWE/NORAD\n",
              "82       SWISLAND/ MOUNT MERU FLOWERS\n",
              "90                         ISF/TACARE\n",
              "265      SWISLAND/ MOUNT MERU FLOWERS\n",
              "274                 NORAD /GOVERNMENT\n",
              "                     ...             \n",
              "59058                   RCCHURCH/CEFA\n",
              "59101                  TASSAF/ DANIDA\n",
              "59141               WORLD VISION/ADRA\n",
              "59174             DWE/ANGLICAN CHURCH\n",
              "59331                 RC CHURCH/CENTR\n",
              "Name: funder, Length: 756, dtype: object"
            ]
          },
          "metadata": {},
          "execution_count": 28
        }
      ]
    },
    {
      "cell_type": "code",
      "source": [
        "# Use a lambda function on df['funder'] to join the captured groups with spaces and save in-place.\n",
        "df['funder'] = df['funder'].str.replace(pattern, \n",
        "                              lambda m: m.group(1)+' '+\n",
        "                              m.group(2)+' '+\n",
        "                              m.group(3))"
      ],
      "metadata": {
        "colab": {
          "base_uri": "https://localhost:8080/"
        },
        "id": "i_gATMCqdOZi",
        "outputId": "f129d678-e830-4595-a778-dc36f5ee09c3"
      },
      "execution_count": null,
      "outputs": [
        {
          "output_type": "stream",
          "name": "stderr",
          "text": [
            "<ipython-input-29-0e45eed4e3be>:2: FutureWarning: The default value of regex will change from True to False in a future version.\n",
            "  df['funder'] = df['funder'].str.replace(pattern,\n"
          ]
        }
      ]
    },
    {
      "cell_type": "code",
      "source": [
        "# Verify usage for \"/\" in 'funder' values\n",
        "df[df['funder'].str.contains(r\"/\", na = False)]['funder']"
      ],
      "metadata": {
        "colab": {
          "base_uri": "https://localhost:8080/"
        },
        "id": "ogSFAsP3dIEe",
        "outputId": "bbf0a293-d6cb-4df8-80bf-750c849c22b2"
      },
      "execution_count": null,
      "outputs": [
        {
          "output_type": "execute_result",
          "data": {
            "text/plain": [
              "51                          DWE / NORAD\n",
              "82       SWISLAND /  MOUNT MERU FLOWERS\n",
              "90                         ISF / TACARE\n",
              "265      SWISLAND /  MOUNT MERU FLOWERS\n",
              "274                 NORAD  / GOVERNMENT\n",
              "                      ...              \n",
              "59058                   RCCHURCH / CEFA\n",
              "59101                  TASSAF /  DANIDA\n",
              "59141               WORLD VISION / ADRA\n",
              "59174             DWE / ANGLICAN CHURCH\n",
              "59331                 RC CHURCH / CENTR\n",
              "Name: funder, Length: 756, dtype: object"
            ]
          },
          "metadata": {},
          "execution_count": 30
        }
      ]
    },
    {
      "cell_type": "markdown",
      "source": [
        "We have cleaned both 'funder' and 'installer' in regards to forward slash usage.\n",
        "\n",
        "And while there are now spaces on each side of the forward slash (as we wanted, in order to make further cleaning easier), there are now double/multiple spaces in our values. \n",
        "\n",
        "This is fine as we will address the spacing issue for both the additional spaces that we just injected, as well as the ones pre-existing in our dataset, in a future step. "
      ],
      "metadata": {
        "id": "3IDa-awIaPmb"
      }
    },
    {
      "cell_type": "markdown",
      "source": [
        "#### Inconsistent Values: Clean (Periods)\n",
        "* remove all periods from names"
      ],
      "metadata": {
        "id": "SAS2Ojo1RrUQ"
      }
    },
    {
      "cell_type": "markdown",
      "source": [
        "##### Testing Regex\n",
        "\n",
        "We will test our \".\" replacement feature on a test set."
      ],
      "metadata": {
        "id": "zbXsIN6SmxSQ"
      }
    },
    {
      "cell_type": "code",
      "source": [
        "# create test DataFrame called \"test_dot\"\n",
        "# initialize list of elements\n",
        "data = ['OIKOS E .AFRICA'], ['DR. MATOMOLA'], ['I.E.C'], ['T. N. KARUGENDO'], ['DR. MATOMOLA'], ['OIKOS E.AFRICA'], ['NAISHU CONSTRUCTION CO. LTD']\n",
        "\n",
        "# Create pandas DataFreame with column name\n",
        "test_dot = pd.DataFrame(data, columns = ['installer'])\n",
        "\n",
        "# print dataframe\n",
        "test_dot"
      ],
      "metadata": {
        "colab": {
          "base_uri": "https://localhost:8080/",
          "height": 266
        },
        "id": "Eel5uIIBm34L",
        "outputId": "bb80dfbb-efa5-4158-8311-22b68b403443"
      },
      "execution_count": null,
      "outputs": [
        {
          "output_type": "execute_result",
          "data": {
            "text/plain": [
              "                     installer\n",
              "0              OIKOS E .AFRICA\n",
              "1                 DR. MATOMOLA\n",
              "2                        I.E.C\n",
              "3              T. N. KARUGENDO\n",
              "4                 DR. MATOMOLA\n",
              "5               OIKOS E.AFRICA\n",
              "6  NAISHU CONSTRUCTION CO. LTD"
            ],
            "text/html": [
              "\n",
              "  <div id=\"df-9d8fa5f8-fae0-4da7-83b2-6081758041d2\">\n",
              "    <div class=\"colab-df-container\">\n",
              "      <div>\n",
              "<style scoped>\n",
              "    .dataframe tbody tr th:only-of-type {\n",
              "        vertical-align: middle;\n",
              "    }\n",
              "\n",
              "    .dataframe tbody tr th {\n",
              "        vertical-align: top;\n",
              "    }\n",
              "\n",
              "    .dataframe thead th {\n",
              "        text-align: right;\n",
              "    }\n",
              "</style>\n",
              "<table border=\"1\" class=\"dataframe\">\n",
              "  <thead>\n",
              "    <tr style=\"text-align: right;\">\n",
              "      <th></th>\n",
              "      <th>installer</th>\n",
              "    </tr>\n",
              "  </thead>\n",
              "  <tbody>\n",
              "    <tr>\n",
              "      <th>0</th>\n",
              "      <td>OIKOS E .AFRICA</td>\n",
              "    </tr>\n",
              "    <tr>\n",
              "      <th>1</th>\n",
              "      <td>DR. MATOMOLA</td>\n",
              "    </tr>\n",
              "    <tr>\n",
              "      <th>2</th>\n",
              "      <td>I.E.C</td>\n",
              "    </tr>\n",
              "    <tr>\n",
              "      <th>3</th>\n",
              "      <td>T. N. KARUGENDO</td>\n",
              "    </tr>\n",
              "    <tr>\n",
              "      <th>4</th>\n",
              "      <td>DR. MATOMOLA</td>\n",
              "    </tr>\n",
              "    <tr>\n",
              "      <th>5</th>\n",
              "      <td>OIKOS E.AFRICA</td>\n",
              "    </tr>\n",
              "    <tr>\n",
              "      <th>6</th>\n",
              "      <td>NAISHU CONSTRUCTION CO. LTD</td>\n",
              "    </tr>\n",
              "  </tbody>\n",
              "</table>\n",
              "</div>\n",
              "      <button class=\"colab-df-convert\" onclick=\"convertToInteractive('df-9d8fa5f8-fae0-4da7-83b2-6081758041d2')\"\n",
              "              title=\"Convert this dataframe to an interactive table.\"\n",
              "              style=\"display:none;\">\n",
              "        \n",
              "  <svg xmlns=\"http://www.w3.org/2000/svg\" height=\"24px\"viewBox=\"0 0 24 24\"\n",
              "       width=\"24px\">\n",
              "    <path d=\"M0 0h24v24H0V0z\" fill=\"none\"/>\n",
              "    <path d=\"M18.56 5.44l.94 2.06.94-2.06 2.06-.94-2.06-.94-.94-2.06-.94 2.06-2.06.94zm-11 1L8.5 8.5l.94-2.06 2.06-.94-2.06-.94L8.5 2.5l-.94 2.06-2.06.94zm10 10l.94 2.06.94-2.06 2.06-.94-2.06-.94-.94-2.06-.94 2.06-2.06.94z\"/><path d=\"M17.41 7.96l-1.37-1.37c-.4-.4-.92-.59-1.43-.59-.52 0-1.04.2-1.43.59L10.3 9.45l-7.72 7.72c-.78.78-.78 2.05 0 2.83L4 21.41c.39.39.9.59 1.41.59.51 0 1.02-.2 1.41-.59l7.78-7.78 2.81-2.81c.8-.78.8-2.07 0-2.86zM5.41 20L4 18.59l7.72-7.72 1.47 1.35L5.41 20z\"/>\n",
              "  </svg>\n",
              "      </button>\n",
              "      \n",
              "  <style>\n",
              "    .colab-df-container {\n",
              "      display:flex;\n",
              "      flex-wrap:wrap;\n",
              "      gap: 12px;\n",
              "    }\n",
              "\n",
              "    .colab-df-convert {\n",
              "      background-color: #E8F0FE;\n",
              "      border: none;\n",
              "      border-radius: 50%;\n",
              "      cursor: pointer;\n",
              "      display: none;\n",
              "      fill: #1967D2;\n",
              "      height: 32px;\n",
              "      padding: 0 0 0 0;\n",
              "      width: 32px;\n",
              "    }\n",
              "\n",
              "    .colab-df-convert:hover {\n",
              "      background-color: #E2EBFA;\n",
              "      box-shadow: 0px 1px 2px rgba(60, 64, 67, 0.3), 0px 1px 3px 1px rgba(60, 64, 67, 0.15);\n",
              "      fill: #174EA6;\n",
              "    }\n",
              "\n",
              "    [theme=dark] .colab-df-convert {\n",
              "      background-color: #3B4455;\n",
              "      fill: #D2E3FC;\n",
              "    }\n",
              "\n",
              "    [theme=dark] .colab-df-convert:hover {\n",
              "      background-color: #434B5C;\n",
              "      box-shadow: 0px 1px 3px 1px rgba(0, 0, 0, 0.15);\n",
              "      filter: drop-shadow(0px 1px 2px rgba(0, 0, 0, 0.3));\n",
              "      fill: #FFFFFF;\n",
              "    }\n",
              "  </style>\n",
              "\n",
              "      <script>\n",
              "        const buttonEl =\n",
              "          document.querySelector('#df-9d8fa5f8-fae0-4da7-83b2-6081758041d2 button.colab-df-convert');\n",
              "        buttonEl.style.display =\n",
              "          google.colab.kernel.accessAllowed ? 'block' : 'none';\n",
              "\n",
              "        async function convertToInteractive(key) {\n",
              "          const element = document.querySelector('#df-9d8fa5f8-fae0-4da7-83b2-6081758041d2');\n",
              "          const dataTable =\n",
              "            await google.colab.kernel.invokeFunction('convertToInteractive',\n",
              "                                                     [key], {});\n",
              "          if (!dataTable) return;\n",
              "\n",
              "          const docLinkHtml = 'Like what you see? Visit the ' +\n",
              "            '<a target=\"_blank\" href=https://colab.research.google.com/notebooks/data_table.ipynb>data table notebook</a>'\n",
              "            + ' to learn more about interactive tables.';\n",
              "          element.innerHTML = '';\n",
              "          dataTable['output_type'] = 'display_data';\n",
              "          await google.colab.output.renderOutput(dataTable, element);\n",
              "          const docLink = document.createElement('div');\n",
              "          docLink.innerHTML = docLinkHtml;\n",
              "          element.appendChild(docLink);\n",
              "        }\n",
              "      </script>\n",
              "    </div>\n",
              "  </div>\n",
              "  "
            ]
          },
          "metadata": {},
          "execution_count": 31
        }
      ]
    },
    {
      "cell_type": "code",
      "source": [
        "# Remove all periods from values in test_dot dataset\n",
        "test_dot['installer'] = test_dot['installer'].str.replace(\".\", \" \")\n",
        "# Verify\n",
        "test_dot"
      ],
      "metadata": {
        "colab": {
          "base_uri": "https://localhost:8080/",
          "height": 320
        },
        "id": "OXR68HYJq_AK",
        "outputId": "26b5e21a-8637-4dcf-bf48-e80a7860d413"
      },
      "execution_count": null,
      "outputs": [
        {
          "output_type": "stream",
          "name": "stderr",
          "text": [
            "<ipython-input-32-53d0438918e6>:2: FutureWarning: The default value of regex will change from True to False in a future version. In addition, single character regular expressions will *not* be treated as literal strings when regex=True.\n",
            "  test_dot['installer'] = test_dot['installer'].str.replace(\".\", \" \")\n"
          ]
        },
        {
          "output_type": "execute_result",
          "data": {
            "text/plain": [
              "                     installer\n",
              "0              OIKOS E  AFRICA\n",
              "1                 DR  MATOMOLA\n",
              "2                        I E C\n",
              "3              T  N  KARUGENDO\n",
              "4                 DR  MATOMOLA\n",
              "5               OIKOS E AFRICA\n",
              "6  NAISHU CONSTRUCTION CO  LTD"
            ],
            "text/html": [
              "\n",
              "  <div id=\"df-b5c15eff-4456-4d84-91a4-dd0999bf68bc\">\n",
              "    <div class=\"colab-df-container\">\n",
              "      <div>\n",
              "<style scoped>\n",
              "    .dataframe tbody tr th:only-of-type {\n",
              "        vertical-align: middle;\n",
              "    }\n",
              "\n",
              "    .dataframe tbody tr th {\n",
              "        vertical-align: top;\n",
              "    }\n",
              "\n",
              "    .dataframe thead th {\n",
              "        text-align: right;\n",
              "    }\n",
              "</style>\n",
              "<table border=\"1\" class=\"dataframe\">\n",
              "  <thead>\n",
              "    <tr style=\"text-align: right;\">\n",
              "      <th></th>\n",
              "      <th>installer</th>\n",
              "    </tr>\n",
              "  </thead>\n",
              "  <tbody>\n",
              "    <tr>\n",
              "      <th>0</th>\n",
              "      <td>OIKOS E  AFRICA</td>\n",
              "    </tr>\n",
              "    <tr>\n",
              "      <th>1</th>\n",
              "      <td>DR  MATOMOLA</td>\n",
              "    </tr>\n",
              "    <tr>\n",
              "      <th>2</th>\n",
              "      <td>I E C</td>\n",
              "    </tr>\n",
              "    <tr>\n",
              "      <th>3</th>\n",
              "      <td>T  N  KARUGENDO</td>\n",
              "    </tr>\n",
              "    <tr>\n",
              "      <th>4</th>\n",
              "      <td>DR  MATOMOLA</td>\n",
              "    </tr>\n",
              "    <tr>\n",
              "      <th>5</th>\n",
              "      <td>OIKOS E AFRICA</td>\n",
              "    </tr>\n",
              "    <tr>\n",
              "      <th>6</th>\n",
              "      <td>NAISHU CONSTRUCTION CO  LTD</td>\n",
              "    </tr>\n",
              "  </tbody>\n",
              "</table>\n",
              "</div>\n",
              "      <button class=\"colab-df-convert\" onclick=\"convertToInteractive('df-b5c15eff-4456-4d84-91a4-dd0999bf68bc')\"\n",
              "              title=\"Convert this dataframe to an interactive table.\"\n",
              "              style=\"display:none;\">\n",
              "        \n",
              "  <svg xmlns=\"http://www.w3.org/2000/svg\" height=\"24px\"viewBox=\"0 0 24 24\"\n",
              "       width=\"24px\">\n",
              "    <path d=\"M0 0h24v24H0V0z\" fill=\"none\"/>\n",
              "    <path d=\"M18.56 5.44l.94 2.06.94-2.06 2.06-.94-2.06-.94-.94-2.06-.94 2.06-2.06.94zm-11 1L8.5 8.5l.94-2.06 2.06-.94-2.06-.94L8.5 2.5l-.94 2.06-2.06.94zm10 10l.94 2.06.94-2.06 2.06-.94-2.06-.94-.94-2.06-.94 2.06-2.06.94z\"/><path d=\"M17.41 7.96l-1.37-1.37c-.4-.4-.92-.59-1.43-.59-.52 0-1.04.2-1.43.59L10.3 9.45l-7.72 7.72c-.78.78-.78 2.05 0 2.83L4 21.41c.39.39.9.59 1.41.59.51 0 1.02-.2 1.41-.59l7.78-7.78 2.81-2.81c.8-.78.8-2.07 0-2.86zM5.41 20L4 18.59l7.72-7.72 1.47 1.35L5.41 20z\"/>\n",
              "  </svg>\n",
              "      </button>\n",
              "      \n",
              "  <style>\n",
              "    .colab-df-container {\n",
              "      display:flex;\n",
              "      flex-wrap:wrap;\n",
              "      gap: 12px;\n",
              "    }\n",
              "\n",
              "    .colab-df-convert {\n",
              "      background-color: #E8F0FE;\n",
              "      border: none;\n",
              "      border-radius: 50%;\n",
              "      cursor: pointer;\n",
              "      display: none;\n",
              "      fill: #1967D2;\n",
              "      height: 32px;\n",
              "      padding: 0 0 0 0;\n",
              "      width: 32px;\n",
              "    }\n",
              "\n",
              "    .colab-df-convert:hover {\n",
              "      background-color: #E2EBFA;\n",
              "      box-shadow: 0px 1px 2px rgba(60, 64, 67, 0.3), 0px 1px 3px 1px rgba(60, 64, 67, 0.15);\n",
              "      fill: #174EA6;\n",
              "    }\n",
              "\n",
              "    [theme=dark] .colab-df-convert {\n",
              "      background-color: #3B4455;\n",
              "      fill: #D2E3FC;\n",
              "    }\n",
              "\n",
              "    [theme=dark] .colab-df-convert:hover {\n",
              "      background-color: #434B5C;\n",
              "      box-shadow: 0px 1px 3px 1px rgba(0, 0, 0, 0.15);\n",
              "      filter: drop-shadow(0px 1px 2px rgba(0, 0, 0, 0.3));\n",
              "      fill: #FFFFFF;\n",
              "    }\n",
              "  </style>\n",
              "\n",
              "      <script>\n",
              "        const buttonEl =\n",
              "          document.querySelector('#df-b5c15eff-4456-4d84-91a4-dd0999bf68bc button.colab-df-convert');\n",
              "        buttonEl.style.display =\n",
              "          google.colab.kernel.accessAllowed ? 'block' : 'none';\n",
              "\n",
              "        async function convertToInteractive(key) {\n",
              "          const element = document.querySelector('#df-b5c15eff-4456-4d84-91a4-dd0999bf68bc');\n",
              "          const dataTable =\n",
              "            await google.colab.kernel.invokeFunction('convertToInteractive',\n",
              "                                                     [key], {});\n",
              "          if (!dataTable) return;\n",
              "\n",
              "          const docLinkHtml = 'Like what you see? Visit the ' +\n",
              "            '<a target=\"_blank\" href=https://colab.research.google.com/notebooks/data_table.ipynb>data table notebook</a>'\n",
              "            + ' to learn more about interactive tables.';\n",
              "          element.innerHTML = '';\n",
              "          dataTable['output_type'] = 'display_data';\n",
              "          await google.colab.output.renderOutput(dataTable, element);\n",
              "          const docLink = document.createElement('div');\n",
              "          docLink.innerHTML = docLinkHtml;\n",
              "          element.appendChild(docLink);\n",
              "        }\n",
              "      </script>\n",
              "    </div>\n",
              "  </div>\n",
              "  "
            ]
          },
          "metadata": {},
          "execution_count": 32
        }
      ]
    },
    {
      "cell_type": "markdown",
      "source": [
        "Code figured out. Will now apply to entire dataset."
      ],
      "metadata": {
        "id": "PsPtLvDptS8b"
      }
    },
    {
      "cell_type": "markdown",
      "source": [
        "##### 'installer'\n",
        "\n",
        "We will update the 'installer' feature."
      ],
      "metadata": {
        "id": "QFBIo83ej93m"
      }
    },
    {
      "cell_type": "code",
      "source": [
        "# Verify usage for \".\" in values\n",
        "df[df['installer'].str.contains(\".\", na = False)]['installer']"
      ],
      "metadata": {
        "colab": {
          "base_uri": "https://localhost:8080/"
        },
        "id": "UPG5-4bXbnaS",
        "outputId": "08a5acd1-ad37-4fd5-e807-8c3d0774fb4e"
      },
      "execution_count": null,
      "outputs": [
        {
          "output_type": "execute_result",
          "data": {
            "text/plain": [
              "0               ROMAN\n",
              "1             GRUMETI\n",
              "2        WORLD VISION\n",
              "3              UNICEF\n",
              "4             ARTISAN\n",
              "             ...     \n",
              "59394        ML APPRO\n",
              "59395             CES\n",
              "59396            CEFA\n",
              "59398            MUSA\n",
              "59399           WORLD\n",
              "Name: installer, Length: 55745, dtype: object"
            ]
          },
          "metadata": {},
          "execution_count": 33
        }
      ]
    },
    {
      "cell_type": "code",
      "source": [
        "# Remove all periods from values in 'installer'\n",
        "df.installer = df['installer'].str.replace(\".\", \" \")"
      ],
      "metadata": {
        "colab": {
          "base_uri": "https://localhost:8080/"
        },
        "id": "RWSuIykMkL8c",
        "outputId": "435c4d8c-543c-45ba-cfa1-de4bfd0dfbbf"
      },
      "execution_count": null,
      "outputs": [
        {
          "output_type": "stream",
          "name": "stderr",
          "text": [
            "<ipython-input-34-46ffa20d159e>:2: FutureWarning: The default value of regex will change from True to False in a future version. In addition, single character regular expressions will *not* be treated as literal strings when regex=True.\n",
            "  df.installer = df['installer'].str.replace(\".\", \" \")\n"
          ]
        }
      ]
    },
    {
      "cell_type": "code",
      "source": [
        "# Verify usage for \".\" in values\n",
        "df[df['installer'].str.contains(\".\", na = False)]['installer']"
      ],
      "metadata": {
        "colab": {
          "base_uri": "https://localhost:8080/"
        },
        "id": "k08Iok5wt4yD",
        "outputId": "d9eb1c5c-5b02-41dc-89d4-423443f3fc51"
      },
      "execution_count": null,
      "outputs": [
        {
          "output_type": "execute_result",
          "data": {
            "text/plain": [
              "0               ROMAN\n",
              "1             GRUMETI\n",
              "2        WORLD VISION\n",
              "3              UNICEF\n",
              "4             ARTISAN\n",
              "             ...     \n",
              "59394        ML APPRO\n",
              "59395             CES\n",
              "59396            CEFA\n",
              "59398            MUSA\n",
              "59399           WORLD\n",
              "Name: installer, Length: 55745, dtype: object"
            ]
          },
          "metadata": {},
          "execution_count": 35
        }
      ]
    },
    {
      "cell_type": "markdown",
      "source": [
        "##### 'funder'\n",
        "\n",
        "We will update the 'funder' feature."
      ],
      "metadata": {
        "id": "tdeqhxS9kFCu"
      }
    },
    {
      "cell_type": "code",
      "source": [
        "# Verify usage for \".\" in values\n",
        "df[df['funder'].str.contains(\".\", na = False)]['funder']"
      ],
      "metadata": {
        "colab": {
          "base_uri": "https://localhost:8080/"
        },
        "id": "UaWkJGnQurvH",
        "outputId": "a34834f3-3c94-4471-b8a6-ad94003eb2b2"
      },
      "execution_count": null,
      "outputs": [
        {
          "output_type": "execute_result",
          "data": {
            "text/plain": [
              "0                  ROMAN\n",
              "1                GRUMETI\n",
              "2           LOTTERY CLUB\n",
              "3                 UNICEF\n",
              "4            ACTION IN A\n",
              "              ...       \n",
              "59394         WORLD BANK\n",
              "59395    GERMANY REPUBLI\n",
              "59396        CEFA-NJOMBE\n",
              "59398              MALEC\n",
              "59399         WORLD BANK\n",
              "Name: funder, Length: 55765, dtype: object"
            ]
          },
          "metadata": {},
          "execution_count": 36
        }
      ]
    },
    {
      "cell_type": "code",
      "source": [
        "# Remove all periods from values in 'funder'\n",
        "df.funder = df['funder'].str.replace(\".\", \" \")"
      ],
      "metadata": {
        "colab": {
          "base_uri": "https://localhost:8080/"
        },
        "id": "g9qzjhaWurlg",
        "outputId": "a06e84c2-aa9b-499b-d33a-258d481330cf"
      },
      "execution_count": null,
      "outputs": [
        {
          "output_type": "stream",
          "name": "stderr",
          "text": [
            "<ipython-input-37-bff02750e76e>:2: FutureWarning: The default value of regex will change from True to False in a future version. In addition, single character regular expressions will *not* be treated as literal strings when regex=True.\n",
            "  df.funder = df['funder'].str.replace(\".\", \" \")\n"
          ]
        }
      ]
    },
    {
      "cell_type": "code",
      "source": [
        "# Verify usage for \".\" in values\n",
        "df[df['funder'].str.contains(\".\", na = False)]['funder']"
      ],
      "metadata": {
        "colab": {
          "base_uri": "https://localhost:8080/"
        },
        "id": "qmBvFJApurcn",
        "outputId": "bdb7eb9e-3ef4-4680-cca0-56d56376ee6b"
      },
      "execution_count": null,
      "outputs": [
        {
          "output_type": "execute_result",
          "data": {
            "text/plain": [
              "0                  ROMAN\n",
              "1                GRUMETI\n",
              "2           LOTTERY CLUB\n",
              "3                 UNICEF\n",
              "4            ACTION IN A\n",
              "              ...       \n",
              "59394         WORLD BANK\n",
              "59395    GERMANY REPUBLI\n",
              "59396        CEFA-NJOMBE\n",
              "59398              MALEC\n",
              "59399         WORLD BANK\n",
              "Name: funder, Length: 55765, dtype: object"
            ]
          },
          "metadata": {},
          "execution_count": 38
        }
      ]
    },
    {
      "cell_type": "markdown",
      "source": [
        "#### Inconsistent Values: Clean (Whitespace)\n",
        "* remove erroneous whitespace"
      ],
      "metadata": {
        "id": "-GCJPtSQRgos"
      }
    },
    {
      "cell_type": "markdown",
      "source": [
        "Note: skipinitialspace was used on loading the data, so all spaces immediately following the delimiter for all values in all features have been ignored. I believe this will be useful for this dataset."
      ],
      "metadata": {
        "id": "9xhoFzHUWjZ0"
      }
    },
    {
      "cell_type": "markdown",
      "source": [
        "##### 'installer'\n",
        "\n",
        "We will update the 'installer' feature."
      ],
      "metadata": {
        "id": "kpIOq-ycu_uc"
      }
    },
    {
      "cell_type": "code",
      "source": [
        "# Remove leading and trailing whitespace in 'installer'\n",
        "df['installer'] = df.installer.str.strip()"
      ],
      "metadata": {
        "id": "BlSXWPy0Ug45"
      },
      "execution_count": null,
      "outputs": []
    },
    {
      "cell_type": "code",
      "source": [
        "# Count number of multiple spaces in values for 'installer'\n",
        "df.installer.str.count('/s+').sort_values(ascending=False)"
      ],
      "metadata": {
        "colab": {
          "base_uri": "https://localhost:8080/"
        },
        "id": "BLGUrdK5caWO",
        "outputId": "87d9326d-a41b-4e87-fbc1-8c05d9581a07"
      },
      "execution_count": null,
      "outputs": [
        {
          "output_type": "execute_result",
          "data": {
            "text/plain": [
              "0        0.0\n",
              "39572    0.0\n",
              "39560    0.0\n",
              "39561    0.0\n",
              "39562    0.0\n",
              "        ... \n",
              "59357    NaN\n",
              "59366    NaN\n",
              "59370    NaN\n",
              "59376    NaN\n",
              "59397    NaN\n",
              "Name: installer, Length: 59400, dtype: float64"
            ]
          },
          "metadata": {},
          "execution_count": 40
        }
      ]
    },
    {
      "cell_type": "markdown",
      "source": [
        "##### 'funder'\n",
        "\n",
        "We will update the 'funder' feature."
      ],
      "metadata": {
        "id": "Sm_xCGBEvGBY"
      }
    },
    {
      "cell_type": "code",
      "source": [
        "# Remove leading and trailing whitespace in 'funder'\n",
        "df['funder'] = df.funder.str.strip()"
      ],
      "metadata": {
        "id": "iT6kCp8lRw4l"
      },
      "execution_count": null,
      "outputs": []
    },
    {
      "cell_type": "code",
      "source": [
        "# Count number of multiple spaces in values for 'funder'\n",
        "df.funder.str.count('/s+').sort_values(ascending=False)"
      ],
      "metadata": {
        "colab": {
          "base_uri": "https://localhost:8080/"
        },
        "id": "xFnyre7HbTo8",
        "outputId": "d8b3486a-d81f-4f5c-cdcf-47b6368bef1c"
      },
      "execution_count": null,
      "outputs": [
        {
          "output_type": "execute_result",
          "data": {
            "text/plain": [
              "0        0.0\n",
              "39566    0.0\n",
              "39555    0.0\n",
              "39556    0.0\n",
              "39557    0.0\n",
              "        ... \n",
              "59357    NaN\n",
              "59366    NaN\n",
              "59370    NaN\n",
              "59376    NaN\n",
              "59397    NaN\n",
              "Name: funder, Length: 59400, dtype: float64"
            ]
          },
          "metadata": {},
          "execution_count": 42
        }
      ]
    },
    {
      "cell_type": "markdown",
      "source": [
        "* Do the space counts above include total number of spaces in each observation? Or maximum spaces in a row for each observation? Are double/multiple spaces already removed from both features?\n",
        "\n",
        "* Is the following line of code needed? Have all of the double/multiple spaces already been removed?"
      ],
      "metadata": {
        "id": "U-1vFAsFcmHR"
      }
    },
    {
      "cell_type": "code",
      "source": [
        "# Remove duplicate white spaces in all columns\n",
        "df.columns = df.columns.str.replace(r'\\s+', ' ', regex=True)"
      ],
      "metadata": {
        "id": "bJ2g9tZiU8p9"
      },
      "execution_count": null,
      "outputs": []
    },
    {
      "cell_type": "markdown",
      "source": [
        "A [research paper](https://www.mdpi.com/2220-9964/6/10/316) has been found that can give some insight into this dataset and some of the abbreviations used in the 'funder' and 'installer' features."
      ],
      "metadata": {
        "id": "HBDAOs0gQmQc"
      }
    },
    {
      "cell_type": "markdown",
      "source": [
        "### Impossible Values: Check & Address (Numerical Columns)"
      ],
      "metadata": {
        "id": "MEveTd-xZKUw"
      }
    },
    {
      "cell_type": "markdown",
      "source": [
        "* Check all values for each feature to ensure that there are no inconsistent or impossible values.\n",
        "\n",
        "* We will display the descriptive statistics for the numeric columns only for the purpose of detecting impossible values, not for finding or removing outliers (as removing outliers could lead to data leakage)"
      ],
      "metadata": {
        "id": "txI3XYIrZXNY"
      }
    },
    {
      "cell_type": "code",
      "source": [
        "# Display the descriptive statistics for the numeric columns\n",
        "df.describe(include= \"number\")\t"
      ],
      "metadata": {
        "colab": {
          "base_uri": "https://localhost:8080/",
          "height": 361
        },
        "id": "K9Bpz1IRZvbp",
        "outputId": "3986b944-5140-4bf5-e737-6d8974f80756"
      },
      "execution_count": null,
      "outputs": [
        {
          "output_type": "execute_result",
          "data": {
            "text/plain": [
              "                 id     amount_tsh    gps_height     longitude      latitude  \\\n",
              "count  59400.000000   59400.000000  59400.000000  59400.000000  5.940000e+04   \n",
              "mean   37115.131768     317.650385    668.297239     34.077427 -5.706033e+00   \n",
              "std    21453.128371    2997.574558    693.116350      6.567432  2.946019e+00   \n",
              "min        0.000000       0.000000    -90.000000      0.000000 -1.164944e+01   \n",
              "25%    18519.750000       0.000000      0.000000     33.090347 -8.540621e+00   \n",
              "50%    37061.500000       0.000000    369.000000     34.908743 -5.021597e+00   \n",
              "75%    55656.500000      20.000000   1319.250000     37.178387 -3.326156e+00   \n",
              "max    74247.000000  350000.000000   2770.000000     40.345193 -2.000000e-08   \n",
              "\n",
              "        num_private   region_code  district_code    population  \\\n",
              "count  59400.000000  59400.000000   59400.000000  59400.000000   \n",
              "mean       0.474141     15.297003       5.629747    179.909983   \n",
              "std       12.236230     17.587406       9.633649    471.482176   \n",
              "min        0.000000      1.000000       0.000000      0.000000   \n",
              "25%        0.000000      5.000000       2.000000      0.000000   \n",
              "50%        0.000000     12.000000       3.000000     25.000000   \n",
              "75%        0.000000     17.000000       5.000000    215.000000   \n",
              "max     1776.000000     99.000000      80.000000  30500.000000   \n",
              "\n",
              "       construction_year  \n",
              "count       59400.000000  \n",
              "mean         1300.652475  \n",
              "std           951.620547  \n",
              "min             0.000000  \n",
              "25%             0.000000  \n",
              "50%          1986.000000  \n",
              "75%          2004.000000  \n",
              "max          2013.000000  "
            ],
            "text/html": [
              "\n",
              "  <div id=\"df-600e5edc-f21c-4947-a093-61e3be2f9997\">\n",
              "    <div class=\"colab-df-container\">\n",
              "      <div>\n",
              "<style scoped>\n",
              "    .dataframe tbody tr th:only-of-type {\n",
              "        vertical-align: middle;\n",
              "    }\n",
              "\n",
              "    .dataframe tbody tr th {\n",
              "        vertical-align: top;\n",
              "    }\n",
              "\n",
              "    .dataframe thead th {\n",
              "        text-align: right;\n",
              "    }\n",
              "</style>\n",
              "<table border=\"1\" class=\"dataframe\">\n",
              "  <thead>\n",
              "    <tr style=\"text-align: right;\">\n",
              "      <th></th>\n",
              "      <th>id</th>\n",
              "      <th>amount_tsh</th>\n",
              "      <th>gps_height</th>\n",
              "      <th>longitude</th>\n",
              "      <th>latitude</th>\n",
              "      <th>num_private</th>\n",
              "      <th>region_code</th>\n",
              "      <th>district_code</th>\n",
              "      <th>population</th>\n",
              "      <th>construction_year</th>\n",
              "    </tr>\n",
              "  </thead>\n",
              "  <tbody>\n",
              "    <tr>\n",
              "      <th>count</th>\n",
              "      <td>59400.000000</td>\n",
              "      <td>59400.000000</td>\n",
              "      <td>59400.000000</td>\n",
              "      <td>59400.000000</td>\n",
              "      <td>5.940000e+04</td>\n",
              "      <td>59400.000000</td>\n",
              "      <td>59400.000000</td>\n",
              "      <td>59400.000000</td>\n",
              "      <td>59400.000000</td>\n",
              "      <td>59400.000000</td>\n",
              "    </tr>\n",
              "    <tr>\n",
              "      <th>mean</th>\n",
              "      <td>37115.131768</td>\n",
              "      <td>317.650385</td>\n",
              "      <td>668.297239</td>\n",
              "      <td>34.077427</td>\n",
              "      <td>-5.706033e+00</td>\n",
              "      <td>0.474141</td>\n",
              "      <td>15.297003</td>\n",
              "      <td>5.629747</td>\n",
              "      <td>179.909983</td>\n",
              "      <td>1300.652475</td>\n",
              "    </tr>\n",
              "    <tr>\n",
              "      <th>std</th>\n",
              "      <td>21453.128371</td>\n",
              "      <td>2997.574558</td>\n",
              "      <td>693.116350</td>\n",
              "      <td>6.567432</td>\n",
              "      <td>2.946019e+00</td>\n",
              "      <td>12.236230</td>\n",
              "      <td>17.587406</td>\n",
              "      <td>9.633649</td>\n",
              "      <td>471.482176</td>\n",
              "      <td>951.620547</td>\n",
              "    </tr>\n",
              "    <tr>\n",
              "      <th>min</th>\n",
              "      <td>0.000000</td>\n",
              "      <td>0.000000</td>\n",
              "      <td>-90.000000</td>\n",
              "      <td>0.000000</td>\n",
              "      <td>-1.164944e+01</td>\n",
              "      <td>0.000000</td>\n",
              "      <td>1.000000</td>\n",
              "      <td>0.000000</td>\n",
              "      <td>0.000000</td>\n",
              "      <td>0.000000</td>\n",
              "    </tr>\n",
              "    <tr>\n",
              "      <th>25%</th>\n",
              "      <td>18519.750000</td>\n",
              "      <td>0.000000</td>\n",
              "      <td>0.000000</td>\n",
              "      <td>33.090347</td>\n",
              "      <td>-8.540621e+00</td>\n",
              "      <td>0.000000</td>\n",
              "      <td>5.000000</td>\n",
              "      <td>2.000000</td>\n",
              "      <td>0.000000</td>\n",
              "      <td>0.000000</td>\n",
              "    </tr>\n",
              "    <tr>\n",
              "      <th>50%</th>\n",
              "      <td>37061.500000</td>\n",
              "      <td>0.000000</td>\n",
              "      <td>369.000000</td>\n",
              "      <td>34.908743</td>\n",
              "      <td>-5.021597e+00</td>\n",
              "      <td>0.000000</td>\n",
              "      <td>12.000000</td>\n",
              "      <td>3.000000</td>\n",
              "      <td>25.000000</td>\n",
              "      <td>1986.000000</td>\n",
              "    </tr>\n",
              "    <tr>\n",
              "      <th>75%</th>\n",
              "      <td>55656.500000</td>\n",
              "      <td>20.000000</td>\n",
              "      <td>1319.250000</td>\n",
              "      <td>37.178387</td>\n",
              "      <td>-3.326156e+00</td>\n",
              "      <td>0.000000</td>\n",
              "      <td>17.000000</td>\n",
              "      <td>5.000000</td>\n",
              "      <td>215.000000</td>\n",
              "      <td>2004.000000</td>\n",
              "    </tr>\n",
              "    <tr>\n",
              "      <th>max</th>\n",
              "      <td>74247.000000</td>\n",
              "      <td>350000.000000</td>\n",
              "      <td>2770.000000</td>\n",
              "      <td>40.345193</td>\n",
              "      <td>-2.000000e-08</td>\n",
              "      <td>1776.000000</td>\n",
              "      <td>99.000000</td>\n",
              "      <td>80.000000</td>\n",
              "      <td>30500.000000</td>\n",
              "      <td>2013.000000</td>\n",
              "    </tr>\n",
              "  </tbody>\n",
              "</table>\n",
              "</div>\n",
              "      <button class=\"colab-df-convert\" onclick=\"convertToInteractive('df-600e5edc-f21c-4947-a093-61e3be2f9997')\"\n",
              "              title=\"Convert this dataframe to an interactive table.\"\n",
              "              style=\"display:none;\">\n",
              "        \n",
              "  <svg xmlns=\"http://www.w3.org/2000/svg\" height=\"24px\"viewBox=\"0 0 24 24\"\n",
              "       width=\"24px\">\n",
              "    <path d=\"M0 0h24v24H0V0z\" fill=\"none\"/>\n",
              "    <path d=\"M18.56 5.44l.94 2.06.94-2.06 2.06-.94-2.06-.94-.94-2.06-.94 2.06-2.06.94zm-11 1L8.5 8.5l.94-2.06 2.06-.94-2.06-.94L8.5 2.5l-.94 2.06-2.06.94zm10 10l.94 2.06.94-2.06 2.06-.94-2.06-.94-.94-2.06-.94 2.06-2.06.94z\"/><path d=\"M17.41 7.96l-1.37-1.37c-.4-.4-.92-.59-1.43-.59-.52 0-1.04.2-1.43.59L10.3 9.45l-7.72 7.72c-.78.78-.78 2.05 0 2.83L4 21.41c.39.39.9.59 1.41.59.51 0 1.02-.2 1.41-.59l7.78-7.78 2.81-2.81c.8-.78.8-2.07 0-2.86zM5.41 20L4 18.59l7.72-7.72 1.47 1.35L5.41 20z\"/>\n",
              "  </svg>\n",
              "      </button>\n",
              "      \n",
              "  <style>\n",
              "    .colab-df-container {\n",
              "      display:flex;\n",
              "      flex-wrap:wrap;\n",
              "      gap: 12px;\n",
              "    }\n",
              "\n",
              "    .colab-df-convert {\n",
              "      background-color: #E8F0FE;\n",
              "      border: none;\n",
              "      border-radius: 50%;\n",
              "      cursor: pointer;\n",
              "      display: none;\n",
              "      fill: #1967D2;\n",
              "      height: 32px;\n",
              "      padding: 0 0 0 0;\n",
              "      width: 32px;\n",
              "    }\n",
              "\n",
              "    .colab-df-convert:hover {\n",
              "      background-color: #E2EBFA;\n",
              "      box-shadow: 0px 1px 2px rgba(60, 64, 67, 0.3), 0px 1px 3px 1px rgba(60, 64, 67, 0.15);\n",
              "      fill: #174EA6;\n",
              "    }\n",
              "\n",
              "    [theme=dark] .colab-df-convert {\n",
              "      background-color: #3B4455;\n",
              "      fill: #D2E3FC;\n",
              "    }\n",
              "\n",
              "    [theme=dark] .colab-df-convert:hover {\n",
              "      background-color: #434B5C;\n",
              "      box-shadow: 0px 1px 3px 1px rgba(0, 0, 0, 0.15);\n",
              "      filter: drop-shadow(0px 1px 2px rgba(0, 0, 0, 0.3));\n",
              "      fill: #FFFFFF;\n",
              "    }\n",
              "  </style>\n",
              "\n",
              "      <script>\n",
              "        const buttonEl =\n",
              "          document.querySelector('#df-600e5edc-f21c-4947-a093-61e3be2f9997 button.colab-df-convert');\n",
              "        buttonEl.style.display =\n",
              "          google.colab.kernel.accessAllowed ? 'block' : 'none';\n",
              "\n",
              "        async function convertToInteractive(key) {\n",
              "          const element = document.querySelector('#df-600e5edc-f21c-4947-a093-61e3be2f9997');\n",
              "          const dataTable =\n",
              "            await google.colab.kernel.invokeFunction('convertToInteractive',\n",
              "                                                     [key], {});\n",
              "          if (!dataTable) return;\n",
              "\n",
              "          const docLinkHtml = 'Like what you see? Visit the ' +\n",
              "            '<a target=\"_blank\" href=https://colab.research.google.com/notebooks/data_table.ipynb>data table notebook</a>'\n",
              "            + ' to learn more about interactive tables.';\n",
              "          element.innerHTML = '';\n",
              "          dataTable['output_type'] = 'display_data';\n",
              "          await google.colab.output.renderOutput(dataTable, element);\n",
              "          const docLink = document.createElement('div');\n",
              "          docLink.innerHTML = docLinkHtml;\n",
              "          element.appendChild(docLink);\n",
              "        }\n",
              "      </script>\n",
              "    </div>\n",
              "  </div>\n",
              "  "
            ]
          },
          "metadata": {},
          "execution_count": 44
        }
      ]
    },
    {
      "cell_type": "markdown",
      "source": [
        "### Missing Values: Identify & Address\n"
      ],
      "metadata": {
        "id": "rBejXSv1umI_"
      }
    },
    {
      "cell_type": "markdown",
      "source": [
        "#### Zero Values: Removal\n",
        "\n",
        "Find how \"null\" values are expressed in this dataset and delete them so that they can be imputed in a future step."
      ],
      "metadata": {
        "id": "-sHz6J4cQgTy"
      }
    },
    {
      "cell_type": "markdown",
      "source": [
        "After further inspecting this dataset {and as observed before in the section \"*Inconsistent Values: Check & Address (Categorical Columns)*\"} it seems that zero is the placeholder for \"null\" values. \n",
        "\n",
        "Each feature will need to be verified as to whether zero was used to indicate a \"null\" value."
      ],
      "metadata": {
        "id": "-pZVOe3rBpP7"
      }
    },
    {
      "cell_type": "markdown",
      "source": [
        "##### SECTION XYZ"
      ],
      "metadata": {
        "id": "4zyX4ldQQ8T4"
      }
    },
    {
      "cell_type": "code",
      "source": [
        "# Create Text section for EACH feature to see if zero was used as a \"null\" value\n",
        "xyz"
      ],
      "metadata": {
        "id": "SqnpMGRoDBLU"
      },
      "execution_count": null,
      "outputs": []
    },
    {
      "cell_type": "markdown",
      "source": [
        "##### 'construction_year'"
      ],
      "metadata": {
        "id": "AttyYa1oASco"
      }
    },
    {
      "cell_type": "markdown",
      "source": [
        "'construction_year' is the only numerical feature that it is clearly does not make sense to have a minimum value of zero. All zero values for this feature should be deleted and imputed later on."
      ],
      "metadata": {
        "id": "hJcGIefWBD7L"
      }
    },
    {
      "cell_type": "code",
      "source": [
        "# Show examples of usage for zero in values\n",
        "print(list(np.where(df[\"construction_year\"] == 0)))"
      ],
      "metadata": {
        "colab": {
          "base_uri": "https://localhost:8080/"
        },
        "id": "lUg1Uv1vUfpf",
        "outputId": "a12f4be4-0363-479d-b463-261fc8afbd0f"
      },
      "execution_count": null,
      "outputs": [
        {
          "output_type": "stream",
          "name": "stdout",
          "text": [
            "[array([    4,     6,     7, ..., 59393, 59397, 59398])]\n"
          ]
        }
      ]
    },
    {
      "cell_type": "code",
      "source": [
        "# Verify value of row #4 before replacment\n",
        "df['construction_year'].filter(items = [4], axis=0)"
      ],
      "metadata": {
        "colab": {
          "base_uri": "https://localhost:8080/"
        },
        "id": "cfrruB9xAQK6",
        "outputId": "d13454a4-6714-46d8-bba2-ffcf7bb303ae"
      },
      "execution_count": null,
      "outputs": [
        {
          "output_type": "execute_result",
          "data": {
            "text/plain": [
              "4    0\n",
              "Name: construction_year, dtype: int64"
            ]
          },
          "metadata": {},
          "execution_count": 235
        }
      ]
    },
    {
      "cell_type": "code",
      "source": [
        "# Use first index from above that returned target value (0): verify NaN returned\n",
        "df['construction_year'].replace(0, np.nan).filter(items = [4], axis=0)"
      ],
      "metadata": {
        "colab": {
          "base_uri": "https://localhost:8080/"
        },
        "id": "AGppZHHOUr0B",
        "outputId": "03cf0967-8f8f-479b-b376-3dd90736df43"
      },
      "execution_count": null,
      "outputs": [
        {
          "output_type": "execute_result",
          "data": {
            "text/plain": [
              "4   NaN\n",
              "Name: construction_year, dtype: float64"
            ]
          },
          "metadata": {},
          "execution_count": 233
        }
      ]
    },
    {
      "cell_type": "code",
      "source": [
        "# Remove all zero values from 'construction_year'\n",
        "df['construction_year'] = df['construction_year'].replace(0, np.nan)\n",
        "df['construction_year'].filter(items = [4], axis=0)"
      ],
      "metadata": {
        "colab": {
          "base_uri": "https://localhost:8080/"
        },
        "id": "DvgOTMK_UrpW",
        "outputId": "8d48c4e3-0433-49be-e5b9-0bc8964fab4e"
      },
      "execution_count": null,
      "outputs": [
        {
          "output_type": "execute_result",
          "data": {
            "text/plain": [
              "4   NaN\n",
              "Name: construction_year, dtype: float64"
            ]
          },
          "metadata": {},
          "execution_count": 238
        }
      ]
    },
    {
      "cell_type": "code",
      "source": [
        "# Verify 0 replaced with NaN\n",
        "print(list(np.where(df[\"construction_year\"] == 0)))"
      ],
      "metadata": {
        "colab": {
          "base_uri": "https://localhost:8080/"
        },
        "id": "Y3DexCwtUrer",
        "outputId": "5c41e76f-de42-41b7-add1-f90d052dc5f2"
      },
      "execution_count": null,
      "outputs": [
        {
          "output_type": "stream",
          "name": "stdout",
          "text": [
            "[array([], dtype=int64)]\n"
          ]
        }
      ]
    },
    {
      "cell_type": "markdown",
      "source": [
        "In 'construction_year', all \"zero\" values (0) have been replaced with NaN."
      ],
      "metadata": {
        "id": "GyCwSXZjUrTT"
      }
    },
    {
      "cell_type": "markdown",
      "source": [
        "##### 'longitude'"
      ],
      "metadata": {
        "id": "0tnrfJlcRLA7"
      }
    },
    {
      "cell_type": "code",
      "source": [
        "# Show examples of usage for zero in values\n",
        "print(list(np.where(df[\"longitude\"] == 0)))"
      ],
      "metadata": {
        "colab": {
          "base_uri": "https://localhost:8080/"
        },
        "id": "_VHbxAaPROzc",
        "outputId": "9508c0d1-072d-41b8-fbbc-d95d1e7e7bcd"
      },
      "execution_count": null,
      "outputs": [
        {
          "output_type": "stream",
          "name": "stdout",
          "text": [
            "[array([   21,    53,   168, ..., 59295, 59324, 59374])]\n"
          ]
        }
      ]
    },
    {
      "cell_type": "code",
      "source": [
        "# Verify value of row #21 before replacment\n",
        "df['longitude'].filter(items = [21], axis=0)"
      ],
      "metadata": {
        "colab": {
          "base_uri": "https://localhost:8080/"
        },
        "id": "n5aOKZCrRwAm",
        "outputId": "afd5025a-63b2-418b-c1fc-50348e9234a6"
      },
      "execution_count": null,
      "outputs": [
        {
          "output_type": "execute_result",
          "data": {
            "text/plain": [
              "21    0.0\n",
              "Name: longitude, dtype: float64"
            ]
          },
          "metadata": {},
          "execution_count": 220
        }
      ]
    },
    {
      "cell_type": "code",
      "source": [
        "# Use first index from above that returned target value (0): verify NaN returned\n",
        "df['longitude'].replace(0, np.nan).filter(items = [21], axis=0)"
      ],
      "metadata": {
        "colab": {
          "base_uri": "https://localhost:8080/"
        },
        "id": "h-pgVJYBROb7",
        "outputId": "9dafcda5-633e-44aa-8d64-49a65f3595d4"
      },
      "execution_count": null,
      "outputs": [
        {
          "output_type": "execute_result",
          "data": {
            "text/plain": [
              "21   NaN\n",
              "Name: longitude, dtype: float64"
            ]
          },
          "metadata": {},
          "execution_count": 219
        }
      ]
    },
    {
      "cell_type": "code",
      "source": [
        "# Remove all zero values from 'longitude'\n",
        "df['longitude'] = df['longitude'].replace(0, np.nan)\n",
        "df['longitude'].filter(items = [21], axis=0)"
      ],
      "metadata": {
        "colab": {
          "base_uri": "https://localhost:8080/"
        },
        "id": "Jr_i-ay0RON9",
        "outputId": "969ae34d-15e7-4a82-c654-ace3a6d1f966"
      },
      "execution_count": null,
      "outputs": [
        {
          "output_type": "execute_result",
          "data": {
            "text/plain": [
              "21   NaN\n",
              "Name: longitude, dtype: float64"
            ]
          },
          "metadata": {},
          "execution_count": 223
        }
      ]
    },
    {
      "cell_type": "code",
      "source": [
        "# Verify 0 replaced with NaN\n",
        "print(list(np.where(df[\"longitude\"] == 0)))"
      ],
      "metadata": {
        "colab": {
          "base_uri": "https://localhost:8080/"
        },
        "id": "1DkOnxeVRN3W",
        "outputId": "a4f264e8-5b7f-4378-9ca0-722be83e2f8b"
      },
      "execution_count": null,
      "outputs": [
        {
          "output_type": "stream",
          "name": "stdout",
          "text": [
            "[array([], dtype=int64)]\n"
          ]
        }
      ]
    },
    {
      "cell_type": "markdown",
      "source": [
        "In 'longitude', all \"zero\" values (0) have been replaced with NaN."
      ],
      "metadata": {
        "id": "ebsqQWzgSTuf"
      }
    },
    {
      "cell_type": "markdown",
      "source": [
        "##### 'latitude'\n",
        "\n",
        "Visually inspecting dataset reveals zero is missing, but has -2.00E-08 instead of zero."
      ],
      "metadata": {
        "id": "TL7cmj-XRDMl"
      }
    },
    {
      "cell_type": "code",
      "source": [
        "# Show examples of usage for zero in values\n",
        "# Visually inspecting dataset reveals zero is missing, but has -2.00E-08 instead of zero\n",
        "print(list(np.where(df[\"latitude\"] == -2.00E-08)))"
      ],
      "metadata": {
        "colab": {
          "base_uri": "https://localhost:8080/"
        },
        "id": "TXNupomBNa8d",
        "outputId": "2279c482-579e-4407-94b9-87871a35143a"
      },
      "execution_count": null,
      "outputs": [
        {
          "output_type": "stream",
          "name": "stdout",
          "text": [
            "[array([   21,    53,   168, ..., 59295, 59324, 59374])]\n"
          ]
        }
      ]
    },
    {
      "cell_type": "code",
      "source": [
        "# Verify value of row #21 before replacment\n",
        "df['latitude'].filter(items = [21], axis=0)"
      ],
      "metadata": {
        "colab": {
          "base_uri": "https://localhost:8080/"
        },
        "id": "GFMpmVaZR7De",
        "outputId": "6e887e4c-49e5-441d-f620-46c30c08afa0"
      },
      "execution_count": null,
      "outputs": [
        {
          "output_type": "execute_result",
          "data": {
            "text/plain": [
              "21   NaN\n",
              "Name: latitude, dtype: float64"
            ]
          },
          "metadata": {},
          "execution_count": 221
        }
      ]
    },
    {
      "cell_type": "code",
      "source": [
        "# Use first index from above that returned target value (-2.00E-08): verify NaN returned\n",
        "df['latitude'].replace(-2.00E-08, np.nan).filter(items = [21], axis=0)"
      ],
      "metadata": {
        "colab": {
          "base_uri": "https://localhost:8080/"
        },
        "id": "1m96ckCyKama",
        "outputId": "2c9c64c6-47e5-470f-b429-1c935bca3fac"
      },
      "execution_count": null,
      "outputs": [
        {
          "output_type": "execute_result",
          "data": {
            "text/plain": [
              "21   NaN\n",
              "Name: latitude, dtype: float64"
            ]
          },
          "metadata": {},
          "execution_count": 213
        }
      ]
    },
    {
      "cell_type": "code",
      "source": [
        "# Remove all zero values from 'latitude'\n",
        "df['latitude'] = df['latitude'].replace(-2.00E-08, np.nan)\n",
        "df['latitude'].filter(items = [21], axis=0)"
      ],
      "metadata": {
        "colab": {
          "base_uri": "https://localhost:8080/"
        },
        "id": "lmlW4n43Kfqv",
        "outputId": "7e708dd1-6d5c-437c-ba0d-ec7d78247333"
      },
      "execution_count": null,
      "outputs": [
        {
          "output_type": "execute_result",
          "data": {
            "text/plain": [
              "21   NaN\n",
              "Name: latitude, dtype: float64"
            ]
          },
          "metadata": {},
          "execution_count": 214
        }
      ]
    },
    {
      "cell_type": "code",
      "source": [
        "# Verify -2.00E-08 replaced with NaN\n",
        "print(list(np.where(df[\"latitude\"] == -2.00E-08)))"
      ],
      "metadata": {
        "colab": {
          "base_uri": "https://localhost:8080/"
        },
        "id": "VQbsUAo7P2Di",
        "outputId": "0307362b-071f-4a1c-a58e-0ac9590bc76b"
      },
      "execution_count": null,
      "outputs": [
        {
          "output_type": "stream",
          "name": "stdout",
          "text": [
            "[array([], dtype=int64)]\n"
          ]
        }
      ]
    },
    {
      "cell_type": "markdown",
      "source": [
        "In 'latitude', all \"zero\" values (-2.00E-08) have been replaced with NaN."
      ],
      "metadata": {
        "id": "gxOlQwnJQO8i"
      }
    },
    {
      "cell_type": "code",
      "source": [
        "# Identify any missing values per feature\n",
        "df.isna().sum()"
      ],
      "metadata": {
        "colab": {
          "base_uri": "https://localhost:8080/"
        },
        "id": "12lbUS65P0SC",
        "outputId": "9b08660b-e0c6-4f45-fb71-18d0160d7940"
      },
      "execution_count": null,
      "outputs": [
        {
          "output_type": "execute_result",
          "data": {
            "text/plain": [
              "id                           0\n",
              "amount_tsh                   0\n",
              "date_recorded                0\n",
              "funder                    3635\n",
              "gps_height                   0\n",
              "installer                 3655\n",
              "longitude                    0\n",
              "latitude                     0\n",
              "wpt_name                     0\n",
              "num_private                  0\n",
              "basin                        0\n",
              "subvillage                 371\n",
              "region                       0\n",
              "region_code                  0\n",
              "district_code                0\n",
              "lga                          0\n",
              "ward                         0\n",
              "population                   0\n",
              "public_meeting            3334\n",
              "recorded_by                  0\n",
              "scheme_management         3877\n",
              "scheme_name              28166\n",
              "permit                    3056\n",
              "construction_year            0\n",
              "extraction_type              0\n",
              "extraction_type_group        0\n",
              "extraction_type_class        0\n",
              "management                   0\n",
              "management_group             0\n",
              "payment                      0\n",
              "water_quality                0\n",
              "quality_group                0\n",
              "quantity                     0\n",
              "source                       0\n",
              "source_type                  0\n",
              "source_class                 0\n",
              "waterpoint_type              0\n",
              "waterpoint_type_group        0\n",
              "dtype: int64"
            ]
          },
          "metadata": {},
          "execution_count": 45
        }
      ]
    },
    {
      "cell_type": "markdown",
      "source": [
        "### Imputation Strategy (for Missing Values) & Justification"
      ],
      "metadata": {
        "id": "M5HruB6Culs5"
      }
    },
    {
      "cell_type": "markdown",
      "source": [
        "### Inconsistent Values: Check & Address (Categorical Columns)"
      ],
      "metadata": {
        "id": "FtByKUPlui8r"
      }
    },
    {
      "cell_type": "markdown",
      "source": [
        "### Impossible Values: Check & Address (Numerical Columns)"
      ],
      "metadata": {
        "id": "QmrTfxb4uiws"
      }
    },
    {
      "cell_type": "markdown",
      "source": [
        "### Data Type: Ensure Matching Data Dictionary"
      ],
      "metadata": {
        "id": "ajbQkDf2ujQd"
      }
    },
    {
      "cell_type": "markdown",
      "source": [
        "## Explore Data\n",
        "\n"
      ],
      "metadata": {
        "id": "rJhitz_FtaSa"
      }
    },
    {
      "cell_type": "markdown",
      "source": [
        "### Exploratory Visualization #1"
      ],
      "metadata": {
        "id": "fRrvFCV_2pSR"
      }
    },
    {
      "cell_type": "markdown",
      "source": [
        "#### Visualization"
      ],
      "metadata": {
        "id": "buwOAVPn4JdB"
      }
    },
    {
      "cell_type": "code",
      "source": [
        "# Visualization & settings\n",
        "corr = df.corr()\n",
        "mask = np.triu(np.ones_like(corr))\n",
        "fig, ax = plt.subplots(figsize = (12,10))\n",
        "ax = sns.heatmap(corr, cmap= 'GnBu', annot = True, mask = mask);"
      ],
      "metadata": {
        "colab": {
          "base_uri": "https://localhost:8080/",
          "height": 839
        },
        "id": "zQrM7yXi2uJ3",
        "outputId": "2ed2d05e-6d58-4bc2-f330-46092dc64559"
      },
      "execution_count": null,
      "outputs": [
        {
          "output_type": "stream",
          "name": "stderr",
          "text": [
            "<ipython-input-181-9913842d29ac>:2: FutureWarning: The default value of numeric_only in DataFrame.corr is deprecated. In a future version, it will default to False. Select only valid columns or specify the value of numeric_only to silence this warning.\n",
            "  corr = df.corr()\n"
          ]
        },
        {
          "output_type": "display_data",
          "data": {
            "text/plain": [
              "<Figure size 1200x1000 with 2 Axes>"
            ],
            "image/png": "[encoded data removed]"
          },
          "metadata": {}
        }
      ]
    },
    {
      "cell_type": "markdown",
      "source": [
        "#### Explanation"
      ],
      "metadata": {
        "id": "WY1cjlTG42fk"
      }
    },
    {
      "cell_type": "markdown",
      "source": [
        "There is some correlation between the following numberical features:\n",
        "\n",
        "Very Strong, Positive (0.68): 'district_code' and 'region_code'\n",
        "* This is not surprizing, as the larger part of the country will only have the same smaller parts of the country contained within itself. \n",
        "\n",
        "Very Strong, Positive (0.66): 'construction_year' and 'gps_height'\n",
        "* While there may be a correlation between these two, I am puzzled as to what significance or useful/reliable insight this would bring.\n",
        "\n",
        "Moderately Strong, Negative (-0.43): 'latitude' and 'longitude'\n",
        "* As all of the locations are within the same, moderately-sized country, having a correlation between latitude and longitude is not surprising.\n",
        "\n",
        "Moderately Strong, Positive (0.40): 'construction_year' and 'longitude'\n",
        "* Again, I am puzzled as to how this correlation might be useful or reliable. \n",
        "\n",
        "There are no more correlations with a value greater than ±0.30 from zero."
      ],
      "metadata": {
        "id": "XHdoumEx46WD"
      }
    },
    {
      "cell_type": "markdown",
      "source": [
        "### Exploratory Visualization #2"
      ],
      "metadata": {
        "id": "MKelWnNsGtvZ"
      }
    },
    {
      "cell_type": "markdown",
      "source": [
        "#### Visualization"
      ],
      "metadata": {
        "id": "OkrC7HHMKKTI"
      }
    },
    {
      "cell_type": "code",
      "source": [
        "# Set palette color via set_palette\n",
        "sns.set_palette(\"GnBu_r\")\n",
        "\n",
        "# Visualization & settings\n",
        "ax = sns.relplot(data=df,\n",
        "                 x='extraction_type_class', y='construction_year',\n",
        "                 alpha= 0.05,\n",
        "                 height=5, aspect=6/5\n",
        "                 )\n",
        "ax.set_axis_labels('Pump Type','Installation Year')\n",
        "ax.set(title='Pump Type & Installation Years')\n",
        "ax.tick_params(axis='x', rotation=70);"
      ],
      "metadata": {
        "colab": {
          "base_uri": "https://localhost:8080/",
          "height": 614
        },
        "id": "BoTZtBqJGvSz",
        "outputId": "6f79b35f-46da-4192-e390-6fd9d597824e"
      },
      "execution_count": null,
      "outputs": [
        {
          "output_type": "display_data",
          "data": {
            "text/plain": [
              "<Figure size 600x500 with 1 Axes>"
            ],
            "image/png": "[encoded data removed]"
          },
          "metadata": {}
        }
      ]
    },
    {
      "cell_type": "markdown",
      "source": [
        "#### Explanation\n",
        "\n",
        "We can see that there have been many water pumps, of various types, installed in the country over the years. Some of the pumps appear to be very old, as the information goes all the way back to 1960. As people will most likely continue to need water, both the age and types of the pumps will probably big factors in determining how often servicing will be required to keep them operational."
      ],
      "metadata": {
        "id": "YDwSLe3uKGH2"
      }
    },
    {
      "cell_type": "markdown",
      "source": [
        "### Exploratory Visualization #3"
      ],
      "metadata": {
        "id": "OUaaFdkmJtr8"
      }
    },
    {
      "cell_type": "markdown",
      "source": [
        "#### Visualization"
      ],
      "metadata": {
        "id": "Ya1O541YKLq3"
      }
    },
    {
      "cell_type": "code",
      "source": [
        "ax = sns.relplot(data=df, \n",
        "                 x='longitude', y='latitude', \n",
        "                 alpha= 0.10,\n",
        "                 height=5, aspect=5/5\n",
        "                 )\n",
        "ax.set_axis_labels('longitude','latitude')\n",
        "ax.set(title='latitude vs longitude')\n",
        "ax.tick_params(axis='x', rotation=0);"
      ],
      "metadata": {
        "colab": {
          "base_uri": "https://localhost:8080/",
          "height": 523
        },
        "id": "_PrYJXalJzqU",
        "outputId": "72fff781-ccb8-4a43-f1db-180ac1f5bed7"
      },
      "execution_count": null,
      "outputs": [
        {
          "output_type": "display_data",
          "data": {
            "text/plain": [
              "<Figure size 500x500 with 1 Axes>"
            ],
            "image/png": "[encoded data removed]"
          },
          "metadata": {}
        }
      ]
    },
    {
      "cell_type": "markdown",
      "source": [
        "#### Explanation\n",
        "\n",
        "By plotting the lattitude and longitude for each water pump in the country, we can see what resembles an outline of Tanzania! From this visualization we can see that there are pumps all over the country, and probably not just in the cities. This makes checking on each pump regularly, to see if it requires maintenace or not, a very difficult task. This would probably be a difficult undertaking for even the most advanced countries. People need access to good, clean water for their families, animals, gardens and farms. Achieving the goal of being able to predict maintence needs proactively will help reduce the amount of time people will be without access to this life-giving resource. "
      ],
      "metadata": {
        "id": "63B1Z8CoKQX8"
      }
    },
    {
      "cell_type": "markdown",
      "source": [
        "### Exploratory Visualization #4"
      ],
      "metadata": {
        "id": "fwroCGuZ8ZG4"
      }
    },
    {
      "cell_type": "code",
      "source": [
        "# Set palette color via set_palette\n",
        "sns.set_palette(\"GnBu_r\")\n",
        "\n",
        "# Visualization & settings\n",
        "ax = sns.relplot(data=df,\n",
        "                 x='quality_group', y='population',\n",
        "                 alpha= 0.05,\n",
        "                 height=6, aspect=5/6\n",
        "                 )\n",
        "ax.set(yscale=\"log\")\n",
        "ax.set_axis_labels('Quality of Water','Population in Area')\n",
        "ax.set(title='Quality of Water for Population Sizes')\n",
        "ax.tick_params(axis='x', rotation=75);"
      ],
      "metadata": {
        "colab": {
          "base_uri": "https://localhost:8080/",
          "height": 679
        },
        "id": "TaVvgU529RJC",
        "outputId": "074fd798-16c7-45b7-94cf-375963d6c28e"
      },
      "execution_count": null,
      "outputs": [
        {
          "output_type": "display_data",
          "data": {
            "text/plain": [
              "<Figure size 500x600 with 1 Axes>"
            ],
            "image/png": "[encoded data removed]"
          },
          "metadata": {}
        }
      ]
    },
    {
      "cell_type": "markdown",
      "source": [
        "### Exploratory Visualization A"
      ],
      "metadata": {
        "id": "Yukv73aLdQCI"
      }
    },
    {
      "cell_type": "code",
      "source": [
        "# Visualization & settings\n",
        "fig, ax = plt.subplots()\n",
        "g = sns.countplot(data=df, x='water_quality', palette='GnBu_r')\n",
        "# Set Y scale to display in logarithmic scale to account for large difference in values\n",
        "g.set_yscale(\"log\")\n",
        "ax.set(xlabel='', ylabel = '')\n",
        "ax.tick_params(axis='x', rotation=75)\n",
        "plt.show()"
      ],
      "metadata": {
        "colab": {
          "base_uri": "https://localhost:8080/",
          "height": 568
        },
        "id": "vH8De41Rdia7",
        "outputId": "23c7b0b2-65f8-48eb-f7f9-96007b7b4d8e"
      },
      "execution_count": null,
      "outputs": [
        {
          "output_type": "display_data",
          "data": {
            "text/plain": [
              "<Figure size 640x480 with 1 Axes>"
            ],
            "image/png": "[encoded data removed]"
          },
          "metadata": {}
        }
      ]
    },
    {
      "cell_type": "markdown",
      "source": [
        "### Exploratory Visualization B"
      ],
      "metadata": {
        "id": "MEYTl6mfxFVQ"
      }
    },
    {
      "cell_type": "code",
      "source": [
        "# Set palette color via set_palette as .histplot does not accept palette color option without hue also being set\n",
        "sns.set_palette(\"GnBu_r\")\n",
        "\n",
        "# Visualization & settings\n",
        "fig, ax = plt.subplots()\n",
        "sns.histplot(data=df, y='extraction_type_class')\n",
        "ax.set_title('Types of Pumps Used')\n",
        "ax.set_xlabel('Count')\n",
        "ax.set_ylabel('Pump Type');"
      ],
      "metadata": {
        "colab": {
          "base_uri": "https://localhost:8080/",
          "height": 480
        },
        "id": "hFslG3C2a2QR",
        "outputId": "422976cf-bba5-421a-f125-ffe3fbe76078"
      },
      "execution_count": null,
      "outputs": [
        {
          "output_type": "display_data",
          "data": {
            "text/plain": [
              "<Figure size 640x480 with 1 Axes>"
            ],
            "image/png": "[encoded data removed]"
          },
          "metadata": {}
        }
      ]
    },
    {
      "cell_type": "markdown",
      "source": [
        "### Exploratory Visualization C"
      ],
      "metadata": {
        "id": "8sOWCDAgxFDj"
      }
    },
    {
      "cell_type": "code",
      "source": [
        "# Set palette color via set_palette as .histplot does not accept palette color option without hue also being set\n",
        "sns.set_palette(\"GnBu_r\")\n",
        "\n",
        "# Visualization & settings\n",
        "fig, ax = plt.subplots()\n",
        "g = sns.histplot(data=df, y='quantity')\n",
        "ax.set(xlabel='Count', ylabel='Quantity of Water at Pump')\n",
        "plt.show();"
      ],
      "metadata": {
        "colab": {
          "base_uri": "https://localhost:8080/",
          "height": 458
        },
        "id": "I92ICkLLv-Tz",
        "outputId": "aecebb63-155b-49bc-db47-a75a5c5308d1"
      },
      "execution_count": null,
      "outputs": [
        {
          "output_type": "display_data",
          "data": {
            "text/plain": [
              "<Figure size 640x480 with 1 Axes>"
            ],
            "image/png": "[encoded data removed]"
          },
          "metadata": {}
        }
      ]
    },
    {
      "cell_type": "markdown",
      "source": [
        "### Exploratory Visualization D"
      ],
      "metadata": {
        "id": "rAYGQLNqvyQw"
      }
    },
    {
      "cell_type": "code",
      "source": [
        "# Sort values for 'payment' by count into a DataFrame \n",
        "payment_sorted = pd.DataFrame(df['payment'].value_counts().sort_values(ascending=False))\n",
        "payment_sorted"
      ],
      "metadata": {
        "colab": {
          "base_uri": "https://localhost:8080/",
          "height": 266
        },
        "id": "1aI8TSn6tiNs",
        "outputId": "e686de5a-caaf-4876-e71e-a34812ff79fb"
      },
      "execution_count": null,
      "outputs": [
        {
          "output_type": "execute_result",
          "data": {
            "text/plain": [
              "                       payment\n",
              "never pay                25348\n",
              "pay per bucket            8985\n",
              "pay monthly               8300\n",
              "unknown                   8157\n",
              "pay when scheme fails     3914\n",
              "pay annually              3642\n",
              "other                     1054"
            ],
            "text/html": [
              "\n",
              "  <div id=\"df-3817cdf2-a642-452c-9ecc-b831bda33dc8\">\n",
              "    <div class=\"colab-df-container\">\n",
              "      <div>\n",
              "<style scoped>\n",
              "    .dataframe tbody tr th:only-of-type {\n",
              "        vertical-align: middle;\n",
              "    }\n",
              "\n",
              "    .dataframe tbody tr th {\n",
              "        vertical-align: top;\n",
              "    }\n",
              "\n",
              "    .dataframe thead th {\n",
              "        text-align: right;\n",
              "    }\n",
              "</style>\n",
              "<table border=\"1\" class=\"dataframe\">\n",
              "  <thead>\n",
              "    <tr style=\"text-align: right;\">\n",
              "      <th></th>\n",
              "      <th>payment</th>\n",
              "    </tr>\n",
              "  </thead>\n",
              "  <tbody>\n",
              "    <tr>\n",
              "      <th>never pay</th>\n",
              "      <td>25348</td>\n",
              "    </tr>\n",
              "    <tr>\n",
              "      <th>pay per bucket</th>\n",
              "      <td>8985</td>\n",
              "    </tr>\n",
              "    <tr>\n",
              "      <th>pay monthly</th>\n",
              "      <td>8300</td>\n",
              "    </tr>\n",
              "    <tr>\n",
              "      <th>unknown</th>\n",
              "      <td>8157</td>\n",
              "    </tr>\n",
              "    <tr>\n",
              "      <th>pay when scheme fails</th>\n",
              "      <td>3914</td>\n",
              "    </tr>\n",
              "    <tr>\n",
              "      <th>pay annually</th>\n",
              "      <td>3642</td>\n",
              "    </tr>\n",
              "    <tr>\n",
              "      <th>other</th>\n",
              "      <td>1054</td>\n",
              "    </tr>\n",
              "  </tbody>\n",
              "</table>\n",
              "</div>\n",
              "      <button class=\"colab-df-convert\" onclick=\"convertToInteractive('df-3817cdf2-a642-452c-9ecc-b831bda33dc8')\"\n",
              "              title=\"Convert this dataframe to an interactive table.\"\n",
              "              style=\"display:none;\">\n",
              "        \n",
              "  <svg xmlns=\"http://www.w3.org/2000/svg\" height=\"24px\"viewBox=\"0 0 24 24\"\n",
              "       width=\"24px\">\n",
              "    <path d=\"M0 0h24v24H0V0z\" fill=\"none\"/>\n",
              "    <path d=\"M18.56 5.44l.94 2.06.94-2.06 2.06-.94-2.06-.94-.94-2.06-.94 2.06-2.06.94zm-11 1L8.5 8.5l.94-2.06 2.06-.94-2.06-.94L8.5 2.5l-.94 2.06-2.06.94zm10 10l.94 2.06.94-2.06 2.06-.94-2.06-.94-.94-2.06-.94 2.06-2.06.94z\"/><path d=\"M17.41 7.96l-1.37-1.37c-.4-.4-.92-.59-1.43-.59-.52 0-1.04.2-1.43.59L10.3 9.45l-7.72 7.72c-.78.78-.78 2.05 0 2.83L4 21.41c.39.39.9.59 1.41.59.51 0 1.02-.2 1.41-.59l7.78-7.78 2.81-2.81c.8-.78.8-2.07 0-2.86zM5.41 20L4 18.59l7.72-7.72 1.47 1.35L5.41 20z\"/>\n",
              "  </svg>\n",
              "      </button>\n",
              "      \n",
              "  <style>\n",
              "    .colab-df-container {\n",
              "      display:flex;\n",
              "      flex-wrap:wrap;\n",
              "      gap: 12px;\n",
              "    }\n",
              "\n",
              "    .colab-df-convert {\n",
              "      background-color: #E8F0FE;\n",
              "      border: none;\n",
              "      border-radius: 50%;\n",
              "      cursor: pointer;\n",
              "      display: none;\n",
              "      fill: #1967D2;\n",
              "      height: 32px;\n",
              "      padding: 0 0 0 0;\n",
              "      width: 32px;\n",
              "    }\n",
              "\n",
              "    .colab-df-convert:hover {\n",
              "      background-color: #E2EBFA;\n",
              "      box-shadow: 0px 1px 2px rgba(60, 64, 67, 0.3), 0px 1px 3px 1px rgba(60, 64, 67, 0.15);\n",
              "      fill: #174EA6;\n",
              "    }\n",
              "\n",
              "    [theme=dark] .colab-df-convert {\n",
              "      background-color: #3B4455;\n",
              "      fill: #D2E3FC;\n",
              "    }\n",
              "\n",
              "    [theme=dark] .colab-df-convert:hover {\n",
              "      background-color: #434B5C;\n",
              "      box-shadow: 0px 1px 3px 1px rgba(0, 0, 0, 0.15);\n",
              "      filter: drop-shadow(0px 1px 2px rgba(0, 0, 0, 0.3));\n",
              "      fill: #FFFFFF;\n",
              "    }\n",
              "  </style>\n",
              "\n",
              "      <script>\n",
              "        const buttonEl =\n",
              "          document.querySelector('#df-3817cdf2-a642-452c-9ecc-b831bda33dc8 button.colab-df-convert');\n",
              "        buttonEl.style.display =\n",
              "          google.colab.kernel.accessAllowed ? 'block' : 'none';\n",
              "\n",
              "        async function convertToInteractive(key) {\n",
              "          const element = document.querySelector('#df-3817cdf2-a642-452c-9ecc-b831bda33dc8');\n",
              "          const dataTable =\n",
              "            await google.colab.kernel.invokeFunction('convertToInteractive',\n",
              "                                                     [key], {});\n",
              "          if (!dataTable) return;\n",
              "\n",
              "          const docLinkHtml = 'Like what you see? Visit the ' +\n",
              "            '<a target=\"_blank\" href=https://colab.research.google.com/notebooks/data_table.ipynb>data table notebook</a>'\n",
              "            + ' to learn more about interactive tables.';\n",
              "          element.innerHTML = '';\n",
              "          dataTable['output_type'] = 'display_data';\n",
              "          await google.colab.output.renderOutput(dataTable, element);\n",
              "          const docLink = document.createElement('div');\n",
              "          docLink.innerHTML = docLinkHtml;\n",
              "          element.appendChild(docLink);\n",
              "        }\n",
              "      </script>\n",
              "    </div>\n",
              "  </div>\n",
              "  "
            ]
          },
          "metadata": {},
          "execution_count": 151
        }
      ]
    },
    {
      "cell_type": "code",
      "source": [
        "# Transpose DataFrame (swap columns and rows) to assist with visualization\n",
        "payment_sorted_transposed = payment_sorted.T\n",
        "payment_sorted_transposed"
      ],
      "metadata": {
        "colab": {
          "base_uri": "https://localhost:8080/",
          "height": 124
        },
        "id": "3u0OH0VWvvVS",
        "outputId": "f05a68a5-73e3-42f5-c653-67312d3d1a19"
      },
      "execution_count": null,
      "outputs": [
        {
          "output_type": "execute_result",
          "data": {
            "text/plain": [
              "         never pay  pay per bucket  pay monthly  unknown  \\\n",
              "payment      25348            8985         8300     8157   \n",
              "\n",
              "         pay when scheme fails  pay annually  other  \n",
              "payment                   3914          3642   1054  "
            ],
            "text/html": [
              "\n",
              "  <div id=\"df-bed53493-34bb-4a83-81c5-1b701f176d79\">\n",
              "    <div class=\"colab-df-container\">\n",
              "      <div>\n",
              "<style scoped>\n",
              "    .dataframe tbody tr th:only-of-type {\n",
              "        vertical-align: middle;\n",
              "    }\n",
              "\n",
              "    .dataframe tbody tr th {\n",
              "        vertical-align: top;\n",
              "    }\n",
              "\n",
              "    .dataframe thead th {\n",
              "        text-align: right;\n",
              "    }\n",
              "</style>\n",
              "<table border=\"1\" class=\"dataframe\">\n",
              "  <thead>\n",
              "    <tr style=\"text-align: right;\">\n",
              "      <th></th>\n",
              "      <th>never pay</th>\n",
              "      <th>pay per bucket</th>\n",
              "      <th>pay monthly</th>\n",
              "      <th>unknown</th>\n",
              "      <th>pay when scheme fails</th>\n",
              "      <th>pay annually</th>\n",
              "      <th>other</th>\n",
              "    </tr>\n",
              "  </thead>\n",
              "  <tbody>\n",
              "    <tr>\n",
              "      <th>payment</th>\n",
              "      <td>25348</td>\n",
              "      <td>8985</td>\n",
              "      <td>8300</td>\n",
              "      <td>8157</td>\n",
              "      <td>3914</td>\n",
              "      <td>3642</td>\n",
              "      <td>1054</td>\n",
              "    </tr>\n",
              "  </tbody>\n",
              "</table>\n",
              "</div>\n",
              "      <button class=\"colab-df-convert\" onclick=\"convertToInteractive('df-bed53493-34bb-4a83-81c5-1b701f176d79')\"\n",
              "              title=\"Convert this dataframe to an interactive table.\"\n",
              "              style=\"display:none;\">\n",
              "        \n",
              "  <svg xmlns=\"http://www.w3.org/2000/svg\" height=\"24px\"viewBox=\"0 0 24 24\"\n",
              "       width=\"24px\">\n",
              "    <path d=\"M0 0h24v24H0V0z\" fill=\"none\"/>\n",
              "    <path d=\"M18.56 5.44l.94 2.06.94-2.06 2.06-.94-2.06-.94-.94-2.06-.94 2.06-2.06.94zm-11 1L8.5 8.5l.94-2.06 2.06-.94-2.06-.94L8.5 2.5l-.94 2.06-2.06.94zm10 10l.94 2.06.94-2.06 2.06-.94-2.06-.94-.94-2.06-.94 2.06-2.06.94z\"/><path d=\"M17.41 7.96l-1.37-1.37c-.4-.4-.92-.59-1.43-.59-.52 0-1.04.2-1.43.59L10.3 9.45l-7.72 7.72c-.78.78-.78 2.05 0 2.83L4 21.41c.39.39.9.59 1.41.59.51 0 1.02-.2 1.41-.59l7.78-7.78 2.81-2.81c.8-.78.8-2.07 0-2.86zM5.41 20L4 18.59l7.72-7.72 1.47 1.35L5.41 20z\"/>\n",
              "  </svg>\n",
              "      </button>\n",
              "      \n",
              "  <style>\n",
              "    .colab-df-container {\n",
              "      display:flex;\n",
              "      flex-wrap:wrap;\n",
              "      gap: 12px;\n",
              "    }\n",
              "\n",
              "    .colab-df-convert {\n",
              "      background-color: #E8F0FE;\n",
              "      border: none;\n",
              "      border-radius: 50%;\n",
              "      cursor: pointer;\n",
              "      display: none;\n",
              "      fill: #1967D2;\n",
              "      height: 32px;\n",
              "      padding: 0 0 0 0;\n",
              "      width: 32px;\n",
              "    }\n",
              "\n",
              "    .colab-df-convert:hover {\n",
              "      background-color: #E2EBFA;\n",
              "      box-shadow: 0px 1px 2px rgba(60, 64, 67, 0.3), 0px 1px 3px 1px rgba(60, 64, 67, 0.15);\n",
              "      fill: #174EA6;\n",
              "    }\n",
              "\n",
              "    [theme=dark] .colab-df-convert {\n",
              "      background-color: #3B4455;\n",
              "      fill: #D2E3FC;\n",
              "    }\n",
              "\n",
              "    [theme=dark] .colab-df-convert:hover {\n",
              "      background-color: #434B5C;\n",
              "      box-shadow: 0px 1px 3px 1px rgba(0, 0, 0, 0.15);\n",
              "      filter: drop-shadow(0px 1px 2px rgba(0, 0, 0, 0.3));\n",
              "      fill: #FFFFFF;\n",
              "    }\n",
              "  </style>\n",
              "\n",
              "      <script>\n",
              "        const buttonEl =\n",
              "          document.querySelector('#df-bed53493-34bb-4a83-81c5-1b701f176d79 button.colab-df-convert');\n",
              "        buttonEl.style.display =\n",
              "          google.colab.kernel.accessAllowed ? 'block' : 'none';\n",
              "\n",
              "        async function convertToInteractive(key) {\n",
              "          const element = document.querySelector('#df-bed53493-34bb-4a83-81c5-1b701f176d79');\n",
              "          const dataTable =\n",
              "            await google.colab.kernel.invokeFunction('convertToInteractive',\n",
              "                                                     [key], {});\n",
              "          if (!dataTable) return;\n",
              "\n",
              "          const docLinkHtml = 'Like what you see? Visit the ' +\n",
              "            '<a target=\"_blank\" href=https://colab.research.google.com/notebooks/data_table.ipynb>data table notebook</a>'\n",
              "            + ' to learn more about interactive tables.';\n",
              "          element.innerHTML = '';\n",
              "          dataTable['output_type'] = 'display_data';\n",
              "          await google.colab.output.renderOutput(dataTable, element);\n",
              "          const docLink = document.createElement('div');\n",
              "          docLink.innerHTML = docLinkHtml;\n",
              "          element.appendChild(docLink);\n",
              "        }\n",
              "      </script>\n",
              "    </div>\n",
              "  </div>\n",
              "  "
            ]
          },
          "metadata": {},
          "execution_count": 158
        }
      ]
    },
    {
      "cell_type": "markdown",
      "source": [
        "#### Visualization"
      ],
      "metadata": {
        "id": "jFVe83PEPNJ3"
      }
    },
    {
      "cell_type": "code",
      "source": [
        "# Visualization & settings\n",
        "# Display values for 'payment' in order from most frequest to least frequent\n",
        "fig, ax = plt.subplots()\n",
        "g = sns.barplot(data=payment_sorted_transposed, palette='GnBu_r')\n",
        "ax.set(xlabel='', ylabel = '')\n",
        "ax.tick_params(axis='x', rotation=75)\n",
        "plt.show();"
      ],
      "metadata": {
        "colab": {
          "base_uri": "https://localhost:8080/",
          "height": 592
        },
        "id": "ded0mN0jtUIS",
        "outputId": "f981c8b9-62ca-4c36-8f55-0e11d61103bc"
      },
      "execution_count": null,
      "outputs": [
        {
          "output_type": "display_data",
          "data": {
            "text/plain": [
              "<Figure size 640x480 with 1 Axes>"
            ],
            "image/png": "[encoded data removed]"
          },
          "metadata": {}
        }
      ]
    },
    {
      "cell_type": "markdown",
      "source": [
        "### Exploratory Visualization E"
      ],
      "metadata": {
        "id": "qq_DW_qJwf4j"
      }
    },
    {
      "cell_type": "code",
      "source": [
        "# Set palette color via set_palette as .histplot does not accept palette color option without hue also being set\n",
        "sns.set_palette(\"GnBu_r\")\n",
        "\n",
        "# Visualization & settings\n",
        "fig, ax = plt.subplots()\n",
        "g = sns.histplot(data=df, x='population', bins=60)\n",
        "g.set_yscale(\"log\")\n",
        "ax.set_title('Population Using Pump')\n",
        "ax.set_xlabel('Population')\n",
        "ax.set_ylabel('Count');"
      ],
      "metadata": {
        "colab": {
          "base_uri": "https://localhost:8080/",
          "height": 480
        },
        "id": "h0OIQ3-Twj-s",
        "outputId": "64cdcf0e-7472-4059-f0c8-71d54ed38eb8"
      },
      "execution_count": null,
      "outputs": [
        {
          "output_type": "display_data",
          "data": {
            "text/plain": [
              "<Figure size 640x480 with 1 Axes>"
            ],
            "image/png": "[encoded data removed]"
          },
          "metadata": {}
        }
      ]
    }
  ]
}